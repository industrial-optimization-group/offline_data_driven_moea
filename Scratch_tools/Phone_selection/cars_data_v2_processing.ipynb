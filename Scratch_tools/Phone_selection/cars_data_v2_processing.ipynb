{
 "cells": [
  {
   "cell_type": "code",
   "execution_count": null,
   "metadata": {},
   "outputs": [],
   "source": [
    "\"\"\"\n",
    "  1.symboling:                -3, -2, -1, 0, 1, 2, 3.\n",
    "  2. normalized-losses:        continuous from 65 to 256.\n",
    "  3. make:                     alfa-romero, audi, bmw, chevrolet, dodge, honda,\n",
    "                               isuzu, jaguar, mazda, mercedes-benz, mercury,\n",
    "                               mitsubishi, nissan, peugot, plymouth, porsche,\n",
    "                               renault, saab, subaru, toyota, volkswagen, volvo\n",
    "  4. fuel-type:                diesel, gas.\n",
    "  5. aspiration:               std, turbo.\n",
    "  6. num-of-doors:             four, two.\n",
    "  7. body-style:               hardtop, wagon, sedan, hatchback, convertible.\n",
    "  8. drive-wheels:             4wd, fwd, rwd.\n",
    "  9. engine-location:          front, rear.\n",
    " 10. wheel-base:               continuous from 86.6 120.9.\n",
    " 11. length:                   continuous from 141.1 to 208.1.\n",
    " 12. width:                    continuous from 60.3 to 72.3.\n",
    " 13. height:                   continuous from 47.8 to 59.8.\n",
    " 14. curb-weight:              continuous from 1488 to 4066.\n",
    " 15. engine-type:              dohc, dohcv, l, ohc, ohcf, ohcv, rotor.\n",
    " 16. num-of-cylinders:         eight, five, four, six, three, twelve, two.\n",
    " 17. engine-size:              continuous from 61 to 326.\n",
    " 18. fuel-system:              1bbl, 2bbl, 4bbl, idi, mfi, mpfi, spdi, spfi.\n",
    " 19. bore:                     continuous from 2.54 to 3.94.\n",
    " 20. stroke:                   continuous from 2.07 to 4.17.\n",
    " 21. compression-ratio:        continuous from 7 to 23.\n",
    " 22. horsepower:               continuous from 48 to 288.\n",
    " 23. peak-rpm:                 continuous from 4150 to 6600.\n",
    " 24. city-mpg:                 continuous from 13 to 49.\n",
    " 25. highway-mpg:              continuous from 16 to 54.\n",
    " 26. price:                    continuous from 5118 to 45400.\n",
    " \"\"\" "
   ]
  },
  {
   "cell_type": "code",
   "execution_count": 11,
   "metadata": {},
   "outputs": [
    {
     "output_type": "execute_result",
     "data": {
      "text/plain": "    symboling normalized-losses         make fuel-type aspiration  \\\n0           3                 ?  alfa-romero       gas        std   \n1           3                 ?  alfa-romero       gas        std   \n2           1                 ?  alfa-romero       gas        std   \n3           2               164         audi       gas        std   \n4           2               164         audi       gas        std   \n..        ...               ...          ...       ...        ...   \n200        -1                95        volvo       gas        std   \n201        -1                95        volvo       gas      turbo   \n202        -1                95        volvo       gas        std   \n203        -1                95        volvo    diesel      turbo   \n204        -1                95        volvo       gas      turbo   \n\n    num-of-doors   body-style drive-wheels engine-location wheel-base  ...  \\\n0            two  convertible          rwd           front       88.6  ...   \n1            two  convertible          rwd           front       88.6  ...   \n2            two    hatchback          rwd           front       94.5  ...   \n3           four        sedan          fwd           front       99.8  ...   \n4           four        sedan          4wd           front       99.4  ...   \n..           ...          ...          ...             ...        ...  ...   \n200         four        sedan          rwd           front      109.1  ...   \n201         four        sedan          rwd           front      109.1  ...   \n202         four        sedan          rwd           front      109.1  ...   \n203         four        sedan          rwd           front      109.1  ...   \n204         four        sedan          rwd           front      109.1  ...   \n\n    engine-size fuel-system  bore stroke compression-ratio horsepower  \\\n0           130        mpfi  3.47   2.68               9.0        111   \n1           130        mpfi  3.47   2.68               9.0        111   \n2           152        mpfi  2.68   3.47               9.0        154   \n3           109        mpfi  3.19   3.40              10.0        102   \n4           136        mpfi  3.19   3.40               8.0        115   \n..          ...         ...   ...    ...               ...        ...   \n200         141        mpfi  3.78   3.15               9.5        114   \n201         141        mpfi  3.78   3.15               8.7        160   \n202         173        mpfi  3.58   2.87               8.8        134   \n203         145         idi  3.01   3.40              23.0        106   \n204         141        mpfi  3.78   3.15               9.5        114   \n\n    peak-rpm city-mpg highway-mpg  price  \n0       5000       21          27  13495  \n1       5000       21          27  16500  \n2       5000       19          26  16500  \n3       5500       24          30  13950  \n4       5500       18          22  17450  \n..       ...      ...         ...    ...  \n200     5400       23          28  16845  \n201     5300       19          25  19045  \n202     5500       18          23  21485  \n203     4800       26          27  22470  \n204     5400       19          25  22625  \n\n[205 rows x 26 columns]",
      "text/html": "<div>\n<style scoped>\n    .dataframe tbody tr th:only-of-type {\n        vertical-align: middle;\n    }\n\n    .dataframe tbody tr th {\n        vertical-align: top;\n    }\n\n    .dataframe thead th {\n        text-align: right;\n    }\n</style>\n<table border=\"1\" class=\"dataframe\">\n  <thead>\n    <tr style=\"text-align: right;\">\n      <th></th>\n      <th>symboling</th>\n      <th>normalized-losses</th>\n      <th>make</th>\n      <th>fuel-type</th>\n      <th>aspiration</th>\n      <th>num-of-doors</th>\n      <th>body-style</th>\n      <th>drive-wheels</th>\n      <th>engine-location</th>\n      <th>wheel-base</th>\n      <th>...</th>\n      <th>engine-size</th>\n      <th>fuel-system</th>\n      <th>bore</th>\n      <th>stroke</th>\n      <th>compression-ratio</th>\n      <th>horsepower</th>\n      <th>peak-rpm</th>\n      <th>city-mpg</th>\n      <th>highway-mpg</th>\n      <th>price</th>\n    </tr>\n  </thead>\n  <tbody>\n    <tr>\n      <th>0</th>\n      <td>3</td>\n      <td>?</td>\n      <td>alfa-romero</td>\n      <td>gas</td>\n      <td>std</td>\n      <td>two</td>\n      <td>convertible</td>\n      <td>rwd</td>\n      <td>front</td>\n      <td>88.6</td>\n      <td>...</td>\n      <td>130</td>\n      <td>mpfi</td>\n      <td>3.47</td>\n      <td>2.68</td>\n      <td>9.0</td>\n      <td>111</td>\n      <td>5000</td>\n      <td>21</td>\n      <td>27</td>\n      <td>13495</td>\n    </tr>\n    <tr>\n      <th>1</th>\n      <td>3</td>\n      <td>?</td>\n      <td>alfa-romero</td>\n      <td>gas</td>\n      <td>std</td>\n      <td>two</td>\n      <td>convertible</td>\n      <td>rwd</td>\n      <td>front</td>\n      <td>88.6</td>\n      <td>...</td>\n      <td>130</td>\n      <td>mpfi</td>\n      <td>3.47</td>\n      <td>2.68</td>\n      <td>9.0</td>\n      <td>111</td>\n      <td>5000</td>\n      <td>21</td>\n      <td>27</td>\n      <td>16500</td>\n    </tr>\n    <tr>\n      <th>2</th>\n      <td>1</td>\n      <td>?</td>\n      <td>alfa-romero</td>\n      <td>gas</td>\n      <td>std</td>\n      <td>two</td>\n      <td>hatchback</td>\n      <td>rwd</td>\n      <td>front</td>\n      <td>94.5</td>\n      <td>...</td>\n      <td>152</td>\n      <td>mpfi</td>\n      <td>2.68</td>\n      <td>3.47</td>\n      <td>9.0</td>\n      <td>154</td>\n      <td>5000</td>\n      <td>19</td>\n      <td>26</td>\n      <td>16500</td>\n    </tr>\n    <tr>\n      <th>3</th>\n      <td>2</td>\n      <td>164</td>\n      <td>audi</td>\n      <td>gas</td>\n      <td>std</td>\n      <td>four</td>\n      <td>sedan</td>\n      <td>fwd</td>\n      <td>front</td>\n      <td>99.8</td>\n      <td>...</td>\n      <td>109</td>\n      <td>mpfi</td>\n      <td>3.19</td>\n      <td>3.40</td>\n      <td>10.0</td>\n      <td>102</td>\n      <td>5500</td>\n      <td>24</td>\n      <td>30</td>\n      <td>13950</td>\n    </tr>\n    <tr>\n      <th>4</th>\n      <td>2</td>\n      <td>164</td>\n      <td>audi</td>\n      <td>gas</td>\n      <td>std</td>\n      <td>four</td>\n      <td>sedan</td>\n      <td>4wd</td>\n      <td>front</td>\n      <td>99.4</td>\n      <td>...</td>\n      <td>136</td>\n      <td>mpfi</td>\n      <td>3.19</td>\n      <td>3.40</td>\n      <td>8.0</td>\n      <td>115</td>\n      <td>5500</td>\n      <td>18</td>\n      <td>22</td>\n      <td>17450</td>\n    </tr>\n    <tr>\n      <th>...</th>\n      <td>...</td>\n      <td>...</td>\n      <td>...</td>\n      <td>...</td>\n      <td>...</td>\n      <td>...</td>\n      <td>...</td>\n      <td>...</td>\n      <td>...</td>\n      <td>...</td>\n      <td>...</td>\n      <td>...</td>\n      <td>...</td>\n      <td>...</td>\n      <td>...</td>\n      <td>...</td>\n      <td>...</td>\n      <td>...</td>\n      <td>...</td>\n      <td>...</td>\n      <td>...</td>\n    </tr>\n    <tr>\n      <th>200</th>\n      <td>-1</td>\n      <td>95</td>\n      <td>volvo</td>\n      <td>gas</td>\n      <td>std</td>\n      <td>four</td>\n      <td>sedan</td>\n      <td>rwd</td>\n      <td>front</td>\n      <td>109.1</td>\n      <td>...</td>\n      <td>141</td>\n      <td>mpfi</td>\n      <td>3.78</td>\n      <td>3.15</td>\n      <td>9.5</td>\n      <td>114</td>\n      <td>5400</td>\n      <td>23</td>\n      <td>28</td>\n      <td>16845</td>\n    </tr>\n    <tr>\n      <th>201</th>\n      <td>-1</td>\n      <td>95</td>\n      <td>volvo</td>\n      <td>gas</td>\n      <td>turbo</td>\n      <td>four</td>\n      <td>sedan</td>\n      <td>rwd</td>\n      <td>front</td>\n      <td>109.1</td>\n      <td>...</td>\n      <td>141</td>\n      <td>mpfi</td>\n      <td>3.78</td>\n      <td>3.15</td>\n      <td>8.7</td>\n      <td>160</td>\n      <td>5300</td>\n      <td>19</td>\n      <td>25</td>\n      <td>19045</td>\n    </tr>\n    <tr>\n      <th>202</th>\n      <td>-1</td>\n      <td>95</td>\n      <td>volvo</td>\n      <td>gas</td>\n      <td>std</td>\n      <td>four</td>\n      <td>sedan</td>\n      <td>rwd</td>\n      <td>front</td>\n      <td>109.1</td>\n      <td>...</td>\n      <td>173</td>\n      <td>mpfi</td>\n      <td>3.58</td>\n      <td>2.87</td>\n      <td>8.8</td>\n      <td>134</td>\n      <td>5500</td>\n      <td>18</td>\n      <td>23</td>\n      <td>21485</td>\n    </tr>\n    <tr>\n      <th>203</th>\n      <td>-1</td>\n      <td>95</td>\n      <td>volvo</td>\n      <td>diesel</td>\n      <td>turbo</td>\n      <td>four</td>\n      <td>sedan</td>\n      <td>rwd</td>\n      <td>front</td>\n      <td>109.1</td>\n      <td>...</td>\n      <td>145</td>\n      <td>idi</td>\n      <td>3.01</td>\n      <td>3.40</td>\n      <td>23.0</td>\n      <td>106</td>\n      <td>4800</td>\n      <td>26</td>\n      <td>27</td>\n      <td>22470</td>\n    </tr>\n    <tr>\n      <th>204</th>\n      <td>-1</td>\n      <td>95</td>\n      <td>volvo</td>\n      <td>gas</td>\n      <td>turbo</td>\n      <td>four</td>\n      <td>sedan</td>\n      <td>rwd</td>\n      <td>front</td>\n      <td>109.1</td>\n      <td>...</td>\n      <td>141</td>\n      <td>mpfi</td>\n      <td>3.78</td>\n      <td>3.15</td>\n      <td>9.5</td>\n      <td>114</td>\n      <td>5400</td>\n      <td>19</td>\n      <td>25</td>\n      <td>22625</td>\n    </tr>\n  </tbody>\n</table>\n<p>205 rows × 26 columns</p>\n</div>"
     },
     "metadata": {},
     "execution_count": 11
    }
   ],
   "source": [
    "import pandas as pd\n",
    "from sklearn import preprocessing\n",
    "le = preprocessing.LabelEncoder()\n",
    "data = pd.read_csv(\"car_data_v2.data\", names=['symboling',\n",
    "                                                'normalized-losses',\n",
    "                                                'make',\n",
    "                                                'fuel-type',\n",
    "                                                'aspiration',\n",
    "                                                'num-of-doors',\n",
    "                                                'body-style',\n",
    "                                                'drive-wheels',\n",
    "                                                'engine-location',\n",
    "                                                'wheel-base',\n",
    "                                                'length',\n",
    "                                                'width',\n",
    "                                                'height',\n",
    "                                                'curb-weight',\n",
    "                                                'engine-type',\n",
    "                                                'num-of-cylinders',\n",
    "                                                'engine-size',\n",
    "                                                'fuel-system',\n",
    "                                                'bore',\n",
    "                                                'stroke',\n",
    "                                                'compression-ratio',\n",
    "                                                'horsepower',\n",
    "                                                'peak-rpm',\n",
    "                                                'city-mpg',\n",
    "                                                'highway-mpg',\n",
    "                                                'price'], index_col=None)\n",
    "data.head()\n",
    "df=pd.DataFrame(data,  columns=['symboling',\n",
    "                                'normalized-losses',\n",
    "                                'make',\n",
    "                                'fuel-type',\n",
    "                                'aspiration',\n",
    "                                'num-of-doors',\n",
    "                                'body-style',\n",
    "                                'drive-wheels',\n",
    "                                'engine-location',\n",
    "                                'wheel-base',\n",
    "                                'length',\n",
    "                                'width',\n",
    "                                'height',\n",
    "                                'curb-weight',\n",
    "                                'engine-type',\n",
    "                                'num-of-cylinders',\n",
    "                                'engine-size',\n",
    "                                'fuel-system',\n",
    "                                'bore',\n",
    "                                'stroke',\n",
    "                                'compression-ratio',\n",
    "                                'horsepower',\n",
    "                                'peak-rpm',\n",
    "                                'city-mpg',\n",
    "                                'highway-mpg',\n",
    "                                'price'])\n",
    "#df=df.drop(['na'],axis=1)\n",
    "df = df.astype(str)\n",
    "df\n",
    "\n"
   ]
  },
  {
   "cell_type": "code",
   "execution_count": 13,
   "metadata": {},
   "outputs": [],
   "source": [
    "df=df.drop(['symboling','normalized-losses'],axis=1)\n"
   ]
  },
  {
   "cell_type": "code",
   "execution_count": 14,
   "metadata": {},
   "outputs": [
    {
     "output_type": "execute_result",
     "data": {
      "text/plain": "          make fuel-type aspiration num-of-doors   body-style drive-wheels  \\\n0  alfa-romero       gas        std          two  convertible          rwd   \n1  alfa-romero       gas        std          two  convertible          rwd   \n2  alfa-romero       gas        std          two    hatchback          rwd   \n3         audi       gas        std         four        sedan          fwd   \n4         audi       gas        std         four        sedan          4wd   \n\n  engine-location wheel-base length width  ... engine-size fuel-system  bore  \\\n0           front       88.6  168.8  64.1  ...         130        mpfi  3.47   \n1           front       88.6  168.8  64.1  ...         130        mpfi  3.47   \n2           front       94.5  171.2  65.5  ...         152        mpfi  2.68   \n3           front       99.8  176.6  66.2  ...         109        mpfi  3.19   \n4           front       99.4  176.6  66.4  ...         136        mpfi  3.19   \n\n  stroke compression-ratio horsepower peak-rpm city-mpg highway-mpg  price  \n0   2.68               9.0        111     5000       21          27  13495  \n1   2.68               9.0        111     5000       21          27  16500  \n2   3.47               9.0        154     5000       19          26  16500  \n3   3.40              10.0        102     5500       24          30  13950  \n4   3.40               8.0        115     5500       18          22  17450  \n\n[5 rows x 24 columns]",
      "text/html": "<div>\n<style scoped>\n    .dataframe tbody tr th:only-of-type {\n        vertical-align: middle;\n    }\n\n    .dataframe tbody tr th {\n        vertical-align: top;\n    }\n\n    .dataframe thead th {\n        text-align: right;\n    }\n</style>\n<table border=\"1\" class=\"dataframe\">\n  <thead>\n    <tr style=\"text-align: right;\">\n      <th></th>\n      <th>make</th>\n      <th>fuel-type</th>\n      <th>aspiration</th>\n      <th>num-of-doors</th>\n      <th>body-style</th>\n      <th>drive-wheels</th>\n      <th>engine-location</th>\n      <th>wheel-base</th>\n      <th>length</th>\n      <th>width</th>\n      <th>...</th>\n      <th>engine-size</th>\n      <th>fuel-system</th>\n      <th>bore</th>\n      <th>stroke</th>\n      <th>compression-ratio</th>\n      <th>horsepower</th>\n      <th>peak-rpm</th>\n      <th>city-mpg</th>\n      <th>highway-mpg</th>\n      <th>price</th>\n    </tr>\n  </thead>\n  <tbody>\n    <tr>\n      <th>0</th>\n      <td>alfa-romero</td>\n      <td>gas</td>\n      <td>std</td>\n      <td>two</td>\n      <td>convertible</td>\n      <td>rwd</td>\n      <td>front</td>\n      <td>88.6</td>\n      <td>168.8</td>\n      <td>64.1</td>\n      <td>...</td>\n      <td>130</td>\n      <td>mpfi</td>\n      <td>3.47</td>\n      <td>2.68</td>\n      <td>9.0</td>\n      <td>111</td>\n      <td>5000</td>\n      <td>21</td>\n      <td>27</td>\n      <td>13495</td>\n    </tr>\n    <tr>\n      <th>1</th>\n      <td>alfa-romero</td>\n      <td>gas</td>\n      <td>std</td>\n      <td>two</td>\n      <td>convertible</td>\n      <td>rwd</td>\n      <td>front</td>\n      <td>88.6</td>\n      <td>168.8</td>\n      <td>64.1</td>\n      <td>...</td>\n      <td>130</td>\n      <td>mpfi</td>\n      <td>3.47</td>\n      <td>2.68</td>\n      <td>9.0</td>\n      <td>111</td>\n      <td>5000</td>\n      <td>21</td>\n      <td>27</td>\n      <td>16500</td>\n    </tr>\n    <tr>\n      <th>2</th>\n      <td>alfa-romero</td>\n      <td>gas</td>\n      <td>std</td>\n      <td>two</td>\n      <td>hatchback</td>\n      <td>rwd</td>\n      <td>front</td>\n      <td>94.5</td>\n      <td>171.2</td>\n      <td>65.5</td>\n      <td>...</td>\n      <td>152</td>\n      <td>mpfi</td>\n      <td>2.68</td>\n      <td>3.47</td>\n      <td>9.0</td>\n      <td>154</td>\n      <td>5000</td>\n      <td>19</td>\n      <td>26</td>\n      <td>16500</td>\n    </tr>\n    <tr>\n      <th>3</th>\n      <td>audi</td>\n      <td>gas</td>\n      <td>std</td>\n      <td>four</td>\n      <td>sedan</td>\n      <td>fwd</td>\n      <td>front</td>\n      <td>99.8</td>\n      <td>176.6</td>\n      <td>66.2</td>\n      <td>...</td>\n      <td>109</td>\n      <td>mpfi</td>\n      <td>3.19</td>\n      <td>3.40</td>\n      <td>10.0</td>\n      <td>102</td>\n      <td>5500</td>\n      <td>24</td>\n      <td>30</td>\n      <td>13950</td>\n    </tr>\n    <tr>\n      <th>4</th>\n      <td>audi</td>\n      <td>gas</td>\n      <td>std</td>\n      <td>four</td>\n      <td>sedan</td>\n      <td>4wd</td>\n      <td>front</td>\n      <td>99.4</td>\n      <td>176.6</td>\n      <td>66.4</td>\n      <td>...</td>\n      <td>136</td>\n      <td>mpfi</td>\n      <td>3.19</td>\n      <td>3.40</td>\n      <td>8.0</td>\n      <td>115</td>\n      <td>5500</td>\n      <td>18</td>\n      <td>22</td>\n      <td>17450</td>\n    </tr>\n  </tbody>\n</table>\n<p>5 rows × 24 columns</p>\n</div>"
     },
     "metadata": {},
     "execution_count": 14
    }
   ],
   "source": [
    "df.head()"
   ]
  },
  {
   "cell_type": "code",
   "execution_count": 28,
   "metadata": {},
   "outputs": [],
   "source": [
    "df=df.drop(df[df['num-of-doors']=='?'].index)\n",
    "df=df.drop(df[df['bore']=='?'].index)\n",
    "df=df.drop(df[df['stroke']=='?'].index)\n",
    "df=df.drop(df[df['horsepower']=='?'].index)\n",
    "df=df.drop(df[df['peak-rpm']=='?'].index)\n",
    "df=df.drop(df[df['price']=='?'].index)"
   ]
  },
  {
   "cell_type": "code",
   "execution_count": 31,
   "metadata": {},
   "outputs": [
    {
     "output_type": "execute_result",
     "data": {
      "text/plain": "          make fuel-type aspiration num-of-doors   body-style drive-wheels  \\\n0  alfa-romero       gas        std          two  convertible          rwd   \n1  alfa-romero       gas        std          two  convertible          rwd   \n2  alfa-romero       gas        std          two    hatchback          rwd   \n3         audi       gas        std         four        sedan          fwd   \n4         audi       gas        std         four        sedan          4wd   \n\n  engine-location wheel-base length width  ... engine-size fuel-system  bore  \\\n0           front       88.6  168.8  64.1  ...         130        mpfi  3.47   \n1           front       88.6  168.8  64.1  ...         130        mpfi  3.47   \n2           front       94.5  171.2  65.5  ...         152        mpfi  2.68   \n3           front       99.8  176.6  66.2  ...         109        mpfi  3.19   \n4           front       99.4  176.6  66.4  ...         136        mpfi  3.19   \n\n  stroke compression-ratio horsepower peak-rpm city-mpg highway-mpg  price  \n0   2.68               9.0        111     5000       21          27  13495  \n1   2.68               9.0        111     5000       21          27  16500  \n2   3.47               9.0        154     5000       19          26  16500  \n3   3.40              10.0        102     5500       24          30  13950  \n4   3.40               8.0        115     5500       18          22  17450  \n\n[5 rows x 24 columns]",
      "text/html": "<div>\n<style scoped>\n    .dataframe tbody tr th:only-of-type {\n        vertical-align: middle;\n    }\n\n    .dataframe tbody tr th {\n        vertical-align: top;\n    }\n\n    .dataframe thead th {\n        text-align: right;\n    }\n</style>\n<table border=\"1\" class=\"dataframe\">\n  <thead>\n    <tr style=\"text-align: right;\">\n      <th></th>\n      <th>make</th>\n      <th>fuel-type</th>\n      <th>aspiration</th>\n      <th>num-of-doors</th>\n      <th>body-style</th>\n      <th>drive-wheels</th>\n      <th>engine-location</th>\n      <th>wheel-base</th>\n      <th>length</th>\n      <th>width</th>\n      <th>...</th>\n      <th>engine-size</th>\n      <th>fuel-system</th>\n      <th>bore</th>\n      <th>stroke</th>\n      <th>compression-ratio</th>\n      <th>horsepower</th>\n      <th>peak-rpm</th>\n      <th>city-mpg</th>\n      <th>highway-mpg</th>\n      <th>price</th>\n    </tr>\n  </thead>\n  <tbody>\n    <tr>\n      <th>0</th>\n      <td>alfa-romero</td>\n      <td>gas</td>\n      <td>std</td>\n      <td>two</td>\n      <td>convertible</td>\n      <td>rwd</td>\n      <td>front</td>\n      <td>88.6</td>\n      <td>168.8</td>\n      <td>64.1</td>\n      <td>...</td>\n      <td>130</td>\n      <td>mpfi</td>\n      <td>3.47</td>\n      <td>2.68</td>\n      <td>9.0</td>\n      <td>111</td>\n      <td>5000</td>\n      <td>21</td>\n      <td>27</td>\n      <td>13495</td>\n    </tr>\n    <tr>\n      <th>1</th>\n      <td>alfa-romero</td>\n      <td>gas</td>\n      <td>std</td>\n      <td>two</td>\n      <td>convertible</td>\n      <td>rwd</td>\n      <td>front</td>\n      <td>88.6</td>\n      <td>168.8</td>\n      <td>64.1</td>\n      <td>...</td>\n      <td>130</td>\n      <td>mpfi</td>\n      <td>3.47</td>\n      <td>2.68</td>\n      <td>9.0</td>\n      <td>111</td>\n      <td>5000</td>\n      <td>21</td>\n      <td>27</td>\n      <td>16500</td>\n    </tr>\n    <tr>\n      <th>2</th>\n      <td>alfa-romero</td>\n      <td>gas</td>\n      <td>std</td>\n      <td>two</td>\n      <td>hatchback</td>\n      <td>rwd</td>\n      <td>front</td>\n      <td>94.5</td>\n      <td>171.2</td>\n      <td>65.5</td>\n      <td>...</td>\n      <td>152</td>\n      <td>mpfi</td>\n      <td>2.68</td>\n      <td>3.47</td>\n      <td>9.0</td>\n      <td>154</td>\n      <td>5000</td>\n      <td>19</td>\n      <td>26</td>\n      <td>16500</td>\n    </tr>\n    <tr>\n      <th>3</th>\n      <td>audi</td>\n      <td>gas</td>\n      <td>std</td>\n      <td>four</td>\n      <td>sedan</td>\n      <td>fwd</td>\n      <td>front</td>\n      <td>99.8</td>\n      <td>176.6</td>\n      <td>66.2</td>\n      <td>...</td>\n      <td>109</td>\n      <td>mpfi</td>\n      <td>3.19</td>\n      <td>3.40</td>\n      <td>10.0</td>\n      <td>102</td>\n      <td>5500</td>\n      <td>24</td>\n      <td>30</td>\n      <td>13950</td>\n    </tr>\n    <tr>\n      <th>4</th>\n      <td>audi</td>\n      <td>gas</td>\n      <td>std</td>\n      <td>four</td>\n      <td>sedan</td>\n      <td>4wd</td>\n      <td>front</td>\n      <td>99.4</td>\n      <td>176.6</td>\n      <td>66.4</td>\n      <td>...</td>\n      <td>136</td>\n      <td>mpfi</td>\n      <td>3.19</td>\n      <td>3.40</td>\n      <td>8.0</td>\n      <td>115</td>\n      <td>5500</td>\n      <td>18</td>\n      <td>22</td>\n      <td>17450</td>\n    </tr>\n  </tbody>\n</table>\n<p>5 rows × 24 columns</p>\n</div>"
     },
     "metadata": {},
     "execution_count": 31
    }
   ],
   "source": [
    "df.head()"
   ]
  },
  {
   "cell_type": "code",
   "execution_count": 37,
   "metadata": {},
   "outputs": [
    {
     "output_type": "execute_result",
     "data": {
      "text/plain": "   make fuel-type  aspiration num-of-doors body-style drive-wheels  \\\n0  Make      Fuel  Aspiration        Doors       Body        Drive   \n1     0         0           0            0          0            0   \n2     1         1           0            0          0            1   \n\n   engine-location  wheel-base  length  width  ...  engine-size fuel-system  \\\n0  Engine-location  Wheel Base  Length  Width  ...  Engine Size        Fuel   \n1                0           0       0      0  ...            0           0   \n2                0           0       0      0  ...            0           0   \n\n   bore  stroke  compression-ratio  horsepower peak-rpm  city-mpg  \\\n0  Bore  Stroke  Compression Ratio  Horsepower      RPM  City-mpg   \n1     0       0                 -1          -1       -1        -1   \n2     0       0                  0           0        0         0   \n\n   highway-mpg  price  \n0  Highway-mpg  Price  \n1           -1      1  \n2            0      1  \n\n[3 rows x 24 columns]",
      "text/html": "<div>\n<style scoped>\n    .dataframe tbody tr th:only-of-type {\n        vertical-align: middle;\n    }\n\n    .dataframe tbody tr th {\n        vertical-align: top;\n    }\n\n    .dataframe thead th {\n        text-align: right;\n    }\n</style>\n<table border=\"1\" class=\"dataframe\">\n  <thead>\n    <tr style=\"text-align: right;\">\n      <th></th>\n      <th>make</th>\n      <th>fuel-type</th>\n      <th>aspiration</th>\n      <th>num-of-doors</th>\n      <th>body-style</th>\n      <th>drive-wheels</th>\n      <th>engine-location</th>\n      <th>wheel-base</th>\n      <th>length</th>\n      <th>width</th>\n      <th>...</th>\n      <th>engine-size</th>\n      <th>fuel-system</th>\n      <th>bore</th>\n      <th>stroke</th>\n      <th>compression-ratio</th>\n      <th>horsepower</th>\n      <th>peak-rpm</th>\n      <th>city-mpg</th>\n      <th>highway-mpg</th>\n      <th>price</th>\n    </tr>\n  </thead>\n  <tbody>\n    <tr>\n      <th>0</th>\n      <td>Make</td>\n      <td>Fuel</td>\n      <td>Aspiration</td>\n      <td>Doors</td>\n      <td>Body</td>\n      <td>Drive</td>\n      <td>Engine-location</td>\n      <td>Wheel Base</td>\n      <td>Length</td>\n      <td>Width</td>\n      <td>...</td>\n      <td>Engine Size</td>\n      <td>Fuel</td>\n      <td>Bore</td>\n      <td>Stroke</td>\n      <td>Compression Ratio</td>\n      <td>Horsepower</td>\n      <td>RPM</td>\n      <td>City-mpg</td>\n      <td>Highway-mpg</td>\n      <td>Price</td>\n    </tr>\n    <tr>\n      <th>1</th>\n      <td>0</td>\n      <td>0</td>\n      <td>0</td>\n      <td>0</td>\n      <td>0</td>\n      <td>0</td>\n      <td>0</td>\n      <td>0</td>\n      <td>0</td>\n      <td>0</td>\n      <td>...</td>\n      <td>0</td>\n      <td>0</td>\n      <td>0</td>\n      <td>0</td>\n      <td>-1</td>\n      <td>-1</td>\n      <td>-1</td>\n      <td>-1</td>\n      <td>-1</td>\n      <td>1</td>\n    </tr>\n    <tr>\n      <th>2</th>\n      <td>1</td>\n      <td>1</td>\n      <td>0</td>\n      <td>0</td>\n      <td>0</td>\n      <td>1</td>\n      <td>0</td>\n      <td>0</td>\n      <td>0</td>\n      <td>0</td>\n      <td>...</td>\n      <td>0</td>\n      <td>0</td>\n      <td>0</td>\n      <td>0</td>\n      <td>0</td>\n      <td>0</td>\n      <td>0</td>\n      <td>0</td>\n      <td>0</td>\n      <td>1</td>\n    </tr>\n  </tbody>\n</table>\n<p>3 rows × 24 columns</p>\n</div>"
     },
     "metadata": {},
     "execution_count": 37
    }
   ],
   "source": [
    "df2 = pd.DataFrame(columns=['make',\n",
    "                                'fuel-type',\n",
    "                                'aspiration',\n",
    "                                'num-of-doors',\n",
    "                                'body-style',\n",
    "                                'drive-wheels',\n",
    "                                'engine-location',\n",
    "                                'wheel-base',\n",
    "                                'length',\n",
    "                                'width',\n",
    "                                'height',\n",
    "                                'curb-weight',\n",
    "                                'engine-type',\n",
    "                                'num-of-cylinders',\n",
    "                                'engine-size',\n",
    "                                'fuel-system',\n",
    "                                'bore',\n",
    "                                'stroke',\n",
    "                                'compression-ratio',\n",
    "                                'horsepower',\n",
    "                                'peak-rpm',\n",
    "                                'city-mpg',\n",
    "                                'highway-mpg',\n",
    "                                'price'])\n",
    "df2.loc[0]=['Make',\n",
    "            'Fuel',\n",
    "            'Aspiration',\n",
    "            'Doors',\n",
    "            'Body',\n",
    "            'Drive',\n",
    "            'Engine-location',\n",
    "            'Wheel Base',\n",
    "            'Length',\n",
    "            'Width',\n",
    "            'Height',\n",
    "            'Weight',\n",
    "            'Engine',\n",
    "            'Cylinders',\n",
    "            'Engine Size',\n",
    "            'Fuel',\n",
    "            'Bore',\n",
    "            'Stroke',\n",
    "            'Compression Ratio',\n",
    "            'Horsepower',\n",
    "            'RPM',\n",
    "            'City-mpg',\n",
    "            'Highway-mpg',\n",
    "            'Price']\n",
    "df2.loc[1]=['0',\n",
    "            '0',\n",
    "            '0',\n",
    "            '0',\n",
    "            '0',\n",
    "            '0',\n",
    "            '0',\n",
    "            '0',\n",
    "            '0',\n",
    "            '0',\n",
    "            '0',\n",
    "            '0',\n",
    "            '0',\n",
    "            '0',\n",
    "            '0',\n",
    "            '0',\n",
    "            '0',\n",
    "            '0',\n",
    "            '-1',\n",
    "            '-1',\n",
    "            '-1',\n",
    "            '-1',\n",
    "            '-1',\n",
    "            '1']\n",
    "df2.loc[2]=['1',\n",
    "            '1',\n",
    "            '0',\n",
    "            '0',\n",
    "            '0',\n",
    "            '1',\n",
    "            '0',\n",
    "            '0',\n",
    "            '0',\n",
    "            '0',\n",
    "            '0',\n",
    "            '0',\n",
    "            '0',\n",
    "            '0',\n",
    "            '0',\n",
    "            '0',\n",
    "            '0',\n",
    "            '0',\n",
    "            '0',\n",
    "            '0',\n",
    "            '0',\n",
    "            '0',\n",
    "            '0',\n",
    "            '1']\n",
    "#df2.index = df.index + 1  # shifting index\n",
    "#df2.sort_index(inplace=True) \n",
    "df2"
   ]
  },
  {
   "cell_type": "code",
   "execution_count": 38,
   "metadata": {},
   "outputs": [],
   "source": [
    "df.to_csv('car_data_v2_processed.csv', encoding='utf-8', index=False)\n",
    "df2.to_csv('car_details_v2_processed.csv', encoding='utf-8', index=False)"
   ]
  },
  {
   "cell_type": "code",
   "execution_count": null,
   "metadata": {},
   "outputs": [],
   "source": []
  }
 ],
 "metadata": {
  "language_info": {
   "codemirror_mode": {
    "name": "ipython",
    "version": 3
   },
   "file_extension": ".py",
   "mimetype": "text/x-python",
   "name": "python",
   "nbconvert_exporter": "python",
   "pygments_lexer": "ipython3",
   "version": "3.7.6-final"
  },
  "orig_nbformat": 2,
  "kernelspec": {
   "name": "desdeo_emo",
   "display_name": "desdeo_EmO"
  }
 },
 "nbformat": 4,
 "nbformat_minor": 2
}