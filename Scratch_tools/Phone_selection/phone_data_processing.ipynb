{
 "metadata": {
  "language_info": {
   "codemirror_mode": {
    "name": "ipython",
    "version": 3
   },
   "file_extension": ".py",
   "mimetype": "text/x-python",
   "name": "python",
   "nbconvert_exporter": "python",
   "pygments_lexer": "ipython3",
   "version": "3.7.6-final"
  },
  "orig_nbformat": 2,
  "kernelspec": {
   "name": "desdeo_emo",
   "display_name": "desdeo_EmO"
  }
 },
 "nbformat": 4,
 "nbformat_minor": 2,
 "cells": [
  {
   "cell_type": "code",
   "execution_count": 56,
   "metadata": {},
   "outputs": [
    {
     "output_type": "execute_result",
     "data": {
      "text/plain": "  brand                 model        network_technology  \\\n0  Acer         Iconia Talk S          GSM / HSPA / LTE   \n1  Acer        Liquid Z6 Plus          GSM / HSPA / LTE   \n2  Acer             Liquid Z6          GSM / HSPA / LTE   \n3  Acer  Iconia Tab 10 A3-A40  No cellular connectivity   \n4  Acer             Liquid X2          GSM / HSPA / LTE   \n\n                                            2G_bands  \\\n0        GSM 850 / 900 / 1800 / 1900 - SIM 1 & SIM 2   \n1  GSM 850 / 900 / 1800 / 1900 - SIM 1 & SIM 2 (d...   \n2  GSM 850 / 900 / 1800 / 1900 - SIM 1 & SIM 2 (d...   \n3                                                N/A   \n4                       GSM 850 / 900 / 1800 / 1900    \n\n                                   3G_bands  \\\n0                  HSDPA 850 / 1900 / 2100    \n1                                     HSDPA   \n2                                     HSDPA   \n3                                       nan   \n4  HSDPA 900 / 1900 / 2100 - Europe| Taiwan   \n\n                                            4G_bands  \\\n0  LTE band 1(2100)| 3(1800)| 7(2600)| 8(900)| 20...   \n1                                                LTE   \n2                                                LTE   \n3                                                nan   \n4              LTE 800 / 1800 / 2100 / 2600 - Europe   \n\n                               network_speed GPRS EDGE     announced  ...  \\\n0  HSPA 42.2/11.5 Mbps  LTE Cat4 150/50 Mbps  Yes  Yes  2016  August  ...   \n1  HSPA 42.2/5.76 Mbps  LTE Cat4 150/50 Mbps  Yes  Yes  2016  August  ...   \n2                                  HSPA  LTE  Yes  Yes  2016  August  ...   \n3                                        nan   No   No   2016  April  ...   \n4  HSPA 42.2/5.76 Mbps  LTE Cat4 150/50 Mbps  Yes  Yes   2015  April  ...   \n\n       bluetooth                     GPS  NFC     radio           USB  \\\n0      4.0| A2DP  Yes with A-GPS GLONASS  nan  FM radio  microUSB 2.0   \n1      4.0| A2DP          Yes with A-GPS  nan  FM radio  microUSB 2.0   \n2            Yes          Yes with A-GPS  nan  FM radio  microUSB 2.0   \n3            Yes                     nan  nan        No  microUSB 2.0   \n4  4.0| A2DP| LE          Yes with A-GPS  nan  FM radio  microUSB 2.0   \n\n                                             sensors  \\\n0                           Accelerometer| proximity   \n1  Fingerprint (front-mounted)| accelerometer| pr...   \n2                           Accelerometer| proximity   \n3                                      Accelerometer   \n4                  Accelerometer| proximity| compass   \n\n                                            battery        colors  \\\n0  Non-removable Li-Ion 3400 mAh battery (12.92 Wh)         Black   \n1                  Removable Li-Po 4080 mAh battery  Black| White   \n2                 Removable Li-Ion 2000 mAh battery  Black| White   \n3                      Non-removable Li-Ion battery         Black   \n4                  Removable Li-Po 4020 mAh battery   Black| Gold   \n\n  approx_price_EUR                                            img_url  \n0              170  http://cdn2.gsmarena.com/vv/bigpic/acer-iconia...  \n1              250  http://cdn2.gsmarena.com/vv/bigpic/acer-liquid...  \n2              120  http://cdn2.gsmarena.com/vv/bigpic/acer-liquid...  \n3              230  http://cdn2.gsmarena.com/vv/bigpic/acer-iconia...  \n4              230  http://cdn2.gsmarena.com/vv/bigpic/acer-liquid...  \n\n[5 rows x 40 columns]",
      "text/html": "<div>\n<style scoped>\n    .dataframe tbody tr th:only-of-type {\n        vertical-align: middle;\n    }\n\n    .dataframe tbody tr th {\n        vertical-align: top;\n    }\n\n    .dataframe thead th {\n        text-align: right;\n    }\n</style>\n<table border=\"1\" class=\"dataframe\">\n  <thead>\n    <tr style=\"text-align: right;\">\n      <th></th>\n      <th>brand</th>\n      <th>model</th>\n      <th>network_technology</th>\n      <th>2G_bands</th>\n      <th>3G_bands</th>\n      <th>4G_bands</th>\n      <th>network_speed</th>\n      <th>GPRS</th>\n      <th>EDGE</th>\n      <th>announced</th>\n      <th>...</th>\n      <th>bluetooth</th>\n      <th>GPS</th>\n      <th>NFC</th>\n      <th>radio</th>\n      <th>USB</th>\n      <th>sensors</th>\n      <th>battery</th>\n      <th>colors</th>\n      <th>approx_price_EUR</th>\n      <th>img_url</th>\n    </tr>\n  </thead>\n  <tbody>\n    <tr>\n      <th>0</th>\n      <td>Acer</td>\n      <td>Iconia Talk S</td>\n      <td>GSM / HSPA / LTE</td>\n      <td>GSM 850 / 900 / 1800 / 1900 - SIM 1 &amp; SIM 2</td>\n      <td>HSDPA 850 / 1900 / 2100</td>\n      <td>LTE band 1(2100)| 3(1800)| 7(2600)| 8(900)| 20...</td>\n      <td>HSPA 42.2/11.5 Mbps  LTE Cat4 150/50 Mbps</td>\n      <td>Yes</td>\n      <td>Yes</td>\n      <td>2016  August</td>\n      <td>...</td>\n      <td>4.0| A2DP</td>\n      <td>Yes with A-GPS GLONASS</td>\n      <td>nan</td>\n      <td>FM radio</td>\n      <td>microUSB 2.0</td>\n      <td>Accelerometer| proximity</td>\n      <td>Non-removable Li-Ion 3400 mAh battery (12.92 Wh)</td>\n      <td>Black</td>\n      <td>170</td>\n      <td>http://cdn2.gsmarena.com/vv/bigpic/acer-iconia...</td>\n    </tr>\n    <tr>\n      <th>1</th>\n      <td>Acer</td>\n      <td>Liquid Z6 Plus</td>\n      <td>GSM / HSPA / LTE</td>\n      <td>GSM 850 / 900 / 1800 / 1900 - SIM 1 &amp; SIM 2 (d...</td>\n      <td>HSDPA</td>\n      <td>LTE</td>\n      <td>HSPA 42.2/5.76 Mbps  LTE Cat4 150/50 Mbps</td>\n      <td>Yes</td>\n      <td>Yes</td>\n      <td>2016  August</td>\n      <td>...</td>\n      <td>4.0| A2DP</td>\n      <td>Yes with A-GPS</td>\n      <td>nan</td>\n      <td>FM radio</td>\n      <td>microUSB 2.0</td>\n      <td>Fingerprint (front-mounted)| accelerometer| pr...</td>\n      <td>Removable Li-Po 4080 mAh battery</td>\n      <td>Black| White</td>\n      <td>250</td>\n      <td>http://cdn2.gsmarena.com/vv/bigpic/acer-liquid...</td>\n    </tr>\n    <tr>\n      <th>2</th>\n      <td>Acer</td>\n      <td>Liquid Z6</td>\n      <td>GSM / HSPA / LTE</td>\n      <td>GSM 850 / 900 / 1800 / 1900 - SIM 1 &amp; SIM 2 (d...</td>\n      <td>HSDPA</td>\n      <td>LTE</td>\n      <td>HSPA  LTE</td>\n      <td>Yes</td>\n      <td>Yes</td>\n      <td>2016  August</td>\n      <td>...</td>\n      <td>Yes</td>\n      <td>Yes with A-GPS</td>\n      <td>nan</td>\n      <td>FM radio</td>\n      <td>microUSB 2.0</td>\n      <td>Accelerometer| proximity</td>\n      <td>Removable Li-Ion 2000 mAh battery</td>\n      <td>Black| White</td>\n      <td>120</td>\n      <td>http://cdn2.gsmarena.com/vv/bigpic/acer-liquid...</td>\n    </tr>\n    <tr>\n      <th>3</th>\n      <td>Acer</td>\n      <td>Iconia Tab 10 A3-A40</td>\n      <td>No cellular connectivity</td>\n      <td>N/A</td>\n      <td>nan</td>\n      <td>nan</td>\n      <td>nan</td>\n      <td>No</td>\n      <td>No</td>\n      <td>2016  April</td>\n      <td>...</td>\n      <td>Yes</td>\n      <td>nan</td>\n      <td>nan</td>\n      <td>No</td>\n      <td>microUSB 2.0</td>\n      <td>Accelerometer</td>\n      <td>Non-removable Li-Ion battery</td>\n      <td>Black</td>\n      <td>230</td>\n      <td>http://cdn2.gsmarena.com/vv/bigpic/acer-iconia...</td>\n    </tr>\n    <tr>\n      <th>4</th>\n      <td>Acer</td>\n      <td>Liquid X2</td>\n      <td>GSM / HSPA / LTE</td>\n      <td>GSM 850 / 900 / 1800 / 1900</td>\n      <td>HSDPA 900 / 1900 / 2100 - Europe| Taiwan</td>\n      <td>LTE 800 / 1800 / 2100 / 2600 - Europe</td>\n      <td>HSPA 42.2/5.76 Mbps  LTE Cat4 150/50 Mbps</td>\n      <td>Yes</td>\n      <td>Yes</td>\n      <td>2015  April</td>\n      <td>...</td>\n      <td>4.0| A2DP| LE</td>\n      <td>Yes with A-GPS</td>\n      <td>nan</td>\n      <td>FM radio</td>\n      <td>microUSB 2.0</td>\n      <td>Accelerometer| proximity| compass</td>\n      <td>Removable Li-Po 4020 mAh battery</td>\n      <td>Black| Gold</td>\n      <td>230</td>\n      <td>http://cdn2.gsmarena.com/vv/bigpic/acer-liquid...</td>\n    </tr>\n  </tbody>\n</table>\n<p>5 rows × 40 columns</p>\n</div>"
     },
     "metadata": {},
     "execution_count": 56
    }
   ],
   "source": [
    "import pandas as pd\n",
    "from sklearn import preprocessing\n",
    "le = preprocessing.LabelEncoder()\n",
    "data = pd.read_csv(\"phone_dataset\", names=['brand','model','network_technology','2G_bands','3G_bands','4G_bands','network_speed','GPRS','EDGE','announced','status','dimentions','weight_g','weight_oz','SIM','display_type','display_resolution','display_size','OS','CPU','Chipset','GPU','memory_card','internal_memory','RAM','primary_camera','secondary_camera','loud_speaker','audio_jack','WLAN','bluetooth','GPS','NFC','radio','USB','sensors','battery','colors','approx_price_EUR','img_url'], index_col=None, skiprows = 1)\n",
    "data.head()\n",
    "df=pd.DataFrame(data,  columns=['brand','model','network_technology','2G_bands','3G_bands','4G_bands','network_speed','GPRS','EDGE','announced','status','dimentions','weight_g','weight_oz','SIM','display_type','display_resolution','display_size','OS','CPU','Chipset','GPU','memory_card','internal_memory','RAM','primary_camera','secondary_camera','loud_speaker','audio_jack','WLAN','bluetooth','GPS','NFC','radio','USB','sensors','battery','colors','approx_price_EUR','img_url'])\n",
    "#df=df.drop(['na'],axis=1)\n",
    "df = df.astype(str)\n",
    "df.head()"
   ]
  },
  {
   "cell_type": "code",
   "execution_count": 57,
   "metadata": {},
   "outputs": [
    {
     "output_type": "execute_result",
     "data": {
      "text/plain": "     brand              model network_technology GPRS EDGE  \\\n0     Acer      Iconia Talk S   GSM / HSPA / LTE  Yes  Yes   \n1     Acer     Liquid Z6 Plus   GSM / HSPA / LTE  Yes  Yes   \n4     Acer          Liquid X2   GSM / HSPA / LTE  Yes  Yes   \n7     Acer        Liquid Zest   GSM / HSPA / LTE  Yes  Yes   \n9     Acer  Liquid Jade Primo   GSM / HSPA / LTE  Yes  Yes   \n...    ...                ...                ...  ...  ...   \n8577   ZTE              Optik        CDMA / EVDO   No   No   \n8578   ZTE    Light Tab 2 V9A         GSM / HSPA  Yes  Yes   \n8583   ZTE              Tania         GSM / HSPA  Yes  Yes   \n8597   ZTE              Blade         GSM / HSPA  Yes  Yes   \n8611   ZTE              Racer         GSM / HSPA  Yes  Yes   \n\n                                   announced  \\\n0                               2016  August   \n1                               2016  August   \n4                                2015  April   \n7                             2016  February   \n9                            2015  September   \n...                                      ...   \n8577                          2012  February   \n8578                          2011  December   \n8583                         2011  September   \n8597  2010  October. Released 2010  November   \n8611         2010  July. Released 2010  July   \n\n                                  status  \\\n0      Available. Released 2016  October   \n1     Available. Released 2016  December   \n4     Available. Released 2016  February   \n7        Available. Released 2016  April   \n9        Available. Released 2016  April   \n...                                  ...   \n8577  Available. Released 2012  February   \n8578  Available. Released 2012  February   \n8583  Available. Released 2012  February   \n8597                        Discontinued   \n8611                        Discontinued   \n\n                                          dimentions weight_g  \\\n0       191.7 x 101 x 9.4 mm (7.55 x 3.98 x 0.37 in)      260   \n1      153.8 x 75.6 x 8.5 mm (6.06 x 2.98 x 0.33 in)      169   \n4      153.3 x 78.8 x 8.5 mm (6.04 x 3.10 x 0.33 in)      166   \n7      145.7 x 71.2 x 8.4 mm (5.74 x 2.80 x 0.33 in)      125   \n9      156.5 x 75.9 x 8.4 mm (6.16 x 2.99 x 0.33 in)      150   \n...                                              ...      ...   \n8577   193 x 119.4 x 13.2 mm (7.60 x 4.70 x 0.52 in)      400   \n8578     202 x 122 x 12.6 mm (7.95 x 4.80 x 0.50 in)      389   \n8583  128.6 x 67.8 x 10.5 mm (5.06 x 2.67 x 0.41 in)      158   \n8597    116 x 56.5 x 11.8 mm (4.57 x 2.22 x 0.46 in)      110   \n8611      102 x 55 x 14.5 mm (4.02 x 2.17 x 0.57 in)      100   \n\n                                                    SIM  ...  \\\n0                         Dual SIM (Micro-SIM/Nano-SIM)  ...   \n1     Single SIM (Micro-SIM) or Dual SIM (Micro-SIM|...  ...   \n4                                Triple SIM (Micro-SIM)  ...   \n7     Single SIM (Micro-SIM) or Dual SIM (Micro-SIM|...  ...   \n9                    Dual SIM (Nano-SIM| dual stand-by)  ...   \n...                                                 ...  ...   \n8577                                           Mini-SIM  ...   \n8578                                           Mini-SIM  ...   \n8583                                           Mini-SIM  ...   \n8597                                           Mini-SIM  ...   \n8611                                           Mini-SIM  ...   \n\n                  loud_speaker audio_jack  \\\n0                          Yes        Yes   \n1                          Yes        Yes   \n4                          Yes        Yes   \n7                          Yes        Yes   \n9                          Yes        Yes   \n...                        ...        ...   \n8577  Yes with stereo speakers        Yes   \n8578                       Yes        Yes   \n8583                       Yes        Yes   \n8597                       Yes        Yes   \n8611                       Yes        Yes   \n\n                                                   WLAN           bluetooth  \\\n0           Wi-Fi 802.11 a/b/g/n| Wi-Fi Direct| hotspot           4.0| A2DP   \n1             Wi-Fi 802.11 b/g/n| Wi-Fi Direct| hotspot           4.0| A2DP   \n4                           Wi-Fi 802.11 b/g/n| hotspot       4.0| A2DP| LE   \n7                                                   Yes           4.0| A2DP   \n9     Wi-Fi 802.11 a/b/g/n/ac| dual-band| WiFi Direc...  4.0| A2DP| LE| EDR   \n...                                                 ...                 ...   \n8577                          Wi-Fi 802.11 b/g| hotspot      2.1| A2DP| EDR   \n8578                          Wi-Fi 802.11 b/g| hotspot      2.1| A2DP| EDR   \n8583                                 Wi-Fi 802.11 b/g/n      3.0| A2DP| EDR   \n8597            Wi-Fi 802.11 b/g| hotspot (Android 2.2)      2.1| A2DP| EDR   \n8611                                   Wi-Fi 802.11 b/g           2.0| A2DP   \n\n                         GPS                 radio  \\\n0     Yes with A-GPS GLONASS              FM radio   \n1             Yes with A-GPS              FM radio   \n4             Yes with A-GPS              FM radio   \n7             Yes with A-GPS              FM radio   \n9             Yes with A-GPS              FM radio   \n...                      ...                   ...   \n8577          Yes with A-GPS                    No   \n8578          Yes with A-GPS                    No   \n8583          Yes with A-GPS  Stereo FM radio| RDS   \n8597          Yes with A-GPS  Stereo FM radio| RDS   \n8611          Yes with A-GPS  Stereo FM radio| RDS   \n\n                                       USB  \\\n0                             microUSB 2.0   \n1                             microUSB 2.0   \n4                             microUSB 2.0   \n7                             microUSB 2.0   \n9     3.1| Type-C 1.0 reversible connector   \n...                                    ...   \n8577                          microUSB 2.0   \n8578                          microUSB 2.0   \n8583                          microUSB 2.0   \n8597                          microUSB 2.0   \n8611                          microUSB 2.0   \n\n                                               battery        colors  \\\n0     Non-removable Li-Ion 3400 mAh battery (12.92 Wh)         Black   \n1                     Removable Li-Po 4080 mAh battery  Black| White   \n4                     Removable Li-Po 4020 mAh battery   Black| Gold   \n7                    Removable Li-Ion 2000 mAh battery  Black| White   \n9                 Non-removable Li-Po 2870 mAh battery         Black   \n...                                                ...           ...   \n8577             Non-removable Li-Ion 4000 mAh battery         Black   \n8578             Non-removable Li-Ion 3400 mAh battery         Black   \n8583                 Removable Li-Ion 1400 mAh battery  White| Black   \n8597                 Removable Li-Ion 1250 mAh battery         Black   \n8611                 Removable Li-Ion 1100 mAh battery         Black   \n\n     approx_price_EUR  \n0                 170  \n1                 250  \n4                 230  \n7                 110  \n9                 220  \n...               ...  \n8577              230  \n8578              250  \n8583              210  \n8597              170  \n8611              180  \n\n[2120 rows x 32 columns]",
      "text/html": "<div>\n<style scoped>\n    .dataframe tbody tr th:only-of-type {\n        vertical-align: middle;\n    }\n\n    .dataframe tbody tr th {\n        vertical-align: top;\n    }\n\n    .dataframe thead th {\n        text-align: right;\n    }\n</style>\n<table border=\"1\" class=\"dataframe\">\n  <thead>\n    <tr style=\"text-align: right;\">\n      <th></th>\n      <th>brand</th>\n      <th>model</th>\n      <th>network_technology</th>\n      <th>GPRS</th>\n      <th>EDGE</th>\n      <th>announced</th>\n      <th>status</th>\n      <th>dimentions</th>\n      <th>weight_g</th>\n      <th>SIM</th>\n      <th>...</th>\n      <th>loud_speaker</th>\n      <th>audio_jack</th>\n      <th>WLAN</th>\n      <th>bluetooth</th>\n      <th>GPS</th>\n      <th>radio</th>\n      <th>USB</th>\n      <th>battery</th>\n      <th>colors</th>\n      <th>approx_price_EUR</th>\n    </tr>\n  </thead>\n  <tbody>\n    <tr>\n      <th>0</th>\n      <td>Acer</td>\n      <td>Iconia Talk S</td>\n      <td>GSM / HSPA / LTE</td>\n      <td>Yes</td>\n      <td>Yes</td>\n      <td>2016  August</td>\n      <td>Available. Released 2016  October</td>\n      <td>191.7 x 101 x 9.4 mm (7.55 x 3.98 x 0.37 in)</td>\n      <td>260</td>\n      <td>Dual SIM (Micro-SIM/Nano-SIM)</td>\n      <td>...</td>\n      <td>Yes</td>\n      <td>Yes</td>\n      <td>Wi-Fi 802.11 a/b/g/n| Wi-Fi Direct| hotspot</td>\n      <td>4.0| A2DP</td>\n      <td>Yes with A-GPS GLONASS</td>\n      <td>FM radio</td>\n      <td>microUSB 2.0</td>\n      <td>Non-removable Li-Ion 3400 mAh battery (12.92 Wh)</td>\n      <td>Black</td>\n      <td>170</td>\n    </tr>\n    <tr>\n      <th>1</th>\n      <td>Acer</td>\n      <td>Liquid Z6 Plus</td>\n      <td>GSM / HSPA / LTE</td>\n      <td>Yes</td>\n      <td>Yes</td>\n      <td>2016  August</td>\n      <td>Available. Released 2016  December</td>\n      <td>153.8 x 75.6 x 8.5 mm (6.06 x 2.98 x 0.33 in)</td>\n      <td>169</td>\n      <td>Single SIM (Micro-SIM) or Dual SIM (Micro-SIM|...</td>\n      <td>...</td>\n      <td>Yes</td>\n      <td>Yes</td>\n      <td>Wi-Fi 802.11 b/g/n| Wi-Fi Direct| hotspot</td>\n      <td>4.0| A2DP</td>\n      <td>Yes with A-GPS</td>\n      <td>FM radio</td>\n      <td>microUSB 2.0</td>\n      <td>Removable Li-Po 4080 mAh battery</td>\n      <td>Black| White</td>\n      <td>250</td>\n    </tr>\n    <tr>\n      <th>4</th>\n      <td>Acer</td>\n      <td>Liquid X2</td>\n      <td>GSM / HSPA / LTE</td>\n      <td>Yes</td>\n      <td>Yes</td>\n      <td>2015  April</td>\n      <td>Available. Released 2016  February</td>\n      <td>153.3 x 78.8 x 8.5 mm (6.04 x 3.10 x 0.33 in)</td>\n      <td>166</td>\n      <td>Triple SIM (Micro-SIM)</td>\n      <td>...</td>\n      <td>Yes</td>\n      <td>Yes</td>\n      <td>Wi-Fi 802.11 b/g/n| hotspot</td>\n      <td>4.0| A2DP| LE</td>\n      <td>Yes with A-GPS</td>\n      <td>FM radio</td>\n      <td>microUSB 2.0</td>\n      <td>Removable Li-Po 4020 mAh battery</td>\n      <td>Black| Gold</td>\n      <td>230</td>\n    </tr>\n    <tr>\n      <th>7</th>\n      <td>Acer</td>\n      <td>Liquid Zest</td>\n      <td>GSM / HSPA / LTE</td>\n      <td>Yes</td>\n      <td>Yes</td>\n      <td>2016  February</td>\n      <td>Available. Released 2016  April</td>\n      <td>145.7 x 71.2 x 8.4 mm (5.74 x 2.80 x 0.33 in)</td>\n      <td>125</td>\n      <td>Single SIM (Micro-SIM) or Dual SIM (Micro-SIM|...</td>\n      <td>...</td>\n      <td>Yes</td>\n      <td>Yes</td>\n      <td>Yes</td>\n      <td>4.0| A2DP</td>\n      <td>Yes with A-GPS</td>\n      <td>FM radio</td>\n      <td>microUSB 2.0</td>\n      <td>Removable Li-Ion 2000 mAh battery</td>\n      <td>Black| White</td>\n      <td>110</td>\n    </tr>\n    <tr>\n      <th>9</th>\n      <td>Acer</td>\n      <td>Liquid Jade Primo</td>\n      <td>GSM / HSPA / LTE</td>\n      <td>Yes</td>\n      <td>Yes</td>\n      <td>2015  September</td>\n      <td>Available. Released 2016  April</td>\n      <td>156.5 x 75.9 x 8.4 mm (6.16 x 2.99 x 0.33 in)</td>\n      <td>150</td>\n      <td>Dual SIM (Nano-SIM| dual stand-by)</td>\n      <td>...</td>\n      <td>Yes</td>\n      <td>Yes</td>\n      <td>Wi-Fi 802.11 a/b/g/n/ac| dual-band| WiFi Direc...</td>\n      <td>4.0| A2DP| LE| EDR</td>\n      <td>Yes with A-GPS</td>\n      <td>FM radio</td>\n      <td>3.1| Type-C 1.0 reversible connector</td>\n      <td>Non-removable Li-Po 2870 mAh battery</td>\n      <td>Black</td>\n      <td>220</td>\n    </tr>\n    <tr>\n      <th>...</th>\n      <td>...</td>\n      <td>...</td>\n      <td>...</td>\n      <td>...</td>\n      <td>...</td>\n      <td>...</td>\n      <td>...</td>\n      <td>...</td>\n      <td>...</td>\n      <td>...</td>\n      <td>...</td>\n      <td>...</td>\n      <td>...</td>\n      <td>...</td>\n      <td>...</td>\n      <td>...</td>\n      <td>...</td>\n      <td>...</td>\n      <td>...</td>\n      <td>...</td>\n      <td>...</td>\n    </tr>\n    <tr>\n      <th>8577</th>\n      <td>ZTE</td>\n      <td>Optik</td>\n      <td>CDMA / EVDO</td>\n      <td>No</td>\n      <td>No</td>\n      <td>2012  February</td>\n      <td>Available. Released 2012  February</td>\n      <td>193 x 119.4 x 13.2 mm (7.60 x 4.70 x 0.52 in)</td>\n      <td>400</td>\n      <td>Mini-SIM</td>\n      <td>...</td>\n      <td>Yes with stereo speakers</td>\n      <td>Yes</td>\n      <td>Wi-Fi 802.11 b/g| hotspot</td>\n      <td>2.1| A2DP| EDR</td>\n      <td>Yes with A-GPS</td>\n      <td>No</td>\n      <td>microUSB 2.0</td>\n      <td>Non-removable Li-Ion 4000 mAh battery</td>\n      <td>Black</td>\n      <td>230</td>\n    </tr>\n    <tr>\n      <th>8578</th>\n      <td>ZTE</td>\n      <td>Light Tab 2 V9A</td>\n      <td>GSM / HSPA</td>\n      <td>Yes</td>\n      <td>Yes</td>\n      <td>2011  December</td>\n      <td>Available. Released 2012  February</td>\n      <td>202 x 122 x 12.6 mm (7.95 x 4.80 x 0.50 in)</td>\n      <td>389</td>\n      <td>Mini-SIM</td>\n      <td>...</td>\n      <td>Yes</td>\n      <td>Yes</td>\n      <td>Wi-Fi 802.11 b/g| hotspot</td>\n      <td>2.1| A2DP| EDR</td>\n      <td>Yes with A-GPS</td>\n      <td>No</td>\n      <td>microUSB 2.0</td>\n      <td>Non-removable Li-Ion 3400 mAh battery</td>\n      <td>Black</td>\n      <td>250</td>\n    </tr>\n    <tr>\n      <th>8583</th>\n      <td>ZTE</td>\n      <td>Tania</td>\n      <td>GSM / HSPA</td>\n      <td>Yes</td>\n      <td>Yes</td>\n      <td>2011  September</td>\n      <td>Available. Released 2012  February</td>\n      <td>128.6 x 67.8 x 10.5 mm (5.06 x 2.67 x 0.41 in)</td>\n      <td>158</td>\n      <td>Mini-SIM</td>\n      <td>...</td>\n      <td>Yes</td>\n      <td>Yes</td>\n      <td>Wi-Fi 802.11 b/g/n</td>\n      <td>3.0| A2DP| EDR</td>\n      <td>Yes with A-GPS</td>\n      <td>Stereo FM radio| RDS</td>\n      <td>microUSB 2.0</td>\n      <td>Removable Li-Ion 1400 mAh battery</td>\n      <td>White| Black</td>\n      <td>210</td>\n    </tr>\n    <tr>\n      <th>8597</th>\n      <td>ZTE</td>\n      <td>Blade</td>\n      <td>GSM / HSPA</td>\n      <td>Yes</td>\n      <td>Yes</td>\n      <td>2010  October. Released 2010  November</td>\n      <td>Discontinued</td>\n      <td>116 x 56.5 x 11.8 mm (4.57 x 2.22 x 0.46 in)</td>\n      <td>110</td>\n      <td>Mini-SIM</td>\n      <td>...</td>\n      <td>Yes</td>\n      <td>Yes</td>\n      <td>Wi-Fi 802.11 b/g| hotspot (Android 2.2)</td>\n      <td>2.1| A2DP| EDR</td>\n      <td>Yes with A-GPS</td>\n      <td>Stereo FM radio| RDS</td>\n      <td>microUSB 2.0</td>\n      <td>Removable Li-Ion 1250 mAh battery</td>\n      <td>Black</td>\n      <td>170</td>\n    </tr>\n    <tr>\n      <th>8611</th>\n      <td>ZTE</td>\n      <td>Racer</td>\n      <td>GSM / HSPA</td>\n      <td>Yes</td>\n      <td>Yes</td>\n      <td>2010  July. Released 2010  July</td>\n      <td>Discontinued</td>\n      <td>102 x 55 x 14.5 mm (4.02 x 2.17 x 0.57 in)</td>\n      <td>100</td>\n      <td>Mini-SIM</td>\n      <td>...</td>\n      <td>Yes</td>\n      <td>Yes</td>\n      <td>Wi-Fi 802.11 b/g</td>\n      <td>2.0| A2DP</td>\n      <td>Yes with A-GPS</td>\n      <td>Stereo FM radio| RDS</td>\n      <td>microUSB 2.0</td>\n      <td>Removable Li-Ion 1100 mAh battery</td>\n      <td>Black</td>\n      <td>180</td>\n    </tr>\n  </tbody>\n</table>\n<p>2120 rows × 32 columns</p>\n</div>"
     },
     "metadata": {},
     "execution_count": 57
    }
   ],
   "source": [
    "df=df.drop(['weight_oz','2G_bands','3G_bands','4G_bands','network_speed','NFC','sensors','img_url'],axis=1)\n",
    "df=df.drop(df[df['dimentions']=='-'].index)\n",
    "df=df.drop(df[df['weight_g']=='nan'].index)\n",
    "df=df.drop(df[df['display_resolution']=='nan'].index)\n",
    "df=df.drop(df[df['display_size']=='-'].index)\n",
    "df=df.drop(df[df['OS']=='nan'].index)\n",
    "df=df.drop(df[df['CPU']=='nan'].index)\n",
    "df=df.drop(df[df['Chipset']=='nan'].index)\n",
    "df=df.drop(df[df['GPU']=='nan'].index)\n",
    "df=df.drop(df[df['internal_memory']=='nan'].index)\n",
    "df=df.drop(df[df['RAM']=='nan'].index)\n",
    "df=df.drop(df[df['primary_camera']=='nan'].index)\n",
    "df=df.drop(df[df['secondary_camera']=='nan'].index)\n",
    "df=df.drop(df[df['audio_jack']=='nan'].index)\n",
    "df=df.drop(df[df['radio']=='nan'].index)\n",
    "df=df.drop(df[df['USB']=='nan'].index)\n",
    "df=df.drop(df[df['colors']=='nan'].index)\n",
    "df=df.drop(df[df['approx_price_EUR']=='nan'].index)\n",
    "df\n"
   ]
  },
  {
   "cell_type": "code",
   "execution_count": 59,
   "metadata": {},
   "outputs": [],
   "source": [
    "df.to_csv('phone_data_processed.csv', encoding='utf-8', index=False)"
   ]
  },
  {
   "cell_type": "code",
   "execution_count": 61,
   "metadata": {},
   "outputs": [
    {
     "output_type": "execute_result",
     "data": {
      "text/plain": "   brand  model  network_technology  GPRS  EDGE  announced  status  \\\n0  brand  model  network_technology  GPRS  EDGE  announced  status   \n1      0      0                   0     0     0          0       0   \n2      1      1                   0     0     0          0       0   \n\n   dimentions  weight_g  SIM  ...  loud_speaker  audio_jack  WLAN  bluetooth  \\\n0  dimentions  weight_g  SIM  ...  loud_speaker  audio_jack  WLAN  bluetooth   \n1           0         1    0  ...             0           0     0          0   \n2           0         0    0  ...             0           0     0          0   \n\n   GPS  radio  USB  battery  colors approx_price_EUR  \n0  GPS  radio  USB  battery  colors            Price  \n1    0      0    0        0       0                1  \n2    0      0    0        0       0                1  \n\n[3 rows x 32 columns]",
      "text/html": "<div>\n<style scoped>\n    .dataframe tbody tr th:only-of-type {\n        vertical-align: middle;\n    }\n\n    .dataframe tbody tr th {\n        vertical-align: top;\n    }\n\n    .dataframe thead th {\n        text-align: right;\n    }\n</style>\n<table border=\"1\" class=\"dataframe\">\n  <thead>\n    <tr style=\"text-align: right;\">\n      <th></th>\n      <th>brand</th>\n      <th>model</th>\n      <th>network_technology</th>\n      <th>GPRS</th>\n      <th>EDGE</th>\n      <th>announced</th>\n      <th>status</th>\n      <th>dimentions</th>\n      <th>weight_g</th>\n      <th>SIM</th>\n      <th>...</th>\n      <th>loud_speaker</th>\n      <th>audio_jack</th>\n      <th>WLAN</th>\n      <th>bluetooth</th>\n      <th>GPS</th>\n      <th>radio</th>\n      <th>USB</th>\n      <th>battery</th>\n      <th>colors</th>\n      <th>approx_price_EUR</th>\n    </tr>\n  </thead>\n  <tbody>\n    <tr>\n      <th>0</th>\n      <td>brand</td>\n      <td>model</td>\n      <td>network_technology</td>\n      <td>GPRS</td>\n      <td>EDGE</td>\n      <td>announced</td>\n      <td>status</td>\n      <td>dimentions</td>\n      <td>weight_g</td>\n      <td>SIM</td>\n      <td>...</td>\n      <td>loud_speaker</td>\n      <td>audio_jack</td>\n      <td>WLAN</td>\n      <td>bluetooth</td>\n      <td>GPS</td>\n      <td>radio</td>\n      <td>USB</td>\n      <td>battery</td>\n      <td>colors</td>\n      <td>Price</td>\n    </tr>\n    <tr>\n      <th>1</th>\n      <td>0</td>\n      <td>0</td>\n      <td>0</td>\n      <td>0</td>\n      <td>0</td>\n      <td>0</td>\n      <td>0</td>\n      <td>0</td>\n      <td>1</td>\n      <td>0</td>\n      <td>...</td>\n      <td>0</td>\n      <td>0</td>\n      <td>0</td>\n      <td>0</td>\n      <td>0</td>\n      <td>0</td>\n      <td>0</td>\n      <td>0</td>\n      <td>0</td>\n      <td>1</td>\n    </tr>\n    <tr>\n      <th>2</th>\n      <td>1</td>\n      <td>1</td>\n      <td>0</td>\n      <td>0</td>\n      <td>0</td>\n      <td>0</td>\n      <td>0</td>\n      <td>0</td>\n      <td>0</td>\n      <td>0</td>\n      <td>...</td>\n      <td>0</td>\n      <td>0</td>\n      <td>0</td>\n      <td>0</td>\n      <td>0</td>\n      <td>0</td>\n      <td>0</td>\n      <td>0</td>\n      <td>0</td>\n      <td>1</td>\n    </tr>\n  </tbody>\n</table>\n<p>3 rows × 32 columns</p>\n</div>"
     },
     "metadata": {},
     "execution_count": 61
    }
   ],
   "source": [
    "df2 = pd.DataFrame(columns=['brand','model','network_technology','GPRS','EDGE','announced','status','dimentions','weight_g','SIM','display_type','display_resolution','display_size','OS','CPU','Chipset','GPU','memory_card','internal_memory','RAM','primary_camera','secondary_camera','loud_speaker','audio_jack','WLAN','bluetooth','GPS','radio','USB','battery','colors','approx_price_EUR'])\n",
    "df2.loc[0]=['brand','model','network_technology','GPRS','EDGE','announced','status','dimentions','weight_g','SIM','display_type','display_resolution','display_size','OS','CPU','Chipset','GPU','memory_card','internal_memory','RAM','primary_camera','secondary_camera','loud_speaker','audio_jack','WLAN','bluetooth','GPS','radio','USB','battery','colors','Price']\n",
    "df2.loc[1]=['0',\n",
    "            '0',\n",
    "            '0',\n",
    "            '0',\n",
    "            '0',\n",
    "            '0',\n",
    "            '0',\n",
    "            '0',\n",
    "            '1',\n",
    "            '0',\n",
    "            '0',\n",
    "            '0',\n",
    "            '0',\n",
    "            '0',\n",
    "            '0',\n",
    "            '0',\n",
    "            '0',\n",
    "            '0',\n",
    "            '0',\n",
    "            '0',\n",
    "            '0',\n",
    "            '0',\n",
    "            '0',\n",
    "            '0',\n",
    "            '0',\n",
    "            '0',\n",
    "            '0',\n",
    "            '0',\n",
    "            '0',\n",
    "            '0',\n",
    "            '0',\n",
    "            '1'] \n",
    "df2.loc[2]=['1',\n",
    "            '1',\n",
    "            '0',\n",
    "            '0',\n",
    "            '0',\n",
    "            '0',\n",
    "            '0',\n",
    "            '0',\n",
    "            '0',\n",
    "            '0',\n",
    "            '0',\n",
    "            '0',\n",
    "            '0',\n",
    "            '0',\n",
    "            '0',\n",
    "            '0',\n",
    "            '0',\n",
    "            '0',\n",
    "            '0',\n",
    "            '0',\n",
    "            '0',\n",
    "            '0',\n",
    "            '0',\n",
    "            '0',\n",
    "            '0',\n",
    "            '0',\n",
    "            '0',\n",
    "            '0',\n",
    "            '0',\n",
    "            '0',\n",
    "            '0',\n",
    "            '1']            \n",
    "#df2.index = df.index + 1  # shifting index\n",
    "#df2.sort_index(inplace=True) \n",
    "df2"
   ]
  },
  {
   "cell_type": "code",
   "execution_count": 62,
   "metadata": {},
   "outputs": [],
   "source": [
    "df2.to_csv('phone_details_processed.csv', encoding='utf-8', index=False)"
   ]
  },
  {
   "cell_type": "code",
   "execution_count": null,
   "metadata": {},
   "outputs": [],
   "source": []
  }
 ]
}