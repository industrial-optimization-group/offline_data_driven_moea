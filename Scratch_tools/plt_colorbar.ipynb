{
 "cells": [
  {
   "cell_type": "code",
   "execution_count": 1,
   "metadata": {},
   "outputs": [
    {
     "data": {
      "image/png": "[encoded data removed]",
      "text/plain": [
       "<Figure size 216x216 with 2 Axes>"
      ]
     },
     "metadata": {
      "needs_background": "light"
     },
     "output_type": "display_data"
    }
   ],
   "source": [
    "import matplotlib.pyplot as plt\n",
    "from matplotlib import rc\n",
    "\n",
    "rc('font',**{'family':'serif','serif':['Helvetica']})\n",
    "rc('text', usetex=True)\n",
    "plt.rcParams.update({'font.size': 15})\n",
    "\n",
    "x = [1, 2, 3, 4, 5, 6, 7, 8, 9]\n",
    "y = [125, 32, 54, 253, 67, 87, 233, 255, 0]\n",
    "\n",
    "color = [item / 255.0 for item in y]\n",
    "grayscale_map = plt.get_cmap('gray')\n",
    "\n",
    "fig = plt.figure(figsize=(3,3))\n",
    "plt.scatter(x, y, s = 500, c = color, cmap = 'spring')\n",
    "plt.colorbar(orientation=\"horizontal\")\n",
    "plt.show()\n",
    "fig.savefig('zz.pdf',bbox_inches='tight')"
   ]
  }
 ],
 "metadata": {
  "interpreter": {
   "hash": "5038b62b654e7507102c28d2b47be5567e64627dff7dda2606257cbd09e9b65f"
  },
  "kernelspec": {
   "display_name": "Python 3.8.10 64-bit ('offline_data_driven_moea': venv)",
   "name": "python3"
  },
  "language_info": {
   "codemirror_mode": {
    "name": "ipython",
    "version": 3
   },
   "file_extension": ".py",
   "mimetype": "text/x-python",
   "name": "python",
   "nbconvert_exporter": "python",
   "pygments_lexer": "ipython3",
   "version": "3.8.10"
  },
  "orig_nbformat": 4
 },
 "nbformat": 4,
 "nbformat_minor": 2
}
