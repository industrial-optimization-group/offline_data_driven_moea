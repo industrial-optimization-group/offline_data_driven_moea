{
 "cells": [
  {
   "cell_type": "markdown",
   "metadata": {},
   "source": [
    "# The River Pollution Problem"
   ]
  },
  {
   "cell_type": "code",
   "execution_count": 1,
   "metadata": {},
   "outputs": [],
   "source": [
    "from desdeo_emo.EAs.RVEA import RVEA\n",
    "from desdeo_problem.Variable import variable_builder\n",
    "from desdeo_problem.Objective import _ScalarObjective, VectorObjective\n",
    "from desdeo_problem.Problem import MOProblem\n",
    "\n",
    "import numpy as np\n",
    "import pandas as pd\n",
    "from desdeo_emo.othertools.plotlyanimate import animate_init_, animate_next_"
   ]
  },
  {
   "cell_type": "code",
   "execution_count": 2,
   "metadata": {},
   "outputs": [],
   "source": [
    "# create the problem\n",
    "def f_1(x):\n",
    "    return 4.07 + 2.27 * x[:, 0]\n",
    "\n",
    "def f_2(x):\n",
    "    return 2.60 + 0.03*x[:, 0] + 0.02*x[:, 1] + 0.01 / (1.39 - x[:, 0]**2) + 0.30 / (1.39 - x[:, 1]**2)\n",
    "\n",
    "def f_3(x):\n",
    "    return 8.21 - 0.71 / (1.09 - x[:, 0]**2)\n",
    "\n",
    "def f_4(x):\n",
    "    return 0.96 - 0.96 / (1.09 - x[:, 1]**2)\n",
    "\n",
    "# def f_5(x):\n",
    "    # return -0.96 + 0.96 / (1.09 - x[:, 1]**2)\n",
    "\n",
    "def f_5(x):\n",
    "    return np.max([np.abs(x[:, 0] - 0.65), np.abs(x[:, 1] - 0.65)], axis=0)"
   ]
  },
  {
   "cell_type": "code",
   "execution_count": 3,
   "metadata": {},
   "outputs": [],
   "source": [
    "f1 = _ScalarObjective(name=\"f1\", evaluator=f_1, maximize=True)\n",
    "f2 = _ScalarObjective(name=\"f2\", evaluator=f_2, maximize=True)\n",
    "f3 = _ScalarObjective(name=\"f3\", evaluator=f_3, maximize=True)\n",
    "f4 = _ScalarObjective(name=\"f4\", evaluator=f_4, maximize=True)\n",
    "f5 = _ScalarObjective(name=\"f5\", evaluator=f_5, maximize=False)"
   ]
  },
  {
   "cell_type": "code",
   "execution_count": 4,
   "metadata": {},
   "outputs": [],
   "source": [
    "varsl = variable_builder([\"x_1\", \"x_2\"],\n",
    "        initial_values=[0.5, 0.5],\n",
    "        lower_bounds=[0.3, 0.3],\n",
    "        upper_bounds=[1.0, 1.0]\n",
    "        )"
   ]
  },
  {
   "cell_type": "code",
   "execution_count": 5,
   "metadata": {},
   "outputs": [],
   "source": [
    "problem = MOProblem(variables=varsl, objectives=[f1, f2, f3, f4, f5])"
   ]
  },
  {
   "cell_type": "code",
   "execution_count": 6,
   "metadata": {},
   "outputs": [
    {
     "name": "stdout",
     "output_type": "stream",
     "text": [
      "Plot saved as:  river.html\n",
      "View the plot by opening the file in browser.\n",
      "To view the plot in Jupyter Notebook, use the IFrame command.\n"
     ]
    }
   ],
   "source": [
    "evolver = RVEA(problem, interact=True, n_iterations=5, n_gen_per_iter=100)\n",
    "figure = animate_init_(evolver.population.objectives, filename=\"river.html\")"
   ]
  },
  {
   "cell_type": "code",
   "execution_count": 7,
   "metadata": {},
   "outputs": [],
   "source": [
    "plot, pref = evolver.requests()"
   ]
  },
  {
   "cell_type": "code",
   "execution_count": 8,
   "metadata": {},
   "outputs": [
    {
     "name": "stdout",
     "output_type": "stream",
     "text": [
      "             f1       f2       f3          f4         f5\n",
      "minimize     -1       -1       -1          -1          1\n",
      "ideal     6.337  3.40722  7.49915 -0.00143157  0.0235701\n",
      "nadir      None     None     None        None       None\n"
     ]
    }
   ],
   "source": [
    "print(plot.content[\"dimensions_data\"])"
   ]
  },
  {
   "cell_type": "code",
   "execution_count": 9,
   "metadata": {},
   "outputs": [
    {
     "name": "stdout",
     "output_type": "stream",
     "text": [
      "Provide a reference point worse than or equal to the ideal point:\n",
      "f1         6.337\n",
      "f2       3.40722\n",
      "f3       7.49915\n",
      "f4   -0.00143157\n",
      "f5     0.0235701\n",
      "Name: ideal, dtype: object\n",
      "The reference point will be used to focus the reference vectors towards the preferred region.\n",
      "If a reference point is not provided, the previous state of the reference vectors is used.\n",
      "If the reference point is the same as the ideal point, the ideal point, the reference vectors are spread uniformly in the objective space.\n"
     ]
    }
   ],
   "source": [
    "print(pref.content['message'])"
   ]
  },
  {
   "cell_type": "code",
   "execution_count": 10,
   "metadata": {},
   "outputs": [],
   "source": [
    "pref.response = pd.DataFrame([[6.3,3.3,7,-2,0.3]],\n",
    "                             columns=pref.content['dimensions_data'].columns)"
   ]
  },
  {
   "cell_type": "code",
   "execution_count": 11,
   "metadata": {},
   "outputs": [
    {
     "name": "stdout",
     "output_type": "stream",
     "text": [
      "Current generation number:100. Is looping back recommended: Yes\n"
     ]
    }
   ],
   "source": [
    "plot, pref = evolver.iterate(pref)\n",
    "figure = animate_next_(\n",
    "    plot.content['data'].values,\n",
    "    figure,\n",
    "    filename=\"river.html\",\n",
    "    generation=evolver._iteration_counter,\n",
    ")\n",
    "\n",
    "message = (f\"Current generation number:{evolver._current_gen_count}. \"\n",
    "           f\"Is looping back recommended: {'Yes' if evolver.continue_evolution() else 'No'}\")\n",
    "print(message)"
   ]
  },
  {
   "cell_type": "code",
   "execution_count": null,
   "metadata": {},
   "outputs": [],
   "source": []
  }
 ],
 "metadata": {
  "kernelspec": {
   "display_name": "desdeo_emo",
   "language": "python",
   "name": "desdeo_emo"
  },
  "language_info": {
   "codemirror_mode": {
    "name": "ipython",
    "version": 3
   },
   "file_extension": ".py",
   "mimetype": "text/x-python",
   "name": "python",
   "nbconvert_exporter": "python",
   "pygments_lexer": "ipython3",
   "version": "3.7.7"
  }
 },
 "nbformat": 4,
 "nbformat_minor": 4
}
