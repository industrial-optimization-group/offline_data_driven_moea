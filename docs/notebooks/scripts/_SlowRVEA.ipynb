{
 "cells": [
  {
   "cell_type": "code",
   "execution_count": 1,
   "metadata": {},
   "outputs": [],
   "source": [
    "from pyrvea.Population.Population import Population\n",
    "from pyrvea.Problem.testProblem import testProblem\n",
    "from pyrvea.EAs.slowRVEA import slowRVEA\n",
    "import altair as alt\n",
    "import pandas as pd\n",
    "import numpy as np"
   ]
  },
  {
   "cell_type": "code",
   "execution_count": 2,
   "metadata": {},
   "outputs": [
    {
     "data": {
      "text/plain": [
       "RendererRegistry.enable('notebook')"
      ]
     },
     "execution_count": 2,
     "metadata": {},
     "output_type": "execute_result"
    }
   ],
   "source": [
    "alt.data_transformers.enable('json')\n",
    "alt.renderers.enable('notebook')"
   ]
  },
  {
   "cell_type": "code",
   "execution_count": 3,
   "metadata": {},
   "outputs": [],
   "source": [
    "name = \"DTLZ2\"\n",
    "k = 10\n",
<<<<<<< HEAD
    "numobj = 7\n",
=======
    "numobj = 3\n",
>>>>>>> 2cc84daebe51cce8fe702d1a630b25a78a207f61
    "numconst = 0\n",
    "numvar = numobj + k - 1\n",
    "problem = testProblem(name, numvar, numobj, numconst)"
   ]
  },
  {
   "cell_type": "markdown",
   "metadata": {},
   "source": [
    "# RVEA with smooth transition of RVs"
   ]
  },
  {
   "cell_type": "code",
   "execution_count": 4,
   "metadata": {},
   "outputs": [],
   "source": [
    "pop = Population(problem, assign_type=\"empty\")"
   ]
  },
  {
   "cell_type": "code",
   "execution_count": 5,
   "metadata": {},
   "outputs": [],
   "source": [
    "orig_point = [1] * numobj\n",
    "first_ref = [1, 1] + [0]*(numobj-2)\n",
    "second_ref = [0]*(numobj-2) + [1,1]"
   ]
  },
  {
   "cell_type": "markdown",
   "metadata": {},
   "source": [
    "## Initial Evolution\n",
    "\n",
    "The first 3000 generations happen with a very small number of reference vectors, focused around the [1, 1, 1...] direction. The number of RVs, and hence the number of solutions and the number of function evaluations per generation is: 2M + 4, where M is the number of objectives."
   ]
  },
  {
   "cell_type": "code",
   "execution_count": 6,
   "metadata": {
    "scrolled": true
   },
   "outputs": [
    {
     "name": "stdout",
     "output_type": "stream",
     "text": [
<<<<<<< HEAD
      "Plot saved as:  DTLZ2_7.html\n",
=======
      "Plot saved as:  DTLZ3_3.html\n",
>>>>>>> 2cc84daebe51cce8fe702d1a630b25a78a207f61
      "View the plot by opening the file in browser.\n",
      "To view the plot in Jupyter Notebook, use the IFrame command.\n"
     ]
    },
    {
     "data": {
      "application/vnd.jupyter.widget-view+json": {
<<<<<<< HEAD
       "model_id": "bff4314d57b946348b59dac8afae75db",
=======
       "model_id": "366974af8f2b4e87a59ff4b930763558",
>>>>>>> 2cc84daebe51cce8fe702d1a630b25a78a207f61
       "version_major": 2,
       "version_minor": 0
      },
      "text/plain": [
       "HBox(children=(IntProgress(value=0, description='Iteration', max=14, style=ProgressStyle(description_width='in…"
      ]
     },
     "metadata": {},
     "output_type": "display_data"
    },
    {
     "name": "stdout",
     "output_type": "stream",
     "text": [
      "\n"
     ]
    }
   ],
   "source": [
<<<<<<< HEAD
    "pop.evolve(slowRVEA, {\"generations_per_iteration\": 200, \"iterations\": 15})"
=======
    "pop.evolve(slowRVEA, {\"generations_per_iteration\": 150, \"iterations\": 20})"
   ]
  },
  {
   "cell_type": "markdown",
   "metadata": {},
   "source": [
    "## Interactive Evolution\n",
    "\n",
    "This phase requires a very small number of generations (200, here). This number can be further reduced with a better iteration policy. The effect of this kind of evolution seems to be a kind of navigation along the pareto front."
>>>>>>> 2cc84daebe51cce8fe702d1a630b25a78a207f61
   ]
  },
  {
   "cell_type": "code",
   "execution_count": 7,
   "metadata": {
    "scrolled": true
   },
   "outputs": [
    {
     "data": {
      "application/vnd.jupyter.widget-view+json": {
<<<<<<< HEAD
       "model_id": "5e4157a462bc4885b3a7d1825bae3c48",
=======
       "model_id": "d0766af296bd49d88812981594b18ce7",
>>>>>>> 2cc84daebe51cce8fe702d1a630b25a78a207f61
       "version_major": 2,
       "version_minor": 0
      },
      "text/plain": [
       "HBox(children=(IntProgress(value=0, description='Iteration', max=19, style=ProgressStyle(description_width='in…"
      ]
     },
     "metadata": {},
     "output_type": "display_data"
    },
    {
     "name": "stderr",
     "output_type": "stream",
     "text": [
      "/home/bhupinder/Projects/pyRVEA/pyrvea/Selection/APD_select.py:48: UserWarning:\n",
      "\n",
      "RVEA.py line 64 cosine smaller than 0 increased to 0\n",
      "\n"
     ]
    },
    {
     "name": "stdout",
     "output_type": "stream",
     "text": [
      "\n"
     ]
    }
   ],
   "source": [
    "pop.evolve(\n",
    "    slowRVEA,\n",
    "    {\n",
<<<<<<< HEAD
    "        \"generations_per_iteration\": 4,\n",
    "        \"iterations\": 20,\n",
    "        \"old_point\": orig_point,\n",
    "        \"ref_point\": first_ref,\n",
=======
    "        \"generations_per_iteration\": 15,\n",
    "        \"iterations\": 20,\n",
    "        \"old_point\": [1, 1, 1],\n",
    "        \"ref_point\": [1, 1, 0],\n",
>>>>>>> 2cc84daebe51cce8fe702d1a630b25a78a207f61
    "    },\n",
    ")"
   ]
  },
  {
   "cell_type": "code",
   "execution_count": 8,
   "metadata": {},
   "outputs": [
    {
     "data": {
      "application/vnd.jupyter.widget-view+json": {
<<<<<<< HEAD
       "model_id": "dd64e4e1f36142e9b8c92387289e64d0",
=======
       "model_id": "f509d961ad3d49e5b7d3f459ef7c2ecc",
>>>>>>> 2cc84daebe51cce8fe702d1a630b25a78a207f61
       "version_major": 2,
       "version_minor": 0
      },
      "text/plain": [
       "HBox(children=(IntProgress(value=0, description='Iteration', max=19, style=ProgressStyle(description_width='in…"
      ]
     },
     "metadata": {},
     "output_type": "display_data"
    },
    {
     "name": "stdout",
     "output_type": "stream",
     "text": [
      "\n"
     ]
    }
   ],
   "source": [
    "pop.evolve(\n",
    "    slowRVEA,\n",
    "    {\n",
<<<<<<< HEAD
    "        \"generations_per_iteration\": 4,\n",
    "        \"iterations\": 20,\n",
    "        \"old_point\": first_ref,\n",
    "        \"ref_point\": second_ref,\n",
=======
    "        \"generations_per_iteration\": 15,\n",
    "        \"iterations\": 20,\n",
    "        \"old_point\": [1, 1, 0],\n",
    "        \"ref_point\": [0, 1, 1],\n",
>>>>>>> 2cc84daebe51cce8fe702d1a630b25a78a207f61
    "    },\n",
    ")"
   ]
  },
  {
   "cell_type": "code",
   "execution_count": 7,
   "metadata": {},
   "outputs": [],
   "source": [
    "archive_df = pop.archive"
   ]
  },
  {
   "cell_type": "code",
   "execution_count": 8,
   "metadata": {},
   "outputs": [],
   "source": [
    "objective_norms = archive_df['objective_values'].apply(lambda x: np.linalg.norm(x))\n",
    "archive_df['objective_norms'] = objective_norms\n",
    "archive_df['line1'] = 3000\n",
    "archive_df['line2']= 3300"
   ]
  },
  {
   "cell_type": "code",
<<<<<<< HEAD
   "execution_count": 9,
   "metadata": {},
   "outputs": [],
   "source": [
    "x = alt.X('generation')\n",
    "y_obj = alt.Y('median(objective_norms)', scale=alt.Scale(type='log',domain=(1,10)))"
=======
   "execution_count": 10,
   "metadata": {},
   "outputs": [],
   "source": [
    "x = alt.X('generation', scale=alt.Scale(domain=(2800,3600)))\n",
    "y_obj = alt.Y('median(objective_norms)', scale=alt.Scale(domain=(0.8,1.2)))"
   ]
  },
  {
   "cell_type": "code",
   "execution_count": 11,
   "metadata": {},
   "outputs": [],
   "source": [
    "medianmag = alt.Chart(archive_df).mark_line(clip=True).encode(x=x, y=y_obj).properties(title='Median Magnitude of objective vectors')"
   ]
  },
  {
   "cell_type": "code",
   "execution_count": 12,
   "metadata": {},
   "outputs": [],
   "source": [
    "line1 = alt.Chart(archive_df).mark_rule().encode(x=alt.X('line1', axis=alt.Axis(title='generation')))\n",
    "line2 = alt.Chart(archive_df).mark_rule().encode(x=alt.X('line2', axis=alt.Axis(title='generation')))"
   ]
  },
  {
   "cell_type": "markdown",
   "metadata": {},
   "source": [
    "### The following graph shows the magnitude of the reference vectors with generation count. Note that problem DTLZ3 has a radially symmetrical pareto front, with a radius of 1."
   ]
  },
  {
   "cell_type": "code",
   "execution_count": 13,
   "metadata": {},
   "outputs": [
    {
     "data": {
      "application/javascript": [
       "var spec = {\"config\": {\"view\": {\"width\": 400, \"height\": 300}, \"mark\": {\"tooltip\": null}}, \"layer\": [{\"data\": {\"url\": \"altair-data-40cd87f5e461ce166223185132a3640d.json\", \"format\": {\"type\": \"json\"}}, \"mark\": {\"type\": \"line\", \"clip\": true}, \"encoding\": {\"x\": {\"type\": \"quantitative\", \"field\": \"generation\", \"scale\": {\"domain\": [2800, 3600]}}, \"y\": {\"type\": \"quantitative\", \"aggregate\": \"median\", \"field\": \"objective_norms\", \"scale\": {\"domain\": [0.8, 1.2]}}}, \"title\": \"Median Magnitude of objective vectors\"}, {\"data\": {\"url\": \"altair-data-40cd87f5e461ce166223185132a3640d.json\", \"format\": {\"type\": \"json\"}}, \"mark\": \"rule\", \"encoding\": {\"x\": {\"type\": \"quantitative\", \"axis\": {\"title\": \"generation\"}, \"field\": \"line1\"}}}, {\"data\": {\"url\": \"altair-data-40cd87f5e461ce166223185132a3640d.json\", \"format\": {\"type\": \"json\"}}, \"mark\": \"rule\", \"encoding\": {\"x\": {\"type\": \"quantitative\", \"axis\": {\"title\": \"generation\"}, \"field\": \"line2\"}}}], \"$schema\": \"https://vega.github.io/schema/vega-lite/v3.2.1.json\"};\n",
       "var opt = {};\n",
       "var type = \"vega-lite\";\n",
       "var id = \"87286cf1-7fe2-43fb-bcbc-252de40fce01\";\n",
       "\n",
       "var output_area = this;\n",
       "\n",
       "require([\"nbextensions/jupyter-vega/index\"], function(vega) {\n",
       "  var target = document.createElement(\"div\");\n",
       "  target.id = id;\n",
       "  target.className = \"vega-embed\";\n",
       "\n",
       "  var style = document.createElement(\"style\");\n",
       "  style.textContent = [\n",
       "    \".vega-embed .error p {\",\n",
       "    \"  color: firebrick;\",\n",
       "    \"  font-size: 14px;\",\n",
       "    \"}\",\n",
       "  ].join(\"\\\\n\");\n",
       "\n",
       "  // element is a jQuery wrapped DOM element inside the output area\n",
       "  // see http://ipython.readthedocs.io/en/stable/api/generated/\\\n",
       "  // IPython.display.html#IPython.display.Javascript.__init__\n",
       "  element[0].appendChild(target);\n",
       "  element[0].appendChild(style);\n",
       "\n",
       "  vega.render(\"#\" + id, spec, type, opt, output_area);\n",
       "}, function (err) {\n",
       "  if (err.requireType !== \"scripterror\") {\n",
       "    throw(err);\n",
       "  }\n",
       "});\n"
      ],
      "text/plain": [
       "<vega.vegalite.VegaLite at 0x7fa7ab442940>"
      ]
     },
     "metadata": {
      "jupyter-vega": "#87286cf1-7fe2-43fb-bcbc-252de40fce01"
     },
     "output_type": "display_data"
    },
    {
     "data": {
      "text/plain": []
     },
     "execution_count": 13,
     "metadata": {},
     "output_type": "execute_result"
    },
    {
     "data": {
      "image/png": "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"
     },
     "metadata": {
      "jupyter-vega": "#87286cf1-7fe2-43fb-bcbc-252de40fce01"
     },
     "output_type": "display_data"
    }
   ],
   "source": [
    "(medianmag + line1 + line2)"
   ]
  },
  {
   "cell_type": "code",
   "execution_count": 14,
   "metadata": {},
   "outputs": [],
   "source": [
    "angle_dev_from_1 = archive_df['objective_values'].apply(lambda x: np.degrees(np.arccos(np.dot(x,[1,1,0,0,0])/(np.linalg.norm(x)*np.linalg.norm([1,1,0,0,0])))))\n",
    "angle_dev_from_2 = archive_df['objective_values'].apply(lambda x: np.degrees(np.arccos(np.dot(x,[0,0,0,1,1])/(np.linalg.norm(x)*np.linalg.norm([0,0,0,1,1])))))"
>>>>>>> 2cc84daebe51cce8fe702d1a630b25a78a207f61
   ]
  },
  {
   "cell_type": "code",
<<<<<<< HEAD
   "execution_count": 10,
=======
   "execution_count": 15,
>>>>>>> 2cc84daebe51cce8fe702d1a630b25a78a207f61
   "metadata": {},
   "outputs": [],
   "source": [
    "archive_df['angle_1'] = angle_dev_from_1\n",
    "archive_df['angle_2'] = angle_dev_from_2"
   ]
  },
  {
   "cell_type": "code",
<<<<<<< HEAD
   "execution_count": 11,
   "metadata": {},
   "outputs": [],
   "source": [
    "band =alt.Chart(archive_df).mark_errorband(extent='iqr', clip=True).encode(x=x, y='objective_norms')"
=======
   "execution_count": 16,
   "metadata": {},
   "outputs": [],
   "source": [
    "y_angle_1 = alt.Y('median(angle_1)')\n",
    "y_angle_2 = alt.Y('median(angle_2)')"
   ]
  },
  {
   "cell_type": "markdown",
   "metadata": {},
   "source": [
    "### The following graphs show the angular deviation from the Reference Points. RF1 is to be reached at (3000 + 200) generations. RF2 is to be reached at (3000 + 200 + 200) generations."
>>>>>>> 2cc84daebe51cce8fe702d1a630b25a78a207f61
   ]
  },
  {
   "cell_type": "code",
<<<<<<< HEAD
   "execution_count": 12,
=======
   "execution_count": 17,
>>>>>>> 2cc84daebe51cce8fe702d1a630b25a78a207f61
   "metadata": {},
   "outputs": [
    {
     "data": {
      "application/javascript": [
<<<<<<< HEAD
       "var spec = {\"config\": {\"view\": {\"width\": 400, \"height\": 300}, \"mark\": {\"tooltip\": null}}, \"data\": {\"url\": \"altair-data-79451d8c73e0fe59881508caf0c09026.json\", \"format\": {\"type\": \"json\"}}, \"mark\": {\"type\": \"line\", \"clip\": true}, \"encoding\": {\"x\": {\"type\": \"quantitative\", \"field\": \"generation\"}, \"y\": {\"type\": \"quantitative\", \"aggregate\": \"median\", \"field\": \"objective_norms\", \"scale\": {\"domain\": [1, 10], \"type\": \"log\"}}}, \"title\": \"Median Magnitude of objective vectors\", \"$schema\": \"https://vega.github.io/schema/vega-lite/v3.2.1.json\"};\n",
       "var opt = {};\n",
       "var type = \"vega-lite\";\n",
       "var id = \"6dcb5551-7ff4-47cf-9056-d63fccd1e1e2\";\n",
=======
       "var spec = {\"config\": {\"view\": {\"width\": 400, \"height\": 300}, \"mark\": {\"tooltip\": null}}, \"layer\": [{\"data\": {\"url\": \"altair-data-956c7a22abcc7a20d30a6e8591fb6274.json\", \"format\": {\"type\": \"json\"}}, \"mark\": {\"type\": \"line\", \"clip\": true}, \"encoding\": {\"x\": {\"type\": \"quantitative\", \"field\": \"generation\", \"scale\": {\"domain\": [2800, 3600]}}, \"y\": {\"type\": \"quantitative\", \"aggregate\": \"median\", \"field\": \"angle_1\"}}, \"title\": \"Median Angular Deviation of objective vectors from Reference Point 1\"}, {\"data\": {\"url\": \"altair-data-956c7a22abcc7a20d30a6e8591fb6274.json\", \"format\": {\"type\": \"json\"}}, \"mark\": \"rule\", \"encoding\": {\"x\": {\"type\": \"quantitative\", \"axis\": {\"title\": \"generation\"}, \"field\": \"line1\"}}}, {\"data\": {\"url\": \"altair-data-956c7a22abcc7a20d30a6e8591fb6274.json\", \"format\": {\"type\": \"json\"}}, \"mark\": \"rule\", \"encoding\": {\"x\": {\"type\": \"quantitative\", \"axis\": {\"title\": \"generation\"}, \"field\": \"line2\"}}}], \"$schema\": \"https://vega.github.io/schema/vega-lite/v3.2.1.json\"};\n",
       "var opt = {};\n",
       "var type = \"vega-lite\";\n",
       "var id = \"9beb1c0a-1360-4681-aa50-399a7903f0ac\";\n",
>>>>>>> 2cc84daebe51cce8fe702d1a630b25a78a207f61
       "\n",
       "var output_area = this;\n",
       "\n",
       "require([\"nbextensions/jupyter-vega/index\"], function(vega) {\n",
       "  var target = document.createElement(\"div\");\n",
       "  target.id = id;\n",
       "  target.className = \"vega-embed\";\n",
       "\n",
       "  var style = document.createElement(\"style\");\n",
       "  style.textContent = [\n",
       "    \".vega-embed .error p {\",\n",
       "    \"  color: firebrick;\",\n",
       "    \"  font-size: 14px;\",\n",
       "    \"}\",\n",
       "  ].join(\"\\\\n\");\n",
       "\n",
       "  // element is a jQuery wrapped DOM element inside the output area\n",
       "  // see http://ipython.readthedocs.io/en/stable/api/generated/\\\n",
       "  // IPython.display.html#IPython.display.Javascript.__init__\n",
       "  element[0].appendChild(target);\n",
       "  element[0].appendChild(style);\n",
       "\n",
       "  vega.render(\"#\" + id, spec, type, opt, output_area);\n",
       "}, function (err) {\n",
       "  if (err.requireType !== \"scripterror\") {\n",
       "    throw(err);\n",
       "  }\n",
       "});\n"
      ],
      "text/plain": [
<<<<<<< HEAD
       "<vega.vegalite.VegaLite at 0x7f5feb05d780>"
      ]
     },
     "metadata": {
      "jupyter-vega": "#6dcb5551-7ff4-47cf-9056-d63fccd1e1e2"
=======
       "<vega.vegalite.VegaLite at 0x7fa7dd0b9b38>"
      ]
     },
     "metadata": {
      "jupyter-vega": "#9beb1c0a-1360-4681-aa50-399a7903f0ac"
>>>>>>> 2cc84daebe51cce8fe702d1a630b25a78a207f61
     },
     "output_type": "display_data"
    },
    {
     "data": {
      "text/plain": []
     },
<<<<<<< HEAD
     "execution_count": 12,
=======
     "execution_count": 17,
>>>>>>> 2cc84daebe51cce8fe702d1a630b25a78a207f61
     "metadata": {},
     "output_type": "execute_result"
    },
    {
     "data": {
<<<<<<< HEAD
      "image/png": "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"
     },
     "metadata": {
      "jupyter-vega": "#6dcb5551-7ff4-47cf-9056-d63fccd1e1e2"
     },
     "output_type": "display_data"
    },
    {
     "data": {
      "image/png": "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"
     },
     "metadata": {
      "jupyter-vega": "#6dcb5551-7ff4-47cf-9056-d63fccd1e1e2"
=======
      "image/png": "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"
     },
     "metadata": {
      "jupyter-vega": "#9beb1c0a-1360-4681-aa50-399a7903f0ac"
>>>>>>> 2cc84daebe51cce8fe702d1a630b25a78a207f61
     },
     "output_type": "display_data"
    }
   ],
   "source": [
    "line_angle_1 = alt.Chart(archive_df).mark_line(clip=True).encode(x=x, y=y_angle_1).properties(title='Median Angular Deviation of objective vectors from Reference Point 1')\n",
    "line_angle_1 + line1 + line2"
   ]
  },
  {
   "cell_type": "code",
   "execution_count": 18,
   "metadata": {},
   "outputs": [
    {
     "data": {
      "application/javascript": [
       "var spec = {\"config\": {\"view\": {\"width\": 400, \"height\": 300}, \"mark\": {\"tooltip\": null}}, \"layer\": [{\"data\": {\"url\": \"altair-data-956c7a22abcc7a20d30a6e8591fb6274.json\", \"format\": {\"type\": \"json\"}}, \"mark\": {\"type\": \"line\", \"clip\": true}, \"encoding\": {\"x\": {\"type\": \"quantitative\", \"field\": \"generation\", \"scale\": {\"domain\": [2800, 3600]}}, \"y\": {\"type\": \"quantitative\", \"aggregate\": \"median\", \"field\": \"angle_2\"}}, \"title\": \"Median Angular Deviation of objective vectors from Reference Point 2\"}, {\"data\": {\"url\": \"altair-data-956c7a22abcc7a20d30a6e8591fb6274.json\", \"format\": {\"type\": \"json\"}}, \"mark\": \"rule\", \"encoding\": {\"x\": {\"type\": \"quantitative\", \"axis\": {\"title\": \"generation\"}, \"field\": \"line1\"}}}, {\"data\": {\"url\": \"altair-data-956c7a22abcc7a20d30a6e8591fb6274.json\", \"format\": {\"type\": \"json\"}}, \"mark\": \"rule\", \"encoding\": {\"x\": {\"type\": \"quantitative\", \"axis\": {\"title\": \"generation\"}, \"field\": \"line2\"}}}], \"$schema\": \"https://vega.github.io/schema/vega-lite/v3.2.1.json\"};\n",
       "var opt = {};\n",
       "var type = \"vega-lite\";\n",
       "var id = \"3141ab63-3cef-433c-9b35-9e4132ca28fd\";\n",
       "\n",
       "var output_area = this;\n",
       "\n",
       "require([\"nbextensions/jupyter-vega/index\"], function(vega) {\n",
       "  var target = document.createElement(\"div\");\n",
       "  target.id = id;\n",
       "  target.className = \"vega-embed\";\n",
       "\n",
       "  var style = document.createElement(\"style\");\n",
       "  style.textContent = [\n",
       "    \".vega-embed .error p {\",\n",
       "    \"  color: firebrick;\",\n",
       "    \"  font-size: 14px;\",\n",
       "    \"}\",\n",
       "  ].join(\"\\\\n\");\n",
       "\n",
       "  // element is a jQuery wrapped DOM element inside the output area\n",
       "  // see http://ipython.readthedocs.io/en/stable/api/generated/\\\n",
       "  // IPython.display.html#IPython.display.Javascript.__init__\n",
       "  element[0].appendChild(target);\n",
       "  element[0].appendChild(style);\n",
       "\n",
       "  vega.render(\"#\" + id, spec, type, opt, output_area);\n",
       "}, function (err) {\n",
       "  if (err.requireType !== \"scripterror\") {\n",
       "    throw(err);\n",
       "  }\n",
       "});\n"
      ],
      "text/plain": [
       "<vega.vegalite.VegaLite at 0x7fa7a2b19a20>"
      ]
     },
     "metadata": {
      "jupyter-vega": "#3141ab63-3cef-433c-9b35-9e4132ca28fd"
     },
     "output_type": "display_data"
    },
    {
     "data": {
      "text/plain": []
     },
     "execution_count": 18,
     "metadata": {},
     "output_type": "execute_result"
    },
    {
     "data": {
      "image/png": "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"
     },
     "metadata": {
      "jupyter-vega": "#3141ab63-3cef-433c-9b35-9e4132ca28fd"
     },
     "output_type": "display_data"
    }
   ],
   "source": [
    "line_angle_2 = alt.Chart(archive_df).mark_line(clip=True).encode(x=x, y=y_angle_2).properties(title='Median Angular Deviation of objective vectors from Reference Point 2')\n",
    "line_angle_2 + line1 + line2"
   ]
  },
  {
   "cell_type": "markdown",
   "metadata": {},
   "source": [
    "# Old RVEA"
   ]
  },
  {
   "cell_type": "code",
   "execution_count": 19,
   "metadata": {},
   "outputs": [
    {
     "data": {
      "application/vnd.jupyter.widget-view+json": {
       "model_id": "070a21560d404a9f9808c3e5f1068588",
       "version_major": 2,
       "version_minor": 0
      },
      "text/plain": [
       "HBox(children=(IntProgress(value=0, description='Iteration', max=19, style=ProgressStyle(description_width='in…"
      ]
     },
     "metadata": {},
     "output_type": "display_data"
    },
    {
     "name": "stdout",
     "output_type": "stream",
     "text": [
      "\n"
     ]
    }
   ],
   "source": [
    "pop = Population(problem, assign_type=\"empty\", plotting=False)\n",
    "pop.evolve(slowRVEA, {\"generations_per_iteration\": 150, \"iterations\": 20})"
   ]
  },
  {
   "cell_type": "code",
   "execution_count": 20,
   "metadata": {},
   "outputs": [
    {
     "data": {
      "application/vnd.jupyter.widget-view+json": {
       "model_id": "b4d623f9a9c34310b08adafbb20fe7ce",
       "version_major": 2,
       "version_minor": 0
      },
      "text/plain": [
       "HBox(children=(IntProgress(value=0, description='Iteration', max=19, style=ProgressStyle(description_width='in…"
      ]
     },
     "metadata": {},
     "output_type": "display_data"
    },
    {
     "name": "stdout",
     "output_type": "stream",
     "text": [
      "\n"
     ]
    }
   ],
   "source": [
    "pop.evolve(\n",
    "    slowRVEA,\n",
    "    {\n",
    "        \"generations_per_iteration\": 15,\n",
    "        \"iterations\": 20,\n",
    "        \"old_point\": [1, 1, 0, 0, 0],\n",
    "        \"ref_point\": [1, 1, 0, 0, 0],\n",
    "    },\n",
    ")"
   ]
  },
  {
   "cell_type": "markdown",
   "metadata": {},
   "source": [
    "# NOTE: Evolution with the second RF2 information failed for the normal RVEA."
   ]
  },
  {
   "cell_type": "code",
   "execution_count": 21,
   "metadata": {},
   "outputs": [
    {
     "data": {
      "application/vnd.jupyter.widget-view+json": {
       "model_id": "873fbef6c3304a99876bda7be7c2ede5",
       "version_major": 2,
       "version_minor": 0
      },
      "text/plain": [
       "HBox(children=(IntProgress(value=0, description='Iteration', max=19, style=ProgressStyle(description_width='in…"
      ]
     },
     "metadata": {},
     "output_type": "display_data"
    },
    {
     "name": "stdout",
     "output_type": "stream",
     "text": [
      "\n"
     ]
    },
    {
     "name": "stderr",
     "output_type": "stream",
     "text": [
      "/home/bhupinder/Projects/pyRVEA/pyrvea/OtherTools/ReferenceVectors.py:72: RuntimeWarning:\n",
      "\n",
      "invalid value encountered in true_divide\n",
      "\n",
      "/home/bhupinder/Projects/pyRVEA/pyrvea/Selection/APD_select.py:44: RuntimeWarning:\n",
      "\n",
      "invalid value encountered in greater\n",
      "\n",
      "/home/bhupinder/Projects/pyRVEA/pyrvea/Selection/APD_select.py:47: RuntimeWarning:\n",
      "\n",
      "invalid value encountered in less\n",
      "\n",
      "/home/bhupinder/Projects/pyRVEA/pyrvea/Selection/APD_select.py:74: RuntimeWarning:\n",
      "\n",
      "All-NaN slice encountered\n",
      "\n"
     ]
    },
    {
     "ename": "IndexError",
     "evalue": "index 0 is out of bounds for axis 0 with size 0",
     "output_type": "error",
     "traceback": [
      "\u001b[0;31m---------------------------------------------------------------------------\u001b[0m",
      "\u001b[0;31mIndexError\u001b[0m                                Traceback (most recent call last)",
      "\u001b[0;32m<ipython-input-21-9dc22d1cbb40>\u001b[0m in \u001b[0;36m<module>\u001b[0;34m\u001b[0m\n\u001b[1;32m      5\u001b[0m         \u001b[0;34m\"iterations\"\u001b[0m\u001b[0;34m:\u001b[0m \u001b[0;36m20\u001b[0m\u001b[0;34m,\u001b[0m\u001b[0;34m\u001b[0m\u001b[0;34m\u001b[0m\u001b[0m\n\u001b[1;32m      6\u001b[0m         \u001b[0;34m\"old_point\"\u001b[0m\u001b[0;34m:\u001b[0m \u001b[0;34m[\u001b[0m\u001b[0;36m0\u001b[0m\u001b[0;34m,\u001b[0m \u001b[0;36m0\u001b[0m\u001b[0;34m,\u001b[0m \u001b[0;36m0\u001b[0m\u001b[0;34m,\u001b[0m \u001b[0;36m1\u001b[0m\u001b[0;34m,\u001b[0m \u001b[0;36m1\u001b[0m\u001b[0;34m]\u001b[0m\u001b[0;34m,\u001b[0m\u001b[0;34m\u001b[0m\u001b[0;34m\u001b[0m\u001b[0m\n\u001b[0;32m----> 7\u001b[0;31m         \u001b[0;34m\"ref_point\"\u001b[0m\u001b[0;34m:\u001b[0m \u001b[0;34m[\u001b[0m\u001b[0;36m0\u001b[0m\u001b[0;34m,\u001b[0m \u001b[0;36m0\u001b[0m\u001b[0;34m,\u001b[0m \u001b[0;36m0\u001b[0m\u001b[0;34m,\u001b[0m \u001b[0;36m1\u001b[0m\u001b[0;34m,\u001b[0m \u001b[0;36m1\u001b[0m\u001b[0;34m]\u001b[0m\u001b[0;34m,\u001b[0m\u001b[0;34m\u001b[0m\u001b[0;34m\u001b[0m\u001b[0m\n\u001b[0m\u001b[1;32m      8\u001b[0m     },\n\u001b[1;32m      9\u001b[0m )\n",
      "\u001b[0;32m~/Projects/pyRVEA/pyrvea/Population/Population.py\u001b[0m in \u001b[0;36mevolve\u001b[0;34m(self, EA, EA_parameters)\u001b[0m\n\u001b[1;32m    231\u001b[0m         \u001b[0;32mfor\u001b[0m \u001b[0mi\u001b[0m \u001b[0;32min\u001b[0m \u001b[0mprogressbar\u001b[0m\u001b[0;34m(\u001b[0m\u001b[0mrange\u001b[0m\u001b[0;34m(\u001b[0m\u001b[0;36m1\u001b[0m\u001b[0;34m,\u001b[0m \u001b[0miterations\u001b[0m\u001b[0;34m)\u001b[0m\u001b[0;34m,\u001b[0m \u001b[0mdesc\u001b[0m\u001b[0;34m=\u001b[0m\u001b[0;34m\"Iteration\"\u001b[0m\u001b[0;34m)\u001b[0m\u001b[0;34m:\u001b[0m\u001b[0;34m\u001b[0m\u001b[0;34m\u001b[0m\u001b[0m\n\u001b[1;32m    232\u001b[0m             \u001b[0mea\u001b[0m\u001b[0;34m.\u001b[0m\u001b[0m_run_interruption\u001b[0m\u001b[0;34m(\u001b[0m\u001b[0mself\u001b[0m\u001b[0;34m)\u001b[0m\u001b[0;34m\u001b[0m\u001b[0;34m\u001b[0m\u001b[0m\n\u001b[0;32m--> 233\u001b[0;31m             \u001b[0mea\u001b[0m\u001b[0;34m.\u001b[0m\u001b[0m_next_iteration\u001b[0m\u001b[0;34m(\u001b[0m\u001b[0mself\u001b[0m\u001b[0;34m)\u001b[0m\u001b[0;34m\u001b[0m\u001b[0;34m\u001b[0m\u001b[0m\n\u001b[0m\u001b[1;32m    234\u001b[0m             \u001b[0;32mif\u001b[0m \u001b[0mself\u001b[0m\u001b[0;34m.\u001b[0m\u001b[0mplotting\u001b[0m\u001b[0;34m:\u001b[0m\u001b[0;34m\u001b[0m\u001b[0;34m\u001b[0m\u001b[0m\n\u001b[1;32m    235\u001b[0m                 \u001b[0mself\u001b[0m\u001b[0;34m.\u001b[0m\u001b[0mplot_objectives\u001b[0m\u001b[0;34m(\u001b[0m\u001b[0;34m)\u001b[0m\u001b[0;34m\u001b[0m\u001b[0;34m\u001b[0m\u001b[0m\n",
      "\u001b[0;32m~/Projects/pyRVEA/pyrvea/EAs/baseEA.py\u001b[0m in \u001b[0;36m_next_iteration\u001b[0;34m(self, population)\u001b[0m\n\u001b[1;32m     72\u001b[0m         \u001b[0mself\u001b[0m\u001b[0;34m.\u001b[0m\u001b[0mparams\u001b[0m\u001b[0;34m[\u001b[0m\u001b[0;34m\"current_iteration_gen_count\"\u001b[0m\u001b[0;34m]\u001b[0m \u001b[0;34m=\u001b[0m \u001b[0;36m1\u001b[0m\u001b[0;34m\u001b[0m\u001b[0;34m\u001b[0m\u001b[0m\n\u001b[1;32m     73\u001b[0m         \u001b[0;32mwhile\u001b[0m \u001b[0mself\u001b[0m\u001b[0;34m.\u001b[0m\u001b[0mcontinue_iteration\u001b[0m\u001b[0;34m(\u001b[0m\u001b[0;34m)\u001b[0m\u001b[0;34m:\u001b[0m\u001b[0;34m\u001b[0m\u001b[0;34m\u001b[0m\u001b[0m\n\u001b[0;32m---> 74\u001b[0;31m             \u001b[0mself\u001b[0m\u001b[0;34m.\u001b[0m\u001b[0m_next_gen\u001b[0m\u001b[0;34m(\u001b[0m\u001b[0mpopulation\u001b[0m\u001b[0;34m)\u001b[0m\u001b[0;34m\u001b[0m\u001b[0;34m\u001b[0m\u001b[0m\n\u001b[0m\u001b[1;32m     75\u001b[0m             \u001b[0mself\u001b[0m\u001b[0;34m.\u001b[0m\u001b[0mparams\u001b[0m\u001b[0;34m[\u001b[0m\u001b[0;34m\"current_iteration_gen_count\"\u001b[0m\u001b[0;34m]\u001b[0m \u001b[0;34m+=\u001b[0m \u001b[0;36m1\u001b[0m\u001b[0;34m\u001b[0m\u001b[0;34m\u001b[0m\u001b[0m\n\u001b[1;32m     76\u001b[0m         \u001b[0mself\u001b[0m\u001b[0;34m.\u001b[0m\u001b[0mparams\u001b[0m\u001b[0;34m[\u001b[0m\u001b[0;34m\"current_iteration_count\"\u001b[0m\u001b[0;34m]\u001b[0m \u001b[0;34m+=\u001b[0m \u001b[0;36m1\u001b[0m\u001b[0;34m\u001b[0m\u001b[0;34m\u001b[0m\u001b[0m\n",
      "\u001b[0;32m~/Projects/pyRVEA/pyrvea/EAs/slowRVEA.py\u001b[0m in \u001b[0;36m_next_gen\u001b[0;34m(self, population)\u001b[0m\n\u001b[1;32m    100\u001b[0m         \u001b[0moffspring\u001b[0m \u001b[0;34m=\u001b[0m \u001b[0mnp\u001b[0m\u001b[0;34m.\u001b[0m\u001b[0mvstack\u001b[0m\u001b[0;34m(\u001b[0m\u001b[0;34m(\u001b[0m\u001b[0moffspring\u001b[0m\u001b[0;34m,\u001b[0m \u001b[0mpopulation\u001b[0m\u001b[0;34m.\u001b[0m\u001b[0mmate\u001b[0m\u001b[0;34m(\u001b[0m\u001b[0;34m)\u001b[0m\u001b[0;34m)\u001b[0m\u001b[0;34m)\u001b[0m\u001b[0;34m\u001b[0m\u001b[0;34m\u001b[0m\u001b[0m\n\u001b[1;32m    101\u001b[0m         \u001b[0mpopulation\u001b[0m\u001b[0;34m.\u001b[0m\u001b[0madd\u001b[0m\u001b[0;34m(\u001b[0m\u001b[0moffspring\u001b[0m\u001b[0;34m)\u001b[0m\u001b[0;34m\u001b[0m\u001b[0;34m\u001b[0m\u001b[0m\n\u001b[0;32m--> 102\u001b[0;31m         \u001b[0mselected\u001b[0m \u001b[0;34m=\u001b[0m \u001b[0mself\u001b[0m\u001b[0;34m.\u001b[0m\u001b[0mselect\u001b[0m\u001b[0;34m(\u001b[0m\u001b[0mpopulation\u001b[0m\u001b[0;34m)\u001b[0m\u001b[0;34m\u001b[0m\u001b[0;34m\u001b[0m\u001b[0m\n\u001b[0m\u001b[1;32m    103\u001b[0m         \u001b[0mpopulation\u001b[0m\u001b[0;34m.\u001b[0m\u001b[0mkeep\u001b[0m\u001b[0;34m(\u001b[0m\u001b[0mselected\u001b[0m\u001b[0;34m)\u001b[0m\u001b[0;34m\u001b[0m\u001b[0;34m\u001b[0m\u001b[0m\n",
      "\u001b[0;32m~/Projects/pyRVEA/pyrvea/EAs/RVEA.py\u001b[0m in \u001b[0;36mselect\u001b[0;34m(self, population)\u001b[0m\n\u001b[1;32m    164\u001b[0m             \u001b[0mvectors\u001b[0m\u001b[0;34m=\u001b[0m\u001b[0mself\u001b[0m\u001b[0;34m.\u001b[0m\u001b[0mparams\u001b[0m\u001b[0;34m[\u001b[0m\u001b[0;34m\"reference_vectors\"\u001b[0m\u001b[0;34m]\u001b[0m\u001b[0;34m,\u001b[0m\u001b[0;34m\u001b[0m\u001b[0;34m\u001b[0m\u001b[0m\n\u001b[1;32m    165\u001b[0m             \u001b[0mpenalty_factor\u001b[0m\u001b[0;34m=\u001b[0m\u001b[0mpenalty_factor\u001b[0m\u001b[0;34m,\u001b[0m\u001b[0;34m\u001b[0m\u001b[0;34m\u001b[0m\u001b[0m\n\u001b[0;32m--> 166\u001b[0;31m             \u001b[0mideal\u001b[0m\u001b[0;34m=\u001b[0m\u001b[0mpopulation\u001b[0m\u001b[0;34m.\u001b[0m\u001b[0mideal_fitness\u001b[0m\u001b[0;34m,\u001b[0m\u001b[0;34m\u001b[0m\u001b[0;34m\u001b[0m\u001b[0m\n\u001b[0m\u001b[1;32m    167\u001b[0m         )\n",
      "\u001b[0;32m~/Projects/pyRVEA/pyrvea/Selection/APD_select.py\u001b[0m in \u001b[0;36mAPD_select\u001b[0;34m(fitness, vectors, penalty_factor, ideal)\u001b[0m\n\u001b[1;32m     37\u001b[0m     \u001b[0mtranslated_fitness\u001b[0m \u001b[0;34m=\u001b[0m \u001b[0mfitness\u001b[0m \u001b[0;34m-\u001b[0m \u001b[0mfmin\u001b[0m\u001b[0;34m\u001b[0m\u001b[0;34m\u001b[0m\u001b[0m\n\u001b[1;32m     38\u001b[0m     \u001b[0mfitness_norm\u001b[0m \u001b[0;34m=\u001b[0m \u001b[0mnp\u001b[0m\u001b[0;34m.\u001b[0m\u001b[0mlinalg\u001b[0m\u001b[0;34m.\u001b[0m\u001b[0mnorm\u001b[0m\u001b[0;34m(\u001b[0m\u001b[0mtranslated_fitness\u001b[0m\u001b[0;34m,\u001b[0m \u001b[0maxis\u001b[0m\u001b[0;34m=\u001b[0m\u001b[0;36m1\u001b[0m\u001b[0;34m)\u001b[0m\u001b[0;34m\u001b[0m\u001b[0;34m\u001b[0m\u001b[0m\n\u001b[0;32m---> 39\u001b[0;31m     fitness_norm = np.repeat(fitness_norm, len(translated_fitness[0, :])).reshape(\n\u001b[0m\u001b[1;32m     40\u001b[0m         \u001b[0mlen\u001b[0m\u001b[0;34m(\u001b[0m\u001b[0mfitness\u001b[0m\u001b[0;34m)\u001b[0m\u001b[0;34m,\u001b[0m \u001b[0mlen\u001b[0m\u001b[0;34m(\u001b[0m\u001b[0mfitness\u001b[0m\u001b[0;34m[\u001b[0m\u001b[0;36m0\u001b[0m\u001b[0;34m,\u001b[0m \u001b[0;34m:\u001b[0m\u001b[0;34m]\u001b[0m\u001b[0;34m)\u001b[0m\u001b[0;34m\u001b[0m\u001b[0;34m\u001b[0m\u001b[0m\n\u001b[1;32m     41\u001b[0m     )\n",
      "\u001b[0;31mIndexError\u001b[0m: index 0 is out of bounds for axis 0 with size 0"
     ]
    }
   ],
   "source": [
    "pop.evolve(\n",
    "    slowRVEA,\n",
    "    {\n",
    "        \"generations_per_iteration\": 15,\n",
    "        \"iterations\": 20,\n",
    "        \"old_point\": [0, 0, 0, 1, 1],\n",
    "        \"ref_point\": [0, 0, 0, 1, 1],\n",
    "    },\n",
    ")"
   ]
  },
  {
   "cell_type": "code",
   "execution_count": 22,
   "metadata": {},
   "outputs": [],
   "source": [
    "archive_df = pop.archive\n",
    "\n",
    "objective_norms = archive_df['objective_values'].apply(lambda x: np.linalg.norm(x))\n",
    "archive_df['objective_norms'] = objective_norms\n",
    "\n",
    "angle_dev_from_1 = archive_df['objective_values'].apply(lambda x: np.degrees(np.arccos(np.dot(x,[1,1,0,0,0])/(np.linalg.norm(x)*np.linalg.norm([1,1,0,0,0])))))\n",
    "angle_dev_from_2 = archive_df['objective_values'].apply(lambda x: np.degrees(np.arccos(np.dot(x,[0,0,0,1,1])/(np.linalg.norm(x)*np.linalg.norm([0,0,0,1,1])))))\n",
    "\n",
    "archive_df['angle_1'] = angle_dev_from_1\n",
    "archive_df['angle_2'] = angle_dev_from_2"
   ]
  },
  {
   "cell_type": "code",
   "execution_count": 23,
   "metadata": {},
   "outputs": [],
   "source": [
    "x = alt.X('generation', scale=alt.Scale(domain=(2800,3600)))\n",
    "y_obj = alt.Y('median(objective_norms)', scale=alt.Scale(domain=(0.8,1.2)))"
   ]
  },
  {
   "cell_type": "code",
<<<<<<< HEAD
   "execution_count": 19,
=======
   "execution_count": 24,
>>>>>>> 2cc84daebe51cce8fe702d1a630b25a78a207f61
   "metadata": {},
   "outputs": [
    {
     "data": {
      "application/javascript": [
<<<<<<< HEAD
       "var spec = {\"config\": {\"view\": {\"width\": 400, \"height\": 300}, \"mark\": {\"tooltip\": null}}, \"data\": {\"url\": \"altair-data-96c8a733ad37406295fbcbb2c411d1ee.json\", \"format\": {\"type\": \"json\"}}, \"mark\": {\"type\": \"line\", \"clip\": true}, \"encoding\": {\"x\": {\"type\": \"quantitative\", \"field\": \"generation\", \"scale\": {\"domain\": [500, 2060]}}, \"y\": {\"type\": \"quantitative\", \"aggregate\": \"median\", \"field\": \"angle_1\"}}, \"title\": \"Median Angular Deviation of objective vectors from Reference Point 1\", \"$schema\": \"https://vega.github.io/schema/vega-lite/v3.2.1.json\"};\n",
       "var opt = {};\n",
       "var type = \"vega-lite\";\n",
       "var id = \"c943636d-b85a-4032-b3ae-658d385766df\";\n",
=======
       "var spec = {\"config\": {\"view\": {\"width\": 400, \"height\": 300}, \"mark\": {\"tooltip\": null}}, \"layer\": [{\"data\": {\"url\": \"altair-data-55d4fce32e288f063dace6f520b19791.json\", \"format\": {\"type\": \"json\"}}, \"mark\": {\"type\": \"line\", \"clip\": true}, \"encoding\": {\"x\": {\"type\": \"quantitative\", \"field\": \"generation\", \"scale\": {\"domain\": [2800, 3600]}}, \"y\": {\"type\": \"quantitative\", \"aggregate\": \"median\", \"field\": \"objective_norms\", \"scale\": {\"domain\": [0.8, 1.2]}}}, \"title\": \"Median Magnitude of objective vectors\"}, {\"data\": {\"url\": \"altair-data-956c7a22abcc7a20d30a6e8591fb6274.json\", \"format\": {\"type\": \"json\"}}, \"mark\": \"rule\", \"encoding\": {\"x\": {\"type\": \"quantitative\", \"axis\": {\"title\": \"generation\"}, \"field\": \"line1\"}}}, {\"data\": {\"url\": \"altair-data-956c7a22abcc7a20d30a6e8591fb6274.json\", \"format\": {\"type\": \"json\"}}, \"mark\": \"rule\", \"encoding\": {\"x\": {\"type\": \"quantitative\", \"axis\": {\"title\": \"generation\"}, \"field\": \"line2\"}}}], \"$schema\": \"https://vega.github.io/schema/vega-lite/v3.2.1.json\"};\n",
       "var opt = {};\n",
       "var type = \"vega-lite\";\n",
       "var id = \"0e4254ba-f669-497c-9d08-da4980783b34\";\n",
>>>>>>> 2cc84daebe51cce8fe702d1a630b25a78a207f61
       "\n",
       "var output_area = this;\n",
       "\n",
       "require([\"nbextensions/jupyter-vega/index\"], function(vega) {\n",
       "  var target = document.createElement(\"div\");\n",
       "  target.id = id;\n",
       "  target.className = \"vega-embed\";\n",
       "\n",
       "  var style = document.createElement(\"style\");\n",
       "  style.textContent = [\n",
       "    \".vega-embed .error p {\",\n",
       "    \"  color: firebrick;\",\n",
       "    \"  font-size: 14px;\",\n",
       "    \"}\",\n",
       "  ].join(\"\\\\n\");\n",
       "\n",
       "  // element is a jQuery wrapped DOM element inside the output area\n",
       "  // see http://ipython.readthedocs.io/en/stable/api/generated/\\\n",
       "  // IPython.display.html#IPython.display.Javascript.__init__\n",
       "  element[0].appendChild(target);\n",
       "  element[0].appendChild(style);\n",
       "\n",
       "  vega.render(\"#\" + id, spec, type, opt, output_area);\n",
       "}, function (err) {\n",
       "  if (err.requireType !== \"scripterror\") {\n",
       "    throw(err);\n",
       "  }\n",
       "});\n"
      ],
      "text/plain": [
<<<<<<< HEAD
       "<vega.vegalite.VegaLite at 0x7f8e65a071d0>"
      ]
     },
     "metadata": {
      "jupyter-vega": "#c943636d-b85a-4032-b3ae-658d385766df"
=======
       "<vega.vegalite.VegaLite at 0x7fa7ab4424a8>"
      ]
     },
     "metadata": {
      "jupyter-vega": "#0e4254ba-f669-497c-9d08-da4980783b34"
>>>>>>> 2cc84daebe51cce8fe702d1a630b25a78a207f61
     },
     "output_type": "display_data"
    },
    {
     "data": {
      "text/plain": []
     },
<<<<<<< HEAD
     "execution_count": 19,
=======
     "execution_count": 24,
>>>>>>> 2cc84daebe51cce8fe702d1a630b25a78a207f61
     "metadata": {},
     "output_type": "execute_result"
    },
    {
     "data": {
<<<<<<< HEAD
      "image/png": "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"
     },
     "metadata": {
      "jupyter-vega": "#c943636d-b85a-4032-b3ae-658d385766df"
     },
     "output_type": "display_data"
    },
    {
     "data": {
      "image/png": "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"
     },
     "metadata": {
      "jupyter-vega": "#c943636d-b85a-4032-b3ae-658d385766df"
=======
      "image/png": "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"
     },
     "metadata": {
      "jupyter-vega": "#0e4254ba-f669-497c-9d08-da4980783b34"
>>>>>>> 2cc84daebe51cce8fe702d1a630b25a78a207f61
     },
     "output_type": "display_data"
    }
   ],
   "source": [
    "line_old = alt.Chart(archive_df).mark_line(clip=True).encode(x=x, y=y_obj).properties(title='Median Magnitude of objective vectors')\n",
    "line_old + line1 + line2"
   ]
  },
  {
   "cell_type": "code",
<<<<<<< HEAD
   "execution_count": 20,
=======
   "execution_count": 37,
>>>>>>> 2cc84daebe51cce8fe702d1a630b25a78a207f61
   "metadata": {},
   "outputs": [
    {
     "data": {
      "application/javascript": [
<<<<<<< HEAD
       "var spec = {\"config\": {\"view\": {\"width\": 400, \"height\": 300}, \"mark\": {\"tooltip\": null}}, \"data\": {\"url\": \"altair-data-96c8a733ad37406295fbcbb2c411d1ee.json\", \"format\": {\"type\": \"json\"}}, \"mark\": {\"type\": \"line\", \"clip\": true}, \"encoding\": {\"x\": {\"type\": \"quantitative\", \"field\": \"generation\", \"scale\": {\"domain\": [500, 2060]}}, \"y\": {\"type\": \"quantitative\", \"aggregate\": \"median\", \"field\": \"angle_2\"}}, \"title\": \"Median Angular Deviation of objective vectors from Reference Point 2\", \"$schema\": \"https://vega.github.io/schema/vega-lite/v3.2.1.json\"};\n",
       "var opt = {};\n",
       "var type = \"vega-lite\";\n",
       "var id = \"350f63d6-5c3c-4ed8-9e4d-d6179b60e199\";\n",
=======
       "var spec = {\"config\": {\"view\": {\"width\": 400, \"height\": 300}, \"mark\": {\"tooltip\": null}}, \"layer\": [{\"data\": {\"url\": \"altair-data-55d4fce32e288f063dace6f520b19791.json\", \"format\": {\"type\": \"json\"}}, \"mark\": {\"type\": \"line\", \"clip\": true}, \"encoding\": {\"x\": {\"type\": \"quantitative\", \"field\": \"generation\", \"scale\": {\"domain\": [2800, 3600]}}, \"y\": {\"type\": \"quantitative\", \"aggregate\": \"median\", \"field\": \"angle_1\"}}, \"title\": \"Median Angular Deviation of objective vectors from Reference Point 1\"}, {\"data\": {\"url\": \"altair-data-956c7a22abcc7a20d30a6e8591fb6274.json\", \"format\": {\"type\": \"json\"}}, \"mark\": \"rule\", \"encoding\": {\"x\": {\"type\": \"quantitative\", \"axis\": {\"title\": \"generation\"}, \"field\": \"line1\"}}}, {\"data\": {\"url\": \"altair-data-956c7a22abcc7a20d30a6e8591fb6274.json\", \"format\": {\"type\": \"json\"}}, \"mark\": \"rule\", \"encoding\": {\"x\": {\"type\": \"quantitative\", \"axis\": {\"title\": \"generation\"}, \"field\": \"line2\"}}}], \"$schema\": \"https://vega.github.io/schema/vega-lite/v3.2.1.json\"};\n",
       "var opt = {};\n",
       "var type = \"vega-lite\";\n",
       "var id = \"912fe5cb-f101-4e5b-b867-94a6510cc9e3\";\n",
>>>>>>> 2cc84daebe51cce8fe702d1a630b25a78a207f61
       "\n",
       "var output_area = this;\n",
       "\n",
       "require([\"nbextensions/jupyter-vega/index\"], function(vega) {\n",
       "  var target = document.createElement(\"div\");\n",
       "  target.id = id;\n",
       "  target.className = \"vega-embed\";\n",
       "\n",
       "  var style = document.createElement(\"style\");\n",
       "  style.textContent = [\n",
       "    \".vega-embed .error p {\",\n",
       "    \"  color: firebrick;\",\n",
       "    \"  font-size: 14px;\",\n",
       "    \"}\",\n",
       "  ].join(\"\\\\n\");\n",
       "\n",
       "  // element is a jQuery wrapped DOM element inside the output area\n",
       "  // see http://ipython.readthedocs.io/en/stable/api/generated/\\\n",
       "  // IPython.display.html#IPython.display.Javascript.__init__\n",
       "  element[0].appendChild(target);\n",
       "  element[0].appendChild(style);\n",
       "\n",
       "  vega.render(\"#\" + id, spec, type, opt, output_area);\n",
       "}, function (err) {\n",
       "  if (err.requireType !== \"scripterror\") {\n",
       "    throw(err);\n",
       "  }\n",
       "});\n"
      ],
      "text/plain": [
<<<<<<< HEAD
       "<vega.vegalite.VegaLite at 0x7f8e6c31bfd0>"
      ]
     },
     "metadata": {
      "jupyter-vega": "#350f63d6-5c3c-4ed8-9e4d-d6179b60e199"
=======
       "<vega.vegalite.VegaLite at 0x7fa7a08b0668>"
      ]
     },
     "metadata": {
      "jupyter-vega": "#912fe5cb-f101-4e5b-b867-94a6510cc9e3"
>>>>>>> 2cc84daebe51cce8fe702d1a630b25a78a207f61
     },
     "output_type": "display_data"
    },
    {
     "data": {
      "text/plain": []
     },
<<<<<<< HEAD
     "execution_count": 20,
=======
     "execution_count": 37,
>>>>>>> 2cc84daebe51cce8fe702d1a630b25a78a207f61
     "metadata": {},
     "output_type": "execute_result"
    },
    {
     "data": {
<<<<<<< HEAD
      "image/png": "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"
     },
     "metadata": {
      "jupyter-vega": "#350f63d6-5c3c-4ed8-9e4d-d6179b60e199"
     },
     "output_type": "display_data"
    },
    {
     "data": {
      "image/png": "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"
     },
     "metadata": {
      "jupyter-vega": "#350f63d6-5c3c-4ed8-9e4d-d6179b60e199"
=======
      "image/png": "iVBORw0KGgoAAAANSUhEUgAAAg4AAAFsCAYAAACkbzH1AAAgAElEQVR4nO3de5SkdX3n8feMoCyKO7jI0ayuaBQQhXWyya6HTCK3JMj06EgWTy6aJeJGTQQGNjKtrIK7ot0uIoorOQZ0vHaDETCLJ+HECyHEmJmJARUFoWfQGe5XFRC51f7xe4p6uqiqfurW9f09vF/n/M5MVT/11O9Tz1PVn37qBpIkSZIkSZIkSZIkSZIkSRq5vYBGMV5ZnHdrcfoNk5rUhNUt/yjzRLttdge+ANxNmteVQ66vSr7lvA2i3d51MOp9JrInU9ZxyO7+dxWtX+hntP3s46WffXXI6+lUHL4CfAv4nSHX3Y9PlebxpWW83k7GvbOUt+3DpDv1VuA9wDPHcH2DbM9LSfP72AjWNU7/gzTP24B3AMcMub4q234ct0Eut/cwumVcbqPeZ0at/PjQAH4KXA386QDrip51HNpvv58D1wGnA7v1ua5RPnZ28rukMncfrfkOpRz+LuDpxfn/Drif8RaH5bYHi2+4h4C9JzQXGF1xeGqX85vb9g5SYbidVvYbgF8a8npHIcqD/FLOI83zghGtb1J/YeRyew9j1Bm73b+W0s8+M+h1DKP5+LCT9IvrBlqPD+v6XNeo7x+TuD36Vb79LgU207r9PrEM19/Pfv5e4NvA3zPi4nBn8e/bi/Pf3XZ+uTjsCXwYuJ5ULr4PbACeUlrml4vL3Af8APh9nlgc2h88Pw5sL9b5EGlHfnfbfJuX+WCx/p8Uy01VyPoWWr9Itxf/f8cA638R8HdLZHukOL22OP280jL7jyD/e0k7wS+AN3bJ29y2nyud91+LdbffyZfapp8oLvOF0mUOonU047kD5Pkeixt7c3+jw7qeBXykWMcDpGb/QRYfORl031hq3Zd3mOdfDLG+8lzfBVxG+mvl+8BrOizTvA2q3O9WATPAtcU67wA+Wfys6u1dZVtXmUu7Ua130Iz9bJf2+9eGYvmfAz8rzaubyzvMo7nPdLuOKvNrPh6/u7iOB0l/qb4E+J/FbXE78L4ec2tqf3zYjdYfi+8tLbfUNumVtcr27HZ79HPZXvf5XvtL1Tl20unx9fMs3uegv/3uDW2nu+XqtZ/3sr60/FCa4T9aTG6B9HzVrcX4SxYXh12B7xTnbQFOI90QDdKN31ymed4O0o15R2nC3YrDlcBnSXeKc0h3igbwptJ8m5d5qFjmq8Xpe4p597KlWPZc0o7UIO1MZUutv5ztR8Am0uG5bsXhqOJ0leLQT/7HgH8oll9LZ512bGg9gD9Y5KmyTX+1OP0A6cgNwJnFeRcNmGcjsK047yrgbFoPeOV1PZXWHWUb6a+bm4rT/wSsbLtMP/tGlXW/nfRg0ihul7Ppfih2kLleDHyzOP0IcGCH26Dq/e7q4ryfAp8G5orrheq391LbuspcOhnFegfN2O92Kd+/TizOu4N0GPp9pKc5P94ja699ptN1vLbi/JrF4WHgb4BbitN3AzcDf0vrceawHvODxY8PK4BX0HrcOrpYpso26Za16n7S6fZ4TZ+X7fV43Wt/GXRfbr/9IB29/hatbQj973ftxaFbrl735V5GXhzeB5xV/L95COTdpMMg5eIwRWvHfQnpKYh1tEI+AziiNLn9isutK53XrTg0nxdaSXrKZFPx8/nSfJuXOas4Xf6F/B975DyotNyrSHeS5unf6GP9v1U6/eJimSM7ZGveAY/ssJ5uxaGf/FUOCXYrDs3nIxuknb3KNgX4l+K8Y0lt/Oa2jIPk6Xa4rbyu8r7zguLn/6l03pq2y/Szb1Rdd6e5D7O+5lw/WpxeAXy3OO/stmXeQLVt1FymUVxn066l/1e5vaH3tq66v3Qy7HoHzdjvdinfv15VnLeTVHp/nVbx6WUTnfeZTtdRdX7N4tAsLW8vLfOy4rzmfrRxifm1P0ffIP1FflJpmarbulPWqpftdHv0e9lu9/ml9pdh9uVOt19zvKVYpt/9rr049HosG+QpubEUhxfQ+oX3AOlGbC8Of0b3G6u5876J1k7Y9O9Ly3QqDiuA/036K/7RtnV+o7Se5mX+W3F6D564ETo5p1jmJlot7wfFeZ/uY/2dspU3arfisE9pmU7Fod/8b+6RtanqEYcq2xTgrcXpr5NexNMgPRXRqTVXzVPlF1lzfj8r/fxppfX9Qdtl+tk3qq57E51/CQy6vuZcjystN1+c1+kITpVt1FzmgR7zq1ocem3rqvtLJ8Oud9CM/W6X8v1rJek+84vS8g8BH+gxB1i6OJSvo+r8msXhj4vTzadJ7y9d7h9oPab30nx8WCAd9fppcfoyYJe2eS21rTtlrXrZXrdH1ct2u88vtb8Msy+3v8bhi6Rf9P+lw/qr7nftxaHXY1mY4gCtB69zi9PtxaHZoH5BOkR+RGmsJTW08l/lzRcfrimd16k4NAM9QHp+aw1wSXHe5aX5tt/Az+CJN2i73Wi9TajTeAD4txXXXz6a8qJimaM6ZLuXxTvGa0rLdCoOg+bvpVNx+F1ar3G4sDivyjaF9JzcfaRDit8oLnNql7lVzdM8r/2wb7cjDv+h+PmvlM77jQ6XgWr7RtV1b6LzL4FB19eca/lwaPOQaacjDlW2Ufmvq18prbf813iV2xt6b+uq+0snw6530IyD7kOQSjCkB/zVtJ66aNB63OhkE533mU7XUXV+d7Zd9veK0/eW1nUlix/Tu2l/fPhVWn/wnNg2r6W2daesVS/b6/bo97Lt9/ml9pdh9uVuf5iVDbrfVXks63Zf7mVsxeG5pBttr+J0e3F4KnBNcd4/k57O+ADw/0jP5UDaKNcXy1wJ/Dmtv+67FYffLf5/P+mvsLeRXnMxiuLwh6VlLiXd4JcAXyY9gDWK66uy/vbXOHyOzq/f+Lvi9HXALItfB9GpOAyav5fyuyq2tM3hBlrvqqiyTZvOL62j+YK2TnOrmucjxXm3kI4KvaXDup5K6znUBdLrbnaW5tvtecIq+0bVdW+iWnHod64PkQrcFcXpR2kdimy/Darc75rP5/6EdCTtsyx+T32V27up27buZ3/pZJj1Dppx0H0I0l+Q3y3W9S5a+8JPWVxY2jWXq1Icqs5vnMUB4DPFebeT7j9Vt3WnrFUv2+32GOSynR6ve+0vw+zLVYrDoPtdlceybvflTtaSttHXS+vZVIzndrtQL+3FoV17cYD0Vs0PAT8kHbK/i/SikD8vLfMS4GukQzTXAH9SmnCn4rCS9NfXXaQ7x0WkDTyK4tC8sb7R4WcXFz/7lz7W/8ssflfFH5eW+dVimf1JL365n3Qbl5+L7FQcBs3fS/k5uEdpfY7Du3ni5zhU2aaQHkSb67y47WeD5NkH+MfiOhukF3d1yrkX6c6xUCx7PemFdau6XD9U2zeqrnsT1YpDv3M9lda7Kn4AvK5HnirbqPkK8uY7AO5k8SvI96Ha7Q29t3XV/aWTYdc7aMZB9iGAF5Lu77eRit49pKJ3yBI5N1G9OFSd37iLw4tIZa5B6x1QVbbJJjpnrXLZbrfHIJftdJ9fan8ZdF+uUhxgsP2uSq596LyfdzJdunz72L/H5TRCe7adbv51/ShpJ5RGoXmEptu7ZiRJmfg/pKMp7yUdLmo+wC/Hh36o/laTXmPUIL1G5DmTnY4kaVhvoHXY617S0xxvpfVKZGkYG0hHr64nfWCXJEmSJEmSJEmSJEmSJEmSJOnJ6ETSh+L8EDildP6hpHc1bAfOmMC8JElSMC8nfSzyHqTPiP+n4rwVpE/gOpD09sfNwMETmqMkSQriGBZ/fOks8B7Sh+NsKZ1/POnjOyVJ0pPYS4EbgWeTPqf726QvCJkifUFV03pgbrknJ0mS4jmOVBiuAM4jfQzvOhYXh6MpisPs7OxpMzMzjfI477zzHl5YWGg4Jj8ovlRl0vNw1Gs096up6fmOY9Lzc2Q97lnOX3gavXOAk0lPVWwtnX8CPZ6qmJmZaYx5XstiYWGhDjmaX2GevZpsj7rkaJaH7NVke5hDE/XC4t9XADeTnrZYCWwDDiJ91/pmenxlssUhFItDMDXJYXEIxhyapK8Bt5Deenlk6fzDSV8AtIP0PetdWRxCsTgEU5McFodgzKGsWRxCsTgEU5McFodgzKGsWRxCsTgEU5McFodgzKGsWRxCsTgEU5McFodgzKGsWRxCsTgEU5McFodgzKGsWRxCsTgEU5McFodgzKGsWRxCsTgEU5McFodgzKGsWRxCsTgEU5McFodgzKGsWRxCsTgEU5McFodgzKGsWRxCsTgEU5McFodgzKGsWRxCsTgEU5McFodgzKGsWRxCsTgEU5McFodgzKGsWRxCsTgEU5McFodgzKGsWRxCsTgEU5McFodgzKGsWRxCsTgEU5McFodgzKGsWRxCsTgEU5McFodgzKGsWRxCsTgEU5McFodgzKGsWRxCsTgEU5McFodgzKGsWRxCsTgEU5McFodgzKGsWRxCsTgEU5McFodgzKGsWRxCsTgEU5McFodgzKGsWRxCsTgEU5McFodgzKGsWRxCsTgEU5McFodgzKGsWRxCsTgEU5McFodgzKGsWRxCsTgEU5McFodgzKGsWRxCsTgEU5McFodgzKFJeivwg2JcAuxRnH8ocB2wHTij1wosDqFYHIKpSQ6LQzDm0KTsCdxR/AvwWWADsAJYAA4EdgE2Awd3W4nFIRSLQzA1yWFxCMYcmpRnAXcCzwWeAnwReD2wGthSWu544MxuK7E4hGJxCKYmOSwOwZhDk/Rm4D7gNtJTFQBTpf8DrAfmuq3A4hCKxSGYmuSwOARjDk3KM4B/BJ5HekriQtJrHtaxuDgcTVEcZmdnT5uZmWm0j4WFBUeAQfEAP+l5OOo13K8c4xzL+DtPI/Bq4Cul038AfIb0VMXW0vkn4FMVufCIQzA1yeERh2DMoUl5GXAzsBfpBZGbgFOBlcA24CBgV9KLI9d0W4nFIRSLQzA1yWFxCMYcmqSNwA3A9aQXRzbfjnl4cd4OYKbXCiwOoVgcgqlJDotDMOZQ1iwOoVgcgqlJDotDMOZQ1iwOoVgcgqlJDotDMOZQ1iwOoVgcgqlJDotDMOZQ1iwOoVgcgqlJDotDMOZQ1iwOoVgcgqlJDotDMOZQ1iwOoVgcgqlJDotDMOZQ1iwOoVgcgqlJDotDMOZQ1iwOoVgcgqlJDotDMOZQ1iwOoVgcgqlJDotDMOZQ1iwOoVgcgqlJDotDMOZQ1iwOoVgcgqlJDotDMOZQ1iwOoVgcgqlJDotDMOZQ1iwOoVgcgqlJDotDMOZQ1iwOoVgcgqlJDotDMOZQ1iwOoVgcgqlJDotDMOZQ1iwOoVgcgqlJDotDMOZQ1iwOoVgcgqlJDotDMOZQ1iwOoVgcgqlJDotDMOZQ1iwOoVgcgqlJDotDMOZQ1iwOoVgcgqlJDotDMOZQ1iwOoVgcgqlJDotDMOZQ1iwOoVgcgqlJDotDMOZQ1iwOoVgcgqlJDotDMOZQ1iwOoVgcgqlJDotDMOZQ1iwOoVgcgqlJDotDMObQpOwH7CyNnwOnFD87FLgO2A6c0WslFodQLA7B1CSHxSEYcyiCFcCPgJcU/18ADgR2ATYDB3e7oMUhFItDMDXJYXEIxhyK4DeALcX/V5f+D3A8cGa3C1ocQrE4BFOTHBaHYMyhCM4FTir+PwVcUvrZemCu2wUtDqFYHIKpSQ6LQzDm0KTtAtwGPLc4vY7FxeFoLA65sDgEU5McFodgzKFJWwt8rXR6NbC1dPoEiqcqZmdnT5uZmWm0j4WFBUeAQfEAP+l5OOo13K8c4xzL9HtOI/Z54LjS6ZXANuAgYFfSiyPXdLuwRxxC8YhDMDXJ4RGHYMyhSdoduAtY1Xb+4cD1wA5gptcKLA6hWByCyT3HUe+48BVYHMIxh7JmcQjF4hBM7jmmpucOweIQjjmUNYtDKBaHYHLPYXGIyRzKmsUhFItDMLnnsDjEZA5lzeIQisUhmNxzWBxiMoeyZnEIxeIQTO45LA4xmUNZsziEYnEIJvccFoeYzKGsWRxCsTgEk3sOi0NM5lDWLA6hWByCyT2HxSEmcyhrFodQLA7B5J7D4hCTOZQ1i0MoFodgcs9hcYjJHMqaxSEUi0MwueewOMRkDmXN4hCKxSGY3HNYHGIyh7JmcQjF4hBM7jksDjGZQ1mzOIRicQgm9xwWh5jMoaxZHEKxOASTew6LQ0zmUNYsDqFYHILJPYfFISZzKGsWh1AsDsHknsPiEJM5lDWLQygWh2Byz2FxiMkcyprFIRSLQzC557A4xGQOZc3iEIrFIZjcc1gcYjKHsmZxCMXiEEzuOSwOMZlDWbM4hGJxCCb3HBaHmMyhrFkcQrE4BJN7DotDTOZQ1iwOoVgcgsk9h8UhJnMoaxaHUCwOweSew+IQkzk0Dr8P7FyOK7I4hGJxCCb3HBaHmMyhYezVZWyg2h392cBfA7cC24DVxfmHAtcB24Ezeq3A4hCKxSGY3HNYHGIyh4bRWGIs5UvAu4AVwB7As4r/LwAHArsAm4GDu63A4hCKxSGY3HNYHGIyh4bRAO4hPS1RHnez9B39OcBtpHJQthrYUjp9PHBmt5VYHEKxOASTew6LQ0zm0DBuBGY6nP9mlr6jryEVhM8D3wc+CTwdmAIuKS23HpjrthKLQygWh2Byz2FxiMkcGsYH6Hw04LeBS5e47CHAo6QCsRL4FPBeYB2Li8PRFMVhdnb2tJmZmUb7WFhYcAQYFA/wk56Hoz7jsiuvcr9yjHUM/utPk/Bi4KbS6XXAl0lPVWwtnX8CPlWRC484BJN7Do84xGQOLZfTO5x3FXBQ8f+Pkt5BsZL0DouDgF1JL45c022lFodQLA7B5J7D4hCTObRcOm2gVwLfAX5IeofFM4vzDweuB3bQ+TUUj7M4hGJxCCb3HBaHmMyh5TKWDWRxCMXiEEzuOSwOMZlDy8Xi0ENNdmCLQzC557A4xGQOLReLQw812YEtDsHknsPiEJM5tFwsDj3UZAe2OASTew6LQ0zm0Kg8HTiX9P0SBxT/f+O4r9TiEIrFIZjcc1gcYjKHRuVjtO7gLwfOIr2VcqwsDqFYHILJPYfFISZzaFRuAU4FHiEVh9cB9477Si0OoVgcgsk9h8UhJnNoVH4GvJZWcTgWi0NlNdmBLQ7B5J7D4hCTOTQq3wSuJn3/xHnAXcAV475Si0MoFodgcs9hcYjJHBqVw4Cf07qTPwC8atxXanEIxeIQTO45LA4xmUOjtB9wMnASsO9yXKHFIRSLQzC557A4xGQOZc3iEIrFIZjcc1gcYjKHhnXtEmOsLA6hWByCyT2HxSEmc2hYjSXGWFkcQrE4BJN7DotDTObQsPZaYoyVxSEUi0MwueewOMRkDmXN4hCKxSGY3HNYHGIyh0blvg7jx8D/Bf7NuK7U4hCKxSGY3HNYHGIyh0blEZ74+obmL5L3j+tKLQ6hWByCyT2HxSEmc2hUTgUuAlYV4xLgdOB84IZxXanFIRSLQzC557A4xGQOjcrNwIml0ycAO4HfAh4c15VaHEKxOASTew6LQ0zm0KjsAO4mfZ32h0jfVbGD9C2Zt4/rSi0OoVgcgsk9h8UhJnNoVN7I4tc5PFKc9yfAR8d1pRaHUCwOweSew+IQkzk0SvsDxxdj/+W4QotDKBaHYHLPYXGIyRzK2szMTGNq+oLTRjnWbpz/8NT0/DceHxvnLx71dbSPd577t41F11lhpHmOd179DCwO4eSew+IQkzk0KkcAV5M+v+HB0hirVBzmHQEGPsCHk3sOi0NM5tCo3Ei6cz9M9eJwB+mdFzuB60rnH1qc3g6c0WsFqTjMnT7qse6UC9ZPTc8dMjU9d8hR03PHjuM6yuMLf/PPjeb19THGOqc+x+X4AB9O7jksDjGZQ6NyN7Chz8vc2uG8FcACcCCwC7AZOLjbCnyNQwxT03On4wN8OLnnsDjEZA6Nyl8As6Rf/FV1Kg6rgS2l08cDZ3ZbgcUhhqOm547FB/hwcs9hcYjJHBqV7aQ79+3AtaXRyx3A9cA1wFuK86ZInzrZtB6Y67YCi0MMPsDHlHsO96uYzKFRaXQZvexT/PtC4IfAGmAdi4vD0RTFYXZ29rSZmZlG+1hYWHBMeFx25VWPb/NJz8VRn+F+5Rj3GM2vPw1qry6jqjNJr5FYDWwtnX8CPlURnn8ZxpR7DvermMyhUVkBHAN8ADi7NLrZE9i7+P/epKcrDgdWAtuAg4BdSS+OXNNtJRaHGHyAjyn3HO5XMZlDo/J++nuq4gDSWy5vIr0+Yrr0s8NJr33YAcz0ulKLQww+wMeUew73q5jMoVH5MelrtR8E3kN6Z8Rnxn2lFocY1m+4eBU+wIeTew6LQ0zm0Kg8RDpS8BPgpcDLgO+O+0otDqH4AB9M7jksDjGZQ6PyU+BI4Abgr4ALgPvHfaUWh1B8gA8m9xwWh5jMoVHZCrwTOIfWHf0r475Si0MoPsAHk3sOi0NM5tCoPQ14G3ASsMe4r8ziEMpjQOPI6bl9Jj2RYdVke2Sfw+IQkzmUNYtDKI8BjeLBPms12R7Z57A4xGQOZc3iEIrFIZjcc1gcYjKHsmZxCOUxoLH2lPl+vyU1nJpsj+xzWBxiMoeyZnEIpXnE4fRJT2RYNdke2eewOMRkDg3rRtL3S3wVOGS5r9ziEEoqDhvne33UeBZqsj2yz2FxiMkcGtajwB+R7thvAZ7TNsbK4hBK84jD5ZOeyLBqsj2yz2FxiMkcGtaP6f6V2mPfKBaHUCwOweSew+IQkzk0rGNI32DZIH0p1ffaxlhZHEIpisN89q9zqMn2yD6HxSEmc2hUtgK/vdxXanEIxeIQTO45LA4xmUOjtksxloXFIRSLQzC557A4xGQOjcqzgC8BvyjGF4E9x32lFodQLA7B5J7D4hCTOTQq55Hu3M3i0AA+Me4rtTiEYnEIJvccFoeYzKFRuQU4H9i1GJuAm8Z9pRaHUCwOweSew+IQkzk0KvcBf1I6/WfAz8Z9pRaHUCwOweSew+IQkzk0Kv8M3AHMAh8E7gS+Ne4rtTiEYnEIJvccFoeYzKFR+R1ar21oAA8CR4z7Si0OoVgcgsk9h8UhJnNolF4KnFyM/ZbjCi0OoVgcgsk9h8UhJnMoaxaHUCwOweSew+IQkzmUNYtDKBaHYHLPYXGIyRzKmsUhFItDMLnnsDjEZA5N2krSuy+uLJ13KHAdsB04o9eFLQ6hWByCyT2HxSEmc2jS3gZ8gVZxWAEsAAeSvvNiM3BwtwtbHEKxOASTew6LQ0zm0KgcAVxN+iCoB0ujl72By4Ffp1UcVgNbSsscD5zZbQUWh1AsDsHknsPiEJM5NCo3ku7cD1O9OHwWWAO8klZxmAIuKS2zHpjrtgKLQygWh2Byz2FxiMkcGpW7gQ19LH8o8Oni/+XisI7FxeFoLA65aBWHjfNnT3oyw6jJ9sg+h8UhJnNoVP6C9HHTKyoufyrpS7BuJH1B1oPAX5OeqthaWu4EiqcqZmdnT5uZmWm0j4WFBUeAQfEAPzU93zjx7EsnPh9H/uOyK696fL+a9Fwc9Rwj+N2nIWwn3cFvB64tjSrKRxxWAtuAg0jfsrmZ9HRGRx5xCKX8VMXlk57MMGqyPbLP4RGHmMyhUWl0GVWUiwPA4cD1wA5gptcFLQ6hWByCyT2HxSEmc2hU9uoyxsriEIrFIZjcc1gcYjKHRmUFcAzwAeDs0hgri0MoFodgcs9hcYjJHBqV9zP4UxUDsziEYnEIJvccFoeYzKFR+TFwEendEe8hfYjTZ8Z9pRaHUCwOweSew+IQkzk0Kg+RXtT4E+ClwMuA7477Si0OoVgcgsk9h8UhJnNoVH4KHAncAPwVcAFw/7iv1OIQisUhmNxzWBxiModGZSvwTuAcWnf0r4z7Si0OoVgcgsk9h8UhJnNo1J5G+sbLk4A9xn1lFodQLA7B5J7D4hCTOZQ1i0MoFodgcs9hcYjJHBrWtcDJLP6Y6X4/cnpgFodQLA7B5J7D4hCTOTSsBuljoYf5yOmBWRxCsTgEk3sOi0NM5tCw9gJ2x4+cHkpNdmCLQzC557A4xGQOZc3iEIrFIZjcc1gcYjKHhnXfEmOsLA6hWByCyT2HxSEmc2hYj5RG++sbHhn3lVscQrE4BJN7DotDTObQqJxK+q6KPUmvefgw6YuvxsriEIrFIZjcc1gcYjKHRuVm4MTS6SOB28Z9pRaHUCwOweSew+IQkzk0KjuBe4GPALPF6R3jvlKLQygWh2Byz2FxiMkcGpXjgEdZ/PqGY8d9pRaHUCwOweSew+IQkzk0SgcAJwDHk75ae+wsDqFYHILJPYfFISZzaFSeDpwLbCcViHOBN477Si0OoVgcgsk9h8UhJnNoVD5G6w7+cuAsYPO4r9TiEIrFIZjcc1gcYjKHRuUW0lsyHyEVh9eRXiw5VhaHUCwOweSew+IQkzk0Kj8DXkurOByLxaGymuzAFodgcs9hcYjJHBqVbwJXk95ZcR5wF3DFuK/U4hCKxSGY3HNYHGIyh0blMODntO7kDwCvGveVWhxCsTgEk3sOi0NM5tAo7QecDJwE7LvEsitJL568EfgRcCawovjZocB1pHdonNFrJRaHUCwOweSew+IQkzk0Sc8p/t2N9FTHkaTysAAcCOxCKhcHd1uBxSEUi0MwueewOMRkDg3r3iVGFbsD3yIVh9XAltLPjicdjejI4hCKxSGY3HNYHGIyh4bVWGIs5RrSayP+knS0YQq4pPTz9cBctwtbHEJ5vDis3Tj/r5OezDBqsj2yz2FxiMkcGtYO0p36WuDtpK/V3q00qlgFfB14JbCOxcXhaIriMDs7e9rMzEyjfSwsLDgCjGI/KI44zE98Po78x2VXXvX4fjXpuTjqOYb/FahB7AK8HriSdAe/i/TtmL/U53o2Au8jPVWxtXT+CfhURS5KT1XMZ52nJtsj+xwecYjJHBql19N6S+b0EsvuDbyg+P8q0osj/5D0bottwEtnKD4AAA/BSURBVEHArqQXR67pthKLQygWh2Byz2FxiMkcGtYK4HeAS0m/OO4HPgG8aInL7Qt8B7iZ9HbM99N6O+bhwPWkp0Fmeq3E4hCKxSGY3HNYHGIyh4Z1HelOvR14B+k1DsvG4hCKxSGY3HNYHGIyh4bVvFP/Aniwwxgri0MoFodgcs9hcYjJHBrWI0uMsbI4hGJxCCb3HBaHmMyhrFkcQrE4BJN7DotDTOZQ1iwOoVgcgsk9h8UhJnMoaxaHUCwOweSew+IQkzmUNYtDKBaHYHLPYXGIyRzKmsUhFItDMLnnOGp67lgsDuGYQ1mzOIRicQgm9xxT03OnY3EIxxzKmsUhFItDMLnnsDjEZA5lzeIQisUhmNxzWBxiMoeyZnEIZVFxWLtx/l/Xb7h41aQnNYiabI/sc1gcYjKHsmZxCGVRcUhj7vRJT2oQNdke2eewOMRkDmXN4hDKYxQP8FPTc6dbHCYv9xwWh5jMoaxZHEKxOASTew6LQ0zmUNYsDqFYHILJPYfFISZzKGsWh1AsDsHknsPiEJM5lDWLQygWh2Byz2FxiMkcyprFIZRycTikKA6XT3ZKg6nJ9sg+h8UhJnMoaxaHUCwOweSew+IQkzmUNYtDKBaHYHLPYXGIyRzKmsUhFItDMLnnsDjEZA5lzeIQisUhmNxzWBxiMoeyZnEIxeIQTO45LA4xmUNZsziEYnEIJvccFoeYzKFJeT7wVWAnsAC8vfSzQ4HrgO3AGb1WYnEIxeIQTO45LA4xmUOT8nzgN4v/700qEAcAK0hF4kBgF2AzcHC3lVgcQrE4BJN7DotDTOZQFF8DjgBWA1tK5x8PnNntQhaHUCwOweSew+IQkzkUwb7ADmAPYAq4pPSz9cBctwtaHEJ5vDgc9Y4LXzE1Pd9Yu3H+Xyc8p4HUZHtkn8PiEJM5NGmrgKuBVxen17G4OBxNURxmZ2dPm5mZabSPhYUFR4BB8QDfPJ2OOMxPfF6OfMfHLrziCfuVwzHKsXy/6jQquwF/D7ypdN5qYGvp9An4VEUuHj/iANAsDhOcz8Bqsj2yz+ERh5jMoUl5CvBl4J1t568EtgEHAbuSXhy5pttKLA6hWByCyT2HxSEmc2hSDiM9GOwsjdcVPzscuJ70uoeZXiuxOITSsThMTV9w2voNF6+a4Lz6VpPtkX0Oi0NM5lDWLA6hdCkO842p6flvTHBefavJ9sg+h8UhJnMoaxaHUDoUh7nLm+Uhp6MONdke2eewOMRkDmXN4hDKouKw9pT5DQCPl4eN8yceOT23z6Qm14+abI/sc1gcYjKHsmZxCGVRcWia2jh/9uNPWWycvyeHpy1qsj2yz2FxiMkcyprFIZSOxWHdKResn5qeu3xq4/xVubzToibbI/scFoeYzKGsWRxC6VgcynJ5vUNNtkf2OSwOMZlDWbM4hFKhODRfLDl3yPJMaTA12R7Z57A4xGQOZc3iEIrFIZjcc1gcYjKHsmZxCMXiEEzuOSwOMZlDWbM4hLJ0cSjeYdF8q2ZUNdke2eewOMRkDmXN4hBKlSMOp7c+TXLu9OWZVv9qsj2yz2FxiMkcyprFIZQli8NR03PHrp2eu9HisDxyz2FxiMkcyprFIZQliwOUjzpYHMYt9xwWh5jMoaxZHEKxOASTew6LQ0zmUNYsDqFYHILJPYfFISZzKGsWh1AsDsHknsPiEJM5lDWLQygWh2Byz2FxiMkcyprFIRSLQzC557A4xGQOZc3iEIrFIZjcc1gcYjKHsmZxCKVqcTikKA6Xj39Kg6nJ9sg+h8UhJnMoaxaHUCwOweSew+IQkzmUNYtDKBaHYHLPYXGIyRzKmsUhFItDMLnnsDjEZA5lzeIQisUhmNxzWBxiMoeyZnEIxeIQTO45LA4xmUOT9DngDuB7becfClwHbAfO6LUCi0MoFodgcs9hcYjJHJqkVwG/xuLisAJYAA4EdgE2Awd3W4HFIRSLQzC557A4xGQOTdqLWVwcVgNbSqePB87sdmGLQygWh2Byz2FxiMkcmrT24jAFXFI6vR6Y63Zhi0MoFodgcs9hcYjJHJq09uKwjsXF4WgsDrmwOASTew6LQ0zm0KR1eqpia+n0CRRPVczOzp42MzPTaB8LCwuOAIPiAX6p5S678qrG1PR848SzL534nB2xx8cuvKLyfuVwDDKW6fecRqy9OKwEtgEHAbuSXhy5ptuFPeIQikccgsk9h0ccYjKHJuki4BbgYWAncFxx/uHA9cAOYKbXCiwOoVgcgsk9h8UhJnMoaxaHUCwOweSew+IQkzmUNYtDKBaHYHLPYXGIyRzKmsUhlErFASAVh/mwmWuyPbLPYXGIyRzKmsUhFItDMLnnsDjEZA5lzeIQisUhmNxzWBxiMoeyZnEIxeIQTO45LA4xmUNZsziEYnEIJvccFoeYzKGsWRxCsTgEk3sOi0NM5lDWLA6hWByCyT2HxSEmcyhrFodQ+i4OU9PzjbXT859au3H+w1Mb508c8/wqq8n2yD6HxSEmcyhrFodQ+igOc5evnZ67sVwgIh2BqMn2yD6HxSEmcyhrFodQKheHpnWnXLB+7SnzG1olYu6Q8UytPzXZHtnnsDjEZA5lzeIQSt/FoWnt9Nym4mmL7VPT899oG42eY+P8PR0uM9TY8JGvNEa9zkmM3HOsnZ7fjsUhHHMoaxaHUAYvDqfMb1iyIDielAOLQzjmUNYsDqEMXByajpye2yd9CVZrrN9w8ap+LzPsuOzKqxqjXuckRh1yjGK/iqIm93NzKG8Wh1B8gA+mJjncr4Ixh7JmcQjFB/hgapLD/SoYcyhrFodQfIAPpiY53K+CMYeyZnEIxQf4YGqSw/0qGHMoaxaHUHyAD6YmOdyvgjGHsmZxCMUH+GBqksP9KhhzKGsWh1B8gA+mJjncr4Ixh7JmcQjFB/hgapLD/SoYcyhrFodQfIAPpiY53K+CMYeyZnEIxQf4YGqSw/0qGHMoaxaHUHyAD6YmOdyvgjGHIjoUuA7YDpzRa0GLQyg+wAdTkxzuV8GYQ9GsABaAA4FdgM3Awd0WtjiE4gN8MDXJ4X4VjDkUzWpgS+n08cCZ3Ra2OITiA3wwNcnhfhWMORTNFHBJ6fR6YK7bwhaHUHyAD6YmOdyvgjGHolnH4uJwNEVxmJ2dPW1mZqZRHmedddZj7ec5HA6Hw7HUOP/88x+eyG85jdxqYGvp9Ak8CZ6qMEcs5ojFHLGYQ9GsBLYBBwG7kl4cuabbwnXZ8OaIxRyxmCMWcyiiw4HrgR3ATK8F67LhzRGLOWIxRyzmUNbqsuHNEYs5YjFHLOZQ1mZnZ0+b9BxGwRyxmCMWc8RiDkmSJEmSJKmT5wNfBXaSPq767V2Weyvwg2JcAuxRnN/tuzEqf2fGgPM5sZjLD4FTKlzvoPMZ1ErSu1puBH5Eelvsig7L9TvfqDk+B9wBfK/t/Jxy9Nr3csrRa5mccpSX/RZwZem83HLcQdqvdhbzaxpHjqpzejbw18CtpHfjrR7jnFQzzwd+s/j/3qQd+4C2ZfYk7fh7Fqc/C2yg+3dj9PWdGQPM5+XADaTy8jTgn4rzxjGfYTyn+Hc34JvAkW0/73e+UXMAvAr4NRYXh9xydNv3csvRbZkccwC8DfgCreKQY45bO5w3zhxV5vQl4F3F9e0BPGvMc1KNfQ04ou28ZwF3As8FngJ8EXg93b8bo6/vzBhgPscA86XTs8B7lmk+g9id9BdT+5233/lGzdH0YhYXh1xzNDX3vZxzlJfJMcfewOXAr9MqDjnm6FQcliNHtzk9B7iNVAKWe06qmX1Jn/+wR4efvRm4j7SzNT/Wutt3Y/T1nRkDzOelpMNwzwaeAXwb+MtlmM8grgF+Xsyv/XBhv/ONmqOpvTjkmgMW73u55mhfJsccnyV9iN0raRWHHHPcQfp8nWuAtxTnjTtHrzmtIRWBzwPfBz4JPH0Z5qSaWQVcDby6w8+eAfwj8DxSQ72Q9JqHbt+N0fU7M0Y0H4DjSIXhCuA84Nwxz2cYq4Cvkx78yvqdb9QcTe3FIdcc7fterjnal8ktx6HAp4v/l4tDbjkA9in+fSHpdVlrWJ4c3eZ0CPBoMY+VwKeA9y7TnFQTuwF/D7ypy89fDXyldPoPgM/Q/bsx+vrOjAHm0+4c4OQxzmcUNgLvazuv3/lGzdHU6amK3HJ02vdyzNFpmdxynArcRDq6eAvwIOnFfLnlaHcm6TViy5Wj05xeTLptm9YBX17GOSlzTyHtMO/s8LN3Af8BeBlwM7AX6ZDXJtKdutt3Y/T1nRkDzAdScwd4RTG3Z49pPoPaG3hB8f9VpBco/WFxupmj3/lGzdHUXhxyy9Ft38stR7dlcstRVj7ikFuOPYvlmstfQ/pqgHHlqHrbXlVcB8BHSe+UiHTbKrDDgAattwrtBF5X/Gwb6ekJSK31BtLzdF+k9bqDbt+NUfk7Mwacz9dIf4Vcx+IX/ox6PoPaF/gOqdT8CHg/recZyzn6nW/UHBeRtsfDpG123BLzjZij176XU45ey+SUo6xcHCCvHAeQHqduIr2VcbrCfIfJUfW2fWWx3A9J77B45hjnpCeJ55Hemx9FtPkMyhyxmCMWc4xPxDlJkiRJkiRJkiRJkiRJkiRJkiRJkp40/hw4ndYXBu1F+jyIayc1IUmSNDnt3yDY7lZSUditOL076QNyTh7npCRJ0mJvJH1K3U7Sx0A/QvqG1qbDSB+n+zPSp+SdQ/qGv+Zf/NuBj5G+En57sXzVy94AfAK4i/TNsJuBe4CHgB+TPp53RbFco210OuLwW6SvN/4Z6RMEP0H6KGIqzleSJPWwP6ko3Ev6QqBLSL9cm8VhX9JXBl8NvBZ4d/Hzc2n9Im4As6S//Bukz+bv57JfBv4U+M+k72aZIn3s7kXFz48B1hZzbJCKzu/xxOKwP+kLmu4kfaXyJ4uf/1Xx86XmK0mSlnA86Zfnh4vTq1hcHE4qTj9KKhiP0PqrvfmL+HZan9H/cJ+X/Qnw1GL5p5GOSNxQnP9gscwHip+3P1XRXhyaReCDxeldgV8UY5cK85UkSUtoFocPFafbi0Pzl/F5wMtL4wA6P1XwYDEGuezbaB0heCnwnuL02cXPb6FacZgtTncrDt3mK0mSltB8quJOUoloPj3QLA77kZ5uuAs4lvQtlh9i8dMN3X4R93vZ5hGKC0hfMb+FxcXhmuL0ScBRHdaxH62nKv6U9LX0DdK3zFJhvpIkqYLmiyNvBv4X8BjphYlNh5G+avknpBcdfhv4I6r9Iu7nss8E/ga4H/ge8BkWF4c30Hq64tou62i+OPK+Ik+nF0daHCRJGsJ/B14DHAGcT/rl+vGJzkiSJIV1DnA36bUA20gvLtx9ojOSJEmSJEmSJEmSJEmSpAz8f9ArZ9JujRmCAAAAAElFTkSuQmCC"
     },
     "metadata": {
      "jupyter-vega": "#912fe5cb-f101-4e5b-b867-94a6510cc9e3"
>>>>>>> 2cc84daebe51cce8fe702d1a630b25a78a207f61
     },
     "output_type": "display_data"
    }
   ],
   "source": [
    "line_angle_1_old = alt.Chart(archive_df).mark_line(clip=True).encode(x=x, y=y_angle_1).properties(title='Median Angular Deviation of objective vectors from Reference Point 1')\n",
    "line_angle_1_old + line1 + line2"
   ]
  },
  {
   "cell_type": "code",
   "execution_count": 38,
   "metadata": {},
   "outputs": [
    {
     "data": {
      "application/javascript": [
       "var spec = {\"config\": {\"view\": {\"width\": 400, \"height\": 300}, \"mark\": {\"tooltip\": null}}, \"layer\": [{\"data\": {\"url\": \"altair-data-55d4fce32e288f063dace6f520b19791.json\", \"format\": {\"type\": \"json\"}}, \"mark\": {\"type\": \"line\", \"clip\": true}, \"encoding\": {\"x\": {\"type\": \"quantitative\", \"field\": \"generation\", \"scale\": {\"domain\": [2800, 3600]}}, \"y\": {\"type\": \"quantitative\", \"aggregate\": \"median\", \"field\": \"angle_2\"}}, \"title\": \"Median Angular Deviation of objective vectors from Reference Point 2\"}, {\"data\": {\"url\": \"altair-data-956c7a22abcc7a20d30a6e8591fb6274.json\", \"format\": {\"type\": \"json\"}}, \"mark\": \"rule\", \"encoding\": {\"x\": {\"type\": \"quantitative\", \"axis\": {\"title\": \"generation\"}, \"field\": \"line1\"}}}, {\"data\": {\"url\": \"altair-data-956c7a22abcc7a20d30a6e8591fb6274.json\", \"format\": {\"type\": \"json\"}}, \"mark\": \"rule\", \"encoding\": {\"x\": {\"type\": \"quantitative\", \"axis\": {\"title\": \"generation\"}, \"field\": \"line2\"}}}], \"$schema\": \"https://vega.github.io/schema/vega-lite/v3.2.1.json\"};\n",
       "var opt = {};\n",
       "var type = \"vega-lite\";\n",
       "var id = \"30fbb4b1-425f-438a-886c-b3cc6180be60\";\n",
       "\n",
       "var output_area = this;\n",
       "\n",
       "require([\"nbextensions/jupyter-vega/index\"], function(vega) {\n",
       "  var target = document.createElement(\"div\");\n",
       "  target.id = id;\n",
       "  target.className = \"vega-embed\";\n",
       "\n",
       "  var style = document.createElement(\"style\");\n",
       "  style.textContent = [\n",
       "    \".vega-embed .error p {\",\n",
       "    \"  color: firebrick;\",\n",
       "    \"  font-size: 14px;\",\n",
       "    \"}\",\n",
       "  ].join(\"\\\\n\");\n",
       "\n",
       "  // element is a jQuery wrapped DOM element inside the output area\n",
       "  // see http://ipython.readthedocs.io/en/stable/api/generated/\\\n",
       "  // IPython.display.html#IPython.display.Javascript.__init__\n",
       "  element[0].appendChild(target);\n",
       "  element[0].appendChild(style);\n",
       "\n",
       "  vega.render(\"#\" + id, spec, type, opt, output_area);\n",
       "}, function (err) {\n",
       "  if (err.requireType !== \"scripterror\") {\n",
       "    throw(err);\n",
       "  }\n",
       "});\n"
      ],
      "text/plain": [
       "<vega.vegalite.VegaLite at 0x7fa7a0310cc0>"
      ]
     },
     "metadata": {
      "jupyter-vega": "#30fbb4b1-425f-438a-886c-b3cc6180be60"
     },
     "output_type": "display_data"
    },
    {
     "data": {
      "text/plain": []
     },
     "execution_count": 38,
     "metadata": {},
     "output_type": "execute_result"
    },
    {
     "data": {
      "image/png": "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"
     },
     "metadata": {
      "jupyter-vega": "#30fbb4b1-425f-438a-886c-b3cc6180be60"
     },
     "output_type": "display_data"
    }
   ],
   "source": [
    "line_angle_2_old = alt.Chart(archive_df).mark_line(clip=True).encode(x=x, y=y_angle_2).properties(title='Median Angular Deviation of objective vectors from Reference Point 2')\n",
    "line_angle_2_old + line1 + line2"
   ]
  },
  {
   "cell_type": "code",
   "execution_count": 36,
   "metadata": {},
   "outputs": [
    {
     "data": {
      "application/javascript": [
       "var spec = {\"config\": {\"view\": {\"width\": 400, \"height\": 300}, \"mark\": {\"tooltip\": null}}, \"data\": {\"url\": \"altair-data-55d4fce32e288f063dace6f520b19791.json\", \"format\": {\"type\": \"json\"}}, \"mark\": {\"type\": \"line\", \"clip\": true}, \"encoding\": {\"x\": {\"type\": \"quantitative\", \"field\": \"generation\", \"scale\": {\"domain\": [2800, 3600]}}, \"y\": {\"type\": \"quantitative\", \"aggregate\": \"count\"}}, \"title\": \"Population Size\", \"$schema\": \"https://vega.github.io/schema/vega-lite/v3.2.1.json\"};\n",
       "var opt = {};\n",
       "var type = \"vega-lite\";\n",
       "var id = \"dd60370e-f86c-48e3-b94e-5e04f9658e1c\";\n",
       "\n",
       "var output_area = this;\n",
       "\n",
       "require([\"nbextensions/jupyter-vega/index\"], function(vega) {\n",
       "  var target = document.createElement(\"div\");\n",
       "  target.id = id;\n",
       "  target.className = \"vega-embed\";\n",
       "\n",
       "  var style = document.createElement(\"style\");\n",
       "  style.textContent = [\n",
       "    \".vega-embed .error p {\",\n",
       "    \"  color: firebrick;\",\n",
       "    \"  font-size: 14px;\",\n",
       "    \"}\",\n",
       "  ].join(\"\\\\n\");\n",
       "\n",
       "  // element is a jQuery wrapped DOM element inside the output area\n",
       "  // see http://ipython.readthedocs.io/en/stable/api/generated/\\\n",
       "  // IPython.display.html#IPython.display.Javascript.__init__\n",
       "  element[0].appendChild(target);\n",
       "  element[0].appendChild(style);\n",
       "\n",
       "  vega.render(\"#\" + id, spec, type, opt, output_area);\n",
       "}, function (err) {\n",
       "  if (err.requireType !== \"scripterror\") {\n",
       "    throw(err);\n",
       "  }\n",
       "});\n"
      ],
      "text/plain": [
       "<vega.vegalite.VegaLite at 0x7fa7a040b518>"
      ]
     },
     "metadata": {
      "jupyter-vega": "#dd60370e-f86c-48e3-b94e-5e04f9658e1c"
     },
     "output_type": "display_data"
    },
    {
     "data": {
      "text/plain": []
     },
     "execution_count": 36,
     "metadata": {},
     "output_type": "execute_result"
    },
    {
     "data": {
      "image/png": "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"
     },
     "metadata": {
      "jupyter-vega": "#dd60370e-f86c-48e3-b94e-5e04f9658e1c"
     },
     "output_type": "display_data"
    }
   ],
   "source": [
    "popcount = alt.Chart(archive_df).mark_line(clip=True).encode(x=x, y=alt.Y('count()')).properties(title='Population Size')\n",
    "popcount"
   ]
  },
  {
   "cell_type": "markdown",
   "metadata": {},
   "source": [
    "# Old RVEA"
   ]
  },
  {
   "cell_type": "code",
   "execution_count": 13,
   "metadata": {},
   "outputs": [],
   "source": [
    "pop = Population(problem, assign_type=\"empty\")"
   ]
  },
  {
   "cell_type": "code",
   "execution_count": 14,
   "metadata": {},
   "outputs": [
    {
     "name": "stdout",
     "output_type": "stream",
     "text": [
      "Plot saved as:  DTLZ3_5.html\n",
      "View the plot by opening the file in browser.\n",
      "To view the plot in Jupyter Notebook, use the IFrame command.\n"
     ]
    },
    {
     "data": {
      "application/vnd.jupyter.widget-view+json": {
       "model_id": "a2af3ad1896649c59ca915a637171f1a",
       "version_major": 2,
       "version_minor": 0
      },
      "text/plain": [
       "HBox(children=(IntProgress(value=0, description='Iteration', max=19, style=ProgressStyle(description_width='in…"
      ]
     },
     "metadata": {},
     "output_type": "display_data"
    },
    {
     "name": "stdout",
     "output_type": "stream",
     "text": [
      "\n"
     ]
    }
   ],
   "source": [
    "pop.evolve(slowRVEA, {\"generations_per_iteration\": 100, \"iterations\": 20})"
   ]
  },
  {
   "cell_type": "code",
   "execution_count": null,
   "metadata": {},
   "outputs": [],
   "source": [
    "pop.evolve(\n",
    "    slowRVEA,\n",
    "    {\n",
    "        \"generations_per_iteration\": 4,\n",
    "        \"iterations\": 20,\n",
    "        \"old_point\": [1, 1, 0, 0, 0],\n",
    "        \"ref_point\": [1, 1, 0, 0, 0],\n",
    "    },\n",
    ")"
   ]
  },
  {
   "cell_type": "code",
   "execution_count": null,
   "metadata": {},
   "outputs": [],
   "source": [
    "pop.evolve(\n",
    "    slowRVEA,\n",
    "    {\n",
    "        \"generations_per_iteration\": 4,\n",
    "        \"iterations\": 20,\n",
    "        \"old_point\": [0, 0, 0, 1, 1],\n",
    "        \"ref_point\": [0, 0, 0, 1, 1],\n",
    "    },\n",
    ")"
   ]
  },
  {
   "cell_type": "code",
   "execution_count": null,
   "metadata": {},
   "outputs": [],
   "source": [
    "archive_df = pop.archive"
   ]
  },
  {
   "cell_type": "code",
   "execution_count": null,
   "metadata": {},
   "outputs": [],
   "source": [
    "objective_norms = archive_df['objective_values'].apply(lambda x: np.linalg.norm(x))\n",
    "archive_df['objective_norms'] = objective_norms"
   ]
  },
  {
   "cell_type": "code",
   "execution_count": null,
   "metadata": {},
   "outputs": [],
   "source": [
    "x = alt.X('generation', scale=alt.Scale(domain=(500,2060)))\n",
    "y_obj = alt.Y('mean(objective_norms)', scale=alt.Scale(type='log',domain=(1,10)))"
   ]
  },
  {
   "cell_type": "code",
   "execution_count": null,
   "metadata": {},
   "outputs": [],
   "source": [
    "line = alt.Chart(archive_df).mark_line(clip=True).encode(x=x, y=y_obj).properties(title='Median Magnitude of objective vectors')\n",
    "band =alt.Chart(archive_df).mark_errorband(extent='ci', clip=True).encode(x=x, y='objective_norms')\n",
    "line"
   ]
  },
  {
   "cell_type": "code",
   "execution_count": null,
   "metadata": {},
   "outputs": [],
   "source": []
  }
 ],
 "metadata": {
  "kernelspec": {
   "display_name": "Python 3",
   "language": "python",
   "name": "python3"
  },
  "language_info": {
   "codemirror_mode": {
    "name": "ipython",
    "version": 3
   },
   "file_extension": ".py",
   "mimetype": "text/x-python",
   "name": "python",
   "nbconvert_exporter": "python",
   "pygments_lexer": "ipython3",
   "version": "3.6.8"
  }
 },
 "nbformat": 4,
 "nbformat_minor": 2
}
