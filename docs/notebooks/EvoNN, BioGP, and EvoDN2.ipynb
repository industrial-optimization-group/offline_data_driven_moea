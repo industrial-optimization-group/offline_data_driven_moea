{
 "cells": [
  {
   "cell_type": "code",
   "execution_count": 2,
   "metadata": {},
   "outputs": [
    {
     "name": "stderr",
     "output_type": "stream",
     "text": [
      "Matplotlib is building the font cache; this may take a moment.\n"
     ]
    }
   ],
   "source": [
    "%matplotlib notebook\n",
    "from desdeo_emo.surrogatemodelling.EvoNN import EvoNN\n",
    "from desdeo_emo.surrogatemodelling.BioGP import BioGP\n",
    "from desdeo_emo.surrogatemodelling.EvoDN2 import EvoDN2\n",
    "import numpy as np\n",
    "import pandas as pd\n",
    "from desdeo_emo.EAs.RVEA import RVEA\n",
    "from desdeo_emo.EAs.NSGAIII import NSGAIII\n",
    "import matplotlib.pyplot as plt"
   ]
  },
  {
   "cell_type": "markdown",
   "metadata": {},
   "source": [
    "# Generating Data\n",
    "\n",
    "Make sure that the initial dataset is in a pandas dataframe"
   ]
  },
  {
   "cell_type": "code",
   "execution_count": 3,
   "metadata": {},
   "outputs": [],
   "source": [
    "X = np.random.rand(100, 3)\n",
    "y = X[:, 0] * X[:, 1] + X[:, 2]\n",
    "y = y.reshape(-1, 1)\n",
    "data = pd.DataFrame(np.hstack((X, y)), columns=[\"x1\", \"x2\", \"x3\", \"y\"])"
   ]
  },
  {
   "cell_type": "markdown",
   "metadata": {},
   "source": [
    "## EvoNN model"
   ]
  },
  {
   "cell_type": "code",
   "execution_count": 4,
   "metadata": {},
   "outputs": [
    {
     "name": "stdout",
     "output_type": "stream",
     "text": [
      "Plot saved as:  EvoNN.html\n",
      "View the plot by opening the file in browser.\n",
      "To view the plot in Jupyter Notebook, use the IFrame command.\n"
     ]
    }
   ],
   "source": [
    "model = EvoNN(pop_size=100)\n",
    "model.fit(data[[\"x1\", \"x2\", \"x3\"]], data['y'])"
   ]
  },
  {
   "cell_type": "code",
   "execution_count": 5,
   "metadata": {},
   "outputs": [],
   "source": [
    "y_pred = model.predict(X)"
   ]
  },
  {
   "cell_type": "code",
   "execution_count": 9,
   "metadata": {},
   "outputs": [
    {
     "data": {
      "text/plain": [
       "{'RMSE': 2.3832945064704994e-08,\n",
       " 'R^2': 0.9999999999999958,\n",
       " 'AICc': -3297.9393934077316}"
      ]
     },
     "execution_count": 9,
     "metadata": {},
     "output_type": "execute_result"
    }
   ],
   "source": [
    "model.performance"
   ]
  },
  {
   "cell_type": "code",
   "execution_count": 10,
   "metadata": {},
   "outputs": [
    {
     "data": {
      "text/plain": [
       "array([0.52999994])"
      ]
     },
     "execution_count": 10,
     "metadata": {},
     "output_type": "execute_result"
    }
   ],
   "source": [
    "model.predict([0.1, 0.3, 0.5])"
   ]
  },
  {
   "cell_type": "markdown",
   "metadata": {},
   "source": [
    "## BioGP model"
   ]
  },
  {
   "cell_type": "code",
   "execution_count": 3,
   "metadata": {},
   "outputs": [
    {
     "name": "stdout",
     "output_type": "stream",
     "text": [
      "Plot saved as:  evoNN.html\n",
      "View the plot by opening the file in browser.\n",
      "To view the plot in Jupyter Notebook, use the IFrame command.\n"
     ]
    }
   ],
   "source": [
    "model2 = BioGP(pop_size=50)\n",
    "model2.fit(data[[\"x1\", \"x2\", \"x3\"]], data['y'])"
   ]
  },
  {
   "cell_type": "code",
   "execution_count": 4,
   "metadata": {},
   "outputs": [
    {
     "data": {
      "text/plain": [
       "{'RMSE': 1.3799853365199568e-16, 'R^2': 1.0}"
      ]
     },
     "execution_count": 4,
     "metadata": {},
     "output_type": "execute_result"
    }
   ],
   "source": [
    "model2.performance"
   ]
  },
  {
   "cell_type": "code",
   "execution_count": 9,
   "metadata": {},
   "outputs": [
    {
     "data": {
      "text/plain": [
       "array([17.])"
      ]
     },
     "execution_count": 9,
     "metadata": {},
     "output_type": "execute_result"
    }
   ],
   "source": [
    "model2.predict([[5,2,7]])"
   ]
  },
  {
   "cell_type": "markdown",
   "metadata": {},
   "source": [
    "## EvoDN2 model"
   ]
  },
  {
   "cell_type": "code",
   "execution_count": 3,
   "metadata": {},
   "outputs": [
    {
     "name": "stdout",
     "output_type": "stream",
     "text": [
      "Plot saved as:  evoNN.html\n",
      "View the plot by opening the file in browser.\n",
      "To view the plot in Jupyter Notebook, use the IFrame command.\n"
     ]
    }
   ],
   "source": [
    "model3 = EvoDN2(training_algorithm=NSGAIII, pop_size=50)\n",
    "model3.fit(data[[\"x1\", \"x2\", \"x3\"]], data['y'])"
   ]
  },
  {
   "cell_type": "code",
   "execution_count": 4,
   "metadata": {},
   "outputs": [
    {
     "data": {
      "text/plain": [
       "{'RMSE': 1.5241947617533335e-08,\n",
       " 'R^2': 0.9999999999999982,\n",
       " 'Complexity': 0.008957883641851067}"
      ]
     },
     "execution_count": 4,
     "metadata": {},
     "output_type": "execute_result"
    }
   ],
   "source": [
    "model3.performance"
   ]
  },
  {
   "cell_type": "code",
   "execution_count": 5,
   "metadata": {},
   "outputs": [
    {
     "data": {
      "text/plain": [
       "array([[16.99995684]])"
      ]
     },
     "execution_count": 5,
     "metadata": {},
     "output_type": "execute_result"
    }
   ],
   "source": [
    "model3.predict(np.asarray([[5,2,7]]))"
   ]
  }
 ],
 "metadata": {
  "kernelspec": {
   "display_name": "desdeo_emo",
   "language": "python",
   "name": "desdeo_emo"
  },
  "language_info": {
   "codemirror_mode": {
    "name": "ipython",
    "version": 3
   },
   "file_extension": ".py",
   "mimetype": "text/x-python",
   "name": "python",
   "nbconvert_exporter": "python",
   "pygments_lexer": "ipython3",
   "version": "3.7.7"
  }
 },
 "nbformat": 4,
 "nbformat_minor": 2
}
