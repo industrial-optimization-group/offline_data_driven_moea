{
 "cells": [
  {
   "cell_type": "code",
   "execution_count": 4,
   "metadata": {},
   "outputs": [
    {
     "name": "stderr",
     "output_type": "stream",
     "text": [
      "2020-08-07 23:16:30,636 - matplotlib.pyplot - DEBUG - Loaded backend nbAgg version unknown.\n"
     ]
    }
   ],
   "source": [
    "%matplotlib notebook"
   ]
  },
  {
   "cell_type": "code",
   "execution_count": 2,
   "metadata": {},
   "outputs": [],
   "source": [
    "import numpy as np\n",
    "import pandas as pd\n",
    "\n",
    "from desdeo_problem.testproblems.TestProblems import test_problem_builder\n",
    "\n",
    "from desdeo_emo.EAs.NIMBUS_EA import NIMBUS_RVEA, NIMBUS_NSGAIII\n",
    "import plotly.express as ex\n",
    "from pygmo import fast_non_dominated_sorting as nds\n",
    "import plotly.graph_objects as go"
   ]
  },
  {
   "cell_type": "code",
   "execution_count": 3,
   "metadata": {},
   "outputs": [],
   "source": [
    "import matplotlib.pyplot as plt"
   ]
  },
  {
   "cell_type": "code",
   "execution_count": 5,
   "metadata": {},
   "outputs": [],
   "source": [
    "problem = test_problem_builder(name=\"ZDT1\")"
   ]
  },
  {
   "cell_type": "code",
   "execution_count": 6,
   "metadata": {},
   "outputs": [],
   "source": [
    "problem.ideal = np.asarray([0, 0])\n",
    "problem.nadir = np.asarray([1, 1])"
   ]
  },
  {
   "cell_type": "code",
   "execution_count": 7,
   "metadata": {},
   "outputs": [],
   "source": [
    "evolver = NIMBUS_NSGAIII(problem, n_gen_per_iter=200)"
   ]
  },
  {
   "cell_type": "code",
   "execution_count": 8,
   "metadata": {},
   "outputs": [],
   "source": [
    "plot, pref = evolver.requests()"
   ]
  },
  {
   "cell_type": "code",
   "execution_count": 9,
   "metadata": {},
   "outputs": [],
   "source": [
    "response = np.asarray([[0.4,0.1]])\n",
    "pref.response = pd.DataFrame(response, columns=pref.content['dimensions_data'].columns)"
   ]
  },
  {
   "cell_type": "code",
   "execution_count": 10,
   "metadata": {},
   "outputs": [],
   "source": [
    "plot, pref = evolver.iterate(pref)"
   ]
  },
  {
   "cell_type": "code",
   "execution_count": 14,
   "metadata": {},
   "outputs": [
    {
     "data": {
      "application/javascript": [
       "/* Put everything inside the global mpl namespace */\n",
       "/* global mpl */\n",
       "window.mpl = {};\n",
       "\n",
       "mpl.get_websocket_type = function () {\n",
       "    if (typeof WebSocket !== 'undefined') {\n",
       "        return WebSocket;\n",
       "    } else if (typeof MozWebSocket !== 'undefined') {\n",
       "        return MozWebSocket;\n",
       "    } else {\n",
       "        alert(\n",
       "            'Your browser does not have WebSocket support. ' +\n",
       "                'Please try Chrome, Safari or Firefox ≥ 6. ' +\n",
       "                'Firefox 4 and 5 are also supported but you ' +\n",
       "                'have to enable WebSockets in about:config.'\n",
       "        );\n",
       "    }\n",
       "};\n",
       "\n",
       "mpl.figure = function (figure_id, websocket, ondownload, parent_element) {\n",
       "    this.id = figure_id;\n",
       "\n",
       "    this.ws = websocket;\n",
       "\n",
       "    this.supports_binary = this.ws.binaryType !== undefined;\n",
       "\n",
       "    if (!this.supports_binary) {\n",
       "        var warnings = document.getElementById('mpl-warnings');\n",
       "        if (warnings) {\n",
       "            warnings.style.display = 'block';\n",
       "            warnings.textContent =\n",
       "                'This browser does not support binary websocket messages. ' +\n",
       "                'Performance may be slow.';\n",
       "        }\n",
       "    }\n",
       "\n",
       "    this.imageObj = new Image();\n",
       "\n",
       "    this.context = undefined;\n",
       "    this.message = undefined;\n",
       "    this.canvas = undefined;\n",
       "    this.rubberband_canvas = undefined;\n",
       "    this.rubberband_context = undefined;\n",
       "    this.format_dropdown = undefined;\n",
       "\n",
       "    this.image_mode = 'full';\n",
       "\n",
       "    this.root = document.createElement('div');\n",
       "    this.root.setAttribute('style', 'display: inline-block');\n",
       "    this._root_extra_style(this.root);\n",
       "\n",
       "    parent_element.appendChild(this.root);\n",
       "\n",
       "    this._init_header(this);\n",
       "    this._init_canvas(this);\n",
       "    this._init_toolbar(this);\n",
       "\n",
       "    var fig = this;\n",
       "\n",
       "    this.waiting = false;\n",
       "\n",
       "    this.ws.onopen = function () {\n",
       "        fig.send_message('supports_binary', { value: fig.supports_binary });\n",
       "        fig.send_message('send_image_mode', {});\n",
       "        if (mpl.ratio !== 1) {\n",
       "            fig.send_message('set_dpi_ratio', { dpi_ratio: mpl.ratio });\n",
       "        }\n",
       "        fig.send_message('refresh', {});\n",
       "    };\n",
       "\n",
       "    this.imageObj.onload = function () {\n",
       "        if (fig.image_mode === 'full') {\n",
       "            // Full images could contain transparency (where diff images\n",
       "            // almost always do), so we need to clear the canvas so that\n",
       "            // there is no ghosting.\n",
       "            fig.context.clearRect(0, 0, fig.canvas.width, fig.canvas.height);\n",
       "        }\n",
       "        fig.context.drawImage(fig.imageObj, 0, 0);\n",
       "    };\n",
       "\n",
       "    this.imageObj.onunload = function () {\n",
       "        fig.ws.close();\n",
       "    };\n",
       "\n",
       "    this.ws.onmessage = this._make_on_message_function(this);\n",
       "\n",
       "    this.ondownload = ondownload;\n",
       "};\n",
       "\n",
       "mpl.figure.prototype._init_header = function () {\n",
       "    var titlebar = document.createElement('div');\n",
       "    titlebar.classList =\n",
       "        'ui-dialog-titlebar ui-widget-header ui-corner-all ui-helper-clearfix';\n",
       "    var titletext = document.createElement('div');\n",
       "    titletext.classList = 'ui-dialog-title';\n",
       "    titletext.setAttribute(\n",
       "        'style',\n",
       "        'width: 100%; text-align: center; padding: 3px;'\n",
       "    );\n",
       "    titlebar.appendChild(titletext);\n",
       "    this.root.appendChild(titlebar);\n",
       "    this.header = titletext;\n",
       "};\n",
       "\n",
       "mpl.figure.prototype._canvas_extra_style = function (_canvas_div) {};\n",
       "\n",
       "mpl.figure.prototype._root_extra_style = function (_canvas_div) {};\n",
       "\n",
       "mpl.figure.prototype._init_canvas = function () {\n",
       "    var fig = this;\n",
       "\n",
       "    var canvas_div = (this.canvas_div = document.createElement('div'));\n",
       "    canvas_div.setAttribute(\n",
       "        'style',\n",
       "        'border: 1px solid #ddd;' +\n",
       "            'box-sizing: content-box;' +\n",
       "            'clear: both;' +\n",
       "            'min-height: 1px;' +\n",
       "            'min-width: 1px;' +\n",
       "            'outline: 0;' +\n",
       "            'overflow: hidden;' +\n",
       "            'position: relative;' +\n",
       "            'resize: both;'\n",
       "    );\n",
       "\n",
       "    function on_keyboard_event_closure(name) {\n",
       "        return function (event) {\n",
       "            return fig.key_event(event, name);\n",
       "        };\n",
       "    }\n",
       "\n",
       "    canvas_div.addEventListener(\n",
       "        'keydown',\n",
       "        on_keyboard_event_closure('key_press')\n",
       "    );\n",
       "    canvas_div.addEventListener(\n",
       "        'keyup',\n",
       "        on_keyboard_event_closure('key_release')\n",
       "    );\n",
       "\n",
       "    this._canvas_extra_style(canvas_div);\n",
       "    this.root.appendChild(canvas_div);\n",
       "\n",
       "    var canvas = (this.canvas = document.createElement('canvas'));\n",
       "    canvas.classList.add('mpl-canvas');\n",
       "    canvas.setAttribute('style', 'box-sizing: content-box;');\n",
       "\n",
       "    this.context = canvas.getContext('2d');\n",
       "\n",
       "    var backingStore =\n",
       "        this.context.backingStorePixelRatio ||\n",
       "        this.context.webkitBackingStorePixelRatio ||\n",
       "        this.context.mozBackingStorePixelRatio ||\n",
       "        this.context.msBackingStorePixelRatio ||\n",
       "        this.context.oBackingStorePixelRatio ||\n",
       "        this.context.backingStorePixelRatio ||\n",
       "        1;\n",
       "\n",
       "    mpl.ratio = (window.devicePixelRatio || 1) / backingStore;\n",
       "\n",
       "    var rubberband_canvas = (this.rubberband_canvas = document.createElement(\n",
       "        'canvas'\n",
       "    ));\n",
       "    rubberband_canvas.setAttribute(\n",
       "        'style',\n",
       "        'box-sizing: content-box; position: absolute; left: 0; top: 0; z-index: 1;'\n",
       "    );\n",
       "\n",
       "    var resizeObserver = new ResizeObserver(function (entries) {\n",
       "        var nentries = entries.length;\n",
       "        for (var i = 0; i < nentries; i++) {\n",
       "            var entry = entries[i];\n",
       "            var width, height;\n",
       "            if (entry.contentBoxSize) {\n",
       "                width = entry.contentBoxSize.inlineSize;\n",
       "                height = entry.contentBoxSize.blockSize;\n",
       "            } else {\n",
       "                width = entry.contentRect.width;\n",
       "                height = entry.contentRect.height;\n",
       "            }\n",
       "\n",
       "            // Keep the size of the canvas and rubber band canvas in sync with\n",
       "            // the canvas container.\n",
       "            canvas.setAttribute('width', width * mpl.ratio);\n",
       "            canvas.setAttribute('height', height * mpl.ratio);\n",
       "            canvas.setAttribute(\n",
       "                'style',\n",
       "                'width: ' + width + 'px; height: ' + height + 'px;'\n",
       "            );\n",
       "\n",
       "            rubberband_canvas.setAttribute('width', width);\n",
       "            rubberband_canvas.setAttribute('height', height);\n",
       "\n",
       "            // And update the size in Python. We ignore the initial 0/0 size\n",
       "            // that occurs as the element is placed into the DOM, which should\n",
       "            // otherwise not happen due to the minimum size styling.\n",
       "            if (width != 0 && height != 0) {\n",
       "                fig.request_resize(width, height);\n",
       "            }\n",
       "        }\n",
       "    });\n",
       "    resizeObserver.observe(canvas_div);\n",
       "\n",
       "    function on_mouse_event_closure(name) {\n",
       "        return function (event) {\n",
       "            return fig.mouse_event(event, name);\n",
       "        };\n",
       "    }\n",
       "\n",
       "    rubberband_canvas.addEventListener(\n",
       "        'mousedown',\n",
       "        on_mouse_event_closure('button_press')\n",
       "    );\n",
       "    rubberband_canvas.addEventListener(\n",
       "        'mouseup',\n",
       "        on_mouse_event_closure('button_release')\n",
       "    );\n",
       "    // Throttle sequential mouse events to 1 every 20ms.\n",
       "    rubberband_canvas.addEventListener(\n",
       "        'mousemove',\n",
       "        on_mouse_event_closure('motion_notify')\n",
       "    );\n",
       "\n",
       "    rubberband_canvas.addEventListener(\n",
       "        'mouseenter',\n",
       "        on_mouse_event_closure('figure_enter')\n",
       "    );\n",
       "    rubberband_canvas.addEventListener(\n",
       "        'mouseleave',\n",
       "        on_mouse_event_closure('figure_leave')\n",
       "    );\n",
       "\n",
       "    canvas_div.addEventListener('wheel', function (event) {\n",
       "        if (event.deltaY < 0) {\n",
       "            event.step = 1;\n",
       "        } else {\n",
       "            event.step = -1;\n",
       "        }\n",
       "        on_mouse_event_closure('scroll')(event);\n",
       "    });\n",
       "\n",
       "    canvas_div.appendChild(canvas);\n",
       "    canvas_div.appendChild(rubberband_canvas);\n",
       "\n",
       "    this.rubberband_context = rubberband_canvas.getContext('2d');\n",
       "    this.rubberband_context.strokeStyle = '#000000';\n",
       "\n",
       "    this._resize_canvas = function (width, height, forward) {\n",
       "        if (forward) {\n",
       "            canvas_div.style.width = width + 'px';\n",
       "            canvas_div.style.height = height + 'px';\n",
       "        }\n",
       "    };\n",
       "\n",
       "    // Disable right mouse context menu.\n",
       "    this.rubberband_canvas.addEventListener('contextmenu', function (_e) {\n",
       "        return false;\n",
       "    });\n",
       "\n",
       "    function set_focus() {\n",
       "        canvas.focus();\n",
       "        canvas_div.focus();\n",
       "    }\n",
       "\n",
       "    window.setTimeout(set_focus, 100);\n",
       "};\n",
       "\n",
       "mpl.figure.prototype._init_toolbar = function () {\n",
       "    var fig = this;\n",
       "\n",
       "    var toolbar = document.createElement('div');\n",
       "    toolbar.classList = 'mpl-toolbar';\n",
       "    this.root.appendChild(toolbar);\n",
       "\n",
       "    function on_click_closure(name) {\n",
       "        return function (_event) {\n",
       "            return fig.toolbar_button_onclick(name);\n",
       "        };\n",
       "    }\n",
       "\n",
       "    function on_mouseover_closure(tooltip) {\n",
       "        return function (event) {\n",
       "            if (!event.currentTarget.disabled) {\n",
       "                return fig.toolbar_button_onmouseover(tooltip);\n",
       "            }\n",
       "        };\n",
       "    }\n",
       "\n",
       "    fig.buttons = {};\n",
       "    var buttonGroup = document.createElement('div');\n",
       "    buttonGroup.classList = 'mpl-button-group';\n",
       "    for (var toolbar_ind in mpl.toolbar_items) {\n",
       "        var name = mpl.toolbar_items[toolbar_ind][0];\n",
       "        var tooltip = mpl.toolbar_items[toolbar_ind][1];\n",
       "        var image = mpl.toolbar_items[toolbar_ind][2];\n",
       "        var method_name = mpl.toolbar_items[toolbar_ind][3];\n",
       "\n",
       "        if (!name) {\n",
       "            /* Instead of a spacer, we start a new button group. */\n",
       "            if (buttonGroup.hasChildNodes()) {\n",
       "                toolbar.appendChild(buttonGroup);\n",
       "            }\n",
       "            buttonGroup = document.createElement('div');\n",
       "            buttonGroup.classList = 'mpl-button-group';\n",
       "            continue;\n",
       "        }\n",
       "\n",
       "        var button = (fig.buttons[name] = document.createElement('button'));\n",
       "        button.classList = 'mpl-widget';\n",
       "        button.setAttribute('role', 'button');\n",
       "        button.setAttribute('aria-disabled', 'false');\n",
       "        button.addEventListener('click', on_click_closure(method_name));\n",
       "        button.addEventListener('mouseover', on_mouseover_closure(tooltip));\n",
       "\n",
       "        var icon_img = document.createElement('img');\n",
       "        icon_img.src = '_images/' + image + '.png';\n",
       "        icon_img.srcset = '_images/' + image + '_large.png 2x';\n",
       "        icon_img.alt = tooltip;\n",
       "        button.appendChild(icon_img);\n",
       "\n",
       "        buttonGroup.appendChild(button);\n",
       "    }\n",
       "\n",
       "    if (buttonGroup.hasChildNodes()) {\n",
       "        toolbar.appendChild(buttonGroup);\n",
       "    }\n",
       "\n",
       "    var fmt_picker = document.createElement('select');\n",
       "    fmt_picker.classList = 'mpl-widget';\n",
       "    toolbar.appendChild(fmt_picker);\n",
       "    this.format_dropdown = fmt_picker;\n",
       "\n",
       "    for (var ind in mpl.extensions) {\n",
       "        var fmt = mpl.extensions[ind];\n",
       "        var option = document.createElement('option');\n",
       "        option.selected = fmt === mpl.default_extension;\n",
       "        option.innerHTML = fmt;\n",
       "        fmt_picker.appendChild(option);\n",
       "    }\n",
       "\n",
       "    var status_bar = document.createElement('span');\n",
       "    status_bar.classList = 'mpl-message';\n",
       "    toolbar.appendChild(status_bar);\n",
       "    this.message = status_bar;\n",
       "};\n",
       "\n",
       "mpl.figure.prototype.request_resize = function (x_pixels, y_pixels) {\n",
       "    // Request matplotlib to resize the figure. Matplotlib will then trigger a resize in the client,\n",
       "    // which will in turn request a refresh of the image.\n",
       "    this.send_message('resize', { width: x_pixels, height: y_pixels });\n",
       "};\n",
       "\n",
       "mpl.figure.prototype.send_message = function (type, properties) {\n",
       "    properties['type'] = type;\n",
       "    properties['figure_id'] = this.id;\n",
       "    this.ws.send(JSON.stringify(properties));\n",
       "};\n",
       "\n",
       "mpl.figure.prototype.send_draw_message = function () {\n",
       "    if (!this.waiting) {\n",
       "        this.waiting = true;\n",
       "        this.ws.send(JSON.stringify({ type: 'draw', figure_id: this.id }));\n",
       "    }\n",
       "};\n",
       "\n",
       "mpl.figure.prototype.handle_save = function (fig, _msg) {\n",
       "    var format_dropdown = fig.format_dropdown;\n",
       "    var format = format_dropdown.options[format_dropdown.selectedIndex].value;\n",
       "    fig.ondownload(fig, format);\n",
       "};\n",
       "\n",
       "mpl.figure.prototype.handle_resize = function (fig, msg) {\n",
       "    var size = msg['size'];\n",
       "    if (size[0] !== fig.canvas.width || size[1] !== fig.canvas.height) {\n",
       "        fig._resize_canvas(size[0], size[1], msg['forward']);\n",
       "        fig.send_message('refresh', {});\n",
       "    }\n",
       "};\n",
       "\n",
       "mpl.figure.prototype.handle_rubberband = function (fig, msg) {\n",
       "    var x0 = msg['x0'] / mpl.ratio;\n",
       "    var y0 = (fig.canvas.height - msg['y0']) / mpl.ratio;\n",
       "    var x1 = msg['x1'] / mpl.ratio;\n",
       "    var y1 = (fig.canvas.height - msg['y1']) / mpl.ratio;\n",
       "    x0 = Math.floor(x0) + 0.5;\n",
       "    y0 = Math.floor(y0) + 0.5;\n",
       "    x1 = Math.floor(x1) + 0.5;\n",
       "    y1 = Math.floor(y1) + 0.5;\n",
       "    var min_x = Math.min(x0, x1);\n",
       "    var min_y = Math.min(y0, y1);\n",
       "    var width = Math.abs(x1 - x0);\n",
       "    var height = Math.abs(y1 - y0);\n",
       "\n",
       "    fig.rubberband_context.clearRect(\n",
       "        0,\n",
       "        0,\n",
       "        fig.canvas.width / mpl.ratio,\n",
       "        fig.canvas.height / mpl.ratio\n",
       "    );\n",
       "\n",
       "    fig.rubberband_context.strokeRect(min_x, min_y, width, height);\n",
       "};\n",
       "\n",
       "mpl.figure.prototype.handle_figure_label = function (fig, msg) {\n",
       "    // Updates the figure title.\n",
       "    fig.header.textContent = msg['label'];\n",
       "};\n",
       "\n",
       "mpl.figure.prototype.handle_cursor = function (fig, msg) {\n",
       "    var cursor = msg['cursor'];\n",
       "    switch (cursor) {\n",
       "        case 0:\n",
       "            cursor = 'pointer';\n",
       "            break;\n",
       "        case 1:\n",
       "            cursor = 'default';\n",
       "            break;\n",
       "        case 2:\n",
       "            cursor = 'crosshair';\n",
       "            break;\n",
       "        case 3:\n",
       "            cursor = 'move';\n",
       "            break;\n",
       "    }\n",
       "    fig.rubberband_canvas.style.cursor = cursor;\n",
       "};\n",
       "\n",
       "mpl.figure.prototype.handle_message = function (fig, msg) {\n",
       "    fig.message.textContent = msg['message'];\n",
       "};\n",
       "\n",
       "mpl.figure.prototype.handle_draw = function (fig, _msg) {\n",
       "    // Request the server to send over a new figure.\n",
       "    fig.send_draw_message();\n",
       "};\n",
       "\n",
       "mpl.figure.prototype.handle_image_mode = function (fig, msg) {\n",
       "    fig.image_mode = msg['mode'];\n",
       "};\n",
       "\n",
       "mpl.figure.prototype.handle_history_buttons = function (fig, msg) {\n",
       "    for (var key in msg) {\n",
       "        if (!(key in fig.buttons)) {\n",
       "            continue;\n",
       "        }\n",
       "        fig.buttons[key].disabled = !msg[key];\n",
       "        fig.buttons[key].setAttribute('aria-disabled', !msg[key]);\n",
       "    }\n",
       "};\n",
       "\n",
       "mpl.figure.prototype.handle_navigate_mode = function (fig, msg) {\n",
       "    if (msg['mode'] === 'PAN') {\n",
       "        fig.buttons['Pan'].classList.add('active');\n",
       "        fig.buttons['Zoom'].classList.remove('active');\n",
       "    } else if (msg['mode'] === 'ZOOM') {\n",
       "        fig.buttons['Pan'].classList.remove('active');\n",
       "        fig.buttons['Zoom'].classList.add('active');\n",
       "    } else {\n",
       "        fig.buttons['Pan'].classList.remove('active');\n",
       "        fig.buttons['Zoom'].classList.remove('active');\n",
       "    }\n",
       "};\n",
       "\n",
       "mpl.figure.prototype.updated_canvas_event = function () {\n",
       "    // Called whenever the canvas gets updated.\n",
       "    this.send_message('ack', {});\n",
       "};\n",
       "\n",
       "// A function to construct a web socket function for onmessage handling.\n",
       "// Called in the figure constructor.\n",
       "mpl.figure.prototype._make_on_message_function = function (fig) {\n",
       "    return function socket_on_message(evt) {\n",
       "        if (evt.data instanceof Blob) {\n",
       "            /* FIXME: We get \"Resource interpreted as Image but\n",
       "             * transferred with MIME type text/plain:\" errors on\n",
       "             * Chrome.  But how to set the MIME type?  It doesn't seem\n",
       "             * to be part of the websocket stream */\n",
       "            evt.data.type = 'image/png';\n",
       "\n",
       "            /* Free the memory for the previous frames */\n",
       "            if (fig.imageObj.src) {\n",
       "                (window.URL || window.webkitURL).revokeObjectURL(\n",
       "                    fig.imageObj.src\n",
       "                );\n",
       "            }\n",
       "\n",
       "            fig.imageObj.src = (window.URL || window.webkitURL).createObjectURL(\n",
       "                evt.data\n",
       "            );\n",
       "            fig.updated_canvas_event();\n",
       "            fig.waiting = false;\n",
       "            return;\n",
       "        } else if (\n",
       "            typeof evt.data === 'string' &&\n",
       "            evt.data.slice(0, 21) === 'data:image/png;base64'\n",
       "        ) {\n",
       "            fig.imageObj.src = evt.data;\n",
       "            fig.updated_canvas_event();\n",
       "            fig.waiting = false;\n",
       "            return;\n",
       "        }\n",
       "\n",
       "        var msg = JSON.parse(evt.data);\n",
       "        var msg_type = msg['type'];\n",
       "\n",
       "        // Call the  \"handle_{type}\" callback, which takes\n",
       "        // the figure and JSON message as its only arguments.\n",
       "        try {\n",
       "            var callback = fig['handle_' + msg_type];\n",
       "        } catch (e) {\n",
       "            console.log(\n",
       "                \"No handler for the '\" + msg_type + \"' message type: \",\n",
       "                msg\n",
       "            );\n",
       "            return;\n",
       "        }\n",
       "\n",
       "        if (callback) {\n",
       "            try {\n",
       "                // console.log(\"Handling '\" + msg_type + \"' message: \", msg);\n",
       "                callback(fig, msg);\n",
       "            } catch (e) {\n",
       "                console.log(\n",
       "                    \"Exception inside the 'handler_\" + msg_type + \"' callback:\",\n",
       "                    e,\n",
       "                    e.stack,\n",
       "                    msg\n",
       "                );\n",
       "            }\n",
       "        }\n",
       "    };\n",
       "};\n",
       "\n",
       "// from http://stackoverflow.com/questions/1114465/getting-mouse-location-in-canvas\n",
       "mpl.findpos = function (e) {\n",
       "    //this section is from http://www.quirksmode.org/js/events_properties.html\n",
       "    var targ;\n",
       "    if (!e) {\n",
       "        e = window.event;\n",
       "    }\n",
       "    if (e.target) {\n",
       "        targ = e.target;\n",
       "    } else if (e.srcElement) {\n",
       "        targ = e.srcElement;\n",
       "    }\n",
       "    if (targ.nodeType === 3) {\n",
       "        // defeat Safari bug\n",
       "        targ = targ.parentNode;\n",
       "    }\n",
       "\n",
       "    // pageX,Y are the mouse positions relative to the document\n",
       "    var boundingRect = targ.getBoundingClientRect();\n",
       "    var x = e.pageX - (boundingRect.left + document.body.scrollLeft);\n",
       "    var y = e.pageY - (boundingRect.top + document.body.scrollTop);\n",
       "\n",
       "    return { x: x, y: y };\n",
       "};\n",
       "\n",
       "/*\n",
       " * return a copy of an object with only non-object keys\n",
       " * we need this to avoid circular references\n",
       " * http://stackoverflow.com/a/24161582/3208463\n",
       " */\n",
       "function simpleKeys(original) {\n",
       "    return Object.keys(original).reduce(function (obj, key) {\n",
       "        if (typeof original[key] !== 'object') {\n",
       "            obj[key] = original[key];\n",
       "        }\n",
       "        return obj;\n",
       "    }, {});\n",
       "}\n",
       "\n",
       "mpl.figure.prototype.mouse_event = function (event, name) {\n",
       "    var canvas_pos = mpl.findpos(event);\n",
       "\n",
       "    if (name === 'button_press') {\n",
       "        this.canvas.focus();\n",
       "        this.canvas_div.focus();\n",
       "    }\n",
       "\n",
       "    var x = canvas_pos.x * mpl.ratio;\n",
       "    var y = canvas_pos.y * mpl.ratio;\n",
       "\n",
       "    this.send_message(name, {\n",
       "        x: x,\n",
       "        y: y,\n",
       "        button: event.button,\n",
       "        step: event.step,\n",
       "        guiEvent: simpleKeys(event),\n",
       "    });\n",
       "\n",
       "    /* This prevents the web browser from automatically changing to\n",
       "     * the text insertion cursor when the button is pressed.  We want\n",
       "     * to control all of the cursor setting manually through the\n",
       "     * 'cursor' event from matplotlib */\n",
       "    event.preventDefault();\n",
       "    return false;\n",
       "};\n",
       "\n",
       "mpl.figure.prototype._key_event_extra = function (_event, _name) {\n",
       "    // Handle any extra behaviour associated with a key event\n",
       "};\n",
       "\n",
       "mpl.figure.prototype.key_event = function (event, name) {\n",
       "    // Prevent repeat events\n",
       "    if (name === 'key_press') {\n",
       "        if (event.which === this._key) {\n",
       "            return;\n",
       "        } else {\n",
       "            this._key = event.which;\n",
       "        }\n",
       "    }\n",
       "    if (name === 'key_release') {\n",
       "        this._key = null;\n",
       "    }\n",
       "\n",
       "    var value = '';\n",
       "    if (event.ctrlKey && event.which !== 17) {\n",
       "        value += 'ctrl+';\n",
       "    }\n",
       "    if (event.altKey && event.which !== 18) {\n",
       "        value += 'alt+';\n",
       "    }\n",
       "    if (event.shiftKey && event.which !== 16) {\n",
       "        value += 'shift+';\n",
       "    }\n",
       "\n",
       "    value += 'k';\n",
       "    value += event.which.toString();\n",
       "\n",
       "    this._key_event_extra(event, name);\n",
       "\n",
       "    this.send_message(name, { key: value, guiEvent: simpleKeys(event) });\n",
       "    return false;\n",
       "};\n",
       "\n",
       "mpl.figure.prototype.toolbar_button_onclick = function (name) {\n",
       "    if (name === 'download') {\n",
       "        this.handle_save(this, null);\n",
       "    } else {\n",
       "        this.send_message('toolbar_button', { name: name });\n",
       "    }\n",
       "};\n",
       "\n",
       "mpl.figure.prototype.toolbar_button_onmouseover = function (tooltip) {\n",
       "    this.message.textContent = tooltip;\n",
       "};\n",
       "mpl.toolbar_items = [[\"Home\", \"Reset original view\", \"fa fa-home icon-home\", \"home\"], [\"Back\", \"Back to previous view\", \"fa fa-arrow-left icon-arrow-left\", \"back\"], [\"Forward\", \"Forward to next view\", \"fa fa-arrow-right icon-arrow-right\", \"forward\"], [\"\", \"\", \"\", \"\"], [\"Pan\", \"Left button pans, Right button zooms\\nx/y fixes axis, CTRL fixes aspect\", \"fa fa-arrows icon-move\", \"pan\"], [\"Zoom\", \"Zoom to rectangle\\nx/y fixes axis, CTRL fixes aspect\", \"fa fa-square-o icon-check-empty\", \"zoom\"], [\"\", \"\", \"\", \"\"], [\"Download\", \"Download plot\", \"fa fa-floppy-o icon-save\", \"download\"]];\n",
       "\n",
       "mpl.extensions = [\"eps\", \"jpeg\", \"pdf\", \"png\", \"ps\", \"raw\", \"svg\", \"tif\"];\n",
       "\n",
       "mpl.default_extension = \"png\";/* global mpl */\n",
       "\n",
       "var comm_websocket_adapter = function (comm) {\n",
       "    // Create a \"websocket\"-like object which calls the given IPython comm\n",
       "    // object with the appropriate methods. Currently this is a non binary\n",
       "    // socket, so there is still some room for performance tuning.\n",
       "    var ws = {};\n",
       "\n",
       "    ws.close = function () {\n",
       "        comm.close();\n",
       "    };\n",
       "    ws.send = function (m) {\n",
       "        //console.log('sending', m);\n",
       "        comm.send(m);\n",
       "    };\n",
       "    // Register the callback with on_msg.\n",
       "    comm.on_msg(function (msg) {\n",
       "        //console.log('receiving', msg['content']['data'], msg);\n",
       "        // Pass the mpl event to the overridden (by mpl) onmessage function.\n",
       "        ws.onmessage(msg['content']['data']);\n",
       "    });\n",
       "    return ws;\n",
       "};\n",
       "\n",
       "mpl.mpl_figure_comm = function (comm, msg) {\n",
       "    // This is the function which gets called when the mpl process\n",
       "    // starts-up an IPython Comm through the \"matplotlib\" channel.\n",
       "\n",
       "    var id = msg.content.data.id;\n",
       "    // Get hold of the div created by the display call when the Comm\n",
       "    // socket was opened in Python.\n",
       "    var element = document.getElementById(id);\n",
       "    var ws_proxy = comm_websocket_adapter(comm);\n",
       "\n",
       "    function ondownload(figure, _format) {\n",
       "        window.open(figure.canvas.toDataURL());\n",
       "    }\n",
       "\n",
       "    var fig = new mpl.figure(id, ws_proxy, ondownload, element);\n",
       "\n",
       "    // Call onopen now - mpl needs it, as it is assuming we've passed it a real\n",
       "    // web socket which is closed, not our websocket->open comm proxy.\n",
       "    ws_proxy.onopen();\n",
       "\n",
       "    fig.parent_element = element;\n",
       "    fig.cell_info = mpl.find_output_cell(\"<div id='\" + id + \"'></div>\");\n",
       "    if (!fig.cell_info) {\n",
       "        console.error('Failed to find cell for figure', id, fig);\n",
       "        return;\n",
       "    }\n",
       "};\n",
       "\n",
       "mpl.figure.prototype.handle_close = function (fig, msg) {\n",
       "    var width = fig.canvas.width / mpl.ratio;\n",
       "    fig.root.removeEventListener('remove', this._remove_fig_handler);\n",
       "\n",
       "    // Update the output cell to use the data from the current canvas.\n",
       "    fig.push_to_output();\n",
       "    var dataURL = fig.canvas.toDataURL();\n",
       "    // Re-enable the keyboard manager in IPython - without this line, in FF,\n",
       "    // the notebook keyboard shortcuts fail.\n",
       "    IPython.keyboard_manager.enable();\n",
       "    fig.parent_element.innerHTML =\n",
       "        '<img src=\"' + dataURL + '\" width=\"' + width + '\">';\n",
       "    fig.close_ws(fig, msg);\n",
       "};\n",
       "\n",
       "mpl.figure.prototype.close_ws = function (fig, msg) {\n",
       "    fig.send_message('closing', msg);\n",
       "    // fig.ws.close()\n",
       "};\n",
       "\n",
       "mpl.figure.prototype.push_to_output = function (_remove_interactive) {\n",
       "    // Turn the data on the canvas into data in the output cell.\n",
       "    var width = this.canvas.width / mpl.ratio;\n",
       "    var dataURL = this.canvas.toDataURL();\n",
       "    this.cell_info[1]['text/html'] =\n",
       "        '<img src=\"' + dataURL + '\" width=\"' + width + '\">';\n",
       "};\n",
       "\n",
       "mpl.figure.prototype.updated_canvas_event = function () {\n",
       "    // Tell IPython that the notebook contents must change.\n",
       "    IPython.notebook.set_dirty(true);\n",
       "    this.send_message('ack', {});\n",
       "    var fig = this;\n",
       "    // Wait a second, then push the new image to the DOM so\n",
       "    // that it is saved nicely (might be nice to debounce this).\n",
       "    setTimeout(function () {\n",
       "        fig.push_to_output();\n",
       "    }, 1000);\n",
       "};\n",
       "\n",
       "mpl.figure.prototype._init_toolbar = function () {\n",
       "    var fig = this;\n",
       "\n",
       "    var toolbar = document.createElement('div');\n",
       "    toolbar.classList = 'btn-toolbar';\n",
       "    this.root.appendChild(toolbar);\n",
       "\n",
       "    function on_click_closure(name) {\n",
       "        return function (_event) {\n",
       "            return fig.toolbar_button_onclick(name);\n",
       "        };\n",
       "    }\n",
       "\n",
       "    function on_mouseover_closure(tooltip) {\n",
       "        return function (event) {\n",
       "            if (!event.currentTarget.disabled) {\n",
       "                return fig.toolbar_button_onmouseover(tooltip);\n",
       "            }\n",
       "        };\n",
       "    }\n",
       "\n",
       "    fig.buttons = {};\n",
       "    var buttonGroup = document.createElement('div');\n",
       "    buttonGroup.classList = 'btn-group';\n",
       "    var button;\n",
       "    for (var toolbar_ind in mpl.toolbar_items) {\n",
       "        var name = mpl.toolbar_items[toolbar_ind][0];\n",
       "        var tooltip = mpl.toolbar_items[toolbar_ind][1];\n",
       "        var image = mpl.toolbar_items[toolbar_ind][2];\n",
       "        var method_name = mpl.toolbar_items[toolbar_ind][3];\n",
       "\n",
       "        if (!name) {\n",
       "            /* Instead of a spacer, we start a new button group. */\n",
       "            if (buttonGroup.hasChildNodes()) {\n",
       "                toolbar.appendChild(buttonGroup);\n",
       "            }\n",
       "            buttonGroup = document.createElement('div');\n",
       "            buttonGroup.classList = 'btn-group';\n",
       "            continue;\n",
       "        }\n",
       "\n",
       "        button = fig.buttons[name] = document.createElement('button');\n",
       "        button.classList = 'btn btn-default';\n",
       "        button.href = '#';\n",
       "        button.title = name;\n",
       "        button.innerHTML = '<i class=\"fa ' + image + ' fa-lg\"></i>';\n",
       "        button.addEventListener('click', on_click_closure(method_name));\n",
       "        button.addEventListener('mouseover', on_mouseover_closure(tooltip));\n",
       "        buttonGroup.appendChild(button);\n",
       "    }\n",
       "\n",
       "    if (buttonGroup.hasChildNodes()) {\n",
       "        toolbar.appendChild(buttonGroup);\n",
       "    }\n",
       "\n",
       "    // Add the status bar.\n",
       "    var status_bar = document.createElement('span');\n",
       "    status_bar.classList = 'mpl-message pull-right';\n",
       "    toolbar.appendChild(status_bar);\n",
       "    this.message = status_bar;\n",
       "\n",
       "    // Add the close button to the window.\n",
       "    var buttongrp = document.createElement('div');\n",
       "    buttongrp.classList = 'btn-group inline pull-right';\n",
       "    button = document.createElement('button');\n",
       "    button.classList = 'btn btn-mini btn-primary';\n",
       "    button.href = '#';\n",
       "    button.title = 'Stop Interaction';\n",
       "    button.innerHTML = '<i class=\"fa fa-power-off icon-remove icon-large\"></i>';\n",
       "    button.addEventListener('click', function (_evt) {\n",
       "        fig.handle_close(fig, {});\n",
       "    });\n",
       "    button.addEventListener(\n",
       "        'mouseover',\n",
       "        on_mouseover_closure('Stop Interaction')\n",
       "    );\n",
       "    buttongrp.appendChild(button);\n",
       "    var titlebar = this.root.querySelector('.ui-dialog-titlebar');\n",
       "    titlebar.insertBefore(buttongrp, titlebar.firstChild);\n",
       "};\n",
       "\n",
       "mpl.figure.prototype._remove_fig_handler = function () {\n",
       "    this.close_ws(this, {});\n",
       "};\n",
       "\n",
       "mpl.figure.prototype._root_extra_style = function (el) {\n",
       "    el.style.boxSizing = 'content-box'; // override notebook setting of border-box.\n",
       "    el.addEventListener('remove', this._remove_fig_handler);\n",
       "};\n",
       "\n",
       "mpl.figure.prototype._canvas_extra_style = function (el) {\n",
       "    // this is important to make the div 'focusable\n",
       "    el.setAttribute('tabindex', 0);\n",
       "    // reach out to IPython and tell the keyboard manager to turn it's self\n",
       "    // off when our div gets focus\n",
       "\n",
       "    // location in version 3\n",
       "    if (IPython.notebook.keyboard_manager) {\n",
       "        IPython.notebook.keyboard_manager.register_events(el);\n",
       "    } else {\n",
       "        // location in version 2\n",
       "        IPython.keyboard_manager.register_events(el);\n",
       "    }\n",
       "};\n",
       "\n",
       "mpl.figure.prototype._key_event_extra = function (event, _name) {\n",
       "    var manager = IPython.notebook.keyboard_manager;\n",
       "    if (!manager) {\n",
       "        manager = IPython.keyboard_manager;\n",
       "    }\n",
       "\n",
       "    // Check for shift+enter\n",
       "    if (event.shiftKey && event.which === 13) {\n",
       "        this.canvas_div.blur();\n",
       "        // select the cell after this one\n",
       "        var index = IPython.notebook.find_cell_index(this.cell_info[0]);\n",
       "        IPython.notebook.select(index + 1);\n",
       "    }\n",
       "};\n",
       "\n",
       "mpl.figure.prototype.handle_save = function (fig, _msg) {\n",
       "    fig.ondownload(fig, null);\n",
       "};\n",
       "\n",
       "mpl.find_output_cell = function (html_output) {\n",
       "    // Return the cell and output element which can be found *uniquely* in the notebook.\n",
       "    // Note - this is a bit hacky, but it is done because the \"notebook_saving.Notebook\"\n",
       "    // IPython event is triggered only after the cells have been serialised, which for\n",
       "    // our purposes (turning an active figure into a static one), is too late.\n",
       "    var cells = IPython.notebook.get_cells();\n",
       "    var ncells = cells.length;\n",
       "    for (var i = 0; i < ncells; i++) {\n",
       "        var cell = cells[i];\n",
       "        if (cell.cell_type === 'code') {\n",
       "            for (var j = 0; j < cell.output_area.outputs.length; j++) {\n",
       "                var data = cell.output_area.outputs[j];\n",
       "                if (data.data) {\n",
       "                    // IPython >= 3 moved mimebundle to data attribute of output\n",
       "                    data = data.data;\n",
       "                }\n",
       "                if (data['text/html'] === html_output) {\n",
       "                    return [cell, data, j];\n",
       "                }\n",
       "            }\n",
       "        }\n",
       "    }\n",
       "};\n",
       "\n",
       "// Register the function which deals with the matplotlib target/channel.\n",
       "// The kernel may be null if the page has been refreshed.\n",
       "if (IPython.notebook.kernel !== null) {\n",
       "    IPython.notebook.kernel.comm_manager.register_target(\n",
       "        'matplotlib',\n",
       "        mpl.mpl_figure_comm\n",
       "    );\n",
       "}\n"
      ],
      "text/plain": [
       "<IPython.core.display.Javascript object>"
      ]
     },
     "metadata": {},
     "output_type": "display_data"
    },
    {
     "data": {
      "text/html": [
       "<img src=\"data:image/png;base64,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\" width=\"480\">"
      ],
      "text/plain": [
       "<IPython.core.display.HTML object>"
      ]
     },
     "metadata": {},
     "output_type": "display_data"
    },
    {
     "name": "stderr",
     "output_type": "stream",
     "text": [
      "C:\\Projects\\.virtualenvs\\desdeo_emo\\lib\\site-packages\\numpy\\core\\_asarray.py:136: VisibleDeprecationWarning: Creating an ndarray from ragged nested sequences (which is a list-or-tuple of lists-or-tuples-or ndarrays with different lengths or shapes) is deprecated. If you meant to do this, you must specify 'dtype=object' when creating the ndarray\n",
      "  return array(a, dtype, copy=False, order=order, subok=True)\n",
      "2020-08-07 23:17:23,236 - matplotlib.font_manager - DEBUG - findfont: Matching serif:style=normal:variant=normal:weight=normal:stretch=normal:size=10.0.\n",
      "2020-08-07 23:17:23,237 - matplotlib.font_manager - DEBUG - findfont: score(<Font 'STIXSizeThreeSym' (STIXSizThreeSymReg.ttf) normal normal 400 normal>) = 10.05\n",
      "2020-08-07 23:17:23,238 - matplotlib.font_manager - DEBUG - findfont: score(<Font 'STIXSizeTwoSym' (STIXSizTwoSymReg.ttf) normal normal 400 normal>) = 10.05\n",
      "2020-08-07 23:17:23,238 - matplotlib.font_manager - DEBUG - findfont: score(<Font 'cmb10' (cmb10.ttf) normal normal 400 normal>) = 10.05\n",
      "2020-08-07 23:17:23,239 - matplotlib.font_manager - DEBUG - findfont: score(<Font 'cmr10' (cmr10.ttf) normal normal 400 normal>) = 10.05\n",
      "2020-08-07 23:17:23,240 - matplotlib.font_manager - DEBUG - findfont: score(<Font 'STIXGeneral' (STIXGeneralBol.ttf) normal normal 700 normal>) = 10.335\n",
      "2020-08-07 23:17:23,240 - matplotlib.font_manager - DEBUG - findfont: score(<Font 'DejaVu Serif Display' (DejaVuSerifDisplay.ttf) normal normal 400 normal>) = 10.05\n",
      "2020-08-07 23:17:23,241 - matplotlib.font_manager - DEBUG - findfont: score(<Font 'cmsy10' (cmsy10.ttf) normal normal 400 normal>) = 10.05\n",
      "2020-08-07 23:17:23,241 - matplotlib.font_manager - DEBUG - findfont: score(<Font 'DejaVu Sans Display' (DejaVuSansDisplay.ttf) normal normal 400 normal>) = 10.05\n",
      "2020-08-07 23:17:23,242 - matplotlib.font_manager - DEBUG - findfont: score(<Font 'STIXSizeFourSym' (STIXSizFourSymBol.ttf) normal normal 700 normal>) = 10.335\n",
      "2020-08-07 23:17:23,243 - matplotlib.font_manager - DEBUG - findfont: score(<Font 'cmmi10' (cmmi10.ttf) normal normal 400 normal>) = 10.05\n",
      "2020-08-07 23:17:23,243 - matplotlib.font_manager - DEBUG - findfont: score(<Font 'DejaVu Serif' (DejaVuSerif-BoldItalic.ttf) italic normal 700 normal>) = 11.335\n",
      "2020-08-07 23:17:23,244 - matplotlib.font_manager - DEBUG - findfont: score(<Font 'cmex10' (cmex10.ttf) normal normal 400 normal>) = 10.05\n",
      "2020-08-07 23:17:23,245 - matplotlib.font_manager - DEBUG - findfont: score(<Font 'DejaVu Sans Mono' (DejaVuSansMono-Bold.ttf) normal normal 700 normal>) = 10.335\n",
      "2020-08-07 23:17:23,245 - matplotlib.font_manager - DEBUG - findfont: score(<Font 'STIXNonUnicode' (STIXNonUniIta.ttf) italic normal 400 normal>) = 11.05\n",
      "2020-08-07 23:17:23,246 - matplotlib.font_manager - DEBUG - findfont: score(<Font 'DejaVu Sans' (DejaVuSans-Oblique.ttf) oblique normal 400 normal>) = 11.05\n",
      "2020-08-07 23:17:23,246 - matplotlib.font_manager - DEBUG - findfont: score(<Font 'cmtt10' (cmtt10.ttf) normal normal 400 normal>) = 10.05\n",
      "2020-08-07 23:17:23,247 - matplotlib.font_manager - DEBUG - findfont: score(<Font 'DejaVu Sans' (DejaVuSans.ttf) normal normal 400 normal>) = 10.05\n",
      "2020-08-07 23:17:23,248 - matplotlib.font_manager - DEBUG - findfont: score(<Font 'STIXNonUnicode' (STIXNonUni.ttf) normal normal 400 normal>) = 10.05\n",
      "2020-08-07 23:17:23,248 - matplotlib.font_manager - DEBUG - findfont: score(<Font 'STIXSizeFiveSym' (STIXSizFiveSymReg.ttf) normal normal 400 normal>) = 10.05\n",
      "2020-08-07 23:17:23,249 - matplotlib.font_manager - DEBUG - findfont: score(<Font 'DejaVu Sans' (DejaVuSans-BoldOblique.ttf) oblique normal 700 normal>) = 11.335\n",
      "2020-08-07 23:17:23,250 - matplotlib.font_manager - DEBUG - findfont: score(<Font 'DejaVu Sans Mono' (DejaVuSansMono-BoldOblique.ttf) oblique normal 700 normal>) = 11.335\n",
      "2020-08-07 23:17:23,250 - matplotlib.font_manager - DEBUG - findfont: score(<Font 'DejaVu Sans Mono' (DejaVuSansMono.ttf) normal normal 400 normal>) = 10.05\n",
      "2020-08-07 23:17:23,251 - matplotlib.font_manager - DEBUG - findfont: score(<Font 'STIXSizeFourSym' (STIXSizFourSymReg.ttf) normal normal 400 normal>) = 10.05\n",
      "2020-08-07 23:17:23,251 - matplotlib.font_manager - DEBUG - findfont: score(<Font 'STIXSizeOneSym' (STIXSizOneSymBol.ttf) normal normal 700 normal>) = 10.335\n",
      "2020-08-07 23:17:23,252 - matplotlib.font_manager - DEBUG - findfont: score(<Font 'STIXNonUnicode' (STIXNonUniBol.ttf) normal normal 700 normal>) = 10.335\n",
      "2020-08-07 23:17:23,252 - matplotlib.font_manager - DEBUG - findfont: score(<Font 'STIXGeneral' (STIXGeneral.ttf) normal normal 400 normal>) = 10.05\n",
      "2020-08-07 23:17:23,253 - matplotlib.font_manager - DEBUG - findfont: score(<Font 'STIXSizeThreeSym' (STIXSizThreeSymBol.ttf) normal normal 700 normal>) = 10.335\n",
      "2020-08-07 23:17:23,253 - matplotlib.font_manager - DEBUG - findfont: score(<Font 'cmss10' (cmss10.ttf) normal normal 400 normal>) = 10.05\n",
      "2020-08-07 23:17:23,254 - matplotlib.font_manager - DEBUG - findfont: score(<Font 'DejaVu Sans Mono' (DejaVuSansMono-Oblique.ttf) oblique normal 400 normal>) = 11.05\n",
      "2020-08-07 23:17:23,255 - matplotlib.font_manager - DEBUG - findfont: score(<Font 'DejaVu Sans' (DejaVuSans-Bold.ttf) normal normal 700 normal>) = 10.335\n",
      "2020-08-07 23:17:23,255 - matplotlib.font_manager - DEBUG - findfont: score(<Font 'DejaVu Serif' (DejaVuSerif-Italic.ttf) italic normal 400 normal>) = 11.05\n",
      "2020-08-07 23:17:23,255 - matplotlib.font_manager - DEBUG - findfont: score(<Font 'DejaVu Serif' (DejaVuSerif-Bold.ttf) normal normal 700 normal>) = 10.335\n",
      "2020-08-07 23:17:23,256 - matplotlib.font_manager - DEBUG - findfont: score(<Font 'STIXGeneral' (STIXGeneralBolIta.ttf) italic normal 700 normal>) = 11.335\n",
      "2020-08-07 23:17:23,257 - matplotlib.font_manager - DEBUG - findfont: score(<Font 'DejaVu Serif' (DejaVuSerif.ttf) normal normal 400 normal>) = 10.05\n",
      "2020-08-07 23:17:23,257 - matplotlib.font_manager - DEBUG - findfont: score(<Font 'STIXSizeOneSym' (STIXSizOneSymReg.ttf) normal normal 400 normal>) = 10.05\n",
      "2020-08-07 23:17:23,258 - matplotlib.font_manager - DEBUG - findfont: score(<Font 'STIXSizeTwoSym' (STIXSizTwoSymBol.ttf) normal normal 700 normal>) = 10.335\n",
      "2020-08-07 23:17:23,259 - matplotlib.font_manager - DEBUG - findfont: score(<Font 'STIXGeneral' (STIXGeneralItalic.ttf) italic normal 400 normal>) = 11.05\n",
      "2020-08-07 23:17:23,259 - matplotlib.font_manager - DEBUG - findfont: score(<Font 'STIXNonUnicode' (STIXNonUniBolIta.ttf) italic normal 700 normal>) = 11.335\n",
      "2020-08-07 23:17:23,260 - matplotlib.font_manager - DEBUG - findfont: score(<Font 'Franklin Gothic Medium' (framdit.ttf) italic normal 400 normal>) = 11.05\n",
      "2020-08-07 23:17:23,261 - matplotlib.font_manager - DEBUG - findfont: score(<Font 'Gill Sans Nova' (GillSansLightItNova.ttf) italic normal 300 normal>) = 11.145\n",
      "2020-08-07 23:17:23,262 - matplotlib.font_manager - DEBUG - findfont: score(<Font 'Bodoni MT' (BOD_I.TTF) italic normal 400 normal>) = 11.05\n",
      "2020-08-07 23:17:23,262 - matplotlib.font_manager - DEBUG - findfont: score(<Font 'Microsoft JhengHei' (msjhbd.ttc) normal normal 700 normal>) = 10.335\n",
      "2020-08-07 23:17:23,263 - matplotlib.font_manager - DEBUG - findfont: score(<Font 'Century Gothic' (GOTHICB.TTF) normal normal 700 normal>) = 10.335\n",
      "2020-08-07 23:17:23,263 - matplotlib.font_manager - DEBUG - findfont: score(<Font 'Arial Nova' (ArialNovaCond-LightItalic.ttf) italic normal 300 condensed>) = 11.344999999999999\n",
      "2020-08-07 23:17:23,264 - matplotlib.font_manager - DEBUG - findfont: score(<Font 'Consolas' (consola.ttf) normal normal 400 normal>) = 10.05\n",
      "2020-08-07 23:17:23,265 - matplotlib.font_manager - DEBUG - findfont: score(<Font 'Book Antiqua' (ANTQUABI.TTF) italic normal 700 normal>) = 11.335\n",
      "2020-08-07 23:17:23,265 - matplotlib.font_manager - DEBUG - findfont: score(<Font 'Jokerman' (JOKERMAN.TTF) normal normal 400 normal>) = 10.05\n",
      "2020-08-07 23:17:23,266 - matplotlib.font_manager - DEBUG - findfont: score(<Font 'Tahoma' (tahoma.ttf) normal normal 400 normal>) = 10.05\n",
      "2020-08-07 23:17:23,267 - matplotlib.font_manager - DEBUG - findfont: score(<Font 'MingLiU-ExtB' (mingliub.ttc) normal normal 400 normal>) = 10.05\n",
      "2020-08-07 23:17:23,267 - matplotlib.font_manager - DEBUG - findfont: score(<Font 'High Tower Text' (HTOWERT.TTF) normal normal 400 normal>) = 10.05\n"
     ]
    },
    {
     "name": "stderr",
     "output_type": "stream",
     "text": [
      "2020-08-07 23:17:23,268 - matplotlib.font_manager - DEBUG - findfont: score(<Font 'Franklin Gothic Medium' (framd.ttf) normal normal 400 normal>) = 10.05\n",
      "2020-08-07 23:17:23,268 - matplotlib.font_manager - DEBUG - findfont: score(<Font 'Verdana Pro' (VerdanaPro-Italic.ttf) italic normal 400 normal>) = 11.05\n",
      "2020-08-07 23:17:23,269 - matplotlib.font_manager - DEBUG - findfont: score(<Font 'Candara' (Candaral.ttf) normal normal 400 normal>) = 10.05\n",
      "2020-08-07 23:17:23,270 - matplotlib.font_manager - DEBUG - findfont: score(<Font 'Rockwell Nova' (RockwellNova-Italic.ttf) italic normal 400 normal>) = 11.05\n",
      "2020-08-07 23:17:23,270 - matplotlib.font_manager - DEBUG - findfont: score(<Font 'Kristen ITC' (ITCKRIST.TTF) normal normal 400 normal>) = 10.05\n",
      "2020-08-07 23:17:23,271 - matplotlib.font_manager - DEBUG - findfont: score(<Font 'Tw Cen MT Condensed Extra Bold' (TCCEB.TTF) normal normal 400 condensed>) = 10.25\n",
      "2020-08-07 23:17:23,271 - matplotlib.font_manager - DEBUG - findfont: score(<Font 'TeamViewer15' (teamviewer15.otf) normal normal 500 normal>) = 10.145\n",
      "2020-08-07 23:17:23,272 - matplotlib.font_manager - DEBUG - findfont: score(<Font 'Tw Cen MT Condensed Extra Bold' (TCCEB.TTF) normal normal 400 condensed>) = 10.25\n",
      "2020-08-07 23:17:23,272 - matplotlib.font_manager - DEBUG - findfont: score(<Font 'Eras Bold ITC' (ERASBD.TTF) normal normal 400 normal>) = 10.05\n",
      "2020-08-07 23:17:23,273 - matplotlib.font_manager - DEBUG - findfont: score(<Font 'Rockwell Nova' (RockwellNovaCond.ttf) normal normal 400 condensed>) = 10.25\n",
      "2020-08-07 23:17:23,273 - matplotlib.font_manager - DEBUG - findfont: score(<Font 'Arial Nova' (ArialNovaCond-BoldItalic.ttf) italic normal 700 condensed>) = 11.535\n",
      "2020-08-07 23:17:23,274 - matplotlib.font_manager - DEBUG - findfont: score(<Font 'Century Gothic' (GOTHICI.TTF) italic normal 400 normal>) = 11.05\n",
      "2020-08-07 23:17:23,274 - matplotlib.font_manager - DEBUG - findfont: score(<Font 'Gill Sans MT' (GILI____.TTF) italic normal 400 normal>) = 11.05\n",
      "2020-08-07 23:17:23,275 - matplotlib.font_manager - DEBUG - findfont: score(<Font 'Microsoft Himalaya' (himalaya.ttf) normal normal 400 normal>) = 10.05\n",
      "2020-08-07 23:17:23,275 - matplotlib.font_manager - DEBUG - findfont: score(<Font 'Gill Sans MT' (GILBI___.TTF) italic normal 700 normal>) = 11.335\n",
      "2020-08-07 23:17:23,276 - matplotlib.font_manager - DEBUG - findfont: score(<Font 'Arial Nova' (ArialNovaCond-LightItalic.ttf) italic normal 300 condensed>) = 11.344999999999999\n",
      "2020-08-07 23:17:23,277 - matplotlib.font_manager - DEBUG - findfont: score(<Font 'SimSun' (simsun.ttc) normal normal 400 normal>) = 10.05\n",
      "2020-08-07 23:17:23,277 - matplotlib.font_manager - DEBUG - findfont: score(<Font 'Microsoft Uighur' (MSUIGHUR.TTF) normal normal 400 normal>) = 10.05\n",
      "2020-08-07 23:17:23,278 - matplotlib.font_manager - DEBUG - findfont: score(<Font 'Lucida Handwriting' (LHANDW.TTF) italic normal 400 normal>) = 11.05\n",
      "2020-08-07 23:17:23,278 - matplotlib.font_manager - DEBUG - findfont: score(<Font 'Poor Richard' (POORICH.TTF) normal normal 400 normal>) = 10.05\n",
      "2020-08-07 23:17:23,279 - matplotlib.font_manager - DEBUG - findfont: score(<Font 'Tw Cen MT' (TCM_____.TTF) normal normal 400 normal>) = 10.05\n",
      "2020-08-07 23:17:23,280 - matplotlib.font_manager - DEBUG - findfont: score(<Font 'Georgia Pro' (GeorgiaPro-BlackItalic.ttf) italic normal 900 normal>) = 11.525\n",
      "2020-08-07 23:17:23,280 - matplotlib.font_manager - DEBUG - findfont: score(<Font 'Verdana Pro' (VerdanaPro-BlackItalic.ttf) italic normal 900 normal>) = 11.525\n",
      "2020-08-07 23:17:23,281 - matplotlib.font_manager - DEBUG - findfont: score(<Font 'MT Extra' (MTEXTRA.TTF) normal normal 400 normal>) = 10.05\n",
      "2020-08-07 23:17:23,281 - matplotlib.font_manager - DEBUG - findfont: score(<Font 'Book Antiqua' (BKANT.TTF) normal normal 400 normal>) = 10.05\n",
      "2020-08-07 23:17:23,282 - matplotlib.font_manager - DEBUG - findfont: score(<Font 'SimSun' (simsun.ttc) normal normal 400 normal>) = 10.05\n",
      "2020-08-07 23:17:23,283 - matplotlib.font_manager - DEBUG - findfont: score(<Font 'Arial' (ARIALNI.TTF) italic normal 400 condensed>) = 11.25\n",
      "2020-08-07 23:17:23,283 - matplotlib.font_manager - DEBUG - findfont: score(<Font 'Tw Cen MT' (TCMI____.TTF) italic normal 400 normal>) = 11.05\n",
      "2020-08-07 23:17:23,284 - matplotlib.font_manager - DEBUG - findfont: score(<Font 'Tempus Sans ITC' (TEMPSITC.TTF) normal normal 400 normal>) = 10.05\n",
      "2020-08-07 23:17:23,284 - matplotlib.font_manager - DEBUG - findfont: score(<Font 'Bernard MT Condensed' (BERNHC.TTF) normal normal 400 condensed>) = 10.25\n",
      "2020-08-07 23:17:23,285 - matplotlib.font_manager - DEBUG - findfont: score(<Font 'Agency FB' (AGENCYB.TTF) normal normal 700 normal>) = 10.335\n",
      "2020-08-07 23:17:23,286 - matplotlib.font_manager - DEBUG - findfont: score(<Font 'Microsoft Uighur' (MSUIGHUB.TTF) normal normal 700 normal>) = 10.335\n",
      "2020-08-07 23:17:23,286 - matplotlib.font_manager - DEBUG - findfont: score(<Font 'Lucida Sans Unicode' (l_10646.ttf) normal normal 400 normal>) = 10.05\n",
      "2020-08-07 23:17:23,287 - matplotlib.font_manager - DEBUG - findfont: score(<Font 'Palatino Linotype' (palai.ttf) italic normal 400 normal>) = 11.05\n",
      "2020-08-07 23:17:23,287 - matplotlib.font_manager - DEBUG - findfont: score(<Font 'Onyx' (ONYX.TTF) normal normal 400 normal>) = 10.05\n",
      "2020-08-07 23:17:23,288 - matplotlib.font_manager - DEBUG - findfont: score(<Font 'Gill Sans Ultra Bold Condensed' (GILLUBCD.TTF) normal normal 400 condensed>) = 10.25\n",
      "2020-08-07 23:17:23,289 - matplotlib.font_manager - DEBUG - findfont: score(<Font 'Bell MT' (BELLB.TTF) normal normal 700 normal>) = 10.335\n",
      "2020-08-07 23:17:23,289 - matplotlib.font_manager - DEBUG - findfont: score(<Font 'Brush Script MT' (BRUSHSCI.TTF) italic normal 400 normal>) = 11.05\n",
      "2020-08-07 23:17:23,290 - matplotlib.font_manager - DEBUG - findfont: score(<Font 'Script MT Bold' (SCRIPTBL.TTF) normal normal 700 normal>) = 10.335\n",
      "2020-08-07 23:17:23,290 - matplotlib.font_manager - DEBUG - findfont: score(<Font 'Dubai' (DUBAI-BOLD.TTF) normal normal 700 normal>) = 10.335\n",
      "2020-08-07 23:17:23,291 - matplotlib.font_manager - DEBUG - findfont: score(<Font 'Book Antiqua' (ANTQUABI.TTF) italic normal 700 normal>) = 11.335\n",
      "2020-08-07 23:17:23,292 - matplotlib.font_manager - DEBUG - findfont: score(<Font 'Segoe UI Historic' (seguihis.ttf) normal normal 400 normal>) = 10.05\n",
      "2020-08-07 23:17:23,293 - matplotlib.font_manager - DEBUG - findfont: score(<Font 'Arial' (ARIALN.TTF) normal normal 400 condensed>) = 10.25\n",
      "2020-08-07 23:17:23,294 - matplotlib.font_manager - DEBUG - findfont: score(<Font 'Dubai' (DUBAI-BOLD.TTF) normal normal 700 normal>) = 10.335\n",
      "2020-08-07 23:17:23,295 - matplotlib.font_manager - DEBUG - findfont: score(<Font 'Times New Roman' (timesbi.ttf) italic normal 700 normal>) = 11.335\n",
      "2020-08-07 23:17:23,296 - matplotlib.font_manager - DEBUG - findfont: score(<Font 'Leelawadee' (LEELAWDB.TTF) normal normal 700 normal>) = 10.335\n",
      "2020-08-07 23:17:23,296 - matplotlib.font_manager - DEBUG - findfont: score(<Font 'Georgia Pro' (GeorgiaPro-LightItalic.ttf) italic normal 300 normal>) = 11.145\n",
      "2020-08-07 23:17:23,297 - matplotlib.font_manager - DEBUG - findfont: score(<Font 'Georgia Pro' (GeorgiaPro-CondLightItalic.ttf) italic normal 300 condensed>) = 11.344999999999999\n",
      "2020-08-07 23:17:23,297 - matplotlib.font_manager - DEBUG - findfont: score(<Font 'Gill Sans Nova' (GillSansLightNova.ttf) normal normal 300 normal>) = 10.145\n",
      "2020-08-07 23:17:23,298 - matplotlib.font_manager - DEBUG - findfont: score(<Font 'Microsoft Tai Le' (taileb.ttf) normal normal 700 normal>) = 10.335\n",
      "2020-08-07 23:17:23,299 - matplotlib.font_manager - DEBUG - findfont: score(<Font 'Mistral' (MISTRAL.TTF) normal normal 400 normal>) = 10.05\n",
      "2020-08-07 23:17:23,299 - matplotlib.font_manager - DEBUG - findfont: score(<Font 'Gloucester MT Extra Condensed' (GLECB.TTF) normal normal 400 condensed>) = 10.25\n",
      "2020-08-07 23:17:23,300 - matplotlib.font_manager - DEBUG - findfont: score(<Font 'Garamond' (GARA.TTF) normal normal 400 normal>) = 10.05\n",
      "2020-08-07 23:17:23,301 - matplotlib.font_manager - DEBUG - findfont: score(<Font 'Castellar' (CASTELAR.TTF) normal normal 400 normal>) = 10.05\n",
      "2020-08-07 23:17:23,302 - matplotlib.font_manager - DEBUG - findfont: score(<Font 'Rage Italic' (RAGE.TTF) italic normal 400 normal>) = 11.05\n"
     ]
    },
    {
     "name": "stderr",
     "output_type": "stream",
     "text": [
      "2020-08-07 23:17:23,302 - matplotlib.font_manager - DEBUG - findfont: score(<Font 'Bodoni MT' (BOD_BI.TTF) italic normal 700 normal>) = 11.335\n",
      "2020-08-07 23:17:23,303 - matplotlib.font_manager - DEBUG - findfont: score(<Font 'Rockwell' (ROCKB.TTF) normal normal 700 normal>) = 10.335\n",
      "2020-08-07 23:17:23,303 - matplotlib.font_manager - DEBUG - findfont: score(<Font 'Verdana Pro' (VerdanaPro-CondLightItalic.ttf) italic normal 300 condensed>) = 11.344999999999999\n",
      "2020-08-07 23:17:23,304 - matplotlib.font_manager - DEBUG - findfont: score(<Font 'SimSun-ExtB' (simsunb.ttf) normal normal 400 normal>) = 10.05\n",
      "2020-08-07 23:17:23,305 - matplotlib.font_manager - DEBUG - findfont: score(<Font 'Wingdings 3' (WINGDNG3.TTF) normal normal 400 normal>) = 10.05\n",
      "2020-08-07 23:17:23,305 - matplotlib.font_manager - DEBUG - findfont: score(<Font 'Gill Sans Nova' (GillSansCondBoNova.ttf) normal normal 700 condensed>) = 10.535\n",
      "2020-08-07 23:17:23,306 - matplotlib.font_manager - DEBUG - findfont: score(<Font 'Kunstler Script' (KUNSTLER.TTF) normal normal 400 normal>) = 10.05\n",
      "2020-08-07 23:17:23,306 - matplotlib.font_manager - DEBUG - findfont: score(<Font 'Matura MT Script Capitals' (MATURASC.TTF) normal normal 400 normal>) = 10.05\n",
      "2020-08-07 23:17:23,307 - matplotlib.font_manager - DEBUG - findfont: score(<Font 'Segoe UI' (seguili.ttf) italic normal 300 normal>) = 11.145\n",
      "2020-08-07 23:17:23,307 - matplotlib.font_manager - DEBUG - findfont: score(<Font 'Arial Nova' (ArialNova-Italic.ttf) italic normal 400 normal>) = 11.05\n",
      "2020-08-07 23:17:23,308 - matplotlib.font_manager - DEBUG - findfont: score(<Font 'Segoe UI' (seguisli.ttf) italic normal 350 normal>) = 11.0975\n",
      "2020-08-07 23:17:23,309 - matplotlib.font_manager - DEBUG - findfont: score(<Font 'Gill Sans MT Condensed' (GILC____.TTF) normal normal 400 condensed>) = 10.25\n",
      "2020-08-07 23:17:23,310 - matplotlib.font_manager - DEBUG - findfont: score(<Font 'Blackadder ITC' (ITCBLKAD.TTF) normal normal 400 normal>) = 10.05\n",
      "2020-08-07 23:17:23,311 - matplotlib.font_manager - DEBUG - findfont: score(<Font 'Calibri' (calibrili.ttf) italic normal 300 normal>) = 11.145\n",
      "2020-08-07 23:17:23,311 - matplotlib.font_manager - DEBUG - findfont: score(<Font 'Franklin Gothic Book' (FRABK.TTF) normal normal 400 normal>) = 10.05\n",
      "2020-08-07 23:17:23,312 - matplotlib.font_manager - DEBUG - findfont: score(<Font 'Perpetua' (PER_____.TTF) normal normal 400 normal>) = 10.05\n",
      "2020-08-07 23:17:23,312 - matplotlib.font_manager - DEBUG - findfont: score(<Font 'Arial Nova' (ArialNova-LightItalic.ttf) italic normal 300 normal>) = 11.145\n",
      "2020-08-07 23:17:23,313 - matplotlib.font_manager - DEBUG - findfont: score(<Font 'Rockwell Nova' (RockwellNovaCond-Light.ttf) normal normal 300 condensed>) = 10.344999999999999\n",
      "2020-08-07 23:17:23,314 - matplotlib.font_manager - DEBUG - findfont: score(<Font 'Georgia Pro' (GeorgiaPro-Bold.ttf) normal normal 700 normal>) = 10.335\n",
      "2020-08-07 23:17:23,314 - matplotlib.font_manager - DEBUG - findfont: score(<Font 'Lucida Sans Typewriter' (LTYPE.TTF) normal normal 400 normal>) = 10.05\n",
      "2020-08-07 23:17:23,315 - matplotlib.font_manager - DEBUG - findfont: score(<Font 'Dubai' (DUBAI-REGULAR.TTF) normal normal 400 normal>) = 10.05\n",
      "2020-08-07 23:17:23,316 - matplotlib.font_manager - DEBUG - findfont: score(<Font 'Neue Haas Grotesk Text Pro' (NHaasGroteskTXPro-56It.ttf) italic normal 400 normal>) = 11.05\n",
      "2020-08-07 23:17:23,317 - matplotlib.font_manager - DEBUG - findfont: score(<Font 'Bauhaus 93' (BAUHS93.TTF) normal normal 400 normal>) = 10.05\n",
      "2020-08-07 23:17:23,317 - matplotlib.font_manager - DEBUG - findfont: score(<Font 'Copperplate Gothic Light' (COPRGTL.TTF) normal normal 400 normal>) = 10.05\n",
      "2020-08-07 23:17:23,318 - matplotlib.font_manager - DEBUG - findfont: score(<Font 'Gill Sans MT' (GILB____.TTF) normal normal 700 normal>) = 10.335\n",
      "2020-08-07 23:17:23,318 - matplotlib.font_manager - DEBUG - findfont: score(<Font 'Modern No. 20' (MOD20.TTF) normal normal 400 normal>) = 10.05\n",
      "2020-08-07 23:17:23,319 - matplotlib.font_manager - DEBUG - findfont: score(<Font 'Courier New' (courbd.ttf) normal normal 700 normal>) = 10.335\n",
      "2020-08-07 23:17:23,320 - matplotlib.font_manager - DEBUG - findfont: score(<Font 'Rockwell' (ROCKBI.TTF) italic normal 700 normal>) = 11.335\n",
      "2020-08-07 23:17:23,320 - matplotlib.font_manager - DEBUG - findfont: score(<Font 'Yu Gothic' (YuGothM.ttc) normal normal 500 normal>) = 10.145\n",
      "2020-08-07 23:17:23,321 - matplotlib.font_manager - DEBUG - findfont: score(<Font 'Bookman Old Style' (BOOKOS.TTF) normal normal 300 normal>) = 10.145\n",
      "2020-08-07 23:17:23,321 - matplotlib.font_manager - DEBUG - findfont: score(<Font 'Engravers MT' (ENGR.TTF) normal normal 500 normal>) = 10.145\n",
      "2020-08-07 23:17:23,322 - matplotlib.font_manager - DEBUG - findfont: score(<Font 'Bodoni MT' (BOD_B.TTF) normal normal 700 normal>) = 10.335\n",
      "2020-08-07 23:17:23,322 - matplotlib.font_manager - DEBUG - findfont: score(<Font 'Trebuchet MS' (trebucit.ttf) italic normal 400 normal>) = 11.05\n",
      "2020-08-07 23:17:23,323 - matplotlib.font_manager - DEBUG - findfont: score(<Font 'Bookman Old Style' (BOOKOSB.TTF) normal normal 600 normal>) = 10.24\n",
      "2020-08-07 23:17:23,323 - matplotlib.font_manager - DEBUG - findfont: score(<Font 'Palatino Linotype' (palai.ttf) italic normal 400 normal>) = 11.05\n",
      "2020-08-07 23:17:23,324 - matplotlib.font_manager - DEBUG - findfont: score(<Font 'Verdana' (verdanab.ttf) normal normal 700 normal>) = 10.335\n",
      "2020-08-07 23:17:23,324 - matplotlib.font_manager - DEBUG - findfont: score(<Font 'Segoe UI' (segoeuib.ttf) normal normal 700 normal>) = 10.335\n",
      "2020-08-07 23:17:23,325 - matplotlib.font_manager - DEBUG - findfont: score(<Font 'Engravers MT' (ENGR.TTF) normal normal 500 normal>) = 10.145\n",
      "2020-08-07 23:17:23,326 - matplotlib.font_manager - DEBUG - findfont: score(<Font 'Century Gothic' (GOTHICB.TTF) normal normal 700 normal>) = 10.335\n",
      "2020-08-07 23:17:23,326 - matplotlib.font_manager - DEBUG - findfont: score(<Font 'Colonna MT' (COLONNA.TTF) normal normal 400 normal>) = 10.05\n",
      "2020-08-07 23:17:23,327 - matplotlib.font_manager - DEBUG - findfont: score(<Font 'Sylfaen' (sylfaen.ttf) normal normal 400 normal>) = 10.05\n",
      "2020-08-07 23:17:23,328 - matplotlib.font_manager - DEBUG - findfont: score(<Font 'Microsoft Uighur' (MSUIGHUR.TTF) normal normal 400 normal>) = 10.05\n",
      "2020-08-07 23:17:23,328 - matplotlib.font_manager - DEBUG - findfont: score(<Font 'Georgia Pro' (GeorgiaPro-CondSemiBoldItalic.ttf) italic normal 600 condensed>) = 11.44\n",
      "2020-08-07 23:17:23,329 - matplotlib.font_manager - DEBUG - findfont: score(<Font 'Times New Roman' (times.ttf) normal normal 400 normal>) = 10.05\n",
      "2020-08-07 23:17:23,329 - matplotlib.font_manager - DEBUG - findfont: score(<Font 'Bell MT' (BELL.TTF) normal normal 400 normal>) = 10.05\n",
      "2020-08-07 23:17:23,330 - matplotlib.font_manager - DEBUG - findfont: score(<Font 'Calibri' (calibril.ttf) normal normal 300 normal>) = 10.145\n",
      "2020-08-07 23:17:23,330 - matplotlib.font_manager - DEBUG - findfont: score(<Font 'Bookman Old Style' (BOOKOSI.TTF) italic normal 300 normal>) = 11.145\n",
      "2020-08-07 23:17:23,331 - matplotlib.font_manager - DEBUG - findfont: score(<Font 'Verdana Pro' (VerdanaPro-SemiBold.ttf) normal normal 600 normal>) = 10.24\n",
      "2020-08-07 23:17:23,332 - matplotlib.font_manager - DEBUG - findfont: score(<Font 'Sylfaen' (sylfaen.ttf) normal normal 400 normal>) = 10.05\n",
      "2020-08-07 23:17:23,332 - matplotlib.font_manager - DEBUG - findfont: score(<Font 'Consolas' (consola.ttf) normal normal 400 normal>) = 10.05\n",
      "2020-08-07 23:17:23,333 - matplotlib.font_manager - DEBUG - findfont: score(<Font 'Times New Roman' (timesi.ttf) italic normal 400 normal>) = 11.05\n",
      "2020-08-07 23:17:23,333 - matplotlib.font_manager - DEBUG - findfont: score(<Font 'Gill Sans Nova' (GillSansBoItNova.ttf) italic normal 700 normal>) = 11.335\n",
      "2020-08-07 23:17:23,334 - matplotlib.font_manager - DEBUG - findfont: score(<Font 'TeamViewer15' (teamviewer15.otf) normal normal 500 normal>) = 10.145\n",
      "2020-08-07 23:17:23,335 - matplotlib.font_manager - DEBUG - findfont: score(<Font 'Comic Sans MS' (comici.ttf) italic normal 400 normal>) = 11.05\n",
      "2020-08-07 23:17:23,335 - matplotlib.font_manager - DEBUG - findfont: score(<Font 'High Tower Text' (HTOWERT.TTF) normal normal 400 normal>) = 10.05\n"
     ]
    },
    {
     "name": "stderr",
     "output_type": "stream",
     "text": [
      "2020-08-07 23:17:23,336 - matplotlib.font_manager - DEBUG - findfont: score(<Font 'Lucida Sans Typewriter' (LTYPEBO.TTF) oblique normal 600 normal>) = 11.24\n",
      "2020-08-07 23:17:23,336 - matplotlib.font_manager - DEBUG - findfont: score(<Font 'Verdana' (verdana.ttf) normal normal 400 normal>) = 10.05\n",
      "2020-08-07 23:17:23,337 - matplotlib.font_manager - DEBUG - findfont: score(<Font 'Georgia' (georgiab.ttf) normal normal 700 normal>) = 10.335\n",
      "2020-08-07 23:17:23,337 - matplotlib.font_manager - DEBUG - findfont: score(<Font 'Informal Roman' (INFROMAN.TTF) normal normal 400 normal>) = 10.05\n",
      "2020-08-07 23:17:23,338 - matplotlib.font_manager - DEBUG - findfont: score(<Font 'Franklin Gothic Heavy' (FRAHVIT.TTF) italic normal 400 normal>) = 11.05\n",
      "2020-08-07 23:17:23,339 - matplotlib.font_manager - DEBUG - findfont: score(<Font 'Trebuchet MS' (trebucbi.ttf) italic normal 700 normal>) = 11.335\n",
      "2020-08-07 23:17:23,339 - matplotlib.font_manager - DEBUG - findfont: score(<Font 'Consolas' (consolaz.ttf) italic normal 700 normal>) = 11.335\n",
      "2020-08-07 23:17:23,340 - matplotlib.font_manager - DEBUG - findfont: score(<Font 'Mongolian Baiti' (monbaiti.ttf) normal normal 400 normal>) = 10.05\n",
      "2020-08-07 23:17:23,341 - matplotlib.font_manager - DEBUG - findfont: score(<Font 'Candara' (Candarali.ttf) italic normal 400 normal>) = 11.05\n",
      "2020-08-07 23:17:23,341 - matplotlib.font_manager - DEBUG - findfont: score(<Font 'HP Simplified' (HPSimplified_LtIt.ttf) italic normal 300 normal>) = 11.145\n",
      "2020-08-07 23:17:23,342 - matplotlib.font_manager - DEBUG - findfont: score(<Font 'Wingdings 3' (WINGDNG3.TTF) normal normal 400 normal>) = 10.05\n",
      "2020-08-07 23:17:23,343 - matplotlib.font_manager - DEBUG - findfont: score(<Font 'Palatino Linotype' (palab.ttf) normal normal 700 normal>) = 10.335\n",
      "2020-08-07 23:17:23,343 - matplotlib.font_manager - DEBUG - findfont: score(<Font 'Bodoni MT' (BOD_CR.TTF) normal normal 400 condensed>) = 10.25\n",
      "2020-08-07 23:17:23,344 - matplotlib.font_manager - DEBUG - findfont: score(<Font 'Microsoft Tai Le' (taile.ttf) normal normal 400 normal>) = 10.05\n",
      "2020-08-07 23:17:23,345 - matplotlib.font_manager - DEBUG - findfont: score(<Font 'Candara' (Candarai.ttf) italic normal 400 normal>) = 11.05\n",
      "2020-08-07 23:17:23,345 - matplotlib.font_manager - DEBUG - findfont: score(<Font 'Neue Haas Grotesk Text Pro' (NHaasGroteskTXPro-76BdIt.ttf) italic normal 700 normal>) = 11.335\n",
      "2020-08-07 23:17:23,346 - matplotlib.font_manager - DEBUG - findfont: score(<Font 'Calibri' (calibrili.ttf) italic normal 300 normal>) = 11.145\n",
      "2020-08-07 23:17:23,346 - matplotlib.font_manager - DEBUG - findfont: score(<Font 'Calibri' (calibri.ttf) normal normal 400 normal>) = 10.05\n",
      "2020-08-07 23:17:23,347 - matplotlib.font_manager - DEBUG - findfont: score(<Font 'Verdana Pro' (VerdanaPro-CondBoldItalic.ttf) italic normal 700 condensed>) = 11.535\n",
      "2020-08-07 23:17:23,348 - matplotlib.font_manager - DEBUG - findfont: score(<Font 'Lucida Sans' (LSANS.TTF) normal normal 400 normal>) = 10.05\n",
      "2020-08-07 23:17:23,348 - matplotlib.font_manager - DEBUG - findfont: score(<Font 'Segoe Script' (segoesc.ttf) normal normal 400 normal>) = 10.05\n",
      "2020-08-07 23:17:23,349 - matplotlib.font_manager - DEBUG - findfont: score(<Font 'Nirmala UI' (NirmalaS.ttf) normal normal 350 normal>) = 10.0975\n",
      "2020-08-07 23:17:23,350 - matplotlib.font_manager - DEBUG - findfont: score(<Font 'Georgia Pro' (GeorgiaPro-SemiBoldItalic.ttf) italic normal 600 normal>) = 11.24\n",
      "2020-08-07 23:17:23,350 - matplotlib.font_manager - DEBUG - findfont: score(<Font 'HP Simplified' (HPSimplified_BdIt.ttf) italic normal 700 normal>) = 11.335\n",
      "2020-08-07 23:17:23,351 - matplotlib.font_manager - DEBUG - findfont: score(<Font 'Franklin Gothic Demi Cond' (FRADMCN.TTF) normal normal 400 condensed>) = 10.25\n",
      "2020-08-07 23:17:23,351 - matplotlib.font_manager - DEBUG - findfont: score(<Font 'Malgun Gothic' (malgunsl.ttf) normal normal 300 normal>) = 10.145\n",
      "2020-08-07 23:17:23,352 - matplotlib.font_manager - DEBUG - findfont: score(<Font 'Franklin Gothic Medium Cond' (FRAMDCN.TTF) normal normal 400 condensed>) = 10.25\n",
      "2020-08-07 23:17:23,352 - matplotlib.font_manager - DEBUG - findfont: score(<Font 'Segoe UI' (seguibl.ttf) normal normal 900 normal>) = 10.525\n",
      "2020-08-07 23:17:23,353 - matplotlib.font_manager - DEBUG - findfont: score(<Font 'Myanmar Text' (mmrtext.ttf) normal normal 400 normal>) = 10.05\n",
      "2020-08-07 23:17:23,354 - matplotlib.font_manager - DEBUG - findfont: score(<Font 'Georgia Pro' (GeorgiaPro-CondBold.ttf) normal normal 700 condensed>) = 10.535\n",
      "2020-08-07 23:17:23,354 - matplotlib.font_manager - DEBUG - findfont: score(<Font 'MS Reference Specialty' (REFSPCL.TTF) normal normal 400 normal>) = 10.05\n",
      "2020-08-07 23:17:23,355 - matplotlib.font_manager - DEBUG - findfont: score(<Font 'Georgia Pro' (GeorgiaPro-LightItalic.ttf) italic normal 300 normal>) = 11.145\n",
      "2020-08-07 23:17:23,355 - matplotlib.font_manager - DEBUG - findfont: score(<Font 'Microsoft JhengHei' (msjh.ttc) normal normal 400 normal>) = 10.05\n",
      "2020-08-07 23:17:23,356 - matplotlib.font_manager - DEBUG - findfont: score(<Font 'Palatino Linotype' (palab.ttf) normal normal 700 normal>) = 10.335\n",
      "2020-08-07 23:17:23,356 - matplotlib.font_manager - DEBUG - findfont: score(<Font 'Verdana' (verdanai.ttf) italic normal 400 normal>) = 11.05\n",
      "2020-08-07 23:17:23,357 - matplotlib.font_manager - DEBUG - findfont: score(<Font 'Georgia Pro' (GeorgiaPro-Bold.ttf) normal normal 700 normal>) = 10.335\n",
      "2020-08-07 23:17:23,357 - matplotlib.font_manager - DEBUG - findfont: score(<Font 'Informal Roman' (INFROMAN.TTF) normal normal 400 normal>) = 10.05\n",
      "2020-08-07 23:17:23,358 - matplotlib.font_manager - DEBUG - findfont: score(<Font 'Lucida Sans Unicode' (l_10646.ttf) normal normal 400 normal>) = 10.05\n",
      "2020-08-07 23:17:23,359 - matplotlib.font_manager - DEBUG - findfont: score(<Font 'Perpetua' (PERBI___.TTF) italic normal 700 normal>) = 11.335\n",
      "2020-08-07 23:17:23,359 - matplotlib.font_manager - DEBUG - findfont: score(<Font 'Cambria' (cambria.ttc) normal normal 400 normal>) = 10.05\n",
      "2020-08-07 23:17:23,360 - matplotlib.font_manager - DEBUG - findfont: score(<Font 'Magneto' (MAGNETOB.TTF) normal normal 700 normal>) = 10.335\n",
      "2020-08-07 23:17:23,361 - matplotlib.font_manager - DEBUG - findfont: score(<Font 'Microsoft Sans Serif' (micross.ttf) normal normal 400 normal>) = 10.05\n",
      "2020-08-07 23:17:23,361 - matplotlib.font_manager - DEBUG - findfont: score(<Font 'Calisto MT' (CALISTB.TTF) normal normal 700 normal>) = 10.335\n",
      "2020-08-07 23:17:23,362 - matplotlib.font_manager - DEBUG - findfont: score(<Font 'Lucida Fax' (LFAXD.TTF) normal normal 600 normal>) = 10.24\n",
      "2020-08-07 23:17:23,362 - matplotlib.font_manager - DEBUG - findfont: score(<Font 'Goudy Old Style' (GOUDOSB.TTF) normal normal 700 normal>) = 10.335\n",
      "2020-08-07 23:17:23,363 - matplotlib.font_manager - DEBUG - findfont: score(<Font 'Sitka Small' (SitkaI.ttc) italic normal 400 normal>) = 11.05\n",
      "2020-08-07 23:17:23,364 - matplotlib.font_manager - DEBUG - findfont: score(<Font 'Georgia Pro' (GeorgiaPro-CondSemiBold.ttf) normal normal 600 condensed>) = 10.44\n",
      "2020-08-07 23:17:23,364 - matplotlib.font_manager - DEBUG - findfont: score(<Font 'Calibri' (calibri.ttf) normal normal 400 normal>) = 10.05\n",
      "2020-08-07 23:17:23,365 - matplotlib.font_manager - DEBUG - findfont: score(<Font 'Showcard Gothic' (SHOWG.TTF) normal normal 400 normal>) = 10.05\n",
      "2020-08-07 23:17:23,366 - matplotlib.font_manager - DEBUG - findfont: score(<Font 'Tw Cen MT Condensed' (TCCB____.TTF) normal normal 700 condensed>) = 10.535\n",
      "2020-08-07 23:17:23,366 - matplotlib.font_manager - DEBUG - findfont: score(<Font 'Harlow Solid Italic' (HARLOWSI.TTF) italic normal 400 normal>) = 11.05\n",
      "2020-08-07 23:17:23,367 - matplotlib.font_manager - DEBUG - findfont: score(<Font 'Rockwell Nova' (RockwellNovaCond-BoldItalic.ttf) italic normal 700 condensed>) = 11.535\n",
      "2020-08-07 23:17:23,367 - matplotlib.font_manager - DEBUG - findfont: score(<Font 'Arial Nova' (ArialNova-Light.ttf) normal normal 300 normal>) = 10.145\n",
      "2020-08-07 23:17:23,368 - matplotlib.font_manager - DEBUG - findfont: score(<Font 'Century' (CENTURY.TTF) normal normal 400 normal>) = 10.05\n",
      "2020-08-07 23:17:23,368 - matplotlib.font_manager - DEBUG - findfont: score(<Font 'Arial Nova' (ArialNova-BoldItalic.ttf) italic normal 700 normal>) = 11.335\n"
     ]
    },
    {
     "name": "stderr",
     "output_type": "stream",
     "text": [
      "2020-08-07 23:17:23,369 - matplotlib.font_manager - DEBUG - findfont: score(<Font 'Tw Cen MT' (TCBI____.TTF) italic normal 700 normal>) = 11.335\n",
      "2020-08-07 23:17:23,370 - matplotlib.font_manager - DEBUG - findfont: score(<Font 'Franklin Gothic Medium' (framd.ttf) normal normal 400 normal>) = 10.05\n",
      "2020-08-07 23:17:23,370 - matplotlib.font_manager - DEBUG - findfont: score(<Font 'Leelawadee' (LEELAWAD.TTF) normal normal 400 normal>) = 10.05\n",
      "2020-08-07 23:17:23,371 - matplotlib.font_manager - DEBUG - findfont: score(<Font 'Leelawadee UI' (LeelaUIb.ttf) normal normal 700 normal>) = 10.335\n",
      "2020-08-07 23:17:23,371 - matplotlib.font_manager - DEBUG - findfont: score(<Font 'Niagara Engraved' (NIAGENG.TTF) normal normal 400 normal>) = 10.05\n",
      "2020-08-07 23:17:23,372 - matplotlib.font_manager - DEBUG - findfont: score(<Font 'Calisto MT' (CALISTBI.TTF) italic normal 700 normal>) = 11.335\n",
      "2020-08-07 23:17:23,372 - matplotlib.font_manager - DEBUG - findfont: score(<Font 'Gill Sans MT Ext Condensed Bold' (GLSNECB.TTF) normal normal 400 condensed>) = 10.25\n",
      "2020-08-07 23:17:23,373 - matplotlib.font_manager - DEBUG - findfont: score(<Font 'MS Outlook' (OUTLOOK.TTF) normal normal 400 normal>) = 10.05\n",
      "2020-08-07 23:17:23,373 - matplotlib.font_manager - DEBUG - findfont: score(<Font 'Perpetua' (PERI____.TTF) italic normal 400 normal>) = 11.05\n",
      "2020-08-07 23:17:23,374 - matplotlib.font_manager - DEBUG - findfont: score(<Font 'Verdana Pro' (VerdanaPro-LightItalic.ttf) italic normal 300 normal>) = 11.145\n",
      "2020-08-07 23:17:23,374 - matplotlib.font_manager - DEBUG - findfont: score(<Font 'Nirmala UI' (NirmalaB.ttf) normal normal 700 normal>) = 10.335\n",
      "2020-08-07 23:17:23,375 - matplotlib.font_manager - DEBUG - findfont: score(<Font 'Gill Sans Nova' (GillSansCondItNova.ttf) italic normal 500 condensed>) = 11.344999999999999\n",
      "2020-08-07 23:17:23,375 - matplotlib.font_manager - DEBUG - findfont: score(<Font 'Mistral' (MISTRAL.TTF) normal normal 400 normal>) = 10.05\n",
      "2020-08-07 23:17:23,376 - matplotlib.font_manager - DEBUG - findfont: score(<Font 'Lucida Sans' (LSANSI.TTF) italic normal 400 normal>) = 11.05\n",
      "2020-08-07 23:17:23,376 - matplotlib.font_manager - DEBUG - findfont: score(<Font 'Algerian' (ALGER.TTF) normal normal 400 normal>) = 10.05\n",
      "2020-08-07 23:17:23,377 - matplotlib.font_manager - DEBUG - findfont: score(<Font 'Verdana Pro' (VerdanaPro-Italic.ttf) italic normal 400 normal>) = 11.05\n",
      "2020-08-07 23:17:23,377 - matplotlib.font_manager - DEBUG - findfont: score(<Font 'Microsoft JhengHei' (msjhl.ttc) normal normal 290 normal>) = 10.1545\n",
      "2020-08-07 23:17:23,379 - matplotlib.font_manager - DEBUG - findfont: score(<Font 'Microsoft PhagsPa' (phagspab.ttf) normal normal 700 normal>) = 10.335\n",
      "2020-08-07 23:17:23,379 - matplotlib.font_manager - DEBUG - findfont: score(<Font 'Cambria' (cambriab.ttf) normal normal 700 normal>) = 10.335\n",
      "2020-08-07 23:17:23,380 - matplotlib.font_manager - DEBUG - findfont: score(<Font 'Viner Hand ITC' (VINERITC.TTF) normal normal 400 normal>) = 10.05\n",
      "2020-08-07 23:17:23,381 - matplotlib.font_manager - DEBUG - findfont: score(<Font 'Brush Script MT' (BRUSHSCI.TTF) italic normal 400 normal>) = 11.05\n",
      "2020-08-07 23:17:23,381 - matplotlib.font_manager - DEBUG - findfont: score(<Font 'Segoe Print' (segoepr.ttf) normal normal 400 normal>) = 10.05\n",
      "2020-08-07 23:17:23,382 - matplotlib.font_manager - DEBUG - findfont: score(<Font 'Georgia Pro' (GeorgiaPro-CondBoldItalic.ttf) italic normal 700 condensed>) = 11.535\n",
      "2020-08-07 23:17:23,383 - matplotlib.font_manager - DEBUG - findfont: score(<Font 'Yu Gothic' (YuGothL.ttc) normal normal 300 normal>) = 10.145\n",
      "2020-08-07 23:17:23,383 - matplotlib.font_manager - DEBUG - findfont: score(<Font 'Bodoni MT' (BOD_R.TTF) normal normal 400 normal>) = 10.05\n",
      "2020-08-07 23:17:23,384 - matplotlib.font_manager - DEBUG - findfont: score(<Font 'HP Simplified' (HPSimplified_It.ttf) italic normal 400 normal>) = 11.05\n",
      "2020-08-07 23:17:23,384 - matplotlib.font_manager - DEBUG - findfont: score(<Font 'Segoe UI' (seguisb.ttf) normal normal 600 normal>) = 10.24\n",
      "2020-08-07 23:17:23,385 - matplotlib.font_manager - DEBUG - findfont: score(<Font 'Arial Nova' (ArialNovaCond-BoldItalic.ttf) italic normal 700 condensed>) = 11.535\n",
      "2020-08-07 23:17:23,385 - matplotlib.font_manager - DEBUG - findfont: score(<Font 'Haettenschweiler' (HATTEN.TTF) normal normal 400 normal>) = 10.05\n",
      "2020-08-07 23:17:23,386 - matplotlib.font_manager - DEBUG - findfont: score(<Font 'Segoe UI' (segoeuisl.ttf) normal normal 350 normal>) = 10.0975\n",
      "2020-08-07 23:17:23,386 - matplotlib.font_manager - DEBUG - findfont: score(<Font 'Neue Haas Grotesk Text Pro' (NHaasGroteskTXPro-65Md.ttf) normal normal 500 normal>) = 10.145\n",
      "2020-08-07 23:17:23,387 - matplotlib.font_manager - DEBUG - findfont: score(<Font 'Microsoft Tai Le' (taile.ttf) normal normal 400 normal>) = 10.05\n",
      "2020-08-07 23:17:23,387 - matplotlib.font_manager - DEBUG - findfont: score(<Font 'Stencil' (STENCIL.TTF) normal normal 400 normal>) = 10.05\n",
      "2020-08-07 23:17:23,388 - matplotlib.font_manager - DEBUG - findfont: score(<Font 'Calisto MT' (CALIST.TTF) normal normal 400 normal>) = 10.05\n",
      "2020-08-07 23:17:23,388 - matplotlib.font_manager - DEBUG - findfont: score(<Font 'Arial Nova' (ArialNovaCond.ttf) normal normal 400 condensed>) = 10.25\n",
      "2020-08-07 23:17:23,389 - matplotlib.font_manager - DEBUG - findfont: score(<Font 'Calibri' (calibrii.ttf) italic normal 400 normal>) = 11.05\n",
      "2020-08-07 23:17:23,389 - matplotlib.font_manager - DEBUG - findfont: score(<Font 'Rockwell' (ROCK.TTF) normal normal 400 normal>) = 10.05\n",
      "2020-08-07 23:17:23,390 - matplotlib.font_manager - DEBUG - findfont: score(<Font 'Rockwell Nova' (RockwellNovaCond.ttf) normal normal 400 condensed>) = 10.25\n",
      "2020-08-07 23:17:23,390 - matplotlib.font_manager - DEBUG - findfont: score(<Font 'Old English Text MT' (OLDENGL.TTF) normal normal 400 normal>) = 10.05\n",
      "2020-08-07 23:17:23,391 - matplotlib.font_manager - DEBUG - findfont: score(<Font 'Snap ITC' (SNAP____.TTF) normal normal 400 normal>) = 10.05\n",
      "2020-08-07 23:17:23,391 - matplotlib.font_manager - DEBUG - findfont: score(<Font 'Bodoni MT' (BOD_B.TTF) normal normal 700 normal>) = 10.335\n",
      "2020-08-07 23:17:23,391 - matplotlib.font_manager - DEBUG - findfont: score(<Font 'Lucida Calligraphy' (LCALLIG.TTF) italic normal 400 normal>) = 11.05\n",
      "2020-08-07 23:17:23,392 - matplotlib.font_manager - DEBUG - findfont: score(<Font 'Georgia Pro' (GeorgiaPro-CondLight.ttf) normal normal 300 condensed>) = 10.344999999999999\n",
      "2020-08-07 23:17:23,392 - matplotlib.font_manager - DEBUG - findfont: score(<Font 'Rockwell Nova' (RockwellNovaCond-LightItalic.ttf) italic normal 300 condensed>) = 11.344999999999999\n",
      "2020-08-07 23:17:23,393 - matplotlib.font_manager - DEBUG - findfont: score(<Font 'Bodoni MT' (BOD_BLAI.TTF) italic normal 900 normal>) = 11.525\n",
      "2020-08-07 23:17:23,394 - matplotlib.font_manager - DEBUG - findfont: score(<Font 'Tw Cen MT' (TCBI____.TTF) italic normal 700 normal>) = 11.335\n",
      "2020-08-07 23:17:23,394 - matplotlib.font_manager - DEBUG - findfont: score(<Font 'Gill Sans Ultra Bold' (GILSANUB.TTF) normal normal 400 normal>) = 10.05\n",
      "2020-08-07 23:17:23,395 - matplotlib.font_manager - DEBUG - findfont: score(<Font 'Arial Nova' (ArialNovaCond.ttf) normal normal 400 condensed>) = 10.25\n",
      "2020-08-07 23:17:23,396 - matplotlib.font_manager - DEBUG - findfont: score(<Font 'High Tower Text' (HTOWERTI.TTF) italic normal 400 normal>) = 11.05\n",
      "2020-08-07 23:17:23,396 - matplotlib.font_manager - DEBUG - findfont: score(<Font 'Georgia Pro' (GeorgiaPro-CondBoldItalic.ttf) italic normal 700 condensed>) = 11.535\n",
      "2020-08-07 23:17:23,397 - matplotlib.font_manager - DEBUG - findfont: score(<Font 'Gill Sans Nova' (GillSansCondUltraBoNova.ttf) normal normal 900 condensed>) = 10.725\n",
      "2020-08-07 23:17:23,397 - matplotlib.font_manager - DEBUG - findfont: score(<Font 'Century Schoolbook' (SCHLBKB.TTF) normal normal 700 normal>) = 10.335\n",
      "2020-08-07 23:17:23,398 - matplotlib.font_manager - DEBUG - findfont: score(<Font 'Lucida Sans Typewriter' (LTYPEO.TTF) oblique normal 400 normal>) = 11.05\n",
      "2020-08-07 23:17:23,399 - matplotlib.font_manager - DEBUG - findfont: score(<Font 'Cambria' (cambriai.ttf) italic normal 400 normal>) = 11.05\n",
      "2020-08-07 23:17:23,399 - matplotlib.font_manager - DEBUG - findfont: score(<Font 'Viner Hand ITC' (VINERITC.TTF) normal normal 400 normal>) = 10.05\n"
     ]
    },
    {
     "name": "stderr",
     "output_type": "stream",
     "text": [
      "2020-08-07 23:17:23,400 - matplotlib.font_manager - DEBUG - findfont: score(<Font 'Neue Haas Grotesk Text Pro' (NHaasGroteskTXPro-75Bd.ttf) normal normal 700 normal>) = 10.335\n",
      "2020-08-07 23:17:23,400 - matplotlib.font_manager - DEBUG - findfont: score(<Font 'Microsoft PhagsPa' (phagspab.ttf) normal normal 700 normal>) = 10.335\n",
      "2020-08-07 23:17:23,401 - matplotlib.font_manager - DEBUG - findfont: score(<Font 'Microsoft Uighur' (MSUIGHUB.TTF) normal normal 700 normal>) = 10.335\n",
      "2020-08-07 23:17:23,401 - matplotlib.font_manager - DEBUG - findfont: score(<Font 'Arial' (arial.ttf) normal normal 400 normal>) = 10.05\n",
      "2020-08-07 23:17:23,402 - matplotlib.font_manager - DEBUG - findfont: score(<Font 'Century Schoolbook' (SCHLBKI.TTF) italic normal 400 normal>) = 11.05\n",
      "2020-08-07 23:17:23,402 - matplotlib.font_manager - DEBUG - findfont: score(<Font 'Arial' (arial.ttf) normal normal 400 normal>) = 10.05\n",
      "2020-08-07 23:17:23,403 - matplotlib.font_manager - DEBUG - findfont: score(<Font 'Comic Sans MS' (comici.ttf) italic normal 400 normal>) = 11.05\n",
      "2020-08-07 23:17:23,404 - matplotlib.font_manager - DEBUG - findfont: score(<Font 'Copperplate Gothic Bold' (COPRGTB.TTF) normal normal 400 normal>) = 10.05\n",
      "2020-08-07 23:17:23,404 - matplotlib.font_manager - DEBUG - findfont: score(<Font 'Dubai' (DUBAI-MEDIUM.TTF) normal normal 500 normal>) = 10.145\n",
      "2020-08-07 23:17:23,405 - matplotlib.font_manager - DEBUG - findfont: score(<Font 'Calibri' (calibriz.ttf) italic normal 700 normal>) = 11.335\n",
      "2020-08-07 23:17:23,405 - matplotlib.font_manager - DEBUG - findfont: score(<Font 'Imprint MT Shadow' (IMPRISHA.TTF) normal normal 400 normal>) = 10.05\n",
      "2020-08-07 23:17:23,406 - matplotlib.font_manager - DEBUG - findfont: score(<Font 'Imprint MT Shadow' (IMPRISHA.TTF) normal normal 400 normal>) = 10.05\n",
      "2020-08-07 23:17:23,407 - matplotlib.font_manager - DEBUG - findfont: score(<Font 'Verdana Pro' (VerdanaPro-Black.ttf) normal normal 900 normal>) = 10.525\n",
      "2020-08-07 23:17:23,407 - matplotlib.font_manager - DEBUG - findfont: score(<Font 'Georgia' (georgiai.ttf) italic normal 400 normal>) = 11.05\n",
      "2020-08-07 23:17:23,408 - matplotlib.font_manager - DEBUG - findfont: score(<Font 'Candara' (Candarali.ttf) italic normal 400 normal>) = 11.05\n",
      "2020-08-07 23:17:23,408 - matplotlib.font_manager - DEBUG - findfont: score(<Font 'Verdana Pro' (VerdanaPro-CondSemiBoldItalic.ttf) italic normal 600 condensed>) = 11.44\n",
      "2020-08-07 23:17:23,409 - matplotlib.font_manager - DEBUG - findfont: score(<Font 'Bodoni MT' (BOD_CR.TTF) normal normal 400 condensed>) = 10.25\n",
      "2020-08-07 23:17:23,409 - matplotlib.font_manager - DEBUG - findfont: score(<Font 'Courier New' (courbi.ttf) italic normal 700 normal>) = 11.335\n",
      "2020-08-07 23:17:23,410 - matplotlib.font_manager - DEBUG - findfont: score(<Font 'Goudy Stout' (GOUDYSTO.TTF) normal normal 400 normal>) = 10.05\n",
      "2020-08-07 23:17:23,411 - matplotlib.font_manager - DEBUG - findfont: score(<Font 'Kristen ITC' (ITCKRIST.TTF) normal normal 400 normal>) = 10.05\n",
      "2020-08-07 23:17:23,411 - matplotlib.font_manager - DEBUG - findfont: score(<Font 'Wingdings' (wingding.ttf) normal normal 400 normal>) = 10.05\n",
      "2020-08-07 23:17:23,412 - matplotlib.font_manager - DEBUG - findfont: score(<Font 'Verdana' (verdana.ttf) normal normal 400 normal>) = 10.05\n",
      "2020-08-07 23:17:23,413 - matplotlib.font_manager - DEBUG - findfont: score(<Font 'Cambria' (cambriab.ttf) normal normal 700 normal>) = 10.335\n",
      "2020-08-07 23:17:23,413 - matplotlib.font_manager - DEBUG - findfont: score(<Font 'Californian FB' (CALIFR.TTF) normal normal 400 normal>) = 10.05\n",
      "2020-08-07 23:17:23,414 - matplotlib.font_manager - DEBUG - findfont: score(<Font 'Garamond' (GARABD.TTF) normal normal 700 normal>) = 10.335\n",
      "2020-08-07 23:17:23,414 - matplotlib.font_manager - DEBUG - findfont: score(<Font 'Harrington' (HARNGTON.TTF) normal normal 400 normal>) = 10.05\n",
      "2020-08-07 23:17:23,415 - matplotlib.font_manager - DEBUG - findfont: score(<Font 'HP Simplified' (HPSimplified_BdIt.ttf) italic normal 700 normal>) = 11.335\n",
      "2020-08-07 23:17:23,416 - matplotlib.font_manager - DEBUG - findfont: score(<Font 'Candara' (Candaraz.ttf) italic normal 700 normal>) = 11.335\n",
      "2020-08-07 23:17:23,416 - matplotlib.font_manager - DEBUG - findfont: score(<Font 'Gill Sans MT Condensed' (GILC____.TTF) normal normal 400 condensed>) = 10.25\n",
      "2020-08-07 23:17:23,417 - matplotlib.font_manager - DEBUG - findfont: score(<Font 'Comic Sans MS' (comic.ttf) normal normal 400 normal>) = 10.05\n",
      "2020-08-07 23:17:23,417 - matplotlib.font_manager - DEBUG - findfont: score(<Font 'Tahoma' (tahomabd.ttf) normal normal 700 normal>) = 10.335\n",
      "2020-08-07 23:17:23,418 - matplotlib.font_manager - DEBUG - findfont: score(<Font 'Constantia' (constani.ttf) italic normal 400 normal>) = 11.05\n",
      "2020-08-07 23:17:23,419 - matplotlib.font_manager - DEBUG - findfont: score(<Font 'Bradley Hand ITC' (BRADHITC.TTF) normal normal 400 normal>) = 10.05\n",
      "2020-08-07 23:17:23,419 - matplotlib.font_manager - DEBUG - findfont: score(<Font 'Sitka Small' (SitkaI.ttc) italic normal 400 normal>) = 11.05\n",
      "2020-08-07 23:17:23,420 - matplotlib.font_manager - DEBUG - findfont: score(<Font 'Gill Sans Ultra Bold' (GILSANUB.TTF) normal normal 400 normal>) = 10.05\n",
      "2020-08-07 23:17:23,420 - matplotlib.font_manager - DEBUG - findfont: score(<Font 'Verdana Pro' (VerdanaPro-CondBold.ttf) normal normal 700 condensed>) = 10.535\n",
      "2020-08-07 23:17:23,421 - matplotlib.font_manager - DEBUG - findfont: score(<Font 'HoloLens MDL2 Assets' (holomdl2.ttf) normal normal 400 normal>) = 10.05\n",
      "2020-08-07 23:17:23,421 - matplotlib.font_manager - DEBUG - findfont: score(<Font 'Verdana Pro' (VerdanaPro-SemiBoldItalic.ttf) italic normal 600 normal>) = 11.24\n",
      "2020-08-07 23:17:23,422 - matplotlib.font_manager - DEBUG - findfont: score(<Font 'Arial Rounded MT Bold' (ARLRDBD.TTF) normal normal 400 normal>) = 10.05\n",
      "2020-08-07 23:17:23,423 - matplotlib.font_manager - DEBUG - findfont: score(<Font 'Microsoft YaHei' (msyhl.ttc) normal normal 290 normal>) = 10.1545\n",
      "2020-08-07 23:17:23,423 - matplotlib.font_manager - DEBUG - findfont: score(<Font 'Arial' (ARIALNB.TTF) normal normal 700 condensed>) = 10.535\n",
      "2020-08-07 23:17:23,424 - matplotlib.font_manager - DEBUG - findfont: score(<Font 'Georgia' (georgiab.ttf) normal normal 700 normal>) = 10.335\n",
      "2020-08-07 23:17:23,424 - matplotlib.font_manager - DEBUG - findfont: score(<Font 'Century Schoolbook' (SCHLBKBI.TTF) italic normal 700 normal>) = 11.335\n",
      "2020-08-07 23:17:23,425 - matplotlib.font_manager - DEBUG - findfont: score(<Font 'Corbel' (corbelz.ttf) italic normal 700 normal>) = 11.335\n",
      "2020-08-07 23:17:23,426 - matplotlib.font_manager - DEBUG - findfont: score(<Font 'Candara' (Candarai.ttf) italic normal 400 normal>) = 11.05\n",
      "2020-08-07 23:17:23,426 - matplotlib.font_manager - DEBUG - findfont: score(<Font 'Dubai' (DUBAI-REGULAR.TTF) normal normal 400 normal>) = 10.05\n",
      "2020-08-07 23:17:23,427 - matplotlib.font_manager - DEBUG - findfont: score(<Font 'Courier New' (courbi.ttf) italic normal 700 normal>) = 11.335\n",
      "2020-08-07 23:17:23,428 - matplotlib.font_manager - DEBUG - findfont: score(<Font 'Cooper Black' (COOPBL.TTF) normal normal 400 normal>) = 10.05\n",
      "2020-08-07 23:17:23,429 - matplotlib.font_manager - DEBUG - findfont: score(<Font 'Rockwell Nova' (RockwellNova-ExtraBoldItalic.ttf) italic normal 800 normal>) = 11.43\n",
      "2020-08-07 23:17:23,429 - matplotlib.font_manager - DEBUG - findfont: score(<Font 'Gill Sans Nova' (GillSansLightNova.ttf) normal normal 300 normal>) = 10.145\n",
      "2020-08-07 23:17:23,430 - matplotlib.font_manager - DEBUG - findfont: score(<Font 'Arial' (ARIALN.TTF) normal normal 400 condensed>) = 10.25\n",
      "2020-08-07 23:17:23,431 - matplotlib.font_manager - DEBUG - findfont: score(<Font 'Century Gothic' (GOTHICBI.TTF) italic normal 700 normal>) = 11.335\n",
      "2020-08-07 23:17:23,431 - matplotlib.font_manager - DEBUG - findfont: score(<Font 'Georgia Pro' (GeorgiaPro-CondLight.ttf) normal normal 300 condensed>) = 10.344999999999999\n",
      "2020-08-07 23:17:23,432 - matplotlib.font_manager - DEBUG - findfont: score(<Font 'Segoe UI' (seguibl.ttf) normal normal 900 normal>) = 10.525\n",
      "2020-08-07 23:17:23,432 - matplotlib.font_manager - DEBUG - findfont: score(<Font 'Yu Gothic' (YuGothL.ttc) normal normal 300 normal>) = 10.145\n"
     ]
    },
    {
     "name": "stderr",
     "output_type": "stream",
     "text": [
      "2020-08-07 23:17:23,433 - matplotlib.font_manager - DEBUG - findfont: score(<Font 'Arial' (ARIALNI.TTF) italic normal 400 condensed>) = 11.25\n",
      "2020-08-07 23:17:23,434 - matplotlib.font_manager - DEBUG - findfont: score(<Font 'Footlight MT Light' (FTLTLT.TTF) normal normal 300 normal>) = 10.145\n",
      "2020-08-07 23:17:23,434 - matplotlib.font_manager - DEBUG - findfont: score(<Font 'Ebrima' (ebrima.ttf) normal normal 400 normal>) = 10.05\n",
      "2020-08-07 23:17:23,435 - matplotlib.font_manager - DEBUG - findfont: score(<Font 'Rockwell' (ROCKI.TTF) italic normal 400 normal>) = 11.05\n",
      "2020-08-07 23:17:23,435 - matplotlib.font_manager - DEBUG - findfont: score(<Font 'Corbel' (corbelb.ttf) normal normal 700 normal>) = 10.335\n",
      "2020-08-07 23:17:23,436 - matplotlib.font_manager - DEBUG - findfont: score(<Font 'Segoe UI' (seguisbi.ttf) italic normal 600 normal>) = 11.24\n",
      "2020-08-07 23:17:23,437 - matplotlib.font_manager - DEBUG - findfont: score(<Font 'OCR A Extended' (OCRAEXT.TTF) normal normal 400 expanded>) = 10.25\n",
      "2020-08-07 23:17:23,437 - matplotlib.font_manager - DEBUG - findfont: score(<Font 'Garamond' (GARA.TTF) normal normal 400 normal>) = 10.05\n",
      "2020-08-07 23:17:23,438 - matplotlib.font_manager - DEBUG - findfont: score(<Font 'Tw Cen MT Condensed' (TCCB____.TTF) normal normal 700 condensed>) = 10.535\n",
      "2020-08-07 23:17:23,438 - matplotlib.font_manager - DEBUG - findfont: score(<Font 'Times New Roman' (timesi.ttf) italic normal 400 normal>) = 11.05\n",
      "2020-08-07 23:17:23,439 - matplotlib.font_manager - DEBUG - findfont: score(<Font 'Segoe UI' (segoeuil.ttf) normal normal 300 normal>) = 10.145\n",
      "2020-08-07 23:17:23,439 - matplotlib.font_manager - DEBUG - findfont: score(<Font 'Georgia Pro' (GeorgiaPro-Italic.ttf) italic normal 400 normal>) = 11.05\n",
      "2020-08-07 23:17:23,440 - matplotlib.font_manager - DEBUG - findfont: score(<Font 'Georgia Pro' (GeorgiaPro-Italic.ttf) italic normal 400 normal>) = 11.05\n",
      "2020-08-07 23:17:23,441 - matplotlib.font_manager - DEBUG - findfont: score(<Font 'Lucida Sans' (LSANS.TTF) normal normal 400 normal>) = 10.05\n",
      "2020-08-07 23:17:23,441 - matplotlib.font_manager - DEBUG - findfont: score(<Font 'Berlin Sans FB Demi' (BRLNSDB.TTF) normal normal 700 normal>) = 10.335\n",
      "2020-08-07 23:17:23,442 - matplotlib.font_manager - DEBUG - findfont: score(<Font 'Tw Cen MT Condensed' (TCCM____.TTF) normal normal 400 condensed>) = 10.25\n",
      "2020-08-07 23:17:23,443 - matplotlib.font_manager - DEBUG - findfont: score(<Font 'Calisto MT' (CALISTI.TTF) italic normal 400 normal>) = 11.05\n",
      "2020-08-07 23:17:23,443 - matplotlib.font_manager - DEBUG - findfont: score(<Font 'Lucida Bright' (LBRITEDI.TTF) italic normal 600 normal>) = 11.24\n",
      "2020-08-07 23:17:23,444 - matplotlib.font_manager - DEBUG - findfont: score(<Font 'Nirmala UI' (NirmalaS.ttf) normal normal 350 normal>) = 10.0975\n",
      "2020-08-07 23:17:23,444 - matplotlib.font_manager - DEBUG - findfont: score(<Font 'Rockwell Nova' (RockwellNovaCond-Italic.ttf) italic normal 400 condensed>) = 11.25\n",
      "2020-08-07 23:17:23,445 - matplotlib.font_manager - DEBUG - findfont: score(<Font 'Arial Nova' (ArialNova-LightItalic.ttf) italic normal 300 normal>) = 11.145\n",
      "2020-08-07 23:17:23,446 - matplotlib.font_manager - DEBUG - findfont: score(<Font 'Verdana Pro' (VerdanaPro-BoldItalic.ttf) italic normal 700 normal>) = 11.335\n",
      "2020-08-07 23:17:23,446 - matplotlib.font_manager - DEBUG - findfont: score(<Font 'Trebuchet MS' (trebuc.ttf) normal normal 400 normal>) = 10.05\n",
      "2020-08-07 23:17:23,447 - matplotlib.font_manager - DEBUG - findfont: score(<Font 'Verdana Pro' (VerdanaPro-Black.ttf) normal normal 900 normal>) = 10.525\n",
      "2020-08-07 23:17:23,448 - matplotlib.font_manager - DEBUG - findfont: score(<Font 'Bodoni MT' (BOD_CB.TTF) normal normal 700 condensed>) = 10.535\n",
      "2020-08-07 23:17:23,448 - matplotlib.font_manager - DEBUG - findfont: score(<Font 'Rockwell Nova' (RockwellNova-ExtraBold.ttf) normal normal 800 normal>) = 10.43\n",
      "2020-08-07 23:17:23,449 - matplotlib.font_manager - DEBUG - findfont: score(<Font 'Verdana Pro' (VerdanaPro-CondBlack.ttf) normal normal 900 condensed>) = 10.725\n",
      "2020-08-07 23:17:23,449 - matplotlib.font_manager - DEBUG - findfont: score(<Font 'Segoe UI' (segoeuisl.ttf) normal normal 350 normal>) = 10.0975\n",
      "2020-08-07 23:17:23,450 - matplotlib.font_manager - DEBUG - findfont: score(<Font 'Garamond' (GARABD.TTF) normal normal 700 normal>) = 10.335\n",
      "2020-08-07 23:17:23,450 - matplotlib.font_manager - DEBUG - findfont: score(<Font 'Gadugi' (gadugib.ttf) normal normal 700 normal>) = 10.335\n",
      "2020-08-07 23:17:23,451 - matplotlib.font_manager - DEBUG - findfont: score(<Font 'Vivaldi' (VIVALDII.TTF) italic normal 400 normal>) = 11.05\n",
      "2020-08-07 23:17:23,451 - matplotlib.font_manager - DEBUG - findfont: score(<Font 'Elephant' (ELEPHNTI.TTF) italic normal 400 normal>) = 11.05\n",
      "2020-08-07 23:17:23,452 - matplotlib.font_manager - DEBUG - findfont: score(<Font 'Rockwell Nova' (RockwellNovaCond-BoldItalic.ttf) italic normal 700 condensed>) = 11.535\n",
      "2020-08-07 23:17:23,453 - matplotlib.font_manager - DEBUG - findfont: score(<Font 'Trebuchet MS' (trebucbd.ttf) normal normal 700 normal>) = 10.335\n",
      "2020-08-07 23:17:23,453 - matplotlib.font_manager - DEBUG - findfont: score(<Font 'Showcard Gothic' (SHOWG.TTF) normal normal 400 normal>) = 10.05\n",
      "2020-08-07 23:17:23,454 - matplotlib.font_manager - DEBUG - findfont: score(<Font 'Ebrima' (ebrimabd.ttf) normal normal 700 normal>) = 10.335\n",
      "2020-08-07 23:17:23,455 - matplotlib.font_manager - DEBUG - findfont: score(<Font 'Constantia' (constanb.ttf) normal normal 700 normal>) = 10.335\n",
      "2020-08-07 23:17:23,455 - matplotlib.font_manager - DEBUG - findfont: score(<Font 'Lucida Sans Typewriter' (LTYPEB.TTF) normal normal 600 normal>) = 10.24\n",
      "2020-08-07 23:17:23,456 - matplotlib.font_manager - DEBUG - findfont: score(<Font 'Arial' (arialbi.ttf) italic normal 700 normal>) = 11.335\n",
      "2020-08-07 23:17:23,456 - matplotlib.font_manager - DEBUG - findfont: score(<Font 'Book Antiqua' (ANTQUAI.TTF) italic normal 400 normal>) = 11.05\n",
      "2020-08-07 23:17:23,457 - matplotlib.font_manager - DEBUG - findfont: score(<Font 'Rockwell Condensed' (ROCC____.TTF) normal normal 400 condensed>) = 10.25\n",
      "2020-08-07 23:17:23,458 - matplotlib.font_manager - DEBUG - findfont: score(<Font 'Javanese Text' (javatext.ttf) normal normal 400 normal>) = 10.05\n",
      "2020-08-07 23:17:23,458 - matplotlib.font_manager - DEBUG - findfont: score(<Font 'Bell MT' (BELLI.TTF) italic normal 400 normal>) = 11.05\n",
      "2020-08-07 23:17:23,459 - matplotlib.font_manager - DEBUG - findfont: score(<Font 'Gill Sans Nova' (GillSansBoNova.ttf) normal normal 700 normal>) = 10.335\n",
      "2020-08-07 23:17:23,459 - matplotlib.font_manager - DEBUG - findfont: score(<Font 'Lucida Bright' (LBRITEI.TTF) italic normal 400 normal>) = 11.05\n",
      "2020-08-07 23:17:23,460 - matplotlib.font_manager - DEBUG - findfont: score(<Font 'Bodoni MT' (BOD_R.TTF) normal normal 400 normal>) = 10.05\n",
      "2020-08-07 23:17:23,460 - matplotlib.font_manager - DEBUG - findfont: score(<Font 'Mongolian Baiti' (monbaiti.ttf) normal normal 400 normal>) = 10.05\n",
      "2020-08-07 23:17:23,461 - matplotlib.font_manager - DEBUG - findfont: score(<Font 'Segoe UI' (seguisbi.ttf) italic normal 600 normal>) = 11.24\n",
      "2020-08-07 23:17:23,461 - matplotlib.font_manager - DEBUG - findfont: score(<Font 'Georgia Pro' (GeorgiaPro-CondItalic.ttf) italic normal 400 condensed>) = 11.25\n",
      "2020-08-07 23:17:23,462 - matplotlib.font_manager - DEBUG - findfont: score(<Font 'Rockwell Nova' (RockwellNova-BoldItalic.ttf) italic normal 700 normal>) = 11.335\n",
      "2020-08-07 23:17:23,462 - matplotlib.font_manager - DEBUG - findfont: score(<Font 'Neue Haas Grotesk Text Pro' (NHaasGroteskTXPro-55Rg.ttf) normal normal 400 normal>) = 10.05\n",
      "2020-08-07 23:17:23,463 - matplotlib.font_manager - DEBUG - findfont: score(<Font 'Microsoft JhengHei' (msjhbd.ttc) normal normal 700 normal>) = 10.335\n",
      "2020-08-07 23:17:23,463 - matplotlib.font_manager - DEBUG - findfont: score(<Font 'Baskerville Old Face' (BASKVILL.TTF) normal normal 400 normal>) = 10.05\n",
      "2020-08-07 23:17:23,464 - matplotlib.font_manager - DEBUG - findfont: score(<Font 'Lucida Fax' (LFAX.TTF) normal normal 400 normal>) = 10.05\n",
      "2020-08-07 23:17:23,464 - matplotlib.font_manager - DEBUG - findfont: score(<Font 'Lucida Fax' (LFAXI.TTF) italic normal 400 normal>) = 11.05\n"
     ]
    },
    {
     "name": "stderr",
     "output_type": "stream",
     "text": [
      "2020-08-07 23:17:23,465 - matplotlib.font_manager - DEBUG - findfont: score(<Font 'Georgia' (georgiaz.ttf) italic normal 700 normal>) = 11.335\n",
      "2020-08-07 23:17:23,465 - matplotlib.font_manager - DEBUG - findfont: score(<Font 'Lucida Bright' (LBRITE.TTF) normal normal 400 normal>) = 10.05\n",
      "2020-08-07 23:17:23,465 - matplotlib.font_manager - DEBUG - findfont: score(<Font 'Rockwell Extra Bold' (ROCKEB.TTF) normal normal 800 normal>) = 10.43\n",
      "2020-08-07 23:17:23,466 - matplotlib.font_manager - DEBUG - findfont: score(<Font 'Calisto MT' (CALISTB.TTF) normal normal 700 normal>) = 10.335\n",
      "2020-08-07 23:17:23,467 - matplotlib.font_manager - DEBUG - findfont: score(<Font 'Segoe UI Historic' (seguihis.ttf) normal normal 400 normal>) = 10.05\n",
      "2020-08-07 23:17:23,467 - matplotlib.font_manager - DEBUG - findfont: score(<Font 'Lucida Fax' (LFAX.TTF) normal normal 400 normal>) = 10.05\n",
      "2020-08-07 23:17:23,467 - matplotlib.font_manager - DEBUG - findfont: score(<Font 'Wide Latin' (LATINWD.TTF) normal normal 400 expanded>) = 10.25\n",
      "2020-08-07 23:17:23,468 - matplotlib.font_manager - DEBUG - findfont: score(<Font 'Courier New' (couri.ttf) italic normal 400 normal>) = 11.05\n",
      "2020-08-07 23:17:23,468 - matplotlib.font_manager - DEBUG - findfont: score(<Font 'Yu Gothic' (YuGothB.ttc) normal normal 700 normal>) = 10.335\n",
      "2020-08-07 23:17:23,469 - matplotlib.font_manager - DEBUG - findfont: score(<Font 'Goudy Stout' (GOUDYSTO.TTF) normal normal 400 normal>) = 10.05\n",
      "2020-08-07 23:17:23,470 - matplotlib.font_manager - DEBUG - findfont: score(<Font 'Bradley Hand ITC' (BRADHITC.TTF) normal normal 400 normal>) = 10.05\n",
      "2020-08-07 23:17:23,471 - matplotlib.font_manager - DEBUG - findfont: score(<Font 'Gill Sans Nova' (GillSansCondNova.ttf) normal normal 500 condensed>) = 10.344999999999999\n",
      "2020-08-07 23:17:23,471 - matplotlib.font_manager - DEBUG - findfont: score(<Font 'Segoe UI' (segoeuii.ttf) italic normal 400 normal>) = 11.05\n",
      "2020-08-07 23:17:23,472 - matplotlib.font_manager - DEBUG - findfont: score(<Font 'Corbel' (corbelli.ttf) italic normal 300 normal>) = 11.145\n",
      "2020-08-07 23:17:23,473 - matplotlib.font_manager - DEBUG - findfont: score(<Font 'Microsoft Yi Baiti' (msyi.ttf) normal normal 400 normal>) = 10.05\n",
      "2020-08-07 23:17:23,473 - matplotlib.font_manager - DEBUG - findfont: score(<Font 'Bodoni MT' (BOD_CI.TTF) italic normal 400 condensed>) = 11.25\n",
      "2020-08-07 23:17:23,474 - matplotlib.font_manager - DEBUG - findfont: score(<Font 'Lucida Fax' (LFAXI.TTF) italic normal 400 normal>) = 11.05\n",
      "2020-08-07 23:17:23,475 - matplotlib.font_manager - DEBUG - findfont: score(<Font 'Times New Roman' (timesbd.ttf) normal normal 700 normal>) = 10.335\n",
      "2020-08-07 23:17:23,475 - matplotlib.font_manager - DEBUG - findfont: score(<Font 'Californian FB' (CALIFB.TTF) normal normal 700 normal>) = 10.335\n",
      "2020-08-07 23:17:23,476 - matplotlib.font_manager - DEBUG - findfont: score(<Font 'Perpetua Titling MT' (PERTIBD.TTF) normal normal 700 normal>) = 10.335\n",
      "2020-08-07 23:17:23,476 - matplotlib.font_manager - DEBUG - findfont: score(<Font 'Georgia Pro' (GeorgiaPro-CondBlackItalic.ttf) italic normal 900 condensed>) = 11.725\n",
      "2020-08-07 23:17:23,477 - matplotlib.font_manager - DEBUG - findfont: score(<Font 'Georgia Pro' (GeorgiaPro-Black.ttf) normal normal 900 normal>) = 10.525\n",
      "2020-08-07 23:17:23,477 - matplotlib.font_manager - DEBUG - findfont: score(<Font 'Rockwell' (ROCKBI.TTF) italic normal 700 normal>) = 11.335\n",
      "2020-08-07 23:17:23,478 - matplotlib.font_manager - DEBUG - findfont: score(<Font 'Gill Sans MT' (GIL_____.TTF) normal normal 400 normal>) = 10.05\n",
      "2020-08-07 23:17:23,478 - matplotlib.font_manager - DEBUG - findfont: score(<Font 'Corbel' (corbel.ttf) normal normal 400 normal>) = 10.05\n",
      "2020-08-07 23:17:23,479 - matplotlib.font_manager - DEBUG - findfont: score(<Font 'Snap ITC' (SNAP____.TTF) normal normal 400 normal>) = 10.05\n",
      "2020-08-07 23:17:23,479 - matplotlib.font_manager - DEBUG - findfont: score(<Font 'Nirmala UI' (Nirmala.ttf) normal normal 400 normal>) = 10.05\n",
      "2020-08-07 23:17:23,480 - matplotlib.font_manager - DEBUG - findfont: score(<Font 'Rockwell Nova' (RockwellNova-Light.ttf) normal normal 300 normal>) = 10.145\n",
      "2020-08-07 23:17:23,480 - matplotlib.font_manager - DEBUG - findfont: score(<Font 'Times New Roman' (timesbi.ttf) italic normal 700 normal>) = 11.335\n",
      "2020-08-07 23:17:23,481 - matplotlib.font_manager - DEBUG - findfont: score(<Font 'Gill Sans Nova' (GillSansCondUltraBoNova.ttf) normal normal 900 condensed>) = 10.725\n",
      "2020-08-07 23:17:23,482 - matplotlib.font_manager - DEBUG - findfont: score(<Font 'Playbill' (PLAYBILL.TTF) normal normal 400 normal>) = 10.05\n",
      "2020-08-07 23:17:23,482 - matplotlib.font_manager - DEBUG - findfont: score(<Font 'Segoe MDL2 Assets' (segmdl2.ttf) normal normal 400 normal>) = 10.05\n",
      "2020-08-07 23:17:23,483 - matplotlib.font_manager - DEBUG - findfont: score(<Font 'Bauhaus 93' (BAUHS93.TTF) normal normal 400 normal>) = 10.05\n",
      "2020-08-07 23:17:23,483 - matplotlib.font_manager - DEBUG - findfont: score(<Font 'Century Gothic' (GOTHIC.TTF) normal normal 400 normal>) = 10.05\n",
      "2020-08-07 23:17:23,484 - matplotlib.font_manager - DEBUG - findfont: score(<Font 'MV Boli' (mvboli.ttf) normal normal 400 normal>) = 10.05\n",
      "2020-08-07 23:17:23,485 - matplotlib.font_manager - DEBUG - findfont: score(<Font 'Verdana Pro' (VerdanaPro-CondBlackItalic.ttf) italic normal 900 condensed>) = 11.725\n",
      "2020-08-07 23:17:23,485 - matplotlib.font_manager - DEBUG - findfont: score(<Font 'Goudy Old Style' (GOUDOS.TTF) normal normal 400 normal>) = 10.05\n",
      "2020-08-07 23:17:23,486 - matplotlib.font_manager - DEBUG - findfont: score(<Font 'Microsoft Sans Serif' (micross.ttf) normal normal 400 normal>) = 10.05\n",
      "2020-08-07 23:17:23,487 - matplotlib.font_manager - DEBUG - findfont: score(<Font 'Gill Sans Nova' (GillSansNova.ttf) normal normal 500 normal>) = 10.145\n",
      "2020-08-07 23:17:23,487 - matplotlib.font_manager - DEBUG - findfont: score(<Font 'Book Antiqua' (BKANT.TTF) normal normal 400 normal>) = 10.05\n",
      "2020-08-07 23:17:23,488 - matplotlib.font_manager - DEBUG - findfont: score(<Font 'Candara' (Candarab.ttf) normal normal 700 normal>) = 10.335\n",
      "2020-08-07 23:17:23,488 - matplotlib.font_manager - DEBUG - findfont: score(<Font 'Webdings' (webdings.ttf) normal normal 400 normal>) = 10.05\n",
      "2020-08-07 23:17:23,489 - matplotlib.font_manager - DEBUG - findfont: score(<Font 'Lucida Bright' (LBRITE.TTF) normal normal 400 normal>) = 10.05\n",
      "2020-08-07 23:17:23,489 - matplotlib.font_manager - DEBUG - findfont: score(<Font 'Lucida Bright' (LBRITED.TTF) normal normal 600 normal>) = 10.24\n",
      "2020-08-07 23:17:23,490 - matplotlib.font_manager - DEBUG - findfont: score(<Font 'Microsoft PhagsPa' (phagspa.ttf) normal normal 400 normal>) = 10.05\n",
      "2020-08-07 23:17:23,491 - matplotlib.font_manager - DEBUG - findfont: score(<Font 'Nirmala UI' (Nirmala.ttf) normal normal 400 normal>) = 10.05\n",
      "2020-08-07 23:17:23,491 - matplotlib.font_manager - DEBUG - findfont: score(<Font 'Rage Italic' (RAGE.TTF) italic normal 400 normal>) = 11.05\n",
      "2020-08-07 23:17:23,492 - matplotlib.font_manager - DEBUG - findfont: score(<Font 'Eras Medium ITC' (ERASMD.TTF) normal normal 400 normal>) = 10.05\n",
      "2020-08-07 23:17:23,493 - matplotlib.font_manager - DEBUG - findfont: score(<Font 'Georgia Pro' (GeorgiaPro-CondSemiBold.ttf) normal normal 600 condensed>) = 10.44\n",
      "2020-08-07 23:17:23,494 - matplotlib.font_manager - DEBUG - findfont: score(<Font 'Dubai' (DUBAI-LIGHT.TTF) normal normal 300 normal>) = 10.145\n",
      "2020-08-07 23:17:23,495 - matplotlib.font_manager - DEBUG - findfont: score(<Font 'Neue Haas Grotesk Text Pro' (NHaasGroteskTXPro-66MdIt.ttf) italic normal 500 normal>) = 11.145\n",
      "2020-08-07 23:17:23,495 - matplotlib.font_manager - DEBUG - findfont: score(<Font 'Georgia Pro' (GeorgiaPro-CondBold.ttf) normal normal 700 condensed>) = 10.535\n",
      "2020-08-07 23:17:23,496 - matplotlib.font_manager - DEBUG - findfont: score(<Font 'Ravie' (RAVIE.TTF) normal normal 400 normal>) = 10.05\n",
      "2020-08-07 23:17:23,496 - matplotlib.font_manager - DEBUG - findfont: score(<Font 'Tw Cen MT Condensed' (TCCM____.TTF) normal normal 400 condensed>) = 10.25\n",
      "2020-08-07 23:17:23,497 - matplotlib.font_manager - DEBUG - findfont: score(<Font 'Georgia Pro' (GeorgiaPro-CondLightItalic.ttf) italic normal 300 condensed>) = 11.344999999999999\n"
     ]
    },
    {
     "name": "stderr",
     "output_type": "stream",
     "text": [
      "2020-08-07 23:17:23,498 - matplotlib.font_manager - DEBUG - findfont: score(<Font 'Ink Free' (Inkfree.ttf) normal normal 400 normal>) = 10.05\n",
      "2020-08-07 23:17:23,498 - matplotlib.font_manager - DEBUG - findfont: score(<Font 'Rockwell Nova' (RockwellNova-ExtraBold.ttf) normal normal 800 normal>) = 10.43\n",
      "2020-08-07 23:17:23,499 - matplotlib.font_manager - DEBUG - findfont: score(<Font 'Californian FB' (CALIFI.TTF) italic normal 400 normal>) = 11.05\n",
      "2020-08-07 23:17:23,500 - matplotlib.font_manager - DEBUG - findfont: score(<Font 'Vladimir Script' (VLADIMIR.TTF) normal normal 400 normal>) = 10.05\n",
      "2020-08-07 23:17:23,501 - matplotlib.font_manager - DEBUG - findfont: score(<Font 'Verdana Pro' (VerdanaPro-CondBlackItalic.ttf) italic normal 900 condensed>) = 11.725\n",
      "2020-08-07 23:17:23,502 - matplotlib.font_manager - DEBUG - findfont: score(<Font 'Lucida Sans Typewriter' (LTYPEBO.TTF) oblique normal 600 normal>) = 11.24\n",
      "2020-08-07 23:17:23,502 - matplotlib.font_manager - DEBUG - findfont: score(<Font 'Microsoft Tai Le' (taileb.ttf) normal normal 700 normal>) = 10.335\n",
      "2020-08-07 23:17:23,503 - matplotlib.font_manager - DEBUG - findfont: score(<Font 'Century' (CENTURY.TTF) normal normal 400 normal>) = 10.05\n",
      "2020-08-07 23:17:23,504 - matplotlib.font_manager - DEBUG - findfont: score(<Font 'Lucida Sans' (LSANSDI.TTF) italic normal 600 normal>) = 11.24\n",
      "2020-08-07 23:17:23,504 - matplotlib.font_manager - DEBUG - findfont: score(<Font 'Bodoni MT' (BOD_BLAR.TTF) normal normal 900 normal>) = 10.525\n",
      "2020-08-07 23:17:23,505 - matplotlib.font_manager - DEBUG - findfont: score(<Font 'Microsoft Yi Baiti' (msyi.ttf) normal normal 400 normal>) = 10.05\n",
      "2020-08-07 23:17:23,505 - matplotlib.font_manager - DEBUG - findfont: score(<Font 'Arial Nova' (ArialNova-Light.ttf) normal normal 300 normal>) = 10.145\n",
      "2020-08-07 23:17:23,506 - matplotlib.font_manager - DEBUG - findfont: score(<Font 'Gadugi' (gadugi.ttf) normal normal 400 normal>) = 10.05\n",
      "2020-08-07 23:17:23,506 - matplotlib.font_manager - DEBUG - findfont: score(<Font 'Perpetua' (PERB____.TTF) normal normal 700 normal>) = 10.335\n",
      "2020-08-07 23:17:23,506 - matplotlib.font_manager - DEBUG - findfont: score(<Font 'Segoe UI' (seguili.ttf) italic normal 300 normal>) = 11.145\n",
      "2020-08-07 23:17:23,507 - matplotlib.font_manager - DEBUG - findfont: score(<Font 'Georgia' (georgiai.ttf) italic normal 400 normal>) = 11.05\n",
      "2020-08-07 23:17:23,508 - matplotlib.font_manager - DEBUG - findfont: score(<Font 'Verdana Pro' (VerdanaPro-Bold.ttf) normal normal 700 normal>) = 10.335\n",
      "2020-08-07 23:17:23,508 - matplotlib.font_manager - DEBUG - findfont: score(<Font 'Microsoft JhengHei' (msjh.ttc) normal normal 400 normal>) = 10.05\n",
      "2020-08-07 23:17:23,508 - matplotlib.font_manager - DEBUG - findfont: score(<Font 'Malgun Gothic' (malgun.ttf) normal normal 400 normal>) = 10.05\n",
      "2020-08-07 23:17:23,509 - matplotlib.font_manager - DEBUG - findfont: score(<Font 'French Script MT' (FRSCRIPT.TTF) normal normal 400 normal>) = 10.05\n",
      "2020-08-07 23:17:23,510 - matplotlib.font_manager - DEBUG - findfont: score(<Font 'Bell MT' (BELL.TTF) normal normal 400 normal>) = 10.05\n",
      "2020-08-07 23:17:23,510 - matplotlib.font_manager - DEBUG - findfont: score(<Font 'Gill Sans Nova' (GillSansBoItNova.ttf) italic normal 700 normal>) = 11.335\n",
      "2020-08-07 23:17:23,511 - matplotlib.font_manager - DEBUG - findfont: score(<Font 'Verdana Pro' (VerdanaPro-CondLight.ttf) normal normal 300 condensed>) = 10.344999999999999\n",
      "2020-08-07 23:17:23,512 - matplotlib.font_manager - DEBUG - findfont: score(<Font 'Sitka Small' (Sitka.ttc) normal normal 400 normal>) = 10.05\n",
      "2020-08-07 23:17:23,512 - matplotlib.font_manager - DEBUG - findfont: score(<Font 'Berlin Sans FB' (BRLNSR.TTF) normal normal 400 normal>) = 10.05\n",
      "2020-08-07 23:17:23,513 - matplotlib.font_manager - DEBUG - findfont: score(<Font 'Verdana Pro' (VerdanaPro-CondItalic.ttf) italic normal 400 condensed>) = 11.25\n",
      "2020-08-07 23:17:23,513 - matplotlib.font_manager - DEBUG - findfont: score(<Font 'Rockwell Nova' (RockwellNovaCond-Bold.ttf) normal normal 700 condensed>) = 10.535\n",
      "2020-08-07 23:17:23,514 - matplotlib.font_manager - DEBUG - findfont: score(<Font 'Microsoft YaHei' (msyhbd.ttc) normal normal 700 normal>) = 10.335\n",
      "2020-08-07 23:17:23,514 - matplotlib.font_manager - DEBUG - findfont: score(<Font 'HP Simplified' (HPSimplified_Rg.ttf) normal normal 400 normal>) = 10.05\n",
      "2020-08-07 23:17:23,515 - matplotlib.font_manager - DEBUG - findfont: score(<Font 'Leelawadee' (LEELAWAD.TTF) normal normal 400 normal>) = 10.05\n",
      "2020-08-07 23:17:23,516 - matplotlib.font_manager - DEBUG - findfont: score(<Font 'Microsoft New Tai Lue' (ntailub.ttf) normal normal 700 normal>) = 10.335\n",
      "2020-08-07 23:17:23,517 - matplotlib.font_manager - DEBUG - findfont: score(<Font 'Bodoni MT' (BOD_I.TTF) italic normal 400 normal>) = 11.05\n",
      "2020-08-07 23:17:23,518 - matplotlib.font_manager - DEBUG - findfont: score(<Font 'Consolas' (consolai.ttf) italic normal 400 normal>) = 11.05\n",
      "2020-08-07 23:17:23,518 - matplotlib.font_manager - DEBUG - findfont: score(<Font 'Bodoni MT' (BOD_BI.TTF) italic normal 700 normal>) = 11.335\n",
      "2020-08-07 23:17:23,519 - matplotlib.font_manager - DEBUG - findfont: score(<Font 'Centaur' (CENTAUR.TTF) normal normal 400 normal>) = 10.05\n",
      "2020-08-07 23:17:23,519 - matplotlib.font_manager - DEBUG - findfont: score(<Font 'Corbel' (corbell.ttf) normal normal 300 normal>) = 10.145\n",
      "2020-08-07 23:17:23,520 - matplotlib.font_manager - DEBUG - findfont: score(<Font 'Elephant' (ELEPHNTI.TTF) italic normal 400 normal>) = 11.05\n",
      "2020-08-07 23:17:23,521 - matplotlib.font_manager - DEBUG - findfont: score(<Font 'HP Simplified' (HPSimplified_LtIt.ttf) italic normal 300 normal>) = 11.145\n",
      "2020-08-07 23:17:23,521 - matplotlib.font_manager - DEBUG - findfont: score(<Font 'Franklin Gothic Demi' (FRADMIT.TTF) italic normal 400 normal>) = 11.05\n",
      "2020-08-07 23:17:23,522 - matplotlib.font_manager - DEBUG - findfont: score(<Font 'Calisto MT' (CALISTI.TTF) italic normal 400 normal>) = 11.05\n",
      "2020-08-07 23:17:23,523 - matplotlib.font_manager - DEBUG - findfont: score(<Font 'Arial Nova' (ArialNovaCond-Light.ttf) normal normal 300 condensed>) = 10.344999999999999\n",
      "2020-08-07 23:17:23,523 - matplotlib.font_manager - DEBUG - findfont: score(<Font 'Arial Nova' (ArialNovaCond-Light.ttf) normal normal 300 condensed>) = 10.344999999999999\n",
      "2020-08-07 23:17:23,524 - matplotlib.font_manager - DEBUG - findfont: score(<Font 'Courier New' (couri.ttf) italic normal 400 normal>) = 11.05\n",
      "2020-08-07 23:17:23,524 - matplotlib.font_manager - DEBUG - findfont: score(<Font 'Arial' (ARIALNB.TTF) normal normal 700 condensed>) = 10.535\n",
      "2020-08-07 23:17:23,525 - matplotlib.font_manager - DEBUG - findfont: score(<Font 'Wingdings 2' (WINGDNG2.TTF) normal normal 400 normal>) = 10.05\n",
      "2020-08-07 23:17:23,526 - matplotlib.font_manager - DEBUG - findfont: score(<Font 'Rockwell Nova' (RockwellNova-Light.ttf) normal normal 300 normal>) = 10.145\n",
      "2020-08-07 23:17:23,527 - matplotlib.font_manager - DEBUG - findfont: score(<Font 'Segoe UI' (segoeuiz.ttf) italic normal 700 normal>) = 11.335\n",
      "2020-08-07 23:17:23,528 - matplotlib.font_manager - DEBUG - findfont: score(<Font 'Elephant' (ELEPHNT.TTF) normal normal 400 normal>) = 10.05\n",
      "2020-08-07 23:17:23,528 - matplotlib.font_manager - DEBUG - findfont: score(<Font 'Trebuchet MS' (trebucbi.ttf) italic normal 700 normal>) = 11.335\n",
      "2020-08-07 23:17:23,529 - matplotlib.font_manager - DEBUG - findfont: score(<Font 'Arial' (ariblk.ttf) normal normal 900 normal>) = 10.525\n",
      "2020-08-07 23:17:23,529 - matplotlib.font_manager - DEBUG - findfont: score(<Font 'Verdana' (verdanai.ttf) italic normal 400 normal>) = 11.05\n",
      "2020-08-07 23:17:23,530 - matplotlib.font_manager - DEBUG - findfont: score(<Font 'HP Simplified' (HPSimplified_Lt.ttf) normal normal 300 normal>) = 10.145\n",
      "2020-08-07 23:17:23,531 - matplotlib.font_manager - DEBUG - findfont: score(<Font 'Lucida Sans' (LSANSDI.TTF) italic normal 600 normal>) = 11.24\n",
      "2020-08-07 23:17:23,531 - matplotlib.font_manager - DEBUG - findfont: score(<Font 'Segoe UI' (segoeuii.ttf) italic normal 400 normal>) = 11.05\n",
      "2020-08-07 23:17:23,532 - matplotlib.font_manager - DEBUG - findfont: score(<Font 'Californian FB' (CALIFR.TTF) normal normal 400 normal>) = 10.05\n"
     ]
    },
    {
     "name": "stderr",
     "output_type": "stream",
     "text": [
      "2020-08-07 23:17:23,533 - matplotlib.font_manager - DEBUG - findfont: score(<Font 'Bell MT' (BELLB.TTF) normal normal 700 normal>) = 10.335\n",
      "2020-08-07 23:17:23,534 - matplotlib.font_manager - DEBUG - findfont: score(<Font 'Calibri' (calibril.ttf) normal normal 300 normal>) = 10.145\n",
      "2020-08-07 23:17:23,534 - matplotlib.font_manager - DEBUG - findfont: score(<Font 'Rockwell Nova' (RockwellNova-Bold.ttf) normal normal 700 normal>) = 10.335\n",
      "2020-08-07 23:17:23,535 - matplotlib.font_manager - DEBUG - findfont: score(<Font 'Verdana Pro' (VerdanaPro-CondRegular.ttf) normal normal 400 condensed>) = 10.25\n",
      "2020-08-07 23:17:23,536 - matplotlib.font_manager - DEBUG - findfont: score(<Font 'Californian FB' (CALIFI.TTF) italic normal 400 normal>) = 11.05\n",
      "2020-08-07 23:17:23,536 - matplotlib.font_manager - DEBUG - findfont: score(<Font 'Ebrima' (ebrima.ttf) normal normal 400 normal>) = 10.05\n",
      "2020-08-07 23:17:23,537 - matplotlib.font_manager - DEBUG - findfont: score(<Font 'Myanmar Text' (mmrtextb.ttf) normal normal 700 normal>) = 10.335\n",
      "2020-08-07 23:17:23,537 - matplotlib.font_manager - DEBUG - findfont: score(<Font 'Arial Nova' (ArialNova-BoldItalic.ttf) italic normal 700 normal>) = 11.335\n",
      "2020-08-07 23:17:23,538 - matplotlib.font_manager - DEBUG - findfont: score(<Font 'Niagara Engraved' (NIAGENG.TTF) normal normal 400 normal>) = 10.05\n",
      "2020-08-07 23:17:23,538 - matplotlib.font_manager - DEBUG - findfont: score(<Font 'High Tower Text' (HTOWERTI.TTF) italic normal 400 normal>) = 11.05\n",
      "2020-08-07 23:17:23,539 - matplotlib.font_manager - DEBUG - findfont: score(<Font 'Wingdings 2' (WINGDNG2.TTF) normal normal 400 normal>) = 10.05\n",
      "2020-08-07 23:17:23,539 - matplotlib.font_manager - DEBUG - findfont: score(<Font 'Centaur' (CENTAUR.TTF) normal normal 400 normal>) = 10.05\n",
      "2020-08-07 23:17:23,540 - matplotlib.font_manager - DEBUG - findfont: score(<Font 'Book Antiqua' (ANTQUAB.TTF) normal normal 700 normal>) = 10.335\n",
      "2020-08-07 23:17:23,541 - matplotlib.font_manager - DEBUG - findfont: score(<Font 'Comic Sans MS' (comicz.ttf) italic normal 700 normal>) = 11.335\n",
      "2020-08-07 23:17:23,541 - matplotlib.font_manager - DEBUG - findfont: score(<Font 'Rockwell Nova' (RockwellNova.ttf) normal normal 400 normal>) = 10.05\n",
      "2020-08-07 23:17:23,542 - matplotlib.font_manager - DEBUG - findfont: score(<Font 'Verdana' (verdanab.ttf) normal normal 700 normal>) = 10.335\n",
      "2020-08-07 23:17:23,543 - matplotlib.font_manager - DEBUG - findfont: score(<Font 'Perpetua Titling MT' (PERTIBD.TTF) normal normal 700 normal>) = 10.335\n",
      "2020-08-07 23:17:23,544 - matplotlib.font_manager - DEBUG - findfont: score(<Font 'Perpetua' (PER_____.TTF) normal normal 400 normal>) = 10.05\n",
      "2020-08-07 23:17:23,544 - matplotlib.font_manager - DEBUG - findfont: score(<Font 'Bahnschrift' (bahnschrift.ttf) normal normal 400 normal>) = 10.05\n",
      "2020-08-07 23:17:23,545 - matplotlib.font_manager - DEBUG - findfont: score(<Font 'Verdana Pro' (VerdanaPro-Light.ttf) normal normal 300 normal>) = 10.145\n",
      "2020-08-07 23:17:23,545 - matplotlib.font_manager - DEBUG - findfont: score(<Font 'Corbel' (corbelb.ttf) normal normal 700 normal>) = 10.335\n",
      "2020-08-07 23:17:23,546 - matplotlib.font_manager - DEBUG - findfont: score(<Font 'Corbel' (corbeli.ttf) italic normal 400 normal>) = 11.05\n",
      "2020-08-07 23:17:23,546 - matplotlib.font_manager - DEBUG - findfont: score(<Font 'Rockwell Condensed' (ROCC____.TTF) normal normal 400 condensed>) = 10.25\n",
      "2020-08-07 23:17:23,547 - matplotlib.font_manager - DEBUG - findfont: score(<Font 'Segoe UI' (segoeuib.ttf) normal normal 700 normal>) = 10.335\n",
      "2020-08-07 23:17:23,547 - matplotlib.font_manager - DEBUG - findfont: score(<Font 'Impact' (impact.ttf) normal normal 400 normal>) = 10.05\n",
      "2020-08-07 23:17:23,547 - matplotlib.font_manager - DEBUG - findfont: score(<Font 'Verdana Pro' (VerdanaPro-SemiBoldItalic.ttf) italic normal 600 normal>) = 11.24\n",
      "2020-08-07 23:17:23,548 - matplotlib.font_manager - DEBUG - findfont: score(<Font 'Verdana Pro' (VerdanaPro-CondLightItalic.ttf) italic normal 300 condensed>) = 11.344999999999999\n",
      "2020-08-07 23:17:23,548 - matplotlib.font_manager - DEBUG - findfont: score(<Font 'MS Reference Sans Serif' (REFSAN.TTF) normal normal 400 normal>) = 10.05\n",
      "2020-08-07 23:17:23,549 - matplotlib.font_manager - DEBUG - findfont: score(<Font 'Myanmar Text' (mmrtextb.ttf) normal normal 700 normal>) = 10.335\n",
      "2020-08-07 23:17:23,550 - matplotlib.font_manager - DEBUG - findfont: score(<Font 'Arial Nova' (ArialNovaCond-Italic.ttf) italic normal 400 condensed>) = 11.25\n",
      "2020-08-07 23:17:23,551 - matplotlib.font_manager - DEBUG - findfont: score(<Font 'Garamond' (GARAIT.TTF) italic normal 400 normal>) = 11.05\n",
      "2020-08-07 23:17:23,552 - matplotlib.font_manager - DEBUG - findfont: score(<Font 'Dubai' (DUBAI-LIGHT.TTF) normal normal 300 normal>) = 10.145\n",
      "2020-08-07 23:17:23,552 - matplotlib.font_manager - DEBUG - findfont: score(<Font 'Javanese Text' (javatext.ttf) normal normal 400 normal>) = 10.05\n",
      "2020-08-07 23:17:23,553 - matplotlib.font_manager - DEBUG - findfont: score(<Font 'Segoe UI' (seguibli.ttf) italic normal 900 normal>) = 11.525\n",
      "2020-08-07 23:17:23,554 - matplotlib.font_manager - DEBUG - findfont: score(<Font 'Matura MT Script Capitals' (MATURASC.TTF) normal normal 400 normal>) = 10.05\n",
      "2020-08-07 23:17:23,554 - matplotlib.font_manager - DEBUG - findfont: score(<Font 'Gill Sans Nova' (GillSansCondNova.ttf) normal normal 500 condensed>) = 10.344999999999999\n",
      "2020-08-07 23:17:23,555 - matplotlib.font_manager - DEBUG - findfont: score(<Font 'Gill Sans Nova' (GillSansCondExtraItNova.ttf) italic normal 800 condensed>) = 11.629999999999999\n",
      "2020-08-07 23:17:23,555 - matplotlib.font_manager - DEBUG - findfont: score(<Font 'Gill Sans Nova' (GillSansBoNova.ttf) normal normal 700 normal>) = 10.335\n",
      "2020-08-07 23:17:23,556 - matplotlib.font_manager - DEBUG - findfont: score(<Font 'Malgun Gothic' (malgunbd.ttf) normal normal 700 normal>) = 10.335\n",
      "2020-08-07 23:17:23,556 - matplotlib.font_manager - DEBUG - findfont: score(<Font 'Freestyle Script' (FREESCPT.TTF) normal normal 400 normal>) = 10.05\n",
      "2020-08-07 23:17:23,557 - matplotlib.font_manager - DEBUG - findfont: score(<Font 'Neue Haas Grotesk Text Pro' (NHaasGroteskTXPro-55Rg.ttf) normal normal 400 normal>) = 10.05\n",
      "2020-08-07 23:17:23,558 - matplotlib.font_manager - DEBUG - findfont: score(<Font 'Algerian' (ALGER.TTF) normal normal 400 normal>) = 10.05\n",
      "2020-08-07 23:17:23,558 - matplotlib.font_manager - DEBUG - findfont: score(<Font 'Rockwell Nova' (RockwellNovaCond-LightItalic.ttf) italic normal 300 condensed>) = 11.344999999999999\n",
      "2020-08-07 23:17:23,559 - matplotlib.font_manager - DEBUG - findfont: score(<Font 'Monotype Corsiva' (MTCORSVA.TTF) normal normal 400 normal>) = 10.05\n",
      "2020-08-07 23:17:23,559 - matplotlib.font_manager - DEBUG - findfont: score(<Font 'Calibri' (calibrib.ttf) normal normal 700 normal>) = 10.335\n",
      "2020-08-07 23:17:23,560 - matplotlib.font_manager - DEBUG - findfont: score(<Font 'Parchment' (PARCHM.TTF) normal normal 400 normal>) = 10.05\n",
      "2020-08-07 23:17:23,561 - matplotlib.font_manager - DEBUG - findfont: score(<Font 'MS Reference Sans Serif' (REFSAN.TTF) normal normal 400 normal>) = 10.05\n",
      "2020-08-07 23:17:23,562 - matplotlib.font_manager - DEBUG - findfont: score(<Font 'Segoe Script' (segoescb.ttf) normal normal 700 normal>) = 10.335\n",
      "2020-08-07 23:17:23,563 - matplotlib.font_manager - DEBUG - findfont: score(<Font 'Old English Text MT' (OLDENGL.TTF) normal normal 400 normal>) = 10.05\n",
      "2020-08-07 23:17:23,564 - matplotlib.font_manager - DEBUG - findfont: score(<Font 'HP Simplified' (HPSimplified.ttf) normal normal 700 normal>) = 10.335\n",
      "2020-08-07 23:17:23,565 - matplotlib.font_manager - DEBUG - findfont: score(<Font 'Kunstler Script' (KUNSTLER.TTF) normal normal 400 normal>) = 10.05\n",
      "2020-08-07 23:17:23,565 - matplotlib.font_manager - DEBUG - findfont: score(<Font 'Rockwell Nova' (RockwellNovaCond-Italic.ttf) italic normal 400 condensed>) = 11.25\n",
      "2020-08-07 23:17:23,566 - matplotlib.font_manager - DEBUG - findfont: score(<Font 'Georgia Pro' (GeorgiaPro-SemiBoldItalic.ttf) italic normal 600 normal>) = 11.24\n",
      "2020-08-07 23:17:23,567 - matplotlib.font_manager - DEBUG - findfont: score(<Font 'Gill Sans Nova' (GillSansNova.ttf) normal normal 500 normal>) = 10.145\n"
     ]
    },
    {
     "name": "stderr",
     "output_type": "stream",
     "text": [
      "2020-08-07 23:17:23,568 - matplotlib.font_manager - DEBUG - findfont: score(<Font 'Bodoni MT' (BOD_PSTC.TTF) normal normal 300 normal>) = 10.145\n",
      "2020-08-07 23:17:23,569 - matplotlib.font_manager - DEBUG - findfont: score(<Font 'Verdana Pro' (VerdanaPro-Regular.ttf) normal normal 400 normal>) = 10.05\n",
      "2020-08-07 23:17:23,569 - matplotlib.font_manager - DEBUG - findfont: score(<Font 'Ravie' (RAVIE.TTF) normal normal 400 normal>) = 10.05\n",
      "2020-08-07 23:17:23,570 - matplotlib.font_manager - DEBUG - findfont: score(<Font 'Dubai' (DUBAI-MEDIUM.TTF) normal normal 500 normal>) = 10.145\n",
      "2020-08-07 23:17:23,570 - matplotlib.font_manager - DEBUG - findfont: score(<Font 'Elephant' (ELEPHNT.TTF) normal normal 400 normal>) = 10.05\n",
      "2020-08-07 23:17:23,571 - matplotlib.font_manager - DEBUG - findfont: score(<Font 'Footlight MT Light' (FTLTLT.TTF) normal normal 300 normal>) = 10.145\n",
      "2020-08-07 23:17:23,572 - matplotlib.font_manager - DEBUG - findfont: score(<Font 'Papyrus' (PAPYRUS.TTF) normal normal 400 normal>) = 10.05\n",
      "2020-08-07 23:17:23,572 - matplotlib.font_manager - DEBUG - findfont: score(<Font 'MS Reference Specialty' (REFSPCL.TTF) normal normal 400 normal>) = 10.05\n",
      "2020-08-07 23:17:23,573 - matplotlib.font_manager - DEBUG - findfont: score(<Font 'Georgia Pro' (GeorgiaPro-CondBlack.ttf) normal normal 900 condensed>) = 10.725\n",
      "2020-08-07 23:17:23,574 - matplotlib.font_manager - DEBUG - findfont: score(<Font 'Constantia' (constani.ttf) italic normal 400 normal>) = 11.05\n",
      "2020-08-07 23:17:23,574 - matplotlib.font_manager - DEBUG - findfont: score(<Font 'Agency FB' (AGENCYB.TTF) normal normal 700 normal>) = 10.335\n",
      "2020-08-07 23:17:23,575 - matplotlib.font_manager - DEBUG - findfont: score(<Font 'Neue Haas Grotesk Text Pro' (NHaasGroteskTXPro-75Bd.ttf) normal normal 700 normal>) = 10.335\n",
      "2020-08-07 23:17:23,575 - matplotlib.font_manager - DEBUG - findfont: score(<Font 'Perpetua Titling MT' (PERTILI.TTF) normal normal 300 normal>) = 10.145\n",
      "2020-08-07 23:17:23,576 - matplotlib.font_manager - DEBUG - findfont: score(<Font 'Yu Gothic' (YuGothM.ttc) normal normal 500 normal>) = 10.145\n",
      "2020-08-07 23:17:23,577 - matplotlib.font_manager - DEBUG - findfont: score(<Font 'Franklin Gothic Heavy' (FRAHVIT.TTF) italic normal 400 normal>) = 11.05\n",
      "2020-08-07 23:17:23,578 - matplotlib.font_manager - DEBUG - findfont: score(<Font 'Calibri' (calibriz.ttf) italic normal 700 normal>) = 11.335\n",
      "2020-08-07 23:17:23,578 - matplotlib.font_manager - DEBUG - findfont: score(<Font 'Wide Latin' (LATINWD.TTF) normal normal 400 expanded>) = 10.25\n",
      "2020-08-07 23:17:23,579 - matplotlib.font_manager - DEBUG - findfont: score(<Font 'Gill Sans Nova' (GillSansCondExtraNova.ttf) normal normal 800 condensed>) = 10.629999999999999\n",
      "2020-08-07 23:17:23,579 - matplotlib.font_manager - DEBUG - findfont: score(<Font 'Consolas' (consolab.ttf) normal normal 700 normal>) = 10.335\n",
      "2020-08-07 23:17:23,580 - matplotlib.font_manager - DEBUG - findfont: score(<Font 'Segoe UI' (segoeui.ttf) normal normal 400 normal>) = 10.05\n",
      "2020-08-07 23:17:23,580 - matplotlib.font_manager - DEBUG - findfont: score(<Font 'Microsoft New Tai Lue' (ntailub.ttf) normal normal 700 normal>) = 10.335\n",
      "2020-08-07 23:17:23,582 - matplotlib.font_manager - DEBUG - findfont: score(<Font 'Georgia Pro' (GeorgiaPro-SemiBold.ttf) normal normal 600 normal>) = 10.24\n",
      "2020-08-07 23:17:23,582 - matplotlib.font_manager - DEBUG - findfont: score(<Font 'Verdana' (verdanaz.ttf) italic normal 700 normal>) = 11.335\n",
      "2020-08-07 23:17:23,583 - matplotlib.font_manager - DEBUG - findfont: score(<Font 'Verdana Pro' (VerdanaPro-Light.ttf) normal normal 300 normal>) = 10.145\n",
      "2020-08-07 23:17:23,583 - matplotlib.font_manager - DEBUG - findfont: score(<Font 'Rockwell Condensed' (ROCCB___.TTF) normal normal 700 condensed>) = 10.535\n",
      "2020-08-07 23:17:23,584 - matplotlib.font_manager - DEBUG - findfont: score(<Font 'Gill Sans Nova' (GillSansCondLightNova.ttf) normal normal 300 condensed>) = 10.344999999999999\n",
      "2020-08-07 23:17:23,585 - matplotlib.font_manager - DEBUG - findfont: score(<Font 'Tahoma' (tahomabd.ttf) normal normal 700 normal>) = 10.335\n",
      "2020-08-07 23:17:23,585 - matplotlib.font_manager - DEBUG - findfont: score(<Font 'Consolas' (consolaz.ttf) italic normal 700 normal>) = 11.335\n",
      "2020-08-07 23:17:23,586 - matplotlib.font_manager - DEBUG - findfont: score(<Font 'Gill Sans Nova' (GillSansCondItNova.ttf) italic normal 500 condensed>) = 11.344999999999999\n",
      "2020-08-07 23:17:23,586 - matplotlib.font_manager - DEBUG - findfont: score(<Font 'Leelawadee UI' (LeelawUI.ttf) normal normal 400 normal>) = 10.05\n",
      "2020-08-07 23:17:23,587 - matplotlib.font_manager - DEBUG - findfont: score(<Font 'Papyrus' (PAPYRUS.TTF) normal normal 400 normal>) = 10.05\n",
      "2020-08-07 23:17:23,587 - matplotlib.font_manager - DEBUG - findfont: score(<Font 'Gill Sans Nova' (GillSansCondLightItNova.ttf) italic normal 300 condensed>) = 11.344999999999999\n",
      "2020-08-07 23:17:23,588 - matplotlib.font_manager - DEBUG - findfont: score(<Font 'Lucida Fax' (LFAXDI.TTF) italic normal 600 normal>) = 11.24\n",
      "2020-08-07 23:17:23,588 - matplotlib.font_manager - DEBUG - findfont: score(<Font 'Georgia Pro' (GeorgiaPro-CondRegular.ttf) normal normal 400 condensed>) = 10.25\n",
      "2020-08-07 23:17:23,589 - matplotlib.font_manager - DEBUG - findfont: score(<Font 'Gill Sans Nova' (GillSansCondLightItNova.ttf) italic normal 300 condensed>) = 11.344999999999999\n",
      "2020-08-07 23:17:23,589 - matplotlib.font_manager - DEBUG - findfont: score(<Font 'Verdana Pro' (VerdanaPro-CondLight.ttf) normal normal 300 condensed>) = 10.344999999999999\n",
      "2020-08-07 23:17:23,590 - matplotlib.font_manager - DEBUG - findfont: score(<Font 'Tw Cen MT' (TCMI____.TTF) italic normal 400 normal>) = 11.05\n",
      "2020-08-07 23:17:23,591 - matplotlib.font_manager - DEBUG - findfont: score(<Font 'Malgun Gothic' (malgunbd.ttf) normal normal 700 normal>) = 10.335\n",
      "2020-08-07 23:17:23,591 - matplotlib.font_manager - DEBUG - findfont: score(<Font 'Gabriola' (Gabriola.ttf) normal normal 400 normal>) = 10.05\n",
      "2020-08-07 23:17:23,592 - matplotlib.font_manager - DEBUG - findfont: score(<Font 'Rockwell Nova' (RockwellNovaCond-Light.ttf) normal normal 300 condensed>) = 10.344999999999999\n",
      "2020-08-07 23:17:23,593 - matplotlib.font_manager - DEBUG - findfont: score(<Font 'Corbel' (corbelli.ttf) italic normal 300 normal>) = 11.145\n",
      "2020-08-07 23:17:23,593 - matplotlib.font_manager - DEBUG - findfont: score(<Font 'Constantia' (constanz.ttf) italic normal 700 normal>) = 11.335\n",
      "2020-08-07 23:17:23,594 - matplotlib.font_manager - DEBUG - findfont: score(<Font 'Trebuchet MS' (trebuc.ttf) normal normal 400 normal>) = 10.05\n",
      "2020-08-07 23:17:23,595 - matplotlib.font_manager - DEBUG - findfont: score(<Font 'Gill Sans MT' (GILI____.TTF) italic normal 400 normal>) = 11.05\n",
      "2020-08-07 23:17:23,596 - matplotlib.font_manager - DEBUG - findfont: score(<Font 'Tw Cen MT' (TCM_____.TTF) normal normal 400 normal>) = 10.05\n",
      "2020-08-07 23:17:23,596 - matplotlib.font_manager - DEBUG - findfont: score(<Font 'Castellar' (CASTELAR.TTF) normal normal 400 normal>) = 10.05\n",
      "2020-08-07 23:17:23,597 - matplotlib.font_manager - DEBUG - findfont: score(<Font 'Lucida Fax' (LFAXD.TTF) normal normal 600 normal>) = 10.24\n",
      "2020-08-07 23:17:23,598 - matplotlib.font_manager - DEBUG - findfont: score(<Font 'Franklin Gothic Medium' (framdit.ttf) italic normal 400 normal>) = 11.05\n",
      "2020-08-07 23:17:23,599 - matplotlib.font_manager - DEBUG - findfont: score(<Font 'Franklin Gothic Book' (FRABKIT.TTF) italic normal 400 normal>) = 11.05\n",
      "2020-08-07 23:17:23,600 - matplotlib.font_manager - DEBUG - findfont: score(<Font 'Harlow Solid Italic' (HARLOWSI.TTF) italic normal 400 normal>) = 11.05\n",
      "2020-08-07 23:17:23,601 - matplotlib.font_manager - DEBUG - findfont: score(<Font 'Rockwell Nova' (RockwellNova-Bold.ttf) normal normal 700 normal>) = 10.335\n",
      "2020-08-07 23:17:23,601 - matplotlib.font_manager - DEBUG - findfont: score(<Font 'Blackadder ITC' (ITCBLKAD.TTF) normal normal 400 normal>) = 10.05\n",
      "2020-08-07 23:17:23,603 - matplotlib.font_manager - DEBUG - findfont: score(<Font 'Stencil' (STENCIL.TTF) normal normal 400 normal>) = 10.05\n",
      "2020-08-07 23:17:23,603 - matplotlib.font_manager - DEBUG - findfont: score(<Font 'Arial Nova' (ArialNovaCond-Bold.ttf) normal normal 700 condensed>) = 10.535\n"
     ]
    },
    {
     "name": "stderr",
     "output_type": "stream",
     "text": [
      "2020-08-07 23:17:23,604 - matplotlib.font_manager - DEBUG - findfont: score(<Font 'Playbill' (PLAYBILL.TTF) normal normal 400 normal>) = 10.05\n",
      "2020-08-07 23:17:23,605 - matplotlib.font_manager - DEBUG - findfont: score(<Font 'Agency FB' (AGENCYR.TTF) normal normal 400 normal>) = 10.05\n",
      "2020-08-07 23:17:23,605 - matplotlib.font_manager - DEBUG - findfont: score(<Font 'Tw Cen MT' (TCB_____.TTF) normal normal 700 normal>) = 10.335\n",
      "2020-08-07 23:17:23,606 - matplotlib.font_manager - DEBUG - findfont: score(<Font 'Cooper Black' (COOPBL.TTF) normal normal 400 normal>) = 10.05\n",
      "2020-08-07 23:17:23,607 - matplotlib.font_manager - DEBUG - findfont: score(<Font 'Consolas' (consolai.ttf) italic normal 400 normal>) = 11.05\n",
      "2020-08-07 23:17:23,607 - matplotlib.font_manager - DEBUG - findfont: score(<Font 'Franklin Gothic Demi Cond' (FRADMCN.TTF) normal normal 400 condensed>) = 10.25\n",
      "2020-08-07 23:17:23,608 - matplotlib.font_manager - DEBUG - findfont: score(<Font 'Bodoni MT' (BOD_CBI.TTF) italic normal 700 condensed>) = 11.535\n",
      "2020-08-07 23:17:23,609 - matplotlib.font_manager - DEBUG - findfont: score(<Font 'Rockwell Nova' (RockwellNova.ttf) normal normal 400 normal>) = 10.05\n",
      "2020-08-07 23:17:23,610 - matplotlib.font_manager - DEBUG - findfont: score(<Font 'Times New Roman' (timesbd.ttf) normal normal 700 normal>) = 10.335\n",
      "2020-08-07 23:17:23,610 - matplotlib.font_manager - DEBUG - findfont: score(<Font 'Candara' (Candaral.ttf) normal normal 400 normal>) = 10.05\n",
      "2020-08-07 23:17:23,611 - matplotlib.font_manager - DEBUG - findfont: score(<Font 'French Script MT' (FRSCRIPT.TTF) normal normal 400 normal>) = 10.05\n",
      "2020-08-07 23:17:23,612 - matplotlib.font_manager - DEBUG - findfont: score(<Font 'Jokerman' (JOKERMAN.TTF) normal normal 400 normal>) = 10.05\n",
      "2020-08-07 23:17:23,613 - matplotlib.font_manager - DEBUG - findfont: score(<Font 'MS Gothic' (msgothic.ttc) normal normal 400 normal>) = 10.05\n",
      "2020-08-07 23:17:23,614 - matplotlib.font_manager - DEBUG - findfont: score(<Font 'Californian FB' (CALIFB.TTF) normal normal 700 normal>) = 10.335\n",
      "2020-08-07 23:17:23,614 - matplotlib.font_manager - DEBUG - findfont: score(<Font 'Franklin Gothic Demi' (FRADMIT.TTF) italic normal 400 normal>) = 11.05\n",
      "2020-08-07 23:17:23,614 - matplotlib.font_manager - DEBUG - findfont: score(<Font 'MT Extra' (MTEXTRA.TTF) normal normal 400 normal>) = 10.05\n",
      "2020-08-07 23:17:23,615 - matplotlib.font_manager - DEBUG - findfont: score(<Font 'Perpetua Titling MT' (PERTILI.TTF) normal normal 300 normal>) = 10.145\n",
      "2020-08-07 23:17:23,615 - matplotlib.font_manager - DEBUG - findfont: score(<Font 'Perpetua' (PERBI___.TTF) italic normal 700 normal>) = 11.335\n",
      "2020-08-07 23:17:23,616 - matplotlib.font_manager - DEBUG - findfont: score(<Font 'Century Gothic' (GOTHIC.TTF) normal normal 400 normal>) = 10.05\n",
      "2020-08-07 23:17:23,616 - matplotlib.font_manager - DEBUG - findfont: score(<Font 'Felix Titling' (FELIXTI.TTF) normal normal 400 normal>) = 10.05\n",
      "2020-08-07 23:17:23,617 - matplotlib.font_manager - DEBUG - findfont: score(<Font 'Harrington' (HARNGTON.TTF) normal normal 400 normal>) = 10.05\n",
      "2020-08-07 23:17:23,617 - matplotlib.font_manager - DEBUG - findfont: score(<Font 'Rockwell Nova' (RockwellNovaCond-Bold.ttf) normal normal 700 condensed>) = 10.535\n",
      "2020-08-07 23:17:23,618 - matplotlib.font_manager - DEBUG - findfont: score(<Font 'Berlin Sans FB' (BRLNSR.TTF) normal normal 400 normal>) = 10.05\n",
      "2020-08-07 23:17:23,619 - matplotlib.font_manager - DEBUG - findfont: score(<Font 'Lucida Sans' (LSANSD.TTF) normal normal 600 normal>) = 10.24\n",
      "2020-08-07 23:17:23,619 - matplotlib.font_manager - DEBUG - findfont: score(<Font 'HP Simplified' (HPSimplified_It.ttf) italic normal 400 normal>) = 11.05\n",
      "2020-08-07 23:17:23,620 - matplotlib.font_manager - DEBUG - findfont: score(<Font 'Georgia' (georgia.ttf) normal normal 400 normal>) = 10.05\n",
      "2020-08-07 23:17:23,621 - matplotlib.font_manager - DEBUG - findfont: score(<Font 'Georgia Pro' (GeorgiaPro-Light.ttf) normal normal 300 normal>) = 10.145\n",
      "2020-08-07 23:17:23,621 - matplotlib.font_manager - DEBUG - findfont: score(<Font 'Rockwell Extra Bold' (ROCKEB.TTF) normal normal 800 normal>) = 10.43\n",
      "2020-08-07 23:17:23,622 - matplotlib.font_manager - DEBUG - findfont: score(<Font 'Rockwell Nova' (RockwellNova-Italic.ttf) italic normal 400 normal>) = 11.05\n",
      "2020-08-07 23:17:23,622 - matplotlib.font_manager - DEBUG - findfont: score(<Font 'Segoe Print' (segoeprb.ttf) normal normal 700 normal>) = 10.335\n",
      "2020-08-07 23:17:23,623 - matplotlib.font_manager - DEBUG - findfont: score(<Font 'Goudy Old Style' (GOUDOSI.TTF) italic normal 400 normal>) = 11.05\n",
      "2020-08-07 23:17:23,624 - matplotlib.font_manager - DEBUG - findfont: score(<Font 'Broadway' (BROADW.TTF) normal normal 400 normal>) = 10.05\n",
      "2020-08-07 23:17:23,625 - matplotlib.font_manager - DEBUG - findfont: score(<Font 'Courier New' (courbd.ttf) normal normal 700 normal>) = 10.335\n",
      "2020-08-07 23:17:23,625 - matplotlib.font_manager - DEBUG - findfont: score(<Font 'Cambria' (cambriaz.ttf) italic normal 700 normal>) = 11.335\n",
      "2020-08-07 23:17:23,626 - matplotlib.font_manager - DEBUG - findfont: score(<Font 'Rockwell Nova' (RockwellNova-ExtraBoldItalic.ttf) italic normal 800 normal>) = 11.43\n",
      "2020-08-07 23:17:23,626 - matplotlib.font_manager - DEBUG - findfont: score(<Font 'Trebuchet MS' (trebucbd.ttf) normal normal 700 normal>) = 10.335\n",
      "2020-08-07 23:17:23,628 - matplotlib.font_manager - DEBUG - findfont: score(<Font 'Corbel' (corbeli.ttf) italic normal 400 normal>) = 11.05\n",
      "2020-08-07 23:17:23,629 - matplotlib.font_manager - DEBUG - findfont: score(<Font 'Arial' (arialbd.ttf) normal normal 700 normal>) = 10.335\n",
      "2020-08-07 23:17:23,630 - matplotlib.font_manager - DEBUG - findfont: score(<Font 'Bookman Old Style' (BOOKOSB.TTF) normal normal 600 normal>) = 10.24\n",
      "2020-08-07 23:17:23,631 - matplotlib.font_manager - DEBUG - findfont: score(<Font 'Century Schoolbook' (SCHLBKB.TTF) normal normal 700 normal>) = 10.335\n",
      "2020-08-07 23:17:23,632 - matplotlib.font_manager - DEBUG - findfont: score(<Font 'Modern No. 20' (MOD20.TTF) normal normal 400 normal>) = 10.05\n",
      "2020-08-07 23:17:23,632 - matplotlib.font_manager - DEBUG - findfont: score(<Font 'Gill Sans Nova' (GillSansUltraBoNova.ttf) normal normal 900 normal>) = 10.525\n",
      "2020-08-07 23:17:23,633 - matplotlib.font_manager - DEBUG - findfont: score(<Font 'HP Simplified' (HPSimplified_Rg.ttf) normal normal 400 normal>) = 10.05\n",
      "2020-08-07 23:17:23,634 - matplotlib.font_manager - DEBUG - findfont: score(<Font 'Century Schoolbook' (SCHLBKBI.TTF) italic normal 700 normal>) = 11.335\n",
      "2020-08-07 23:17:23,634 - matplotlib.font_manager - DEBUG - findfont: score(<Font 'Arial Rounded MT Bold' (ARLRDBD.TTF) normal normal 400 normal>) = 10.05\n",
      "2020-08-07 23:17:23,635 - matplotlib.font_manager - DEBUG - findfont: score(<Font 'Gadugi' (gadugib.ttf) normal normal 700 normal>) = 10.335\n",
      "2020-08-07 23:17:23,635 - matplotlib.font_manager - DEBUG - findfont: score(<Font 'Colonna MT' (COLONNA.TTF) normal normal 400 normal>) = 10.05\n",
      "2020-08-07 23:17:23,636 - matplotlib.font_manager - DEBUG - findfont: score(<Font 'Leelawadee UI' (LeelUIsl.ttf) normal normal 350 normal>) = 10.0975\n",
      "2020-08-07 23:17:23,637 - matplotlib.font_manager - DEBUG - findfont: score(<Font 'Gill Sans Nova' (GillSansItNova.ttf) italic normal 500 normal>) = 11.145\n",
      "2020-08-07 23:17:23,638 - matplotlib.font_manager - DEBUG - findfont: score(<Font 'Constantia' (constan.ttf) normal normal 400 normal>) = 10.05\n",
      "2020-08-07 23:17:23,638 - matplotlib.font_manager - DEBUG - findfont: score(<Font 'HP Simplified' (HPSimplified_Bd.ttf) normal normal 700 normal>) = 10.335\n",
      "2020-08-07 23:17:23,639 - matplotlib.font_manager - DEBUG - findfont: score(<Font 'Arial' (ariali.ttf) italic normal 400 normal>) = 11.05\n",
      "2020-08-07 23:17:23,640 - matplotlib.font_manager - DEBUG - findfont: score(<Font 'Haettenschweiler' (HATTEN.TTF) normal normal 400 normal>) = 10.05\n",
      "2020-08-07 23:17:23,641 - matplotlib.font_manager - DEBUG - findfont: score(<Font 'Arial Nova' (ArialNovaCond-Bold.ttf) normal normal 700 condensed>) = 10.535\n",
      "2020-08-07 23:17:23,641 - matplotlib.font_manager - DEBUG - findfont: score(<Font 'Gill Sans Nova' (GillSansCondBoItNova.ttf) italic normal 700 condensed>) = 11.535\n"
     ]
    },
    {
     "name": "stderr",
     "output_type": "stream",
     "text": [
      "2020-08-07 23:17:23,642 - matplotlib.font_manager - DEBUG - findfont: score(<Font 'Poor Richard' (POORICH.TTF) normal normal 400 normal>) = 10.05\n",
      "2020-08-07 23:17:23,642 - matplotlib.font_manager - DEBUG - findfont: score(<Font 'Tw Cen MT' (TCB_____.TTF) normal normal 700 normal>) = 10.335\n",
      "2020-08-07 23:17:23,644 - matplotlib.font_manager - DEBUG - findfont: score(<Font 'Gill Sans Nova' (GillSansCondBoNova.ttf) normal normal 700 condensed>) = 10.535\n",
      "2020-08-07 23:17:23,645 - matplotlib.font_manager - DEBUG - findfont: score(<Font 'Eras Medium ITC' (ERASMD.TTF) normal normal 400 normal>) = 10.05\n",
      "2020-08-07 23:17:23,646 - matplotlib.font_manager - DEBUG - findfont: score(<Font 'Georgia Pro' (GeorgiaPro-CondBlackItalic.ttf) italic normal 900 condensed>) = 11.725\n",
      "2020-08-07 23:17:23,647 - matplotlib.font_manager - DEBUG - findfont: score(<Font 'Candara' (Candara.ttf) normal normal 400 normal>) = 10.05\n",
      "2020-08-07 23:17:23,647 - matplotlib.font_manager - DEBUG - findfont: score(<Font 'Arial' (arialbi.ttf) italic normal 700 normal>) = 11.335\n",
      "2020-08-07 23:17:23,648 - matplotlib.font_manager - DEBUG - findfont: score(<Font 'Neue Haas Grotesk Text Pro' (NHaasGroteskTXPro-66MdIt.ttf) italic normal 500 normal>) = 11.145\n",
      "2020-08-07 23:17:23,649 - matplotlib.font_manager - DEBUG - findfont: score(<Font 'Gill Sans MT' (GIL_____.TTF) normal normal 400 normal>) = 10.05\n",
      "2020-08-07 23:17:23,650 - matplotlib.font_manager - DEBUG - findfont: score(<Font 'Comic Sans MS' (comic.ttf) normal normal 400 normal>) = 10.05\n",
      "2020-08-07 23:17:23,651 - matplotlib.font_manager - DEBUG - findfont: score(<Font 'Gabriola' (Gabriola.ttf) normal normal 400 normal>) = 10.05\n",
      "2020-08-07 23:17:23,651 - matplotlib.font_manager - DEBUG - findfont: score(<Font 'Constantia' (constan.ttf) normal normal 400 normal>) = 10.05\n",
      "2020-08-07 23:17:23,652 - matplotlib.font_manager - DEBUG - findfont: score(<Font 'Bookman Old Style' (BOOKOS.TTF) normal normal 300 normal>) = 10.145\n",
      "2020-08-07 23:17:23,653 - matplotlib.font_manager - DEBUG - findfont: score(<Font 'Microsoft YaHei' (msyh.ttc) normal normal 400 normal>) = 10.05\n",
      "2020-08-07 23:17:23,654 - matplotlib.font_manager - DEBUG - findfont: score(<Font 'Gill Sans Nova' (GillSansCondExtraNova.ttf) normal normal 800 condensed>) = 10.629999999999999\n",
      "2020-08-07 23:17:23,654 - matplotlib.font_manager - DEBUG - findfont: score(<Font 'Sitka Small' (SitkaZ.ttc) italic normal 700 normal>) = 11.335\n",
      "2020-08-07 23:17:23,655 - matplotlib.font_manager - DEBUG - findfont: score(<Font 'Niagara Solid' (NIAGSOL.TTF) normal normal 400 normal>) = 10.05\n",
      "2020-08-07 23:17:23,656 - matplotlib.font_manager - DEBUG - findfont: score(<Font 'Bookman Old Style' (BOOKOSBI.TTF) italic normal 600 normal>) = 11.24\n",
      "2020-08-07 23:17:23,657 - matplotlib.font_manager - DEBUG - findfont: score(<Font 'Juice ITC' (JUICE___.TTF) normal normal 400 normal>) = 10.05\n",
      "2020-08-07 23:17:23,658 - matplotlib.font_manager - DEBUG - findfont: score(<Font 'Eras Demi ITC' (ERASDEMI.TTF) normal normal 400 normal>) = 10.05\n",
      "2020-08-07 23:17:23,660 - matplotlib.font_manager - DEBUG - findfont: score(<Font 'Leelawadee UI' (LeelaUIb.ttf) normal normal 700 normal>) = 10.335\n",
      "2020-08-07 23:17:23,661 - matplotlib.font_manager - DEBUG - findfont: score(<Font 'Chiller' (CHILLER.TTF) normal normal 400 normal>) = 10.05\n",
      "2020-08-07 23:17:23,662 - matplotlib.font_manager - DEBUG - findfont: score(<Font 'Franklin Gothic Demi' (FRADM.TTF) normal normal 400 normal>) = 10.05\n",
      "2020-08-07 23:17:23,663 - matplotlib.font_manager - DEBUG - findfont: score(<Font 'Microsoft YaHei' (msyhl.ttc) normal normal 290 normal>) = 10.1545\n",
      "2020-08-07 23:17:23,664 - matplotlib.font_manager - DEBUG - findfont: score(<Font 'Maiandra GD' (MAIAN.TTF) normal normal 400 normal>) = 10.05\n",
      "2020-08-07 23:17:23,665 - matplotlib.font_manager - DEBUG - findfont: score(<Font 'OCR A Extended' (OCRAEXT.TTF) normal normal 400 expanded>) = 10.25\n",
      "2020-08-07 23:17:23,666 - matplotlib.font_manager - DEBUG - findfont: score(<Font 'Sitka Small' (SitkaZ.ttc) italic normal 700 normal>) = 11.335\n",
      "2020-08-07 23:17:23,667 - matplotlib.font_manager - DEBUG - findfont: score(<Font 'Gill Sans MT' (GILB____.TTF) normal normal 700 normal>) = 10.335\n",
      "2020-08-07 23:17:23,667 - matplotlib.font_manager - DEBUG - findfont: score(<Font 'Arial' (ariblk.ttf) normal normal 900 normal>) = 10.525\n",
      "2020-08-07 23:17:23,668 - matplotlib.font_manager - DEBUG - findfont: score(<Font 'Sitka Small' (Sitka.ttc) normal normal 400 normal>) = 10.05\n",
      "2020-08-07 23:17:23,668 - matplotlib.font_manager - DEBUG - findfont: score(<Font 'Georgia Pro' (GeorgiaPro-Regular.ttf) normal normal 400 normal>) = 10.05\n",
      "2020-08-07 23:17:23,669 - matplotlib.font_manager - DEBUG - findfont: score(<Font 'Eras Bold ITC' (ERASBD.TTF) normal normal 400 normal>) = 10.05\n",
      "2020-08-07 23:17:23,670 - matplotlib.font_manager - DEBUG - findfont: score(<Font 'Consolas' (consolab.ttf) normal normal 700 normal>) = 10.335\n",
      "2020-08-07 23:17:23,670 - matplotlib.font_manager - DEBUG - findfont: score(<Font 'Segoe UI Emoji' (seguiemj.ttf) normal normal 400 normal>) = 10.05\n",
      "2020-08-07 23:17:23,672 - matplotlib.font_manager - DEBUG - findfont: score(<Font 'Franklin Gothic Medium Cond' (FRAMDCN.TTF) normal normal 400 condensed>) = 10.25\n",
      "2020-08-07 23:17:23,672 - matplotlib.font_manager - DEBUG - findfont: score(<Font 'Georgia Pro' (GeorgiaPro-CondBlack.ttf) normal normal 900 condensed>) = 10.725\n",
      "2020-08-07 23:17:23,673 - matplotlib.font_manager - DEBUG - findfont: score(<Font 'Rockwell Condensed' (ROCCB___.TTF) normal normal 700 condensed>) = 10.535\n",
      "2020-08-07 23:17:23,673 - matplotlib.font_manager - DEBUG - findfont: score(<Font 'Copperplate Gothic Light' (COPRGTL.TTF) normal normal 400 normal>) = 10.05\n",
      "2020-08-07 23:17:23,674 - matplotlib.font_manager - DEBUG - findfont: score(<Font 'Verdana Pro' (VerdanaPro-CondSemiBoldItalic.ttf) italic normal 600 condensed>) = 11.44\n",
      "2020-08-07 23:17:23,675 - matplotlib.font_manager - DEBUG - findfont: score(<Font 'Sitka Small' (SitkaB.ttc) normal normal 700 normal>) = 10.335\n",
      "2020-08-07 23:17:23,676 - matplotlib.font_manager - DEBUG - findfont: score(<Font 'Cambria' (cambria.ttc) normal normal 400 normal>) = 10.05\n",
      "2020-08-07 23:17:23,677 - matplotlib.font_manager - DEBUG - findfont: score(<Font 'SimSun-ExtB' (simsunb.ttf) normal normal 400 normal>) = 10.05\n",
      "2020-08-07 23:17:23,678 - matplotlib.font_manager - DEBUG - findfont: score(<Font 'Segoe UI' (seguisli.ttf) italic normal 350 normal>) = 11.0975\n",
      "2020-08-07 23:17:23,679 - matplotlib.font_manager - DEBUG - findfont: score(<Font 'Goudy Old Style' (GOUDOS.TTF) normal normal 400 normal>) = 10.05\n",
      "2020-08-07 23:17:23,680 - matplotlib.font_manager - DEBUG - findfont: score(<Font 'Rockwell' (ROCKI.TTF) italic normal 400 normal>) = 11.05\n",
      "2020-08-07 23:17:23,681 - matplotlib.font_manager - DEBUG - findfont: score(<Font 'Bernard MT Condensed' (BERNHC.TTF) normal normal 400 condensed>) = 10.25\n",
      "2020-08-07 23:17:23,682 - matplotlib.font_manager - DEBUG - findfont: score(<Font 'Parchment' (PARCHM.TTF) normal normal 400 normal>) = 10.05\n",
      "2020-08-07 23:17:23,683 - matplotlib.font_manager - DEBUG - findfont: score(<Font 'Century Schoolbook' (CENSCBK.TTF) normal normal 400 normal>) = 10.05\n",
      "2020-08-07 23:17:23,683 - matplotlib.font_manager - DEBUG - findfont: score(<Font 'Segoe MDL2 Assets' (segmdl2.ttf) normal normal 400 normal>) = 10.05\n",
      "2020-08-07 23:17:23,684 - matplotlib.font_manager - DEBUG - findfont: score(<Font 'Gill Sans Nova' (GillSansCondLightNova.ttf) normal normal 300 condensed>) = 10.344999999999999\n",
      "2020-08-07 23:17:23,684 - matplotlib.font_manager - DEBUG - findfont: score(<Font 'Garamond' (GARAIT.TTF) italic normal 400 normal>) = 11.05\n",
      "2020-08-07 23:17:23,685 - matplotlib.font_manager - DEBUG - findfont: score(<Font 'Vivaldi' (VIVALDII.TTF) italic normal 400 normal>) = 11.05\n",
      "2020-08-07 23:17:23,686 - matplotlib.font_manager - DEBUG - findfont: score(<Font 'Verdana Pro' (VerdanaPro-Regular.ttf) normal normal 400 normal>) = 10.05\n",
      "2020-08-07 23:17:23,687 - matplotlib.font_manager - DEBUG - findfont: score(<Font 'Juice ITC' (JUICE___.TTF) normal normal 400 normal>) = 10.05\n",
      "2020-08-07 23:17:23,688 - matplotlib.font_manager - DEBUG - findfont: score(<Font 'Corbel' (corbelz.ttf) italic normal 700 normal>) = 11.335\n"
     ]
    },
    {
     "name": "stderr",
     "output_type": "stream",
     "text": [
      "2020-08-07 23:17:23,688 - matplotlib.font_manager - DEBUG - findfont: score(<Font 'Niagara Solid' (NIAGSOL.TTF) normal normal 400 normal>) = 10.05\n",
      "2020-08-07 23:17:23,689 - matplotlib.font_manager - DEBUG - findfont: score(<Font 'HP Simplified' (HPSimplified_Lt.ttf) normal normal 300 normal>) = 10.145\n",
      "2020-08-07 23:17:23,689 - matplotlib.font_manager - DEBUG - findfont: score(<Font 'Neue Haas Grotesk Text Pro' (NHaasGroteskTXPro-65Md.ttf) normal normal 500 normal>) = 10.145\n",
      "2020-08-07 23:17:23,691 - matplotlib.font_manager - DEBUG - findfont: score(<Font 'Bodoni MT' (BOD_PSTC.TTF) normal normal 300 normal>) = 10.145\n",
      "2020-08-07 23:17:23,692 - matplotlib.font_manager - DEBUG - findfont: score(<Font 'Corbel' (corbell.ttf) normal normal 300 normal>) = 10.145\n",
      "2020-08-07 23:17:23,693 - matplotlib.font_manager - DEBUG - findfont: score(<Font 'Britannic Bold' (BRITANIC.TTF) normal normal 400 normal>) = 10.05\n",
      "2020-08-07 23:17:23,693 - matplotlib.font_manager - DEBUG - findfont: score(<Font 'Lucida Sans Typewriter' (LTYPE.TTF) normal normal 400 normal>) = 10.05\n",
      "2020-08-07 23:17:23,694 - matplotlib.font_manager - DEBUG - findfont: score(<Font 'Segoe UI Symbol' (seguisym.ttf) normal normal 400 normal>) = 10.05\n",
      "2020-08-07 23:17:23,695 - matplotlib.font_manager - DEBUG - findfont: score(<Font 'MS Outlook' (OUTLOOK.TTF) normal normal 400 normal>) = 10.05\n",
      "2020-08-07 23:17:23,696 - matplotlib.font_manager - DEBUG - findfont: score(<Font 'Segoe UI' (segoeuiz.ttf) italic normal 700 normal>) = 11.335\n",
      "2020-08-07 23:17:23,696 - matplotlib.font_manager - DEBUG - findfont: score(<Font 'Arial Nova' (ArialNovaCond-Italic.ttf) italic normal 400 condensed>) = 11.25\n",
      "2020-08-07 23:17:23,697 - matplotlib.font_manager - DEBUG - findfont: score(<Font 'Verdana Pro' (VerdanaPro-CondSemiBold.ttf) normal normal 600 condensed>) = 10.44\n",
      "2020-08-07 23:17:23,697 - matplotlib.font_manager - DEBUG - findfont: score(<Font 'Times New Roman' (times.ttf) normal normal 400 normal>) = 10.05\n",
      "2020-08-07 23:17:23,698 - matplotlib.font_manager - DEBUG - findfont: score(<Font 'Segoe UI' (seguibli.ttf) italic normal 900 normal>) = 11.525\n",
      "2020-08-07 23:17:23,699 - matplotlib.font_manager - DEBUG - findfont: score(<Font 'Forte' (FORTE.TTF) normal normal 400 normal>) = 10.05\n",
      "2020-08-07 23:17:23,700 - matplotlib.font_manager - DEBUG - findfont: score(<Font 'Book Antiqua' (ANTQUAI.TTF) italic normal 400 normal>) = 11.05\n",
      "2020-08-07 23:17:23,700 - matplotlib.font_manager - DEBUG - findfont: score(<Font 'Gloucester MT Extra Condensed' (GLECB.TTF) normal normal 400 condensed>) = 10.25\n",
      "2020-08-07 23:17:23,701 - matplotlib.font_manager - DEBUG - findfont: score(<Font 'Lucida Bright' (LBRITEDI.TTF) italic normal 600 normal>) = 11.24\n",
      "2020-08-07 23:17:23,702 - matplotlib.font_manager - DEBUG - findfont: score(<Font 'Gill Sans MT Ext Condensed Bold' (GLSNECB.TTF) normal normal 400 condensed>) = 10.25\n",
      "2020-08-07 23:17:23,703 - matplotlib.font_manager - DEBUG - findfont: score(<Font 'Palatino Linotype' (palabi.ttf) italic normal 700 normal>) = 11.335\n",
      "2020-08-07 23:17:23,704 - matplotlib.font_manager - DEBUG - findfont: score(<Font 'Gigi' (GIGI.TTF) normal normal 400 normal>) = 10.05\n",
      "2020-08-07 23:17:23,705 - matplotlib.font_manager - DEBUG - findfont: score(<Font 'Segoe UI' (segoeuil.ttf) normal normal 300 normal>) = 10.145\n",
      "2020-08-07 23:17:23,706 - matplotlib.font_manager - DEBUG - findfont: score(<Font 'Eras Demi ITC' (ERASDEMI.TTF) normal normal 400 normal>) = 10.05\n",
      "2020-08-07 23:17:23,707 - matplotlib.font_manager - DEBUG - findfont: score(<Font 'Malgun Gothic' (malgun.ttf) normal normal 400 normal>) = 10.05\n",
      "2020-08-07 23:17:23,708 - matplotlib.font_manager - DEBUG - findfont: score(<Font 'Corbel' (corbel.ttf) normal normal 400 normal>) = 10.05\n",
      "2020-08-07 23:17:23,708 - matplotlib.font_manager - DEBUG - findfont: score(<Font 'Verdana Pro' (VerdanaPro-SemiBold.ttf) normal normal 600 normal>) = 10.24\n",
      "2020-08-07 23:17:23,709 - matplotlib.font_manager - DEBUG - findfont: score(<Font 'Segoe UI Emoji' (seguiemj.ttf) normal normal 400 normal>) = 10.05\n",
      "2020-08-07 23:17:23,710 - matplotlib.font_manager - DEBUG - findfont: score(<Font 'Bodoni MT' (BOD_CI.TTF) italic normal 400 condensed>) = 11.25\n",
      "2020-08-07 23:17:23,711 - matplotlib.font_manager - DEBUG - findfont: score(<Font 'Lucida Bright' (LBRITEI.TTF) italic normal 400 normal>) = 11.05\n",
      "2020-08-07 23:17:23,712 - matplotlib.font_manager - DEBUG - findfont: score(<Font 'Verdana Pro' (VerdanaPro-BlackItalic.ttf) italic normal 900 normal>) = 11.525\n",
      "2020-08-07 23:17:23,713 - matplotlib.font_manager - DEBUG - findfont: score(<Font 'Segoe UI' (segoeui.ttf) normal normal 400 normal>) = 10.05\n",
      "2020-08-07 23:17:23,713 - matplotlib.font_manager - DEBUG - findfont: score(<Font 'Georgia Pro' (GeorgiaPro-BoldItalic.ttf) italic normal 700 normal>) = 11.335\n",
      "2020-08-07 23:17:23,714 - matplotlib.font_manager - DEBUG - findfont: score(<Font 'Arial' (ariali.ttf) italic normal 400 normal>) = 11.05\n",
      "2020-08-07 23:17:23,715 - matplotlib.font_manager - DEBUG - findfont: score(<Font 'Trebuchet MS' (trebucit.ttf) italic normal 400 normal>) = 11.05\n",
      "2020-08-07 23:17:23,716 - matplotlib.font_manager - DEBUG - findfont: score(<Font 'Ink Free' (Inkfree.ttf) normal normal 400 normal>) = 10.05\n",
      "2020-08-07 23:17:23,716 - matplotlib.font_manager - DEBUG - findfont: score(<Font 'Nirmala UI' (NirmalaB.ttf) normal normal 700 normal>) = 10.335\n",
      "2020-08-07 23:17:23,717 - matplotlib.font_manager - DEBUG - findfont: score(<Font 'Bahnschrift' (bahnschrift.ttf) normal normal 400 normal>) = 10.05\n",
      "2020-08-07 23:17:23,718 - matplotlib.font_manager - DEBUG - findfont: score(<Font 'Verdana Pro' (VerdanaPro-BoldItalic.ttf) italic normal 700 normal>) = 11.335\n",
      "2020-08-07 23:17:23,718 - matplotlib.font_manager - DEBUG - findfont: score(<Font 'Lucida Sans' (LSANSI.TTF) italic normal 400 normal>) = 11.05\n",
      "2020-08-07 23:17:23,719 - matplotlib.font_manager - DEBUG - findfont: score(<Font 'Segoe Print' (segoepr.ttf) normal normal 400 normal>) = 10.05\n",
      "2020-08-07 23:17:23,720 - matplotlib.font_manager - DEBUG - findfont: score(<Font 'Lucida Fax' (LFAXDI.TTF) italic normal 600 normal>) = 11.24\n",
      "2020-08-07 23:17:23,721 - matplotlib.font_manager - DEBUG - findfont: score(<Font 'MV Boli' (mvboli.ttf) normal normal 400 normal>) = 10.05\n",
      "2020-08-07 23:17:23,722 - matplotlib.font_manager - DEBUG - findfont: score(<Font 'Berlin Sans FB Demi' (BRLNSDB.TTF) normal normal 700 normal>) = 10.335\n",
      "2020-08-07 23:17:23,723 - matplotlib.font_manager - DEBUG - findfont: score(<Font 'Calisto MT' (CALIST.TTF) normal normal 400 normal>) = 10.05\n",
      "2020-08-07 23:17:23,723 - matplotlib.font_manager - DEBUG - findfont: score(<Font 'Arial Nova' (ArialNova.ttf) normal normal 400 normal>) = 10.05\n",
      "2020-08-07 23:17:23,724 - matplotlib.font_manager - DEBUG - findfont: score(<Font 'Script MT Bold' (SCRIPTBL.TTF) normal normal 700 normal>) = 10.335\n",
      "2020-08-07 23:17:23,724 - matplotlib.font_manager - DEBUG - findfont: score(<Font 'Lucida Handwriting' (LHANDW.TTF) italic normal 400 normal>) = 11.05\n",
      "2020-08-07 23:17:23,725 - matplotlib.font_manager - DEBUG - findfont: score(<Font 'Webdings' (webdings.ttf) normal normal 400 normal>) = 10.05\n",
      "2020-08-07 23:17:23,725 - matplotlib.font_manager - DEBUG - findfont: score(<Font 'Wingdings' (wingding.ttf) normal normal 400 normal>) = 10.05\n",
      "2020-08-07 23:17:23,726 - matplotlib.font_manager - DEBUG - findfont: score(<Font 'Microsoft PhagsPa' (phagspa.ttf) normal normal 400 normal>) = 10.05\n",
      "2020-08-07 23:17:23,726 - matplotlib.font_manager - DEBUG - findfont: score(<Font 'Rockwell Nova' (RockwellNova-LightItalic.ttf) italic normal 300 normal>) = 11.145\n",
      "2020-08-07 23:17:23,728 - matplotlib.font_manager - DEBUG - findfont: score(<Font 'Georgia' (georgiaz.ttf) italic normal 700 normal>) = 11.335\n",
      "2020-08-07 23:17:23,729 - matplotlib.font_manager - DEBUG - findfont: score(<Font 'Georgia Pro' (GeorgiaPro-CondSemiBoldItalic.ttf) italic normal 600 condensed>) = 11.44\n",
      "2020-08-07 23:17:23,729 - matplotlib.font_manager - DEBUG - findfont: score(<Font 'Bodoni MT' (BOD_CBI.TTF) italic normal 700 condensed>) = 11.535\n",
      "2020-08-07 23:17:23,730 - matplotlib.font_manager - DEBUG - findfont: score(<Font 'Leelawadee UI' (LeelawUI.ttf) normal normal 400 normal>) = 10.05\n"
     ]
    },
    {
     "name": "stderr",
     "output_type": "stream",
     "text": [
      "2020-08-07 23:17:23,731 - matplotlib.font_manager - DEBUG - findfont: score(<Font 'Verdana Pro' (VerdanaPro-CondBoldItalic.ttf) italic normal 700 condensed>) = 11.535\n",
      "2020-08-07 23:17:23,732 - matplotlib.font_manager - DEBUG - findfont: score(<Font 'Rockwell Nova' (RockwellNova-BoldItalic.ttf) italic normal 700 normal>) = 11.335\n",
      "2020-08-07 23:17:23,732 - matplotlib.font_manager - DEBUG - findfont: score(<Font 'Arial' (ARIALNBI.TTF) italic normal 700 condensed>) = 11.535\n",
      "2020-08-07 23:17:23,734 - matplotlib.font_manager - DEBUG - findfont: score(<Font 'Maiandra GD' (MAIAN.TTF) normal normal 400 normal>) = 10.05\n",
      "2020-08-07 23:17:23,734 - matplotlib.font_manager - DEBUG - findfont: score(<Font 'Vladimir Script' (VLADIMIR.TTF) normal normal 400 normal>) = 10.05\n",
      "2020-08-07 23:17:23,735 - matplotlib.font_manager - DEBUG - findfont: score(<Font 'Franklin Gothic Heavy' (FRAHV.TTF) normal normal 400 normal>) = 10.05\n",
      "2020-08-07 23:17:23,736 - matplotlib.font_manager - DEBUG - findfont: score(<Font 'Britannic Bold' (BRITANIC.TTF) normal normal 400 normal>) = 10.05\n",
      "2020-08-07 23:17:23,736 - matplotlib.font_manager - DEBUG - findfont: score(<Font 'Bodoni MT' (BOD_BLAI.TTF) italic normal 900 normal>) = 11.525\n",
      "2020-08-07 23:17:23,737 - matplotlib.font_manager - DEBUG - findfont: score(<Font 'Calibri' (calibrib.ttf) normal normal 700 normal>) = 10.335\n",
      "2020-08-07 23:17:23,737 - matplotlib.font_manager - DEBUG - findfont: score(<Font 'Pristina' (PRISTINA.TTF) normal normal 400 normal>) = 10.05\n",
      "2020-08-07 23:17:23,738 - matplotlib.font_manager - DEBUG - findfont: score(<Font 'HP Simplified' (HPSimplified_Bd.ttf) normal normal 700 normal>) = 10.335\n",
      "2020-08-07 23:17:23,739 - matplotlib.font_manager - DEBUG - findfont: score(<Font 'Lucida Sans Typewriter' (LTYPEO.TTF) oblique normal 400 normal>) = 11.05\n",
      "2020-08-07 23:17:23,739 - matplotlib.font_manager - DEBUG - findfont: score(<Font 'Palace Script MT' (PALSCRI.TTF) normal normal 400 normal>) = 10.05\n",
      "2020-08-07 23:17:23,740 - matplotlib.font_manager - DEBUG - findfont: score(<Font 'Sitka Small' (SitkaB.ttc) normal normal 700 normal>) = 10.335\n",
      "2020-08-07 23:17:23,740 - matplotlib.font_manager - DEBUG - findfont: score(<Font 'Arial Nova' (ArialNova-Bold.ttf) normal normal 700 normal>) = 10.335\n",
      "2020-08-07 23:17:23,741 - matplotlib.font_manager - DEBUG - findfont: score(<Font 'Curlz MT' (CURLZ___.TTF) normal normal 400 normal>) = 10.05\n",
      "2020-08-07 23:17:23,741 - matplotlib.font_manager - DEBUG - findfont: score(<Font 'Courier New' (cour.ttf) normal normal 400 normal>) = 10.05\n",
      "2020-08-07 23:17:23,742 - matplotlib.font_manager - DEBUG - findfont: score(<Font 'Goudy Old Style' (GOUDOSI.TTF) italic normal 400 normal>) = 11.05\n",
      "2020-08-07 23:17:23,742 - matplotlib.font_manager - DEBUG - findfont: score(<Font 'Candara' (Candaraz.ttf) italic normal 700 normal>) = 11.335\n",
      "2020-08-07 23:17:23,743 - matplotlib.font_manager - DEBUG - findfont: score(<Font 'Lucida Bright' (LBRITED.TTF) normal normal 600 normal>) = 10.24\n",
      "2020-08-07 23:17:23,743 - matplotlib.font_manager - DEBUG - findfont: score(<Font 'Georgia Pro' (GeorgiaPro-CondItalic.ttf) italic normal 400 condensed>) = 11.25\n",
      "2020-08-07 23:17:23,744 - matplotlib.font_manager - DEBUG - findfont: score(<Font 'Arial' (ARIALNBI.TTF) italic normal 700 condensed>) = 11.535\n",
      "2020-08-07 23:17:23,744 - matplotlib.font_manager - DEBUG - findfont: score(<Font 'Arial Nova' (ArialNova.ttf) normal normal 400 normal>) = 10.05\n",
      "2020-08-07 23:17:23,745 - matplotlib.font_manager - DEBUG - findfont: score(<Font 'Verdana' (verdanaz.ttf) italic normal 700 normal>) = 11.335\n",
      "2020-08-07 23:17:23,745 - matplotlib.font_manager - DEBUG - findfont: score(<Font 'Copperplate Gothic Bold' (COPRGTB.TTF) normal normal 400 normal>) = 10.05\n",
      "2020-08-07 23:17:23,746 - matplotlib.font_manager - DEBUG - findfont: score(<Font 'Yu Gothic' (YuGothR.ttc) normal normal 400 normal>) = 10.05\n",
      "2020-08-07 23:17:23,746 - matplotlib.font_manager - DEBUG - findfont: score(<Font 'Microsoft New Tai Lue' (ntailu.ttf) normal normal 400 normal>) = 10.05\n",
      "2020-08-07 23:17:23,747 - matplotlib.font_manager - DEBUG - findfont: score(<Font 'HoloLens MDL2 Assets' (holomdl2.ttf) normal normal 400 normal>) = 10.05\n",
      "2020-08-07 23:17:23,747 - matplotlib.font_manager - DEBUG - findfont: score(<Font 'Verdana Pro' (VerdanaPro-Bold.ttf) normal normal 700 normal>) = 10.335\n",
      "2020-08-07 23:17:23,748 - matplotlib.font_manager - DEBUG - findfont: score(<Font 'Georgia Pro' (GeorgiaPro-SemiBold.ttf) normal normal 600 normal>) = 10.24\n",
      "2020-08-07 23:17:23,748 - matplotlib.font_manager - DEBUG - findfont: score(<Font 'Palatino Linotype' (pala.ttf) normal normal 400 normal>) = 10.05\n",
      "2020-08-07 23:17:23,749 - matplotlib.font_manager - DEBUG - findfont: score(<Font 'Georgia Pro' (GeorgiaPro-BoldItalic.ttf) italic normal 700 normal>) = 11.335\n",
      "2020-08-07 23:17:23,749 - matplotlib.font_manager - DEBUG - findfont: score(<Font 'Franklin Gothic Book' (FRABKIT.TTF) italic normal 400 normal>) = 11.05\n",
      "2020-08-07 23:17:23,750 - matplotlib.font_manager - DEBUG - findfont: score(<Font 'Bookshelf Symbol 7' (BSSYM7.TTF) normal normal 400 normal>) = 10.05\n",
      "2020-08-07 23:17:23,750 - matplotlib.font_manager - DEBUG - findfont: score(<Font 'Palatino Linotype' (palabi.ttf) italic normal 700 normal>) = 11.335\n",
      "2020-08-07 23:17:23,751 - matplotlib.font_manager - DEBUG - findfont: score(<Font 'Bookman Old Style' (BOOKOSBI.TTF) italic normal 600 normal>) = 11.24\n",
      "2020-08-07 23:17:23,752 - matplotlib.font_manager - DEBUG - findfont: score(<Font 'Gill Sans Nova' (GillSansUltraBoNova.ttf) normal normal 900 normal>) = 10.525\n",
      "2020-08-07 23:17:23,752 - matplotlib.font_manager - DEBUG - findfont: score(<Font 'Gill Sans MT' (GILBI___.TTF) italic normal 700 normal>) = 11.335\n",
      "2020-08-07 23:17:23,753 - matplotlib.font_manager - DEBUG - findfont: score(<Font 'Perpetua' (PERI____.TTF) italic normal 400 normal>) = 11.05\n",
      "2020-08-07 23:17:23,753 - matplotlib.font_manager - DEBUG - findfont: score(<Font 'Chiller' (CHILLER.TTF) normal normal 400 normal>) = 10.05\n",
      "2020-08-07 23:17:23,754 - matplotlib.font_manager - DEBUG - findfont: score(<Font 'Palace Script MT' (PALSCRI.TTF) normal normal 400 normal>) = 10.05\n",
      "2020-08-07 23:17:23,754 - matplotlib.font_manager - DEBUG - findfont: score(<Font 'Leelawadee' (LEELAWDB.TTF) normal normal 700 normal>) = 10.335\n",
      "2020-08-07 23:17:23,755 - matplotlib.font_manager - DEBUG - findfont: score(<Font 'Broadway' (BROADW.TTF) normal normal 400 normal>) = 10.05\n",
      "2020-08-07 23:17:23,755 - matplotlib.font_manager - DEBUG - findfont: score(<Font 'Goudy Old Style' (GOUDOSB.TTF) normal normal 700 normal>) = 10.335\n",
      "2020-08-07 23:17:23,756 - matplotlib.font_manager - DEBUG - findfont: score(<Font 'Ebrima' (ebrimabd.ttf) normal normal 700 normal>) = 10.335\n",
      "2020-08-07 23:17:23,757 - matplotlib.font_manager - DEBUG - findfont: score(<Font 'Segoe Script' (segoescb.ttf) normal normal 700 normal>) = 10.335\n",
      "2020-08-07 23:17:23,757 - matplotlib.font_manager - DEBUG - findfont: score(<Font 'Gill Sans Nova' (GillSansCondExtraItNova.ttf) italic normal 800 condensed>) = 11.629999999999999\n",
      "2020-08-07 23:17:23,757 - matplotlib.font_manager - DEBUG - findfont: score(<Font 'Perpetua' (PERB____.TTF) normal normal 700 normal>) = 10.335\n",
      "2020-08-07 23:17:23,758 - matplotlib.font_manager - DEBUG - findfont: score(<Font 'Microsoft Himalaya' (himalaya.ttf) normal normal 400 normal>) = 10.05\n",
      "2020-08-07 23:17:23,759 - matplotlib.font_manager - DEBUG - findfont: score(<Font 'Lucida Sans' (LSANSD.TTF) normal normal 600 normal>) = 10.24\n",
      "2020-08-07 23:17:23,759 - matplotlib.font_manager - DEBUG - findfont: score(<Font 'Agency FB' (AGENCYR.TTF) normal normal 400 normal>) = 10.05\n",
      "2020-08-07 23:17:23,760 - matplotlib.font_manager - DEBUG - findfont: score(<Font 'Yu Gothic' (YuGothR.ttc) normal normal 400 normal>) = 10.05\n",
      "2020-08-07 23:17:23,761 - matplotlib.font_manager - DEBUG - findfont: score(<Font 'Eras Light ITC' (ERASLGHT.TTF) normal normal 400 normal>) = 10.05\n",
      "2020-08-07 23:17:23,761 - matplotlib.font_manager - DEBUG - findfont: score(<Font 'Candara' (Candarab.ttf) normal normal 700 normal>) = 10.335\n",
      "2020-08-07 23:17:23,762 - matplotlib.font_manager - DEBUG - findfont: score(<Font 'Rockwell' (ROCKB.TTF) normal normal 700 normal>) = 10.335\n"
     ]
    },
    {
     "name": "stderr",
     "output_type": "stream",
     "text": [
      "2020-08-07 23:17:23,763 - matplotlib.font_manager - DEBUG - findfont: score(<Font 'Baskerville Old Face' (BASKVILL.TTF) normal normal 400 normal>) = 10.05\n",
      "2020-08-07 23:17:23,763 - matplotlib.font_manager - DEBUG - findfont: score(<Font 'Century Gothic' (GOTHICBI.TTF) italic normal 700 normal>) = 11.335\n",
      "2020-08-07 23:17:23,764 - matplotlib.font_manager - DEBUG - findfont: score(<Font 'Neue Haas Grotesk Text Pro' (NHaasGroteskTXPro-76BdIt.ttf) italic normal 700 normal>) = 11.335\n",
      "2020-08-07 23:17:23,764 - matplotlib.font_manager - DEBUG - findfont: score(<Font 'Lucida Console' (lucon.ttf) normal normal 400 normal>) = 10.05\n",
      "2020-08-07 23:17:23,765 - matplotlib.font_manager - DEBUG - findfont: score(<Font 'Bodoni MT' (BOD_BLAR.TTF) normal normal 900 normal>) = 10.525\n",
      "2020-08-07 23:17:23,766 - matplotlib.font_manager - DEBUG - findfont: score(<Font 'Malgun Gothic' (malgunsl.ttf) normal normal 300 normal>) = 10.145\n",
      "2020-08-07 23:17:23,767 - matplotlib.font_manager - DEBUG - findfont: score(<Font 'Lucida Sans Typewriter' (LTYPEB.TTF) normal normal 600 normal>) = 10.24\n",
      "2020-08-07 23:17:23,767 - matplotlib.font_manager - DEBUG - findfont: score(<Font 'Arial' (arialbd.ttf) normal normal 700 normal>) = 10.335\n",
      "2020-08-07 23:17:23,768 - matplotlib.font_manager - DEBUG - findfont: score(<Font 'Constantia' (constanz.ttf) italic normal 700 normal>) = 11.335\n",
      "2020-08-07 23:17:23,769 - matplotlib.font_manager - DEBUG - findfont: score(<Font 'Tempus Sans ITC' (TEMPSITC.TTF) normal normal 400 normal>) = 10.05\n",
      "2020-08-07 23:17:23,769 - matplotlib.font_manager - DEBUG - findfont: score(<Font 'Marlett' (marlett.ttf) normal normal 500 normal>) = 10.145\n",
      "2020-08-07 23:17:23,770 - matplotlib.font_manager - DEBUG - findfont: score(<Font 'Arial Nova' (ArialNova-Bold.ttf) normal normal 700 normal>) = 10.335\n",
      "2020-08-07 23:17:23,770 - matplotlib.font_manager - DEBUG - findfont: score(<Font 'Bodoni MT' (BOD_CB.TTF) normal normal 700 condensed>) = 10.535\n",
      "2020-08-07 23:17:23,771 - matplotlib.font_manager - DEBUG - findfont: score(<Font 'Gigi' (GIGI.TTF) normal normal 400 normal>) = 10.05\n",
      "2020-08-07 23:17:23,771 - matplotlib.font_manager - DEBUG - findfont: score(<Font 'MS Gothic' (msgothic.ttc) normal normal 400 normal>) = 10.05\n",
      "2020-08-07 23:17:23,772 - matplotlib.font_manager - DEBUG - findfont: score(<Font 'Georgia Pro' (GeorgiaPro-BlackItalic.ttf) italic normal 900 normal>) = 11.525\n",
      "2020-08-07 23:17:23,772 - matplotlib.font_manager - DEBUG - findfont: score(<Font 'Onyx' (ONYX.TTF) normal normal 400 normal>) = 10.05\n",
      "2020-08-07 23:17:23,773 - matplotlib.font_manager - DEBUG - findfont: score(<Font 'Edwardian Script ITC' (ITCEDSCR.TTF) normal normal 400 normal>) = 10.05\n",
      "2020-08-07 23:17:23,774 - matplotlib.font_manager - DEBUG - findfont: score(<Font 'Franklin Gothic Heavy' (FRAHV.TTF) normal normal 400 normal>) = 10.05\n",
      "2020-08-07 23:17:23,774 - matplotlib.font_manager - DEBUG - findfont: score(<Font 'MingLiU-ExtB' (mingliub.ttc) normal normal 400 normal>) = 10.05\n",
      "2020-08-07 23:17:23,775 - matplotlib.font_manager - DEBUG - findfont: score(<Font 'Georgia Pro' (GeorgiaPro-Black.ttf) normal normal 900 normal>) = 10.525\n",
      "2020-08-07 23:17:23,775 - matplotlib.font_manager - DEBUG - findfont: score(<Font 'Cambria' (cambriaz.ttf) italic normal 700 normal>) = 11.335\n",
      "2020-08-07 23:17:23,776 - matplotlib.font_manager - DEBUG - findfont: score(<Font 'Yu Gothic' (YuGothB.ttc) normal normal 700 normal>) = 10.335\n",
      "2020-08-07 23:17:23,776 - matplotlib.font_manager - DEBUG - findfont: score(<Font 'Myanmar Text' (mmrtext.ttf) normal normal 400 normal>) = 10.05\n",
      "2020-08-07 23:17:23,777 - matplotlib.font_manager - DEBUG - findfont: score(<Font 'Verdana Pro' (VerdanaPro-CondRegular.ttf) normal normal 400 condensed>) = 10.25\n",
      "2020-08-07 23:17:23,777 - matplotlib.font_manager - DEBUG - findfont: score(<Font 'Edwardian Script ITC' (ITCEDSCR.TTF) normal normal 400 normal>) = 10.05\n",
      "2020-08-07 23:17:23,778 - matplotlib.font_manager - DEBUG - findfont: score(<Font 'Gill Sans Nova' (GillSansLightItNova.ttf) italic normal 300 normal>) = 11.145\n",
      "2020-08-07 23:17:23,778 - matplotlib.font_manager - DEBUG - findfont: score(<Font 'Berlin Sans FB' (BRLNSB.TTF) normal normal 700 normal>) = 10.335\n",
      "2020-08-07 23:17:23,779 - matplotlib.font_manager - DEBUG - findfont: score(<Font 'Segoe Script' (segoesc.ttf) normal normal 400 normal>) = 10.05\n",
      "2020-08-07 23:17:23,780 - matplotlib.font_manager - DEBUG - findfont: score(<Font 'Freestyle Script' (FREESCPT.TTF) normal normal 400 normal>) = 10.05\n",
      "2020-08-07 23:17:23,781 - matplotlib.font_manager - DEBUG - findfont: score(<Font 'Tahoma' (tahoma.ttf) normal normal 400 normal>) = 10.05\n",
      "2020-08-07 23:17:23,781 - matplotlib.font_manager - DEBUG - findfont: score(<Font 'Candara' (Candara.ttf) normal normal 400 normal>) = 10.05\n",
      "2020-08-07 23:17:23,782 - matplotlib.font_manager - DEBUG - findfont: score(<Font 'Century Schoolbook' (SCHLBKI.TTF) italic normal 400 normal>) = 11.05\n",
      "2020-08-07 23:17:23,784 - matplotlib.font_manager - DEBUG - findfont: score(<Font 'Symbol' (symbol.ttf) normal normal 400 normal>) = 10.05\n",
      "2020-08-07 23:17:23,784 - matplotlib.font_manager - DEBUG - findfont: score(<Font 'Pristina' (PRISTINA.TTF) normal normal 400 normal>) = 10.05\n",
      "2020-08-07 23:17:23,785 - matplotlib.font_manager - DEBUG - findfont: score(<Font 'Impact' (impact.ttf) normal normal 400 normal>) = 10.05\n",
      "2020-08-07 23:17:23,786 - matplotlib.font_manager - DEBUG - findfont: score(<Font 'Georgia' (georgia.ttf) normal normal 400 normal>) = 10.05\n",
      "2020-08-07 23:17:23,786 - matplotlib.font_manager - DEBUG - findfont: score(<Font 'Rockwell Nova' (RockwellNova-LightItalic.ttf) italic normal 300 normal>) = 11.145\n",
      "2020-08-07 23:17:23,787 - matplotlib.font_manager - DEBUG - findfont: score(<Font 'Comic Sans MS' (comicz.ttf) italic normal 700 normal>) = 11.335\n",
      "2020-08-07 23:17:23,787 - matplotlib.font_manager - DEBUG - findfont: score(<Font 'Magneto' (MAGNETOB.TTF) normal normal 700 normal>) = 10.335\n",
      "2020-08-07 23:17:23,788 - matplotlib.font_manager - DEBUG - findfont: score(<Font 'Segoe Print' (segoeprb.ttf) normal normal 700 normal>) = 10.335\n",
      "2020-08-07 23:17:23,789 - matplotlib.font_manager - DEBUG - findfont: score(<Font 'Georgia Pro' (GeorgiaPro-Regular.ttf) normal normal 400 normal>) = 10.05\n",
      "2020-08-07 23:17:23,789 - matplotlib.font_manager - DEBUG - findfont: score(<Font 'Bell MT' (BELLI.TTF) italic normal 400 normal>) = 11.05\n",
      "2020-08-07 23:17:23,790 - matplotlib.font_manager - DEBUG - findfont: score(<Font 'Gill Sans Ultra Bold Condensed' (GILLUBCD.TTF) normal normal 400 condensed>) = 10.25\n",
      "2020-08-07 23:17:23,791 - matplotlib.font_manager - DEBUG - findfont: score(<Font 'Comic Sans MS' (comicbd.ttf) normal normal 700 normal>) = 10.335\n",
      "2020-08-07 23:17:23,791 - matplotlib.font_manager - DEBUG - findfont: score(<Font 'Neue Haas Grotesk Text Pro' (NHaasGroteskTXPro-56It.ttf) italic normal 400 normal>) = 11.05\n",
      "2020-08-07 23:17:23,792 - matplotlib.font_manager - DEBUG - findfont: score(<Font 'Symbol' (symbol.ttf) normal normal 400 normal>) = 10.05\n",
      "2020-08-07 23:17:23,792 - matplotlib.font_manager - DEBUG - findfont: score(<Font 'Century Gothic' (GOTHICI.TTF) italic normal 400 normal>) = 11.05\n",
      "2020-08-07 23:17:23,793 - matplotlib.font_manager - DEBUG - findfont: score(<Font 'Verdana Pro' (VerdanaPro-CondBlack.ttf) normal normal 900 condensed>) = 10.725\n",
      "2020-08-07 23:17:23,794 - matplotlib.font_manager - DEBUG - findfont: score(<Font 'Lucida Calligraphy' (LCALLIG.TTF) italic normal 400 normal>) = 11.05\n",
      "2020-08-07 23:17:23,794 - matplotlib.font_manager - DEBUG - findfont: score(<Font 'Monotype Corsiva' (MTCORSVA.TTF) normal normal 400 normal>) = 10.05\n",
      "2020-08-07 23:17:23,795 - matplotlib.font_manager - DEBUG - findfont: score(<Font 'Verdana Pro' (VerdanaPro-CondBold.ttf) normal normal 700 condensed>) = 10.535\n",
      "2020-08-07 23:17:23,796 - matplotlib.font_manager - DEBUG - findfont: score(<Font 'Forte' (FORTE.TTF) normal normal 400 normal>) = 10.05\n",
      "2020-08-07 23:17:23,796 - matplotlib.font_manager - DEBUG - findfont: score(<Font 'Rockwell' (ROCK.TTF) normal normal 400 normal>) = 10.05\n",
      "2020-08-07 23:17:23,797 - matplotlib.font_manager - DEBUG - findfont: score(<Font 'Microsoft YaHei' (msyh.ttc) normal normal 400 normal>) = 10.05\n"
     ]
    },
    {
     "name": "stderr",
     "output_type": "stream",
     "text": [
      "2020-08-07 23:17:23,798 - matplotlib.font_manager - DEBUG - findfont: score(<Font 'Palatino Linotype' (pala.ttf) normal normal 400 normal>) = 10.05\n",
      "2020-08-07 23:17:23,798 - matplotlib.font_manager - DEBUG - findfont: score(<Font 'Gadugi' (gadugi.ttf) normal normal 400 normal>) = 10.05\n",
      "2020-08-07 23:17:23,798 - matplotlib.font_manager - DEBUG - findfont: score(<Font 'Microsoft New Tai Lue' (ntailu.ttf) normal normal 400 normal>) = 10.05\n",
      "2020-08-07 23:17:23,800 - matplotlib.font_manager - DEBUG - findfont: score(<Font 'Book Antiqua' (ANTQUAB.TTF) normal normal 700 normal>) = 10.335\n",
      "2020-08-07 23:17:23,801 - matplotlib.font_manager - DEBUG - findfont: score(<Font 'Gill Sans Nova' (GillSansItNova.ttf) italic normal 500 normal>) = 11.145\n",
      "2020-08-07 23:17:23,802 - matplotlib.font_manager - DEBUG - findfont: score(<Font 'Lucida Console' (lucon.ttf) normal normal 400 normal>) = 10.05\n",
      "2020-08-07 23:17:23,802 - matplotlib.font_manager - DEBUG - findfont: score(<Font 'Courier New' (cour.ttf) normal normal 400 normal>) = 10.05\n",
      "2020-08-07 23:17:23,803 - matplotlib.font_manager - DEBUG - findfont: score(<Font 'Comic Sans MS' (comicbd.ttf) normal normal 700 normal>) = 10.335\n",
      "2020-08-07 23:17:23,803 - matplotlib.font_manager - DEBUG - findfont: score(<Font 'Constantia' (constanb.ttf) normal normal 700 normal>) = 10.335\n",
      "2020-08-07 23:17:23,804 - matplotlib.font_manager - DEBUG - findfont: score(<Font 'Bookshelf Symbol 7' (BSSYM7.TTF) normal normal 400 normal>) = 10.05\n",
      "2020-08-07 23:17:23,804 - matplotlib.font_manager - DEBUG - findfont: score(<Font 'Felix Titling' (FELIXTI.TTF) normal normal 400 normal>) = 10.05\n",
      "2020-08-07 23:17:23,805 - matplotlib.font_manager - DEBUG - findfont: score(<Font 'Franklin Gothic Book' (FRABK.TTF) normal normal 400 normal>) = 10.05\n",
      "2020-08-07 23:17:23,806 - matplotlib.font_manager - DEBUG - findfont: score(<Font 'Bookman Old Style' (BOOKOSI.TTF) italic normal 300 normal>) = 11.145\n",
      "2020-08-07 23:17:23,807 - matplotlib.font_manager - DEBUG - findfont: score(<Font 'Arial Nova' (ArialNova-Italic.ttf) italic normal 400 normal>) = 11.05\n",
      "2020-08-07 23:17:23,808 - matplotlib.font_manager - DEBUG - findfont: score(<Font 'Eras Light ITC' (ERASLGHT.TTF) normal normal 400 normal>) = 10.05\n",
      "2020-08-07 23:17:23,808 - matplotlib.font_manager - DEBUG - findfont: score(<Font 'Segoe UI' (seguisb.ttf) normal normal 600 normal>) = 10.24\n",
      "2020-08-07 23:17:23,809 - matplotlib.font_manager - DEBUG - findfont: score(<Font 'Curlz MT' (CURLZ___.TTF) normal normal 400 normal>) = 10.05\n",
      "2020-08-07 23:17:23,810 - matplotlib.font_manager - DEBUG - findfont: score(<Font 'Calisto MT' (CALISTBI.TTF) italic normal 700 normal>) = 11.335\n",
      "2020-08-07 23:17:23,811 - matplotlib.font_manager - DEBUG - findfont: score(<Font 'Franklin Gothic Demi' (FRADM.TTF) normal normal 400 normal>) = 10.05\n",
      "2020-08-07 23:17:23,811 - matplotlib.font_manager - DEBUG - findfont: score(<Font 'Berlin Sans FB' (BRLNSB.TTF) normal normal 700 normal>) = 10.335\n",
      "2020-08-07 23:17:23,812 - matplotlib.font_manager - DEBUG - findfont: score(<Font 'Verdana Pro' (VerdanaPro-CondSemiBold.ttf) normal normal 600 condensed>) = 10.44\n",
      "2020-08-07 23:17:23,812 - matplotlib.font_manager - DEBUG - findfont: score(<Font 'Microsoft YaHei' (msyhbd.ttc) normal normal 700 normal>) = 10.335\n",
      "2020-08-07 23:17:23,813 - matplotlib.font_manager - DEBUG - findfont: score(<Font 'Segoe UI Symbol' (seguisym.ttf) normal normal 400 normal>) = 10.05\n",
      "2020-08-07 23:17:23,814 - matplotlib.font_manager - DEBUG - findfont: score(<Font 'Leelawadee UI' (LeelUIsl.ttf) normal normal 350 normal>) = 10.0975\n",
      "2020-08-07 23:17:23,814 - matplotlib.font_manager - DEBUG - findfont: score(<Font 'Calibri' (calibrii.ttf) italic normal 400 normal>) = 11.05\n",
      "2020-08-07 23:17:23,815 - matplotlib.font_manager - DEBUG - findfont: score(<Font 'Georgia Pro' (GeorgiaPro-CondRegular.ttf) normal normal 400 condensed>) = 10.25\n",
      "2020-08-07 23:17:23,816 - matplotlib.font_manager - DEBUG - findfont: score(<Font 'Gill Sans Nova' (GillSansCondBoItNova.ttf) italic normal 700 condensed>) = 11.535\n",
      "2020-08-07 23:17:23,817 - matplotlib.font_manager - DEBUG - findfont: score(<Font 'Century Schoolbook' (CENSCBK.TTF) normal normal 400 normal>) = 10.05\n",
      "2020-08-07 23:17:23,817 - matplotlib.font_manager - DEBUG - findfont: score(<Font 'Microsoft JhengHei' (msjhl.ttc) normal normal 290 normal>) = 10.1545\n",
      "2020-08-07 23:17:23,818 - matplotlib.font_manager - DEBUG - findfont: score(<Font 'Verdana Pro' (VerdanaPro-CondItalic.ttf) italic normal 400 condensed>) = 11.25\n",
      "2020-08-07 23:17:23,818 - matplotlib.font_manager - DEBUG - findfont: score(<Font 'Cambria' (cambriai.ttf) italic normal 400 normal>) = 11.05\n",
      "2020-08-07 23:17:23,819 - matplotlib.font_manager - DEBUG - findfont: score(<Font 'Verdana Pro' (VerdanaPro-LightItalic.ttf) italic normal 300 normal>) = 11.145\n",
      "2020-08-07 23:17:23,819 - matplotlib.font_manager - DEBUG - findfont: score(<Font 'Georgia Pro' (GeorgiaPro-Light.ttf) normal normal 300 normal>) = 10.145\n",
      "2020-08-07 23:17:23,819 - matplotlib.font_manager - WARNING - findfont: Font family ['serif'] not found. Falling back to DejaVu Sans.\n",
      "2020-08-07 23:17:23,820 - matplotlib.font_manager - DEBUG - findfont: Matching DejaVu Sans:style=normal:variant=normal:weight=normal:stretch=normal:size=10.0.\n",
      "2020-08-07 23:17:23,821 - matplotlib.font_manager - DEBUG - findfont: score(<Font 'STIXSizeThreeSym' (STIXSizThreeSymReg.ttf) normal normal 400 normal>) = 10.05\n",
      "2020-08-07 23:17:23,821 - matplotlib.font_manager - DEBUG - findfont: score(<Font 'STIXSizeTwoSym' (STIXSizTwoSymReg.ttf) normal normal 400 normal>) = 10.05\n",
      "2020-08-07 23:17:23,822 - matplotlib.font_manager - DEBUG - findfont: score(<Font 'cmb10' (cmb10.ttf) normal normal 400 normal>) = 10.05\n",
      "2020-08-07 23:17:23,822 - matplotlib.font_manager - DEBUG - findfont: score(<Font 'cmr10' (cmr10.ttf) normal normal 400 normal>) = 10.05\n",
      "2020-08-07 23:17:23,823 - matplotlib.font_manager - DEBUG - findfont: score(<Font 'STIXGeneral' (STIXGeneralBol.ttf) normal normal 700 normal>) = 10.335\n",
      "2020-08-07 23:17:23,823 - matplotlib.font_manager - DEBUG - findfont: score(<Font 'DejaVu Serif Display' (DejaVuSerifDisplay.ttf) normal normal 400 normal>) = 10.05\n",
      "2020-08-07 23:17:23,824 - matplotlib.font_manager - DEBUG - findfont: score(<Font 'cmsy10' (cmsy10.ttf) normal normal 400 normal>) = 10.05\n",
      "2020-08-07 23:17:23,824 - matplotlib.font_manager - DEBUG - findfont: score(<Font 'DejaVu Sans Display' (DejaVuSansDisplay.ttf) normal normal 400 normal>) = 10.05\n",
      "2020-08-07 23:17:23,825 - matplotlib.font_manager - DEBUG - findfont: score(<Font 'STIXSizeFourSym' (STIXSizFourSymBol.ttf) normal normal 700 normal>) = 10.335\n",
      "2020-08-07 23:17:23,826 - matplotlib.font_manager - DEBUG - findfont: score(<Font 'cmmi10' (cmmi10.ttf) normal normal 400 normal>) = 10.05\n",
      "2020-08-07 23:17:23,827 - matplotlib.font_manager - DEBUG - findfont: score(<Font 'DejaVu Serif' (DejaVuSerif-BoldItalic.ttf) italic normal 700 normal>) = 11.335\n",
      "2020-08-07 23:17:23,827 - matplotlib.font_manager - DEBUG - findfont: score(<Font 'cmex10' (cmex10.ttf) normal normal 400 normal>) = 10.05\n",
      "2020-08-07 23:17:23,828 - matplotlib.font_manager - DEBUG - findfont: score(<Font 'DejaVu Sans Mono' (DejaVuSansMono-Bold.ttf) normal normal 700 normal>) = 10.335\n",
      "2020-08-07 23:17:23,829 - matplotlib.font_manager - DEBUG - findfont: score(<Font 'STIXNonUnicode' (STIXNonUniIta.ttf) italic normal 400 normal>) = 11.05\n",
      "2020-08-07 23:17:23,829 - matplotlib.font_manager - DEBUG - findfont: score(<Font 'DejaVu Sans' (DejaVuSans-Oblique.ttf) oblique normal 400 normal>) = 1.05\n",
      "2020-08-07 23:17:23,830 - matplotlib.font_manager - DEBUG - findfont: score(<Font 'cmtt10' (cmtt10.ttf) normal normal 400 normal>) = 10.05\n",
      "2020-08-07 23:17:23,831 - matplotlib.font_manager - DEBUG - findfont: score(<Font 'DejaVu Sans' (DejaVuSans.ttf) normal normal 400 normal>) = 0.05\n",
      "2020-08-07 23:17:23,832 - matplotlib.font_manager - DEBUG - findfont: score(<Font 'STIXNonUnicode' (STIXNonUni.ttf) normal normal 400 normal>) = 10.05\n",
      "2020-08-07 23:17:23,833 - matplotlib.font_manager - DEBUG - findfont: score(<Font 'STIXSizeFiveSym' (STIXSizFiveSymReg.ttf) normal normal 400 normal>) = 10.05\n",
      "2020-08-07 23:17:23,834 - matplotlib.font_manager - DEBUG - findfont: score(<Font 'DejaVu Sans' (DejaVuSans-BoldOblique.ttf) oblique normal 700 normal>) = 1.335\n"
     ]
    },
    {
     "name": "stderr",
     "output_type": "stream",
     "text": [
      "2020-08-07 23:17:23,834 - matplotlib.font_manager - DEBUG - findfont: score(<Font 'DejaVu Sans Mono' (DejaVuSansMono-BoldOblique.ttf) oblique normal 700 normal>) = 11.335\n",
      "2020-08-07 23:17:23,835 - matplotlib.font_manager - DEBUG - findfont: score(<Font 'DejaVu Sans Mono' (DejaVuSansMono.ttf) normal normal 400 normal>) = 10.05\n",
      "2020-08-07 23:17:23,836 - matplotlib.font_manager - DEBUG - findfont: score(<Font 'STIXSizeFourSym' (STIXSizFourSymReg.ttf) normal normal 400 normal>) = 10.05\n",
      "2020-08-07 23:17:23,836 - matplotlib.font_manager - DEBUG - findfont: score(<Font 'STIXSizeOneSym' (STIXSizOneSymBol.ttf) normal normal 700 normal>) = 10.335\n",
      "2020-08-07 23:17:23,837 - matplotlib.font_manager - DEBUG - findfont: score(<Font 'STIXNonUnicode' (STIXNonUniBol.ttf) normal normal 700 normal>) = 10.335\n",
      "2020-08-07 23:17:23,838 - matplotlib.font_manager - DEBUG - findfont: score(<Font 'STIXGeneral' (STIXGeneral.ttf) normal normal 400 normal>) = 10.05\n",
      "2020-08-07 23:17:23,838 - matplotlib.font_manager - DEBUG - findfont: score(<Font 'STIXSizeThreeSym' (STIXSizThreeSymBol.ttf) normal normal 700 normal>) = 10.335\n",
      "2020-08-07 23:17:23,839 - matplotlib.font_manager - DEBUG - findfont: score(<Font 'cmss10' (cmss10.ttf) normal normal 400 normal>) = 10.05\n",
      "2020-08-07 23:17:23,839 - matplotlib.font_manager - DEBUG - findfont: score(<Font 'DejaVu Sans Mono' (DejaVuSansMono-Oblique.ttf) oblique normal 400 normal>) = 11.05\n",
      "2020-08-07 23:17:23,840 - matplotlib.font_manager - DEBUG - findfont: score(<Font 'DejaVu Sans' (DejaVuSans-Bold.ttf) normal normal 700 normal>) = 0.33499999999999996\n",
      "2020-08-07 23:17:23,840 - matplotlib.font_manager - DEBUG - findfont: score(<Font 'DejaVu Serif' (DejaVuSerif-Italic.ttf) italic normal 400 normal>) = 11.05\n",
      "2020-08-07 23:17:23,841 - matplotlib.font_manager - DEBUG - findfont: score(<Font 'DejaVu Serif' (DejaVuSerif-Bold.ttf) normal normal 700 normal>) = 10.335\n",
      "2020-08-07 23:17:23,842 - matplotlib.font_manager - DEBUG - findfont: score(<Font 'STIXGeneral' (STIXGeneralBolIta.ttf) italic normal 700 normal>) = 11.335\n",
      "2020-08-07 23:17:23,842 - matplotlib.font_manager - DEBUG - findfont: score(<Font 'DejaVu Serif' (DejaVuSerif.ttf) normal normal 400 normal>) = 10.05\n",
      "2020-08-07 23:17:23,843 - matplotlib.font_manager - DEBUG - findfont: score(<Font 'STIXSizeOneSym' (STIXSizOneSymReg.ttf) normal normal 400 normal>) = 10.05\n",
      "2020-08-07 23:17:23,844 - matplotlib.font_manager - DEBUG - findfont: score(<Font 'STIXSizeTwoSym' (STIXSizTwoSymBol.ttf) normal normal 700 normal>) = 10.335\n",
      "2020-08-07 23:17:23,845 - matplotlib.font_manager - DEBUG - findfont: score(<Font 'STIXGeneral' (STIXGeneralItalic.ttf) italic normal 400 normal>) = 11.05\n",
      "2020-08-07 23:17:23,846 - matplotlib.font_manager - DEBUG - findfont: score(<Font 'STIXNonUnicode' (STIXNonUniBolIta.ttf) italic normal 700 normal>) = 11.335\n",
      "2020-08-07 23:17:23,847 - matplotlib.font_manager - DEBUG - findfont: score(<Font 'Franklin Gothic Medium' (framdit.ttf) italic normal 400 normal>) = 11.05\n",
      "2020-08-07 23:17:23,848 - matplotlib.font_manager - DEBUG - findfont: score(<Font 'Gill Sans Nova' (GillSansLightItNova.ttf) italic normal 300 normal>) = 11.145\n",
      "2020-08-07 23:17:23,848 - matplotlib.font_manager - DEBUG - findfont: score(<Font 'Bodoni MT' (BOD_I.TTF) italic normal 400 normal>) = 11.05\n",
      "2020-08-07 23:17:23,849 - matplotlib.font_manager - DEBUG - findfont: score(<Font 'Microsoft JhengHei' (msjhbd.ttc) normal normal 700 normal>) = 10.335\n",
      "2020-08-07 23:17:23,850 - matplotlib.font_manager - DEBUG - findfont: score(<Font 'Century Gothic' (GOTHICB.TTF) normal normal 700 normal>) = 10.335\n",
      "2020-08-07 23:17:23,851 - matplotlib.font_manager - DEBUG - findfont: score(<Font 'Arial Nova' (ArialNovaCond-LightItalic.ttf) italic normal 300 condensed>) = 11.344999999999999\n",
      "2020-08-07 23:17:23,852 - matplotlib.font_manager - DEBUG - findfont: score(<Font 'Consolas' (consola.ttf) normal normal 400 normal>) = 10.05\n",
      "2020-08-07 23:17:23,852 - matplotlib.font_manager - DEBUG - findfont: score(<Font 'Book Antiqua' (ANTQUABI.TTF) italic normal 700 normal>) = 11.335\n",
      "2020-08-07 23:17:23,853 - matplotlib.font_manager - DEBUG - findfont: score(<Font 'Jokerman' (JOKERMAN.TTF) normal normal 400 normal>) = 10.05\n",
      "2020-08-07 23:17:23,854 - matplotlib.font_manager - DEBUG - findfont: score(<Font 'Tahoma' (tahoma.ttf) normal normal 400 normal>) = 10.05\n",
      "2020-08-07 23:17:23,854 - matplotlib.font_manager - DEBUG - findfont: score(<Font 'MingLiU-ExtB' (mingliub.ttc) normal normal 400 normal>) = 10.05\n",
      "2020-08-07 23:17:23,855 - matplotlib.font_manager - DEBUG - findfont: score(<Font 'High Tower Text' (HTOWERT.TTF) normal normal 400 normal>) = 10.05\n",
      "2020-08-07 23:17:23,855 - matplotlib.font_manager - DEBUG - findfont: score(<Font 'Franklin Gothic Medium' (framd.ttf) normal normal 400 normal>) = 10.05\n",
      "2020-08-07 23:17:23,856 - matplotlib.font_manager - DEBUG - findfont: score(<Font 'Verdana Pro' (VerdanaPro-Italic.ttf) italic normal 400 normal>) = 11.05\n",
      "2020-08-07 23:17:23,856 - matplotlib.font_manager - DEBUG - findfont: score(<Font 'Candara' (Candaral.ttf) normal normal 400 normal>) = 10.05\n",
      "2020-08-07 23:17:23,857 - matplotlib.font_manager - DEBUG - findfont: score(<Font 'Rockwell Nova' (RockwellNova-Italic.ttf) italic normal 400 normal>) = 11.05\n",
      "2020-08-07 23:17:23,857 - matplotlib.font_manager - DEBUG - findfont: score(<Font 'Kristen ITC' (ITCKRIST.TTF) normal normal 400 normal>) = 10.05\n",
      "2020-08-07 23:17:23,858 - matplotlib.font_manager - DEBUG - findfont: score(<Font 'Tw Cen MT Condensed Extra Bold' (TCCEB.TTF) normal normal 400 condensed>) = 10.25\n",
      "2020-08-07 23:17:23,858 - matplotlib.font_manager - DEBUG - findfont: score(<Font 'TeamViewer15' (teamviewer15.otf) normal normal 500 normal>) = 10.145\n",
      "2020-08-07 23:17:23,859 - matplotlib.font_manager - DEBUG - findfont: score(<Font 'Tw Cen MT Condensed Extra Bold' (TCCEB.TTF) normal normal 400 condensed>) = 10.25\n",
      "2020-08-07 23:17:23,859 - matplotlib.font_manager - DEBUG - findfont: score(<Font 'Eras Bold ITC' (ERASBD.TTF) normal normal 400 normal>) = 10.05\n",
      "2020-08-07 23:17:23,861 - matplotlib.font_manager - DEBUG - findfont: score(<Font 'Rockwell Nova' (RockwellNovaCond.ttf) normal normal 400 condensed>) = 10.25\n",
      "2020-08-07 23:17:23,862 - matplotlib.font_manager - DEBUG - findfont: score(<Font 'Arial Nova' (ArialNovaCond-BoldItalic.ttf) italic normal 700 condensed>) = 11.535\n",
      "2020-08-07 23:17:23,862 - matplotlib.font_manager - DEBUG - findfont: score(<Font 'Century Gothic' (GOTHICI.TTF) italic normal 400 normal>) = 11.05\n",
      "2020-08-07 23:17:23,863 - matplotlib.font_manager - DEBUG - findfont: score(<Font 'Gill Sans MT' (GILI____.TTF) italic normal 400 normal>) = 11.05\n",
      "2020-08-07 23:17:23,863 - matplotlib.font_manager - DEBUG - findfont: score(<Font 'Microsoft Himalaya' (himalaya.ttf) normal normal 400 normal>) = 10.05\n",
      "2020-08-07 23:17:23,864 - matplotlib.font_manager - DEBUG - findfont: score(<Font 'Gill Sans MT' (GILBI___.TTF) italic normal 700 normal>) = 11.335\n",
      "2020-08-07 23:17:23,864 - matplotlib.font_manager - DEBUG - findfont: score(<Font 'Arial Nova' (ArialNovaCond-LightItalic.ttf) italic normal 300 condensed>) = 11.344999999999999\n",
      "2020-08-07 23:17:23,865 - matplotlib.font_manager - DEBUG - findfont: score(<Font 'SimSun' (simsun.ttc) normal normal 400 normal>) = 10.05\n",
      "2020-08-07 23:17:23,866 - matplotlib.font_manager - DEBUG - findfont: score(<Font 'Microsoft Uighur' (MSUIGHUR.TTF) normal normal 400 normal>) = 10.05\n",
      "2020-08-07 23:17:23,866 - matplotlib.font_manager - DEBUG - findfont: score(<Font 'Lucida Handwriting' (LHANDW.TTF) italic normal 400 normal>) = 11.05\n",
      "2020-08-07 23:17:23,867 - matplotlib.font_manager - DEBUG - findfont: score(<Font 'Poor Richard' (POORICH.TTF) normal normal 400 normal>) = 10.05\n",
      "2020-08-07 23:17:23,868 - matplotlib.font_manager - DEBUG - findfont: score(<Font 'Tw Cen MT' (TCM_____.TTF) normal normal 400 normal>) = 10.05\n",
      "2020-08-07 23:17:23,868 - matplotlib.font_manager - DEBUG - findfont: score(<Font 'Georgia Pro' (GeorgiaPro-BlackItalic.ttf) italic normal 900 normal>) = 11.525\n",
      "2020-08-07 23:17:23,869 - matplotlib.font_manager - DEBUG - findfont: score(<Font 'Verdana Pro' (VerdanaPro-BlackItalic.ttf) italic normal 900 normal>) = 11.525\n",
      "2020-08-07 23:17:23,869 - matplotlib.font_manager - DEBUG - findfont: score(<Font 'MT Extra' (MTEXTRA.TTF) normal normal 400 normal>) = 10.05\n"
     ]
    },
    {
     "name": "stderr",
     "output_type": "stream",
     "text": [
      "2020-08-07 23:17:23,870 - matplotlib.font_manager - DEBUG - findfont: score(<Font 'Book Antiqua' (BKANT.TTF) normal normal 400 normal>) = 10.05\n",
      "2020-08-07 23:17:23,871 - matplotlib.font_manager - DEBUG - findfont: score(<Font 'SimSun' (simsun.ttc) normal normal 400 normal>) = 10.05\n",
      "2020-08-07 23:17:23,871 - matplotlib.font_manager - DEBUG - findfont: score(<Font 'Arial' (ARIALNI.TTF) italic normal 400 condensed>) = 11.25\n",
      "2020-08-07 23:17:23,872 - matplotlib.font_manager - DEBUG - findfont: score(<Font 'Tw Cen MT' (TCMI____.TTF) italic normal 400 normal>) = 11.05\n",
      "2020-08-07 23:17:23,872 - matplotlib.font_manager - DEBUG - findfont: score(<Font 'Tempus Sans ITC' (TEMPSITC.TTF) normal normal 400 normal>) = 10.05\n",
      "2020-08-07 23:17:23,873 - matplotlib.font_manager - DEBUG - findfont: score(<Font 'Bernard MT Condensed' (BERNHC.TTF) normal normal 400 condensed>) = 10.25\n",
      "2020-08-07 23:17:23,873 - matplotlib.font_manager - DEBUG - findfont: score(<Font 'Agency FB' (AGENCYB.TTF) normal normal 700 normal>) = 10.335\n",
      "2020-08-07 23:17:23,874 - matplotlib.font_manager - DEBUG - findfont: score(<Font 'Microsoft Uighur' (MSUIGHUB.TTF) normal normal 700 normal>) = 10.335\n",
      "2020-08-07 23:17:23,874 - matplotlib.font_manager - DEBUG - findfont: score(<Font 'Lucida Sans Unicode' (l_10646.ttf) normal normal 400 normal>) = 10.05\n",
      "2020-08-07 23:17:23,875 - matplotlib.font_manager - DEBUG - findfont: score(<Font 'Palatino Linotype' (palai.ttf) italic normal 400 normal>) = 11.05\n",
      "2020-08-07 23:17:23,876 - matplotlib.font_manager - DEBUG - findfont: score(<Font 'Onyx' (ONYX.TTF) normal normal 400 normal>) = 10.05\n",
      "2020-08-07 23:17:23,876 - matplotlib.font_manager - DEBUG - findfont: score(<Font 'Gill Sans Ultra Bold Condensed' (GILLUBCD.TTF) normal normal 400 condensed>) = 10.25\n",
      "2020-08-07 23:17:23,877 - matplotlib.font_manager - DEBUG - findfont: score(<Font 'Bell MT' (BELLB.TTF) normal normal 700 normal>) = 10.335\n",
      "2020-08-07 23:17:23,878 - matplotlib.font_manager - DEBUG - findfont: score(<Font 'Brush Script MT' (BRUSHSCI.TTF) italic normal 400 normal>) = 11.05\n",
      "2020-08-07 23:17:23,878 - matplotlib.font_manager - DEBUG - findfont: score(<Font 'Script MT Bold' (SCRIPTBL.TTF) normal normal 700 normal>) = 10.335\n",
      "2020-08-07 23:17:23,879 - matplotlib.font_manager - DEBUG - findfont: score(<Font 'Dubai' (DUBAI-BOLD.TTF) normal normal 700 normal>) = 10.335\n",
      "2020-08-07 23:17:23,879 - matplotlib.font_manager - DEBUG - findfont: score(<Font 'Book Antiqua' (ANTQUABI.TTF) italic normal 700 normal>) = 11.335\n",
      "2020-08-07 23:17:23,880 - matplotlib.font_manager - DEBUG - findfont: score(<Font 'Segoe UI Historic' (seguihis.ttf) normal normal 400 normal>) = 10.05\n",
      "2020-08-07 23:17:23,880 - matplotlib.font_manager - DEBUG - findfont: score(<Font 'Arial' (ARIALN.TTF) normal normal 400 condensed>) = 10.25\n",
      "2020-08-07 23:17:23,881 - matplotlib.font_manager - DEBUG - findfont: score(<Font 'Dubai' (DUBAI-BOLD.TTF) normal normal 700 normal>) = 10.335\n",
      "2020-08-07 23:17:23,881 - matplotlib.font_manager - DEBUG - findfont: score(<Font 'Times New Roman' (timesbi.ttf) italic normal 700 normal>) = 11.335\n",
      "2020-08-07 23:17:23,882 - matplotlib.font_manager - DEBUG - findfont: score(<Font 'Leelawadee' (LEELAWDB.TTF) normal normal 700 normal>) = 10.335\n",
      "2020-08-07 23:17:23,882 - matplotlib.font_manager - DEBUG - findfont: score(<Font 'Georgia Pro' (GeorgiaPro-LightItalic.ttf) italic normal 300 normal>) = 11.145\n",
      "2020-08-07 23:17:23,883 - matplotlib.font_manager - DEBUG - findfont: score(<Font 'Georgia Pro' (GeorgiaPro-CondLightItalic.ttf) italic normal 300 condensed>) = 11.344999999999999\n",
      "2020-08-07 23:17:23,883 - matplotlib.font_manager - DEBUG - findfont: score(<Font 'Gill Sans Nova' (GillSansLightNova.ttf) normal normal 300 normal>) = 10.145\n",
      "2020-08-07 23:17:23,883 - matplotlib.font_manager - DEBUG - findfont: score(<Font 'Microsoft Tai Le' (taileb.ttf) normal normal 700 normal>) = 10.335\n",
      "2020-08-07 23:17:23,884 - matplotlib.font_manager - DEBUG - findfont: score(<Font 'Mistral' (MISTRAL.TTF) normal normal 400 normal>) = 10.05\n",
      "2020-08-07 23:17:23,884 - matplotlib.font_manager - DEBUG - findfont: score(<Font 'Gloucester MT Extra Condensed' (GLECB.TTF) normal normal 400 condensed>) = 10.25\n",
      "2020-08-07 23:17:23,885 - matplotlib.font_manager - DEBUG - findfont: score(<Font 'Garamond' (GARA.TTF) normal normal 400 normal>) = 10.05\n",
      "2020-08-07 23:17:23,886 - matplotlib.font_manager - DEBUG - findfont: score(<Font 'Castellar' (CASTELAR.TTF) normal normal 400 normal>) = 10.05\n",
      "2020-08-07 23:17:23,886 - matplotlib.font_manager - DEBUG - findfont: score(<Font 'Rage Italic' (RAGE.TTF) italic normal 400 normal>) = 11.05\n",
      "2020-08-07 23:17:23,887 - matplotlib.font_manager - DEBUG - findfont: score(<Font 'Bodoni MT' (BOD_BI.TTF) italic normal 700 normal>) = 11.335\n",
      "2020-08-07 23:17:23,887 - matplotlib.font_manager - DEBUG - findfont: score(<Font 'Rockwell' (ROCKB.TTF) normal normal 700 normal>) = 10.335\n",
      "2020-08-07 23:17:23,888 - matplotlib.font_manager - DEBUG - findfont: score(<Font 'Verdana Pro' (VerdanaPro-CondLightItalic.ttf) italic normal 300 condensed>) = 11.344999999999999\n",
      "2020-08-07 23:17:23,888 - matplotlib.font_manager - DEBUG - findfont: score(<Font 'SimSun-ExtB' (simsunb.ttf) normal normal 400 normal>) = 10.05\n",
      "2020-08-07 23:17:23,889 - matplotlib.font_manager - DEBUG - findfont: score(<Font 'Wingdings 3' (WINGDNG3.TTF) normal normal 400 normal>) = 10.05\n",
      "2020-08-07 23:17:23,889 - matplotlib.font_manager - DEBUG - findfont: score(<Font 'Gill Sans Nova' (GillSansCondBoNova.ttf) normal normal 700 condensed>) = 10.535\n",
      "2020-08-07 23:17:23,890 - matplotlib.font_manager - DEBUG - findfont: score(<Font 'Kunstler Script' (KUNSTLER.TTF) normal normal 400 normal>) = 10.05\n",
      "2020-08-07 23:17:23,890 - matplotlib.font_manager - DEBUG - findfont: score(<Font 'Matura MT Script Capitals' (MATURASC.TTF) normal normal 400 normal>) = 10.05\n",
      "2020-08-07 23:17:23,891 - matplotlib.font_manager - DEBUG - findfont: score(<Font 'Segoe UI' (seguili.ttf) italic normal 300 normal>) = 11.145\n",
      "2020-08-07 23:17:23,891 - matplotlib.font_manager - DEBUG - findfont: score(<Font 'Arial Nova' (ArialNova-Italic.ttf) italic normal 400 normal>) = 11.05\n",
      "2020-08-07 23:17:23,892 - matplotlib.font_manager - DEBUG - findfont: score(<Font 'Segoe UI' (seguisli.ttf) italic normal 350 normal>) = 11.0975\n",
      "2020-08-07 23:17:23,892 - matplotlib.font_manager - DEBUG - findfont: score(<Font 'Gill Sans MT Condensed' (GILC____.TTF) normal normal 400 condensed>) = 10.25\n",
      "2020-08-07 23:17:23,893 - matplotlib.font_manager - DEBUG - findfont: score(<Font 'Blackadder ITC' (ITCBLKAD.TTF) normal normal 400 normal>) = 10.05\n",
      "2020-08-07 23:17:23,894 - matplotlib.font_manager - DEBUG - findfont: score(<Font 'Calibri' (calibrili.ttf) italic normal 300 normal>) = 11.145\n",
      "2020-08-07 23:17:23,894 - matplotlib.font_manager - DEBUG - findfont: score(<Font 'Franklin Gothic Book' (FRABK.TTF) normal normal 400 normal>) = 10.05\n",
      "2020-08-07 23:17:23,895 - matplotlib.font_manager - DEBUG - findfont: score(<Font 'Perpetua' (PER_____.TTF) normal normal 400 normal>) = 10.05\n",
      "2020-08-07 23:17:23,896 - matplotlib.font_manager - DEBUG - findfont: score(<Font 'Arial Nova' (ArialNova-LightItalic.ttf) italic normal 300 normal>) = 11.145\n",
      "2020-08-07 23:17:23,896 - matplotlib.font_manager - DEBUG - findfont: score(<Font 'Rockwell Nova' (RockwellNovaCond-Light.ttf) normal normal 300 condensed>) = 10.344999999999999\n",
      "2020-08-07 23:17:23,897 - matplotlib.font_manager - DEBUG - findfont: score(<Font 'Georgia Pro' (GeorgiaPro-Bold.ttf) normal normal 700 normal>) = 10.335\n",
      "2020-08-07 23:17:23,897 - matplotlib.font_manager - DEBUG - findfont: score(<Font 'Lucida Sans Typewriter' (LTYPE.TTF) normal normal 400 normal>) = 10.05\n",
      "2020-08-07 23:17:23,898 - matplotlib.font_manager - DEBUG - findfont: score(<Font 'Dubai' (DUBAI-REGULAR.TTF) normal normal 400 normal>) = 10.05\n",
      "2020-08-07 23:17:23,898 - matplotlib.font_manager - DEBUG - findfont: score(<Font 'Neue Haas Grotesk Text Pro' (NHaasGroteskTXPro-56It.ttf) italic normal 400 normal>) = 11.05\n",
      "2020-08-07 23:17:23,899 - matplotlib.font_manager - DEBUG - findfont: score(<Font 'Bauhaus 93' (BAUHS93.TTF) normal normal 400 normal>) = 10.05\n",
      "2020-08-07 23:17:23,899 - matplotlib.font_manager - DEBUG - findfont: score(<Font 'Copperplate Gothic Light' (COPRGTL.TTF) normal normal 400 normal>) = 10.05\n"
     ]
    },
    {
     "name": "stderr",
     "output_type": "stream",
     "text": [
      "2020-08-07 23:17:23,900 - matplotlib.font_manager - DEBUG - findfont: score(<Font 'Gill Sans MT' (GILB____.TTF) normal normal 700 normal>) = 10.335\n",
      "2020-08-07 23:17:23,900 - matplotlib.font_manager - DEBUG - findfont: score(<Font 'Modern No. 20' (MOD20.TTF) normal normal 400 normal>) = 10.05\n",
      "2020-08-07 23:17:23,901 - matplotlib.font_manager - DEBUG - findfont: score(<Font 'Courier New' (courbd.ttf) normal normal 700 normal>) = 10.335\n",
      "2020-08-07 23:17:23,902 - matplotlib.font_manager - DEBUG - findfont: score(<Font 'Rockwell' (ROCKBI.TTF) italic normal 700 normal>) = 11.335\n",
      "2020-08-07 23:17:23,902 - matplotlib.font_manager - DEBUG - findfont: score(<Font 'Yu Gothic' (YuGothM.ttc) normal normal 500 normal>) = 10.145\n",
      "2020-08-07 23:17:23,903 - matplotlib.font_manager - DEBUG - findfont: score(<Font 'Bookman Old Style' (BOOKOS.TTF) normal normal 300 normal>) = 10.145\n",
      "2020-08-07 23:17:23,903 - matplotlib.font_manager - DEBUG - findfont: score(<Font 'Engravers MT' (ENGR.TTF) normal normal 500 normal>) = 10.145\n",
      "2020-08-07 23:17:23,904 - matplotlib.font_manager - DEBUG - findfont: score(<Font 'Bodoni MT' (BOD_B.TTF) normal normal 700 normal>) = 10.335\n",
      "2020-08-07 23:17:23,904 - matplotlib.font_manager - DEBUG - findfont: score(<Font 'Trebuchet MS' (trebucit.ttf) italic normal 400 normal>) = 11.05\n",
      "2020-08-07 23:17:23,905 - matplotlib.font_manager - DEBUG - findfont: score(<Font 'Bookman Old Style' (BOOKOSB.TTF) normal normal 600 normal>) = 10.24\n",
      "2020-08-07 23:17:23,906 - matplotlib.font_manager - DEBUG - findfont: score(<Font 'Palatino Linotype' (palai.ttf) italic normal 400 normal>) = 11.05\n",
      "2020-08-07 23:17:23,906 - matplotlib.font_manager - DEBUG - findfont: score(<Font 'Verdana' (verdanab.ttf) normal normal 700 normal>) = 10.335\n",
      "2020-08-07 23:17:23,907 - matplotlib.font_manager - DEBUG - findfont: score(<Font 'Segoe UI' (segoeuib.ttf) normal normal 700 normal>) = 10.335\n",
      "2020-08-07 23:17:23,908 - matplotlib.font_manager - DEBUG - findfont: score(<Font 'Engravers MT' (ENGR.TTF) normal normal 500 normal>) = 10.145\n",
      "2020-08-07 23:17:23,908 - matplotlib.font_manager - DEBUG - findfont: score(<Font 'Century Gothic' (GOTHICB.TTF) normal normal 700 normal>) = 10.335\n",
      "2020-08-07 23:17:23,909 - matplotlib.font_manager - DEBUG - findfont: score(<Font 'Colonna MT' (COLONNA.TTF) normal normal 400 normal>) = 10.05\n",
      "2020-08-07 23:17:23,910 - matplotlib.font_manager - DEBUG - findfont: score(<Font 'Sylfaen' (sylfaen.ttf) normal normal 400 normal>) = 10.05\n",
      "2020-08-07 23:17:23,910 - matplotlib.font_manager - DEBUG - findfont: score(<Font 'Microsoft Uighur' (MSUIGHUR.TTF) normal normal 400 normal>) = 10.05\n",
      "2020-08-07 23:17:23,911 - matplotlib.font_manager - DEBUG - findfont: score(<Font 'Georgia Pro' (GeorgiaPro-CondSemiBoldItalic.ttf) italic normal 600 condensed>) = 11.44\n",
      "2020-08-07 23:17:23,911 - matplotlib.font_manager - DEBUG - findfont: score(<Font 'Times New Roman' (times.ttf) normal normal 400 normal>) = 10.05\n",
      "2020-08-07 23:17:23,912 - matplotlib.font_manager - DEBUG - findfont: score(<Font 'Bell MT' (BELL.TTF) normal normal 400 normal>) = 10.05\n",
      "2020-08-07 23:17:23,912 - matplotlib.font_manager - DEBUG - findfont: score(<Font 'Calibri' (calibril.ttf) normal normal 300 normal>) = 10.145\n",
      "2020-08-07 23:17:23,913 - matplotlib.font_manager - DEBUG - findfont: score(<Font 'Bookman Old Style' (BOOKOSI.TTF) italic normal 300 normal>) = 11.145\n",
      "2020-08-07 23:17:23,913 - matplotlib.font_manager - DEBUG - findfont: score(<Font 'Verdana Pro' (VerdanaPro-SemiBold.ttf) normal normal 600 normal>) = 10.24\n",
      "2020-08-07 23:17:23,914 - matplotlib.font_manager - DEBUG - findfont: score(<Font 'Sylfaen' (sylfaen.ttf) normal normal 400 normal>) = 10.05\n",
      "2020-08-07 23:17:23,914 - matplotlib.font_manager - DEBUG - findfont: score(<Font 'Consolas' (consola.ttf) normal normal 400 normal>) = 10.05\n",
      "2020-08-07 23:17:23,915 - matplotlib.font_manager - DEBUG - findfont: score(<Font 'Times New Roman' (timesi.ttf) italic normal 400 normal>) = 11.05\n",
      "2020-08-07 23:17:23,915 - matplotlib.font_manager - DEBUG - findfont: score(<Font 'Gill Sans Nova' (GillSansBoItNova.ttf) italic normal 700 normal>) = 11.335\n",
      "2020-08-07 23:17:23,916 - matplotlib.font_manager - DEBUG - findfont: score(<Font 'TeamViewer15' (teamviewer15.otf) normal normal 500 normal>) = 10.145\n",
      "2020-08-07 23:17:23,916 - matplotlib.font_manager - DEBUG - findfont: score(<Font 'Comic Sans MS' (comici.ttf) italic normal 400 normal>) = 11.05\n",
      "2020-08-07 23:17:23,917 - matplotlib.font_manager - DEBUG - findfont: score(<Font 'High Tower Text' (HTOWERT.TTF) normal normal 400 normal>) = 10.05\n",
      "2020-08-07 23:17:23,917 - matplotlib.font_manager - DEBUG - findfont: score(<Font 'Lucida Sans Typewriter' (LTYPEBO.TTF) oblique normal 600 normal>) = 11.24\n",
      "2020-08-07 23:17:23,918 - matplotlib.font_manager - DEBUG - findfont: score(<Font 'Verdana' (verdana.ttf) normal normal 400 normal>) = 10.05\n",
      "2020-08-07 23:17:23,918 - matplotlib.font_manager - DEBUG - findfont: score(<Font 'Georgia' (georgiab.ttf) normal normal 700 normal>) = 10.335\n",
      "2020-08-07 23:17:23,919 - matplotlib.font_manager - DEBUG - findfont: score(<Font 'Informal Roman' (INFROMAN.TTF) normal normal 400 normal>) = 10.05\n",
      "2020-08-07 23:17:23,919 - matplotlib.font_manager - DEBUG - findfont: score(<Font 'Franklin Gothic Heavy' (FRAHVIT.TTF) italic normal 400 normal>) = 11.05\n",
      "2020-08-07 23:17:23,920 - matplotlib.font_manager - DEBUG - findfont: score(<Font 'Trebuchet MS' (trebucbi.ttf) italic normal 700 normal>) = 11.335\n",
      "2020-08-07 23:17:23,921 - matplotlib.font_manager - DEBUG - findfont: score(<Font 'Consolas' (consolaz.ttf) italic normal 700 normal>) = 11.335\n",
      "2020-08-07 23:17:23,921 - matplotlib.font_manager - DEBUG - findfont: score(<Font 'Mongolian Baiti' (monbaiti.ttf) normal normal 400 normal>) = 10.05\n",
      "2020-08-07 23:17:23,922 - matplotlib.font_manager - DEBUG - findfont: score(<Font 'Candara' (Candarali.ttf) italic normal 400 normal>) = 11.05\n",
      "2020-08-07 23:17:23,923 - matplotlib.font_manager - DEBUG - findfont: score(<Font 'HP Simplified' (HPSimplified_LtIt.ttf) italic normal 300 normal>) = 11.145\n",
      "2020-08-07 23:17:23,923 - matplotlib.font_manager - DEBUG - findfont: score(<Font 'Wingdings 3' (WINGDNG3.TTF) normal normal 400 normal>) = 10.05\n",
      "2020-08-07 23:17:23,924 - matplotlib.font_manager - DEBUG - findfont: score(<Font 'Palatino Linotype' (palab.ttf) normal normal 700 normal>) = 10.335\n",
      "2020-08-07 23:17:23,924 - matplotlib.font_manager - DEBUG - findfont: score(<Font 'Bodoni MT' (BOD_CR.TTF) normal normal 400 condensed>) = 10.25\n",
      "2020-08-07 23:17:23,925 - matplotlib.font_manager - DEBUG - findfont: score(<Font 'Microsoft Tai Le' (taile.ttf) normal normal 400 normal>) = 10.05\n",
      "2020-08-07 23:17:23,926 - matplotlib.font_manager - DEBUG - findfont: score(<Font 'Candara' (Candarai.ttf) italic normal 400 normal>) = 11.05\n",
      "2020-08-07 23:17:23,926 - matplotlib.font_manager - DEBUG - findfont: score(<Font 'Neue Haas Grotesk Text Pro' (NHaasGroteskTXPro-76BdIt.ttf) italic normal 700 normal>) = 11.335\n",
      "2020-08-07 23:17:23,927 - matplotlib.font_manager - DEBUG - findfont: score(<Font 'Calibri' (calibrili.ttf) italic normal 300 normal>) = 11.145\n",
      "2020-08-07 23:17:23,928 - matplotlib.font_manager - DEBUG - findfont: score(<Font 'Calibri' (calibri.ttf) normal normal 400 normal>) = 10.05\n",
      "2020-08-07 23:17:23,929 - matplotlib.font_manager - DEBUG - findfont: score(<Font 'Verdana Pro' (VerdanaPro-CondBoldItalic.ttf) italic normal 700 condensed>) = 11.535\n",
      "2020-08-07 23:17:23,929 - matplotlib.font_manager - DEBUG - findfont: score(<Font 'Lucida Sans' (LSANS.TTF) normal normal 400 normal>) = 10.05\n",
      "2020-08-07 23:17:23,930 - matplotlib.font_manager - DEBUG - findfont: score(<Font 'Segoe Script' (segoesc.ttf) normal normal 400 normal>) = 10.05\n",
      "2020-08-07 23:17:23,930 - matplotlib.font_manager - DEBUG - findfont: score(<Font 'Nirmala UI' (NirmalaS.ttf) normal normal 350 normal>) = 10.0975\n",
      "2020-08-07 23:17:23,931 - matplotlib.font_manager - DEBUG - findfont: score(<Font 'Georgia Pro' (GeorgiaPro-SemiBoldItalic.ttf) italic normal 600 normal>) = 11.24\n",
      "2020-08-07 23:17:23,931 - matplotlib.font_manager - DEBUG - findfont: score(<Font 'HP Simplified' (HPSimplified_BdIt.ttf) italic normal 700 normal>) = 11.335\n",
      "2020-08-07 23:17:23,932 - matplotlib.font_manager - DEBUG - findfont: score(<Font 'Franklin Gothic Demi Cond' (FRADMCN.TTF) normal normal 400 condensed>) = 10.25\n"
     ]
    },
    {
     "name": "stderr",
     "output_type": "stream",
     "text": [
      "2020-08-07 23:17:23,933 - matplotlib.font_manager - DEBUG - findfont: score(<Font 'Malgun Gothic' (malgunsl.ttf) normal normal 300 normal>) = 10.145\n",
      "2020-08-07 23:17:23,934 - matplotlib.font_manager - DEBUG - findfont: score(<Font 'Franklin Gothic Medium Cond' (FRAMDCN.TTF) normal normal 400 condensed>) = 10.25\n",
      "2020-08-07 23:17:23,934 - matplotlib.font_manager - DEBUG - findfont: score(<Font 'Segoe UI' (seguibl.ttf) normal normal 900 normal>) = 10.525\n",
      "2020-08-07 23:17:23,935 - matplotlib.font_manager - DEBUG - findfont: score(<Font 'Myanmar Text' (mmrtext.ttf) normal normal 400 normal>) = 10.05\n",
      "2020-08-07 23:17:23,935 - matplotlib.font_manager - DEBUG - findfont: score(<Font 'Georgia Pro' (GeorgiaPro-CondBold.ttf) normal normal 700 condensed>) = 10.535\n",
      "2020-08-07 23:17:23,936 - matplotlib.font_manager - DEBUG - findfont: score(<Font 'MS Reference Specialty' (REFSPCL.TTF) normal normal 400 normal>) = 10.05\n",
      "2020-08-07 23:17:23,937 - matplotlib.font_manager - DEBUG - findfont: score(<Font 'Georgia Pro' (GeorgiaPro-LightItalic.ttf) italic normal 300 normal>) = 11.145\n",
      "2020-08-07 23:17:23,937 - matplotlib.font_manager - DEBUG - findfont: score(<Font 'Microsoft JhengHei' (msjh.ttc) normal normal 400 normal>) = 10.05\n",
      "2020-08-07 23:17:23,937 - matplotlib.font_manager - DEBUG - findfont: score(<Font 'Palatino Linotype' (palab.ttf) normal normal 700 normal>) = 10.335\n",
      "2020-08-07 23:17:23,938 - matplotlib.font_manager - DEBUG - findfont: score(<Font 'Verdana' (verdanai.ttf) italic normal 400 normal>) = 11.05\n",
      "2020-08-07 23:17:23,939 - matplotlib.font_manager - DEBUG - findfont: score(<Font 'Georgia Pro' (GeorgiaPro-Bold.ttf) normal normal 700 normal>) = 10.335\n",
      "2020-08-07 23:17:23,939 - matplotlib.font_manager - DEBUG - findfont: score(<Font 'Informal Roman' (INFROMAN.TTF) normal normal 400 normal>) = 10.05\n",
      "2020-08-07 23:17:23,940 - matplotlib.font_manager - DEBUG - findfont: score(<Font 'Lucida Sans Unicode' (l_10646.ttf) normal normal 400 normal>) = 10.05\n",
      "2020-08-07 23:17:23,941 - matplotlib.font_manager - DEBUG - findfont: score(<Font 'Perpetua' (PERBI___.TTF) italic normal 700 normal>) = 11.335\n",
      "2020-08-07 23:17:23,941 - matplotlib.font_manager - DEBUG - findfont: score(<Font 'Cambria' (cambria.ttc) normal normal 400 normal>) = 10.05\n",
      "2020-08-07 23:17:23,942 - matplotlib.font_manager - DEBUG - findfont: score(<Font 'Magneto' (MAGNETOB.TTF) normal normal 700 normal>) = 10.335\n",
      "2020-08-07 23:17:23,942 - matplotlib.font_manager - DEBUG - findfont: score(<Font 'Microsoft Sans Serif' (micross.ttf) normal normal 400 normal>) = 10.05\n",
      "2020-08-07 23:17:23,943 - matplotlib.font_manager - DEBUG - findfont: score(<Font 'Calisto MT' (CALISTB.TTF) normal normal 700 normal>) = 10.335\n",
      "2020-08-07 23:17:23,944 - matplotlib.font_manager - DEBUG - findfont: score(<Font 'Lucida Fax' (LFAXD.TTF) normal normal 600 normal>) = 10.24\n",
      "2020-08-07 23:17:23,944 - matplotlib.font_manager - DEBUG - findfont: score(<Font 'Goudy Old Style' (GOUDOSB.TTF) normal normal 700 normal>) = 10.335\n",
      "2020-08-07 23:17:23,945 - matplotlib.font_manager - DEBUG - findfont: score(<Font 'Sitka Small' (SitkaI.ttc) italic normal 400 normal>) = 11.05\n",
      "2020-08-07 23:17:23,945 - matplotlib.font_manager - DEBUG - findfont: score(<Font 'Georgia Pro' (GeorgiaPro-CondSemiBold.ttf) normal normal 600 condensed>) = 10.44\n",
      "2020-08-07 23:17:23,946 - matplotlib.font_manager - DEBUG - findfont: score(<Font 'Calibri' (calibri.ttf) normal normal 400 normal>) = 10.05\n",
      "2020-08-07 23:17:23,946 - matplotlib.font_manager - DEBUG - findfont: score(<Font 'Showcard Gothic' (SHOWG.TTF) normal normal 400 normal>) = 10.05\n",
      "2020-08-07 23:17:23,947 - matplotlib.font_manager - DEBUG - findfont: score(<Font 'Tw Cen MT Condensed' (TCCB____.TTF) normal normal 700 condensed>) = 10.535\n",
      "2020-08-07 23:17:23,948 - matplotlib.font_manager - DEBUG - findfont: score(<Font 'Harlow Solid Italic' (HARLOWSI.TTF) italic normal 400 normal>) = 11.05\n",
      "2020-08-07 23:17:23,948 - matplotlib.font_manager - DEBUG - findfont: score(<Font 'Rockwell Nova' (RockwellNovaCond-BoldItalic.ttf) italic normal 700 condensed>) = 11.535\n",
      "2020-08-07 23:17:23,949 - matplotlib.font_manager - DEBUG - findfont: score(<Font 'Arial Nova' (ArialNova-Light.ttf) normal normal 300 normal>) = 10.145\n",
      "2020-08-07 23:17:23,949 - matplotlib.font_manager - DEBUG - findfont: score(<Font 'Century' (CENTURY.TTF) normal normal 400 normal>) = 10.05\n",
      "2020-08-07 23:17:23,950 - matplotlib.font_manager - DEBUG - findfont: score(<Font 'Arial Nova' (ArialNova-BoldItalic.ttf) italic normal 700 normal>) = 11.335\n",
      "2020-08-07 23:17:23,951 - matplotlib.font_manager - DEBUG - findfont: score(<Font 'Tw Cen MT' (TCBI____.TTF) italic normal 700 normal>) = 11.335\n",
      "2020-08-07 23:17:23,951 - matplotlib.font_manager - DEBUG - findfont: score(<Font 'Franklin Gothic Medium' (framd.ttf) normal normal 400 normal>) = 10.05\n",
      "2020-08-07 23:17:23,952 - matplotlib.font_manager - DEBUG - findfont: score(<Font 'Leelawadee' (LEELAWAD.TTF) normal normal 400 normal>) = 10.05\n",
      "2020-08-07 23:17:23,952 - matplotlib.font_manager - DEBUG - findfont: score(<Font 'Leelawadee UI' (LeelaUIb.ttf) normal normal 700 normal>) = 10.335\n",
      "2020-08-07 23:17:23,953 - matplotlib.font_manager - DEBUG - findfont: score(<Font 'Niagara Engraved' (NIAGENG.TTF) normal normal 400 normal>) = 10.05\n",
      "2020-08-07 23:17:23,953 - matplotlib.font_manager - DEBUG - findfont: score(<Font 'Calisto MT' (CALISTBI.TTF) italic normal 700 normal>) = 11.335\n",
      "2020-08-07 23:17:23,954 - matplotlib.font_manager - DEBUG - findfont: score(<Font 'Gill Sans MT Ext Condensed Bold' (GLSNECB.TTF) normal normal 400 condensed>) = 10.25\n",
      "2020-08-07 23:17:23,955 - matplotlib.font_manager - DEBUG - findfont: score(<Font 'MS Outlook' (OUTLOOK.TTF) normal normal 400 normal>) = 10.05\n",
      "2020-08-07 23:17:23,955 - matplotlib.font_manager - DEBUG - findfont: score(<Font 'Perpetua' (PERI____.TTF) italic normal 400 normal>) = 11.05\n",
      "2020-08-07 23:17:23,956 - matplotlib.font_manager - DEBUG - findfont: score(<Font 'Verdana Pro' (VerdanaPro-LightItalic.ttf) italic normal 300 normal>) = 11.145\n",
      "2020-08-07 23:17:23,957 - matplotlib.font_manager - DEBUG - findfont: score(<Font 'Nirmala UI' (NirmalaB.ttf) normal normal 700 normal>) = 10.335\n",
      "2020-08-07 23:17:23,957 - matplotlib.font_manager - DEBUG - findfont: score(<Font 'Gill Sans Nova' (GillSansCondItNova.ttf) italic normal 500 condensed>) = 11.344999999999999\n",
      "2020-08-07 23:17:23,958 - matplotlib.font_manager - DEBUG - findfont: score(<Font 'Mistral' (MISTRAL.TTF) normal normal 400 normal>) = 10.05\n",
      "2020-08-07 23:17:23,958 - matplotlib.font_manager - DEBUG - findfont: score(<Font 'Lucida Sans' (LSANSI.TTF) italic normal 400 normal>) = 11.05\n",
      "2020-08-07 23:17:23,959 - matplotlib.font_manager - DEBUG - findfont: score(<Font 'Algerian' (ALGER.TTF) normal normal 400 normal>) = 10.05\n",
      "2020-08-07 23:17:23,959 - matplotlib.font_manager - DEBUG - findfont: score(<Font 'Verdana Pro' (VerdanaPro-Italic.ttf) italic normal 400 normal>) = 11.05\n",
      "2020-08-07 23:17:23,960 - matplotlib.font_manager - DEBUG - findfont: score(<Font 'Microsoft JhengHei' (msjhl.ttc) normal normal 290 normal>) = 10.1545\n",
      "2020-08-07 23:17:23,961 - matplotlib.font_manager - DEBUG - findfont: score(<Font 'Microsoft PhagsPa' (phagspab.ttf) normal normal 700 normal>) = 10.335\n",
      "2020-08-07 23:17:23,961 - matplotlib.font_manager - DEBUG - findfont: score(<Font 'Cambria' (cambriab.ttf) normal normal 700 normal>) = 10.335\n",
      "2020-08-07 23:17:23,962 - matplotlib.font_manager - DEBUG - findfont: score(<Font 'Viner Hand ITC' (VINERITC.TTF) normal normal 400 normal>) = 10.05\n",
      "2020-08-07 23:17:23,962 - matplotlib.font_manager - DEBUG - findfont: score(<Font 'Brush Script MT' (BRUSHSCI.TTF) italic normal 400 normal>) = 11.05\n",
      "2020-08-07 23:17:23,963 - matplotlib.font_manager - DEBUG - findfont: score(<Font 'Segoe Print' (segoepr.ttf) normal normal 400 normal>) = 10.05\n",
      "2020-08-07 23:17:23,963 - matplotlib.font_manager - DEBUG - findfont: score(<Font 'Georgia Pro' (GeorgiaPro-CondBoldItalic.ttf) italic normal 700 condensed>) = 11.535\n",
      "2020-08-07 23:17:23,964 - matplotlib.font_manager - DEBUG - findfont: score(<Font 'Yu Gothic' (YuGothL.ttc) normal normal 300 normal>) = 10.145\n",
      "2020-08-07 23:17:23,965 - matplotlib.font_manager - DEBUG - findfont: score(<Font 'Bodoni MT' (BOD_R.TTF) normal normal 400 normal>) = 10.05\n"
     ]
    },
    {
     "name": "stderr",
     "output_type": "stream",
     "text": [
      "2020-08-07 23:17:23,966 - matplotlib.font_manager - DEBUG - findfont: score(<Font 'HP Simplified' (HPSimplified_It.ttf) italic normal 400 normal>) = 11.05\n",
      "2020-08-07 23:17:23,966 - matplotlib.font_manager - DEBUG - findfont: score(<Font 'Segoe UI' (seguisb.ttf) normal normal 600 normal>) = 10.24\n",
      "2020-08-07 23:17:23,967 - matplotlib.font_manager - DEBUG - findfont: score(<Font 'Arial Nova' (ArialNovaCond-BoldItalic.ttf) italic normal 700 condensed>) = 11.535\n",
      "2020-08-07 23:17:23,967 - matplotlib.font_manager - DEBUG - findfont: score(<Font 'Haettenschweiler' (HATTEN.TTF) normal normal 400 normal>) = 10.05\n",
      "2020-08-07 23:17:23,968 - matplotlib.font_manager - DEBUG - findfont: score(<Font 'Segoe UI' (segoeuisl.ttf) normal normal 350 normal>) = 10.0975\n",
      "2020-08-07 23:17:23,968 - matplotlib.font_manager - DEBUG - findfont: score(<Font 'Neue Haas Grotesk Text Pro' (NHaasGroteskTXPro-65Md.ttf) normal normal 500 normal>) = 10.145\n",
      "2020-08-07 23:17:23,969 - matplotlib.font_manager - DEBUG - findfont: score(<Font 'Microsoft Tai Le' (taile.ttf) normal normal 400 normal>) = 10.05\n",
      "2020-08-07 23:17:23,969 - matplotlib.font_manager - DEBUG - findfont: score(<Font 'Stencil' (STENCIL.TTF) normal normal 400 normal>) = 10.05\n",
      "2020-08-07 23:17:23,970 - matplotlib.font_manager - DEBUG - findfont: score(<Font 'Calisto MT' (CALIST.TTF) normal normal 400 normal>) = 10.05\n",
      "2020-08-07 23:17:23,971 - matplotlib.font_manager - DEBUG - findfont: score(<Font 'Arial Nova' (ArialNovaCond.ttf) normal normal 400 condensed>) = 10.25\n",
      "2020-08-07 23:17:23,972 - matplotlib.font_manager - DEBUG - findfont: score(<Font 'Calibri' (calibrii.ttf) italic normal 400 normal>) = 11.05\n",
      "2020-08-07 23:17:23,972 - matplotlib.font_manager - DEBUG - findfont: score(<Font 'Rockwell' (ROCK.TTF) normal normal 400 normal>) = 10.05\n",
      "2020-08-07 23:17:23,973 - matplotlib.font_manager - DEBUG - findfont: score(<Font 'Rockwell Nova' (RockwellNovaCond.ttf) normal normal 400 condensed>) = 10.25\n",
      "2020-08-07 23:17:23,973 - matplotlib.font_manager - DEBUG - findfont: score(<Font 'Old English Text MT' (OLDENGL.TTF) normal normal 400 normal>) = 10.05\n",
      "2020-08-07 23:17:23,974 - matplotlib.font_manager - DEBUG - findfont: score(<Font 'Snap ITC' (SNAP____.TTF) normal normal 400 normal>) = 10.05\n",
      "2020-08-07 23:17:23,974 - matplotlib.font_manager - DEBUG - findfont: score(<Font 'Bodoni MT' (BOD_B.TTF) normal normal 700 normal>) = 10.335\n",
      "2020-08-07 23:17:23,975 - matplotlib.font_manager - DEBUG - findfont: score(<Font 'Lucida Calligraphy' (LCALLIG.TTF) italic normal 400 normal>) = 11.05\n",
      "2020-08-07 23:17:23,975 - matplotlib.font_manager - DEBUG - findfont: score(<Font 'Georgia Pro' (GeorgiaPro-CondLight.ttf) normal normal 300 condensed>) = 10.344999999999999\n",
      "2020-08-07 23:17:23,976 - matplotlib.font_manager - DEBUG - findfont: score(<Font 'Rockwell Nova' (RockwellNovaCond-LightItalic.ttf) italic normal 300 condensed>) = 11.344999999999999\n",
      "2020-08-07 23:17:23,977 - matplotlib.font_manager - DEBUG - findfont: score(<Font 'Bodoni MT' (BOD_BLAI.TTF) italic normal 900 normal>) = 11.525\n",
      "2020-08-07 23:17:23,977 - matplotlib.font_manager - DEBUG - findfont: score(<Font 'Tw Cen MT' (TCBI____.TTF) italic normal 700 normal>) = 11.335\n",
      "2020-08-07 23:17:23,978 - matplotlib.font_manager - DEBUG - findfont: score(<Font 'Gill Sans Ultra Bold' (GILSANUB.TTF) normal normal 400 normal>) = 10.05\n",
      "2020-08-07 23:17:23,979 - matplotlib.font_manager - DEBUG - findfont: score(<Font 'Arial Nova' (ArialNovaCond.ttf) normal normal 400 condensed>) = 10.25\n",
      "2020-08-07 23:17:23,979 - matplotlib.font_manager - DEBUG - findfont: score(<Font 'High Tower Text' (HTOWERTI.TTF) italic normal 400 normal>) = 11.05\n",
      "2020-08-07 23:17:23,979 - matplotlib.font_manager - DEBUG - findfont: score(<Font 'Georgia Pro' (GeorgiaPro-CondBoldItalic.ttf) italic normal 700 condensed>) = 11.535\n",
      "2020-08-07 23:17:23,980 - matplotlib.font_manager - DEBUG - findfont: score(<Font 'Gill Sans Nova' (GillSansCondUltraBoNova.ttf) normal normal 900 condensed>) = 10.725\n",
      "2020-08-07 23:17:23,981 - matplotlib.font_manager - DEBUG - findfont: score(<Font 'Century Schoolbook' (SCHLBKB.TTF) normal normal 700 normal>) = 10.335\n",
      "2020-08-07 23:17:23,981 - matplotlib.font_manager - DEBUG - findfont: score(<Font 'Lucida Sans Typewriter' (LTYPEO.TTF) oblique normal 400 normal>) = 11.05\n",
      "2020-08-07 23:17:23,982 - matplotlib.font_manager - DEBUG - findfont: score(<Font 'Cambria' (cambriai.ttf) italic normal 400 normal>) = 11.05\n",
      "2020-08-07 23:17:23,982 - matplotlib.font_manager - DEBUG - findfont: score(<Font 'Viner Hand ITC' (VINERITC.TTF) normal normal 400 normal>) = 10.05\n",
      "2020-08-07 23:17:23,983 - matplotlib.font_manager - DEBUG - findfont: score(<Font 'Neue Haas Grotesk Text Pro' (NHaasGroteskTXPro-75Bd.ttf) normal normal 700 normal>) = 10.335\n",
      "2020-08-07 23:17:23,983 - matplotlib.font_manager - DEBUG - findfont: score(<Font 'Microsoft PhagsPa' (phagspab.ttf) normal normal 700 normal>) = 10.335\n",
      "2020-08-07 23:17:23,984 - matplotlib.font_manager - DEBUG - findfont: score(<Font 'Microsoft Uighur' (MSUIGHUB.TTF) normal normal 700 normal>) = 10.335\n",
      "2020-08-07 23:17:23,984 - matplotlib.font_manager - DEBUG - findfont: score(<Font 'Arial' (arial.ttf) normal normal 400 normal>) = 10.05\n",
      "2020-08-07 23:17:23,985 - matplotlib.font_manager - DEBUG - findfont: score(<Font 'Century Schoolbook' (SCHLBKI.TTF) italic normal 400 normal>) = 11.05\n",
      "2020-08-07 23:17:23,985 - matplotlib.font_manager - DEBUG - findfont: score(<Font 'Arial' (arial.ttf) normal normal 400 normal>) = 10.05\n",
      "2020-08-07 23:17:23,986 - matplotlib.font_manager - DEBUG - findfont: score(<Font 'Comic Sans MS' (comici.ttf) italic normal 400 normal>) = 11.05\n",
      "2020-08-07 23:17:23,986 - matplotlib.font_manager - DEBUG - findfont: score(<Font 'Copperplate Gothic Bold' (COPRGTB.TTF) normal normal 400 normal>) = 10.05\n",
      "2020-08-07 23:17:23,987 - matplotlib.font_manager - DEBUG - findfont: score(<Font 'Dubai' (DUBAI-MEDIUM.TTF) normal normal 500 normal>) = 10.145\n",
      "2020-08-07 23:17:23,988 - matplotlib.font_manager - DEBUG - findfont: score(<Font 'Calibri' (calibriz.ttf) italic normal 700 normal>) = 11.335\n",
      "2020-08-07 23:17:23,989 - matplotlib.font_manager - DEBUG - findfont: score(<Font 'Imprint MT Shadow' (IMPRISHA.TTF) normal normal 400 normal>) = 10.05\n",
      "2020-08-07 23:17:23,990 - matplotlib.font_manager - DEBUG - findfont: score(<Font 'Imprint MT Shadow' (IMPRISHA.TTF) normal normal 400 normal>) = 10.05\n",
      "2020-08-07 23:17:23,990 - matplotlib.font_manager - DEBUG - findfont: score(<Font 'Verdana Pro' (VerdanaPro-Black.ttf) normal normal 900 normal>) = 10.525\n",
      "2020-08-07 23:17:23,991 - matplotlib.font_manager - DEBUG - findfont: score(<Font 'Georgia' (georgiai.ttf) italic normal 400 normal>) = 11.05\n",
      "2020-08-07 23:17:23,991 - matplotlib.font_manager - DEBUG - findfont: score(<Font 'Candara' (Candarali.ttf) italic normal 400 normal>) = 11.05\n",
      "2020-08-07 23:17:23,992 - matplotlib.font_manager - DEBUG - findfont: score(<Font 'Verdana Pro' (VerdanaPro-CondSemiBoldItalic.ttf) italic normal 600 condensed>) = 11.44\n",
      "2020-08-07 23:17:23,992 - matplotlib.font_manager - DEBUG - findfont: score(<Font 'Bodoni MT' (BOD_CR.TTF) normal normal 400 condensed>) = 10.25\n",
      "2020-08-07 23:17:23,993 - matplotlib.font_manager - DEBUG - findfont: score(<Font 'Courier New' (courbi.ttf) italic normal 700 normal>) = 11.335\n",
      "2020-08-07 23:17:23,994 - matplotlib.font_manager - DEBUG - findfont: score(<Font 'Goudy Stout' (GOUDYSTO.TTF) normal normal 400 normal>) = 10.05\n",
      "2020-08-07 23:17:23,995 - matplotlib.font_manager - DEBUG - findfont: score(<Font 'Kristen ITC' (ITCKRIST.TTF) normal normal 400 normal>) = 10.05\n",
      "2020-08-07 23:17:23,995 - matplotlib.font_manager - DEBUG - findfont: score(<Font 'Wingdings' (wingding.ttf) normal normal 400 normal>) = 10.05\n",
      "2020-08-07 23:17:23,996 - matplotlib.font_manager - DEBUG - findfont: score(<Font 'Verdana' (verdana.ttf) normal normal 400 normal>) = 10.05\n",
      "2020-08-07 23:17:23,996 - matplotlib.font_manager - DEBUG - findfont: score(<Font 'Cambria' (cambriab.ttf) normal normal 700 normal>) = 10.335\n",
      "2020-08-07 23:17:23,997 - matplotlib.font_manager - DEBUG - findfont: score(<Font 'Californian FB' (CALIFR.TTF) normal normal 400 normal>) = 10.05\n",
      "2020-08-07 23:17:23,998 - matplotlib.font_manager - DEBUG - findfont: score(<Font 'Garamond' (GARABD.TTF) normal normal 700 normal>) = 10.335\n"
     ]
    },
    {
     "name": "stderr",
     "output_type": "stream",
     "text": [
      "2020-08-07 23:17:23,998 - matplotlib.font_manager - DEBUG - findfont: score(<Font 'Harrington' (HARNGTON.TTF) normal normal 400 normal>) = 10.05\n",
      "2020-08-07 23:17:23,999 - matplotlib.font_manager - DEBUG - findfont: score(<Font 'HP Simplified' (HPSimplified_BdIt.ttf) italic normal 700 normal>) = 11.335\n",
      "2020-08-07 23:17:23,999 - matplotlib.font_manager - DEBUG - findfont: score(<Font 'Candara' (Candaraz.ttf) italic normal 700 normal>) = 11.335\n",
      "2020-08-07 23:17:24,000 - matplotlib.font_manager - DEBUG - findfont: score(<Font 'Gill Sans MT Condensed' (GILC____.TTF) normal normal 400 condensed>) = 10.25\n",
      "2020-08-07 23:17:24,001 - matplotlib.font_manager - DEBUG - findfont: score(<Font 'Comic Sans MS' (comic.ttf) normal normal 400 normal>) = 10.05\n",
      "2020-08-07 23:17:24,002 - matplotlib.font_manager - DEBUG - findfont: score(<Font 'Tahoma' (tahomabd.ttf) normal normal 700 normal>) = 10.335\n",
      "2020-08-07 23:17:24,002 - matplotlib.font_manager - DEBUG - findfont: score(<Font 'Constantia' (constani.ttf) italic normal 400 normal>) = 11.05\n",
      "2020-08-07 23:17:24,003 - matplotlib.font_manager - DEBUG - findfont: score(<Font 'Bradley Hand ITC' (BRADHITC.TTF) normal normal 400 normal>) = 10.05\n",
      "2020-08-07 23:17:24,004 - matplotlib.font_manager - DEBUG - findfont: score(<Font 'Sitka Small' (SitkaI.ttc) italic normal 400 normal>) = 11.05\n",
      "2020-08-07 23:17:24,004 - matplotlib.font_manager - DEBUG - findfont: score(<Font 'Gill Sans Ultra Bold' (GILSANUB.TTF) normal normal 400 normal>) = 10.05\n",
      "2020-08-07 23:17:24,005 - matplotlib.font_manager - DEBUG - findfont: score(<Font 'Verdana Pro' (VerdanaPro-CondBold.ttf) normal normal 700 condensed>) = 10.535\n",
      "2020-08-07 23:17:24,005 - matplotlib.font_manager - DEBUG - findfont: score(<Font 'HoloLens MDL2 Assets' (holomdl2.ttf) normal normal 400 normal>) = 10.05\n",
      "2020-08-07 23:17:24,006 - matplotlib.font_manager - DEBUG - findfont: score(<Font 'Verdana Pro' (VerdanaPro-SemiBoldItalic.ttf) italic normal 600 normal>) = 11.24\n",
      "2020-08-07 23:17:24,006 - matplotlib.font_manager - DEBUG - findfont: score(<Font 'Arial Rounded MT Bold' (ARLRDBD.TTF) normal normal 400 normal>) = 10.05\n",
      "2020-08-07 23:17:24,007 - matplotlib.font_manager - DEBUG - findfont: score(<Font 'Microsoft YaHei' (msyhl.ttc) normal normal 290 normal>) = 10.1545\n",
      "2020-08-07 23:17:24,007 - matplotlib.font_manager - DEBUG - findfont: score(<Font 'Arial' (ARIALNB.TTF) normal normal 700 condensed>) = 10.535\n",
      "2020-08-07 23:17:24,008 - matplotlib.font_manager - DEBUG - findfont: score(<Font 'Georgia' (georgiab.ttf) normal normal 700 normal>) = 10.335\n",
      "2020-08-07 23:17:24,008 - matplotlib.font_manager - DEBUG - findfont: score(<Font 'Century Schoolbook' (SCHLBKBI.TTF) italic normal 700 normal>) = 11.335\n",
      "2020-08-07 23:17:24,009 - matplotlib.font_manager - DEBUG - findfont: score(<Font 'Corbel' (corbelz.ttf) italic normal 700 normal>) = 11.335\n",
      "2020-08-07 23:17:24,010 - matplotlib.font_manager - DEBUG - findfont: score(<Font 'Candara' (Candarai.ttf) italic normal 400 normal>) = 11.05\n",
      "2020-08-07 23:17:24,010 - matplotlib.font_manager - DEBUG - findfont: score(<Font 'Dubai' (DUBAI-REGULAR.TTF) normal normal 400 normal>) = 10.05\n",
      "2020-08-07 23:17:24,011 - matplotlib.font_manager - DEBUG - findfont: score(<Font 'Courier New' (courbi.ttf) italic normal 700 normal>) = 11.335\n",
      "2020-08-07 23:17:24,011 - matplotlib.font_manager - DEBUG - findfont: score(<Font 'Cooper Black' (COOPBL.TTF) normal normal 400 normal>) = 10.05\n",
      "2020-08-07 23:17:24,012 - matplotlib.font_manager - DEBUG - findfont: score(<Font 'Rockwell Nova' (RockwellNova-ExtraBoldItalic.ttf) italic normal 800 normal>) = 11.43\n",
      "2020-08-07 23:17:24,012 - matplotlib.font_manager - DEBUG - findfont: score(<Font 'Gill Sans Nova' (GillSansLightNova.ttf) normal normal 300 normal>) = 10.145\n",
      "2020-08-07 23:17:24,013 - matplotlib.font_manager - DEBUG - findfont: score(<Font 'Arial' (ARIALN.TTF) normal normal 400 condensed>) = 10.25\n",
      "2020-08-07 23:17:24,013 - matplotlib.font_manager - DEBUG - findfont: score(<Font 'Century Gothic' (GOTHICBI.TTF) italic normal 700 normal>) = 11.335\n",
      "2020-08-07 23:17:24,014 - matplotlib.font_manager - DEBUG - findfont: score(<Font 'Georgia Pro' (GeorgiaPro-CondLight.ttf) normal normal 300 condensed>) = 10.344999999999999\n",
      "2020-08-07 23:17:24,014 - matplotlib.font_manager - DEBUG - findfont: score(<Font 'Segoe UI' (seguibl.ttf) normal normal 900 normal>) = 10.525\n",
      "2020-08-07 23:17:24,015 - matplotlib.font_manager - DEBUG - findfont: score(<Font 'Yu Gothic' (YuGothL.ttc) normal normal 300 normal>) = 10.145\n",
      "2020-08-07 23:17:24,015 - matplotlib.font_manager - DEBUG - findfont: score(<Font 'Arial' (ARIALNI.TTF) italic normal 400 condensed>) = 11.25\n",
      "2020-08-07 23:17:24,016 - matplotlib.font_manager - DEBUG - findfont: score(<Font 'Footlight MT Light' (FTLTLT.TTF) normal normal 300 normal>) = 10.145\n",
      "2020-08-07 23:17:24,016 - matplotlib.font_manager - DEBUG - findfont: score(<Font 'Ebrima' (ebrima.ttf) normal normal 400 normal>) = 10.05\n",
      "2020-08-07 23:17:24,017 - matplotlib.font_manager - DEBUG - findfont: score(<Font 'Rockwell' (ROCKI.TTF) italic normal 400 normal>) = 11.05\n",
      "2020-08-07 23:17:24,019 - matplotlib.font_manager - DEBUG - findfont: score(<Font 'Corbel' (corbelb.ttf) normal normal 700 normal>) = 10.335\n",
      "2020-08-07 23:17:24,019 - matplotlib.font_manager - DEBUG - findfont: score(<Font 'Segoe UI' (seguisbi.ttf) italic normal 600 normal>) = 11.24\n",
      "2020-08-07 23:17:24,020 - matplotlib.font_manager - DEBUG - findfont: score(<Font 'OCR A Extended' (OCRAEXT.TTF) normal normal 400 expanded>) = 10.25\n",
      "2020-08-07 23:17:24,021 - matplotlib.font_manager - DEBUG - findfont: score(<Font 'Garamond' (GARA.TTF) normal normal 400 normal>) = 10.05\n",
      "2020-08-07 23:17:24,022 - matplotlib.font_manager - DEBUG - findfont: score(<Font 'Tw Cen MT Condensed' (TCCB____.TTF) normal normal 700 condensed>) = 10.535\n",
      "2020-08-07 23:17:24,022 - matplotlib.font_manager - DEBUG - findfont: score(<Font 'Times New Roman' (timesi.ttf) italic normal 400 normal>) = 11.05\n",
      "2020-08-07 23:17:24,023 - matplotlib.font_manager - DEBUG - findfont: score(<Font 'Segoe UI' (segoeuil.ttf) normal normal 300 normal>) = 10.145\n",
      "2020-08-07 23:17:24,023 - matplotlib.font_manager - DEBUG - findfont: score(<Font 'Georgia Pro' (GeorgiaPro-Italic.ttf) italic normal 400 normal>) = 11.05\n",
      "2020-08-07 23:17:24,024 - matplotlib.font_manager - DEBUG - findfont: score(<Font 'Georgia Pro' (GeorgiaPro-Italic.ttf) italic normal 400 normal>) = 11.05\n",
      "2020-08-07 23:17:24,024 - matplotlib.font_manager - DEBUG - findfont: score(<Font 'Lucida Sans' (LSANS.TTF) normal normal 400 normal>) = 10.05\n",
      "2020-08-07 23:17:24,025 - matplotlib.font_manager - DEBUG - findfont: score(<Font 'Berlin Sans FB Demi' (BRLNSDB.TTF) normal normal 700 normal>) = 10.335\n",
      "2020-08-07 23:17:24,025 - matplotlib.font_manager - DEBUG - findfont: score(<Font 'Tw Cen MT Condensed' (TCCM____.TTF) normal normal 400 condensed>) = 10.25\n",
      "2020-08-07 23:17:24,026 - matplotlib.font_manager - DEBUG - findfont: score(<Font 'Calisto MT' (CALISTI.TTF) italic normal 400 normal>) = 11.05\n",
      "2020-08-07 23:17:24,027 - matplotlib.font_manager - DEBUG - findfont: score(<Font 'Lucida Bright' (LBRITEDI.TTF) italic normal 600 normal>) = 11.24\n",
      "2020-08-07 23:17:24,027 - matplotlib.font_manager - DEBUG - findfont: score(<Font 'Nirmala UI' (NirmalaS.ttf) normal normal 350 normal>) = 10.0975\n",
      "2020-08-07 23:17:24,028 - matplotlib.font_manager - DEBUG - findfont: score(<Font 'Rockwell Nova' (RockwellNovaCond-Italic.ttf) italic normal 400 condensed>) = 11.25\n",
      "2020-08-07 23:17:24,029 - matplotlib.font_manager - DEBUG - findfont: score(<Font 'Arial Nova' (ArialNova-LightItalic.ttf) italic normal 300 normal>) = 11.145\n",
      "2020-08-07 23:17:24,030 - matplotlib.font_manager - DEBUG - findfont: score(<Font 'Verdana Pro' (VerdanaPro-BoldItalic.ttf) italic normal 700 normal>) = 11.335\n",
      "2020-08-07 23:17:24,031 - matplotlib.font_manager - DEBUG - findfont: score(<Font 'Trebuchet MS' (trebuc.ttf) normal normal 400 normal>) = 10.05\n",
      "2020-08-07 23:17:24,031 - matplotlib.font_manager - DEBUG - findfont: score(<Font 'Verdana Pro' (VerdanaPro-Black.ttf) normal normal 900 normal>) = 10.525\n",
      "2020-08-07 23:17:24,032 - matplotlib.font_manager - DEBUG - findfont: score(<Font 'Bodoni MT' (BOD_CB.TTF) normal normal 700 condensed>) = 10.535\n"
     ]
    },
    {
     "name": "stderr",
     "output_type": "stream",
     "text": [
      "2020-08-07 23:17:24,032 - matplotlib.font_manager - DEBUG - findfont: score(<Font 'Rockwell Nova' (RockwellNova-ExtraBold.ttf) normal normal 800 normal>) = 10.43\n",
      "2020-08-07 23:17:24,034 - matplotlib.font_manager - DEBUG - findfont: score(<Font 'Verdana Pro' (VerdanaPro-CondBlack.ttf) normal normal 900 condensed>) = 10.725\n",
      "2020-08-07 23:17:24,035 - matplotlib.font_manager - DEBUG - findfont: score(<Font 'Segoe UI' (segoeuisl.ttf) normal normal 350 normal>) = 10.0975\n",
      "2020-08-07 23:17:24,035 - matplotlib.font_manager - DEBUG - findfont: score(<Font 'Garamond' (GARABD.TTF) normal normal 700 normal>) = 10.335\n",
      "2020-08-07 23:17:24,036 - matplotlib.font_manager - DEBUG - findfont: score(<Font 'Gadugi' (gadugib.ttf) normal normal 700 normal>) = 10.335\n",
      "2020-08-07 23:17:24,037 - matplotlib.font_manager - DEBUG - findfont: score(<Font 'Vivaldi' (VIVALDII.TTF) italic normal 400 normal>) = 11.05\n",
      "2020-08-07 23:17:24,038 - matplotlib.font_manager - DEBUG - findfont: score(<Font 'Elephant' (ELEPHNTI.TTF) italic normal 400 normal>) = 11.05\n",
      "2020-08-07 23:17:24,038 - matplotlib.font_manager - DEBUG - findfont: score(<Font 'Rockwell Nova' (RockwellNovaCond-BoldItalic.ttf) italic normal 700 condensed>) = 11.535\n",
      "2020-08-07 23:17:24,039 - matplotlib.font_manager - DEBUG - findfont: score(<Font 'Trebuchet MS' (trebucbd.ttf) normal normal 700 normal>) = 10.335\n",
      "2020-08-07 23:17:24,039 - matplotlib.font_manager - DEBUG - findfont: score(<Font 'Showcard Gothic' (SHOWG.TTF) normal normal 400 normal>) = 10.05\n",
      "2020-08-07 23:17:24,040 - matplotlib.font_manager - DEBUG - findfont: score(<Font 'Ebrima' (ebrimabd.ttf) normal normal 700 normal>) = 10.335\n",
      "2020-08-07 23:17:24,041 - matplotlib.font_manager - DEBUG - findfont: score(<Font 'Constantia' (constanb.ttf) normal normal 700 normal>) = 10.335\n",
      "2020-08-07 23:17:24,042 - matplotlib.font_manager - DEBUG - findfont: score(<Font 'Lucida Sans Typewriter' (LTYPEB.TTF) normal normal 600 normal>) = 10.24\n",
      "2020-08-07 23:17:24,042 - matplotlib.font_manager - DEBUG - findfont: score(<Font 'Arial' (arialbi.ttf) italic normal 700 normal>) = 11.335\n",
      "2020-08-07 23:17:24,043 - matplotlib.font_manager - DEBUG - findfont: score(<Font 'Book Antiqua' (ANTQUAI.TTF) italic normal 400 normal>) = 11.05\n",
      "2020-08-07 23:17:24,044 - matplotlib.font_manager - DEBUG - findfont: score(<Font 'Rockwell Condensed' (ROCC____.TTF) normal normal 400 condensed>) = 10.25\n",
      "2020-08-07 23:17:24,045 - matplotlib.font_manager - DEBUG - findfont: score(<Font 'Javanese Text' (javatext.ttf) normal normal 400 normal>) = 10.05\n",
      "2020-08-07 23:17:24,045 - matplotlib.font_manager - DEBUG - findfont: score(<Font 'Bell MT' (BELLI.TTF) italic normal 400 normal>) = 11.05\n",
      "2020-08-07 23:17:24,046 - matplotlib.font_manager - DEBUG - findfont: score(<Font 'Gill Sans Nova' (GillSansBoNova.ttf) normal normal 700 normal>) = 10.335\n",
      "2020-08-07 23:17:24,047 - matplotlib.font_manager - DEBUG - findfont: score(<Font 'Lucida Bright' (LBRITEI.TTF) italic normal 400 normal>) = 11.05\n",
      "2020-08-07 23:17:24,047 - matplotlib.font_manager - DEBUG - findfont: score(<Font 'Bodoni MT' (BOD_R.TTF) normal normal 400 normal>) = 10.05\n",
      "2020-08-07 23:17:24,047 - matplotlib.font_manager - DEBUG - findfont: score(<Font 'Mongolian Baiti' (monbaiti.ttf) normal normal 400 normal>) = 10.05\n",
      "2020-08-07 23:17:24,049 - matplotlib.font_manager - DEBUG - findfont: score(<Font 'Segoe UI' (seguisbi.ttf) italic normal 600 normal>) = 11.24\n",
      "2020-08-07 23:17:24,050 - matplotlib.font_manager - DEBUG - findfont: score(<Font 'Georgia Pro' (GeorgiaPro-CondItalic.ttf) italic normal 400 condensed>) = 11.25\n",
      "2020-08-07 23:17:24,051 - matplotlib.font_manager - DEBUG - findfont: score(<Font 'Rockwell Nova' (RockwellNova-BoldItalic.ttf) italic normal 700 normal>) = 11.335\n",
      "2020-08-07 23:17:24,052 - matplotlib.font_manager - DEBUG - findfont: score(<Font 'Neue Haas Grotesk Text Pro' (NHaasGroteskTXPro-55Rg.ttf) normal normal 400 normal>) = 10.05\n",
      "2020-08-07 23:17:24,052 - matplotlib.font_manager - DEBUG - findfont: score(<Font 'Microsoft JhengHei' (msjhbd.ttc) normal normal 700 normal>) = 10.335\n",
      "2020-08-07 23:17:24,053 - matplotlib.font_manager - DEBUG - findfont: score(<Font 'Baskerville Old Face' (BASKVILL.TTF) normal normal 400 normal>) = 10.05\n",
      "2020-08-07 23:17:24,053 - matplotlib.font_manager - DEBUG - findfont: score(<Font 'Lucida Fax' (LFAX.TTF) normal normal 400 normal>) = 10.05\n",
      "2020-08-07 23:17:24,054 - matplotlib.font_manager - DEBUG - findfont: score(<Font 'Lucida Fax' (LFAXI.TTF) italic normal 400 normal>) = 11.05\n",
      "2020-08-07 23:17:24,054 - matplotlib.font_manager - DEBUG - findfont: score(<Font 'Georgia' (georgiaz.ttf) italic normal 700 normal>) = 11.335\n",
      "2020-08-07 23:17:24,055 - matplotlib.font_manager - DEBUG - findfont: score(<Font 'Lucida Bright' (LBRITE.TTF) normal normal 400 normal>) = 10.05\n",
      "2020-08-07 23:17:24,056 - matplotlib.font_manager - DEBUG - findfont: score(<Font 'Rockwell Extra Bold' (ROCKEB.TTF) normal normal 800 normal>) = 10.43\n",
      "2020-08-07 23:17:24,056 - matplotlib.font_manager - DEBUG - findfont: score(<Font 'Calisto MT' (CALISTB.TTF) normal normal 700 normal>) = 10.335\n",
      "2020-08-07 23:17:24,057 - matplotlib.font_manager - DEBUG - findfont: score(<Font 'Segoe UI Historic' (seguihis.ttf) normal normal 400 normal>) = 10.05\n",
      "2020-08-07 23:17:24,057 - matplotlib.font_manager - DEBUG - findfont: score(<Font 'Lucida Fax' (LFAX.TTF) normal normal 400 normal>) = 10.05\n",
      "2020-08-07 23:17:24,058 - matplotlib.font_manager - DEBUG - findfont: score(<Font 'Wide Latin' (LATINWD.TTF) normal normal 400 expanded>) = 10.25\n",
      "2020-08-07 23:17:24,059 - matplotlib.font_manager - DEBUG - findfont: score(<Font 'Courier New' (couri.ttf) italic normal 400 normal>) = 11.05\n",
      "2020-08-07 23:17:24,060 - matplotlib.font_manager - DEBUG - findfont: score(<Font 'Yu Gothic' (YuGothB.ttc) normal normal 700 normal>) = 10.335\n",
      "2020-08-07 23:17:24,061 - matplotlib.font_manager - DEBUG - findfont: score(<Font 'Goudy Stout' (GOUDYSTO.TTF) normal normal 400 normal>) = 10.05\n",
      "2020-08-07 23:17:24,062 - matplotlib.font_manager - DEBUG - findfont: score(<Font 'Bradley Hand ITC' (BRADHITC.TTF) normal normal 400 normal>) = 10.05\n",
      "2020-08-07 23:17:24,062 - matplotlib.font_manager - DEBUG - findfont: score(<Font 'Gill Sans Nova' (GillSansCondNova.ttf) normal normal 500 condensed>) = 10.344999999999999\n",
      "2020-08-07 23:17:24,063 - matplotlib.font_manager - DEBUG - findfont: score(<Font 'Segoe UI' (segoeuii.ttf) italic normal 400 normal>) = 11.05\n",
      "2020-08-07 23:17:24,064 - matplotlib.font_manager - DEBUG - findfont: score(<Font 'Corbel' (corbelli.ttf) italic normal 300 normal>) = 11.145\n",
      "2020-08-07 23:17:24,065 - matplotlib.font_manager - DEBUG - findfont: score(<Font 'Microsoft Yi Baiti' (msyi.ttf) normal normal 400 normal>) = 10.05\n",
      "2020-08-07 23:17:24,066 - matplotlib.font_manager - DEBUG - findfont: score(<Font 'Bodoni MT' (BOD_CI.TTF) italic normal 400 condensed>) = 11.25\n",
      "2020-08-07 23:17:24,066 - matplotlib.font_manager - DEBUG - findfont: score(<Font 'Lucida Fax' (LFAXI.TTF) italic normal 400 normal>) = 11.05\n",
      "2020-08-07 23:17:24,067 - matplotlib.font_manager - DEBUG - findfont: score(<Font 'Times New Roman' (timesbd.ttf) normal normal 700 normal>) = 10.335\n",
      "2020-08-07 23:17:24,067 - matplotlib.font_manager - DEBUG - findfont: score(<Font 'Californian FB' (CALIFB.TTF) normal normal 700 normal>) = 10.335\n",
      "2020-08-07 23:17:24,068 - matplotlib.font_manager - DEBUG - findfont: score(<Font 'Perpetua Titling MT' (PERTIBD.TTF) normal normal 700 normal>) = 10.335\n",
      "2020-08-07 23:17:24,069 - matplotlib.font_manager - DEBUG - findfont: score(<Font 'Georgia Pro' (GeorgiaPro-CondBlackItalic.ttf) italic normal 900 condensed>) = 11.725\n",
      "2020-08-07 23:17:24,069 - matplotlib.font_manager - DEBUG - findfont: score(<Font 'Georgia Pro' (GeorgiaPro-Black.ttf) normal normal 900 normal>) = 10.525\n",
      "2020-08-07 23:17:24,070 - matplotlib.font_manager - DEBUG - findfont: score(<Font 'Rockwell' (ROCKBI.TTF) italic normal 700 normal>) = 11.335\n",
      "2020-08-07 23:17:24,071 - matplotlib.font_manager - DEBUG - findfont: score(<Font 'Gill Sans MT' (GIL_____.TTF) normal normal 400 normal>) = 10.05\n",
      "2020-08-07 23:17:24,071 - matplotlib.font_manager - DEBUG - findfont: score(<Font 'Corbel' (corbel.ttf) normal normal 400 normal>) = 10.05\n"
     ]
    },
    {
     "name": "stderr",
     "output_type": "stream",
     "text": [
      "2020-08-07 23:17:24,072 - matplotlib.font_manager - DEBUG - findfont: score(<Font 'Snap ITC' (SNAP____.TTF) normal normal 400 normal>) = 10.05\n",
      "2020-08-07 23:17:24,072 - matplotlib.font_manager - DEBUG - findfont: score(<Font 'Nirmala UI' (Nirmala.ttf) normal normal 400 normal>) = 10.05\n",
      "2020-08-07 23:17:24,073 - matplotlib.font_manager - DEBUG - findfont: score(<Font 'Rockwell Nova' (RockwellNova-Light.ttf) normal normal 300 normal>) = 10.145\n",
      "2020-08-07 23:17:24,074 - matplotlib.font_manager - DEBUG - findfont: score(<Font 'Times New Roman' (timesbi.ttf) italic normal 700 normal>) = 11.335\n",
      "2020-08-07 23:17:24,074 - matplotlib.font_manager - DEBUG - findfont: score(<Font 'Gill Sans Nova' (GillSansCondUltraBoNova.ttf) normal normal 900 condensed>) = 10.725\n",
      "2020-08-07 23:17:24,075 - matplotlib.font_manager - DEBUG - findfont: score(<Font 'Playbill' (PLAYBILL.TTF) normal normal 400 normal>) = 10.05\n",
      "2020-08-07 23:17:24,076 - matplotlib.font_manager - DEBUG - findfont: score(<Font 'Segoe MDL2 Assets' (segmdl2.ttf) normal normal 400 normal>) = 10.05\n",
      "2020-08-07 23:17:24,076 - matplotlib.font_manager - DEBUG - findfont: score(<Font 'Bauhaus 93' (BAUHS93.TTF) normal normal 400 normal>) = 10.05\n",
      "2020-08-07 23:17:24,078 - matplotlib.font_manager - DEBUG - findfont: score(<Font 'Century Gothic' (GOTHIC.TTF) normal normal 400 normal>) = 10.05\n",
      "2020-08-07 23:17:24,079 - matplotlib.font_manager - DEBUG - findfont: score(<Font 'MV Boli' (mvboli.ttf) normal normal 400 normal>) = 10.05\n",
      "2020-08-07 23:17:24,080 - matplotlib.font_manager - DEBUG - findfont: score(<Font 'Verdana Pro' (VerdanaPro-CondBlackItalic.ttf) italic normal 900 condensed>) = 11.725\n",
      "2020-08-07 23:17:24,081 - matplotlib.font_manager - DEBUG - findfont: score(<Font 'Goudy Old Style' (GOUDOS.TTF) normal normal 400 normal>) = 10.05\n",
      "2020-08-07 23:17:24,081 - matplotlib.font_manager - DEBUG - findfont: score(<Font 'Microsoft Sans Serif' (micross.ttf) normal normal 400 normal>) = 10.05\n",
      "2020-08-07 23:17:24,082 - matplotlib.font_manager - DEBUG - findfont: score(<Font 'Gill Sans Nova' (GillSansNova.ttf) normal normal 500 normal>) = 10.145\n",
      "2020-08-07 23:17:24,083 - matplotlib.font_manager - DEBUG - findfont: score(<Font 'Book Antiqua' (BKANT.TTF) normal normal 400 normal>) = 10.05\n",
      "2020-08-07 23:17:24,084 - matplotlib.font_manager - DEBUG - findfont: score(<Font 'Candara' (Candarab.ttf) normal normal 700 normal>) = 10.335\n",
      "2020-08-07 23:17:24,084 - matplotlib.font_manager - DEBUG - findfont: score(<Font 'Webdings' (webdings.ttf) normal normal 400 normal>) = 10.05\n",
      "2020-08-07 23:17:24,085 - matplotlib.font_manager - DEBUG - findfont: score(<Font 'Lucida Bright' (LBRITE.TTF) normal normal 400 normal>) = 10.05\n",
      "2020-08-07 23:17:24,085 - matplotlib.font_manager - DEBUG - findfont: score(<Font 'Lucida Bright' (LBRITED.TTF) normal normal 600 normal>) = 10.24\n",
      "2020-08-07 23:17:24,086 - matplotlib.font_manager - DEBUG - findfont: score(<Font 'Microsoft PhagsPa' (phagspa.ttf) normal normal 400 normal>) = 10.05\n",
      "2020-08-07 23:17:24,086 - matplotlib.font_manager - DEBUG - findfont: score(<Font 'Nirmala UI' (Nirmala.ttf) normal normal 400 normal>) = 10.05\n",
      "2020-08-07 23:17:24,087 - matplotlib.font_manager - DEBUG - findfont: score(<Font 'Rage Italic' (RAGE.TTF) italic normal 400 normal>) = 11.05\n",
      "2020-08-07 23:17:24,088 - matplotlib.font_manager - DEBUG - findfont: score(<Font 'Eras Medium ITC' (ERASMD.TTF) normal normal 400 normal>) = 10.05\n",
      "2020-08-07 23:17:24,088 - matplotlib.font_manager - DEBUG - findfont: score(<Font 'Georgia Pro' (GeorgiaPro-CondSemiBold.ttf) normal normal 600 condensed>) = 10.44\n",
      "2020-08-07 23:17:24,089 - matplotlib.font_manager - DEBUG - findfont: score(<Font 'Dubai' (DUBAI-LIGHT.TTF) normal normal 300 normal>) = 10.145\n",
      "2020-08-07 23:17:24,090 - matplotlib.font_manager - DEBUG - findfont: score(<Font 'Neue Haas Grotesk Text Pro' (NHaasGroteskTXPro-66MdIt.ttf) italic normal 500 normal>) = 11.145\n",
      "2020-08-07 23:17:24,090 - matplotlib.font_manager - DEBUG - findfont: score(<Font 'Georgia Pro' (GeorgiaPro-CondBold.ttf) normal normal 700 condensed>) = 10.535\n",
      "2020-08-07 23:17:24,091 - matplotlib.font_manager - DEBUG - findfont: score(<Font 'Ravie' (RAVIE.TTF) normal normal 400 normal>) = 10.05\n",
      "2020-08-07 23:17:24,092 - matplotlib.font_manager - DEBUG - findfont: score(<Font 'Tw Cen MT Condensed' (TCCM____.TTF) normal normal 400 condensed>) = 10.25\n",
      "2020-08-07 23:17:24,092 - matplotlib.font_manager - DEBUG - findfont: score(<Font 'Georgia Pro' (GeorgiaPro-CondLightItalic.ttf) italic normal 300 condensed>) = 11.344999999999999\n",
      "2020-08-07 23:17:24,093 - matplotlib.font_manager - DEBUG - findfont: score(<Font 'Ink Free' (Inkfree.ttf) normal normal 400 normal>) = 10.05\n",
      "2020-08-07 23:17:24,093 - matplotlib.font_manager - DEBUG - findfont: score(<Font 'Rockwell Nova' (RockwellNova-ExtraBold.ttf) normal normal 800 normal>) = 10.43\n",
      "2020-08-07 23:17:24,094 - matplotlib.font_manager - DEBUG - findfont: score(<Font 'Californian FB' (CALIFI.TTF) italic normal 400 normal>) = 11.05\n",
      "2020-08-07 23:17:24,095 - matplotlib.font_manager - DEBUG - findfont: score(<Font 'Vladimir Script' (VLADIMIR.TTF) normal normal 400 normal>) = 10.05\n",
      "2020-08-07 23:17:24,095 - matplotlib.font_manager - DEBUG - findfont: score(<Font 'Verdana Pro' (VerdanaPro-CondBlackItalic.ttf) italic normal 900 condensed>) = 11.725\n",
      "2020-08-07 23:17:24,096 - matplotlib.font_manager - DEBUG - findfont: score(<Font 'Lucida Sans Typewriter' (LTYPEBO.TTF) oblique normal 600 normal>) = 11.24\n",
      "2020-08-07 23:17:24,097 - matplotlib.font_manager - DEBUG - findfont: score(<Font 'Microsoft Tai Le' (taileb.ttf) normal normal 700 normal>) = 10.335\n",
      "2020-08-07 23:17:24,098 - matplotlib.font_manager - DEBUG - findfont: score(<Font 'Century' (CENTURY.TTF) normal normal 400 normal>) = 10.05\n",
      "2020-08-07 23:17:24,099 - matplotlib.font_manager - DEBUG - findfont: score(<Font 'Lucida Sans' (LSANSDI.TTF) italic normal 600 normal>) = 11.24\n",
      "2020-08-07 23:17:24,099 - matplotlib.font_manager - DEBUG - findfont: score(<Font 'Bodoni MT' (BOD_BLAR.TTF) normal normal 900 normal>) = 10.525\n",
      "2020-08-07 23:17:24,100 - matplotlib.font_manager - DEBUG - findfont: score(<Font 'Microsoft Yi Baiti' (msyi.ttf) normal normal 400 normal>) = 10.05\n",
      "2020-08-07 23:17:24,102 - matplotlib.font_manager - DEBUG - findfont: score(<Font 'Arial Nova' (ArialNova-Light.ttf) normal normal 300 normal>) = 10.145\n",
      "2020-08-07 23:17:24,102 - matplotlib.font_manager - DEBUG - findfont: score(<Font 'Gadugi' (gadugi.ttf) normal normal 400 normal>) = 10.05\n",
      "2020-08-07 23:17:24,103 - matplotlib.font_manager - DEBUG - findfont: score(<Font 'Perpetua' (PERB____.TTF) normal normal 700 normal>) = 10.335\n",
      "2020-08-07 23:17:24,104 - matplotlib.font_manager - DEBUG - findfont: score(<Font 'Segoe UI' (seguili.ttf) italic normal 300 normal>) = 11.145\n",
      "2020-08-07 23:17:24,104 - matplotlib.font_manager - DEBUG - findfont: score(<Font 'Georgia' (georgiai.ttf) italic normal 400 normal>) = 11.05\n",
      "2020-08-07 23:17:24,105 - matplotlib.font_manager - DEBUG - findfont: score(<Font 'Verdana Pro' (VerdanaPro-Bold.ttf) normal normal 700 normal>) = 10.335\n",
      "2020-08-07 23:17:24,106 - matplotlib.font_manager - DEBUG - findfont: score(<Font 'Microsoft JhengHei' (msjh.ttc) normal normal 400 normal>) = 10.05\n",
      "2020-08-07 23:17:24,106 - matplotlib.font_manager - DEBUG - findfont: score(<Font 'Malgun Gothic' (malgun.ttf) normal normal 400 normal>) = 10.05\n",
      "2020-08-07 23:17:24,107 - matplotlib.font_manager - DEBUG - findfont: score(<Font 'French Script MT' (FRSCRIPT.TTF) normal normal 400 normal>) = 10.05\n",
      "2020-08-07 23:17:24,107 - matplotlib.font_manager - DEBUG - findfont: score(<Font 'Bell MT' (BELL.TTF) normal normal 400 normal>) = 10.05\n",
      "2020-08-07 23:17:24,108 - matplotlib.font_manager - DEBUG - findfont: score(<Font 'Gill Sans Nova' (GillSansBoItNova.ttf) italic normal 700 normal>) = 11.335\n",
      "2020-08-07 23:17:24,108 - matplotlib.font_manager - DEBUG - findfont: score(<Font 'Verdana Pro' (VerdanaPro-CondLight.ttf) normal normal 300 condensed>) = 10.344999999999999\n",
      "2020-08-07 23:17:24,109 - matplotlib.font_manager - DEBUG - findfont: score(<Font 'Sitka Small' (Sitka.ttc) normal normal 400 normal>) = 10.05\n",
      "2020-08-07 23:17:24,110 - matplotlib.font_manager - DEBUG - findfont: score(<Font 'Berlin Sans FB' (BRLNSR.TTF) normal normal 400 normal>) = 10.05\n"
     ]
    },
    {
     "name": "stderr",
     "output_type": "stream",
     "text": [
      "2020-08-07 23:17:24,110 - matplotlib.font_manager - DEBUG - findfont: score(<Font 'Verdana Pro' (VerdanaPro-CondItalic.ttf) italic normal 400 condensed>) = 11.25\n",
      "2020-08-07 23:17:24,113 - matplotlib.font_manager - DEBUG - findfont: score(<Font 'Rockwell Nova' (RockwellNovaCond-Bold.ttf) normal normal 700 condensed>) = 10.535\n",
      "2020-08-07 23:17:24,113 - matplotlib.font_manager - DEBUG - findfont: score(<Font 'Microsoft YaHei' (msyhbd.ttc) normal normal 700 normal>) = 10.335\n",
      "2020-08-07 23:17:24,114 - matplotlib.font_manager - DEBUG - findfont: score(<Font 'HP Simplified' (HPSimplified_Rg.ttf) normal normal 400 normal>) = 10.05\n",
      "2020-08-07 23:17:24,115 - matplotlib.font_manager - DEBUG - findfont: score(<Font 'Leelawadee' (LEELAWAD.TTF) normal normal 400 normal>) = 10.05\n",
      "2020-08-07 23:17:24,115 - matplotlib.font_manager - DEBUG - findfont: score(<Font 'Microsoft New Tai Lue' (ntailub.ttf) normal normal 700 normal>) = 10.335\n",
      "2020-08-07 23:17:24,116 - matplotlib.font_manager - DEBUG - findfont: score(<Font 'Bodoni MT' (BOD_I.TTF) italic normal 400 normal>) = 11.05\n",
      "2020-08-07 23:17:24,116 - matplotlib.font_manager - DEBUG - findfont: score(<Font 'Consolas' (consolai.ttf) italic normal 400 normal>) = 11.05\n",
      "2020-08-07 23:17:24,117 - matplotlib.font_manager - DEBUG - findfont: score(<Font 'Bodoni MT' (BOD_BI.TTF) italic normal 700 normal>) = 11.335\n",
      "2020-08-07 23:17:24,119 - matplotlib.font_manager - DEBUG - findfont: score(<Font 'Centaur' (CENTAUR.TTF) normal normal 400 normal>) = 10.05\n",
      "2020-08-07 23:17:24,119 - matplotlib.font_manager - DEBUG - findfont: score(<Font 'Corbel' (corbell.ttf) normal normal 300 normal>) = 10.145\n",
      "2020-08-07 23:17:24,120 - matplotlib.font_manager - DEBUG - findfont: score(<Font 'Elephant' (ELEPHNTI.TTF) italic normal 400 normal>) = 11.05\n",
      "2020-08-07 23:17:24,120 - matplotlib.font_manager - DEBUG - findfont: score(<Font 'HP Simplified' (HPSimplified_LtIt.ttf) italic normal 300 normal>) = 11.145\n",
      "2020-08-07 23:17:24,121 - matplotlib.font_manager - DEBUG - findfont: score(<Font 'Franklin Gothic Demi' (FRADMIT.TTF) italic normal 400 normal>) = 11.05\n",
      "2020-08-07 23:17:24,122 - matplotlib.font_manager - DEBUG - findfont: score(<Font 'Calisto MT' (CALISTI.TTF) italic normal 400 normal>) = 11.05\n",
      "2020-08-07 23:17:24,123 - matplotlib.font_manager - DEBUG - findfont: score(<Font 'Arial Nova' (ArialNovaCond-Light.ttf) normal normal 300 condensed>) = 10.344999999999999\n",
      "2020-08-07 23:17:24,123 - matplotlib.font_manager - DEBUG - findfont: score(<Font 'Arial Nova' (ArialNovaCond-Light.ttf) normal normal 300 condensed>) = 10.344999999999999\n",
      "2020-08-07 23:17:24,124 - matplotlib.font_manager - DEBUG - findfont: score(<Font 'Courier New' (couri.ttf) italic normal 400 normal>) = 11.05\n",
      "2020-08-07 23:17:24,125 - matplotlib.font_manager - DEBUG - findfont: score(<Font 'Arial' (ARIALNB.TTF) normal normal 700 condensed>) = 10.535\n",
      "2020-08-07 23:17:24,126 - matplotlib.font_manager - DEBUG - findfont: score(<Font 'Wingdings 2' (WINGDNG2.TTF) normal normal 400 normal>) = 10.05\n",
      "2020-08-07 23:17:24,127 - matplotlib.font_manager - DEBUG - findfont: score(<Font 'Rockwell Nova' (RockwellNova-Light.ttf) normal normal 300 normal>) = 10.145\n",
      "2020-08-07 23:17:24,128 - matplotlib.font_manager - DEBUG - findfont: score(<Font 'Segoe UI' (segoeuiz.ttf) italic normal 700 normal>) = 11.335\n",
      "2020-08-07 23:17:24,129 - matplotlib.font_manager - DEBUG - findfont: score(<Font 'Elephant' (ELEPHNT.TTF) normal normal 400 normal>) = 10.05\n",
      "2020-08-07 23:17:24,130 - matplotlib.font_manager - DEBUG - findfont: score(<Font 'Trebuchet MS' (trebucbi.ttf) italic normal 700 normal>) = 11.335\n",
      "2020-08-07 23:17:24,130 - matplotlib.font_manager - DEBUG - findfont: score(<Font 'Arial' (ariblk.ttf) normal normal 900 normal>) = 10.525\n",
      "2020-08-07 23:17:24,131 - matplotlib.font_manager - DEBUG - findfont: score(<Font 'Verdana' (verdanai.ttf) italic normal 400 normal>) = 11.05\n",
      "2020-08-07 23:17:24,131 - matplotlib.font_manager - DEBUG - findfont: score(<Font 'HP Simplified' (HPSimplified_Lt.ttf) normal normal 300 normal>) = 10.145\n",
      "2020-08-07 23:17:24,132 - matplotlib.font_manager - DEBUG - findfont: score(<Font 'Lucida Sans' (LSANSDI.TTF) italic normal 600 normal>) = 11.24\n",
      "2020-08-07 23:17:24,132 - matplotlib.font_manager - DEBUG - findfont: score(<Font 'Segoe UI' (segoeuii.ttf) italic normal 400 normal>) = 11.05\n",
      "2020-08-07 23:17:24,133 - matplotlib.font_manager - DEBUG - findfont: score(<Font 'Californian FB' (CALIFR.TTF) normal normal 400 normal>) = 10.05\n",
      "2020-08-07 23:17:24,133 - matplotlib.font_manager - DEBUG - findfont: score(<Font 'Bell MT' (BELLB.TTF) normal normal 700 normal>) = 10.335\n",
      "2020-08-07 23:17:24,134 - matplotlib.font_manager - DEBUG - findfont: score(<Font 'Calibri' (calibril.ttf) normal normal 300 normal>) = 10.145\n",
      "2020-08-07 23:17:24,135 - matplotlib.font_manager - DEBUG - findfont: score(<Font 'Rockwell Nova' (RockwellNova-Bold.ttf) normal normal 700 normal>) = 10.335\n",
      "2020-08-07 23:17:24,135 - matplotlib.font_manager - DEBUG - findfont: score(<Font 'Verdana Pro' (VerdanaPro-CondRegular.ttf) normal normal 400 condensed>) = 10.25\n",
      "2020-08-07 23:17:24,136 - matplotlib.font_manager - DEBUG - findfont: score(<Font 'Californian FB' (CALIFI.TTF) italic normal 400 normal>) = 11.05\n",
      "2020-08-07 23:17:24,137 - matplotlib.font_manager - DEBUG - findfont: score(<Font 'Ebrima' (ebrima.ttf) normal normal 400 normal>) = 10.05\n",
      "2020-08-07 23:17:24,138 - matplotlib.font_manager - DEBUG - findfont: score(<Font 'Myanmar Text' (mmrtextb.ttf) normal normal 700 normal>) = 10.335\n",
      "2020-08-07 23:17:24,138 - matplotlib.font_manager - DEBUG - findfont: score(<Font 'Arial Nova' (ArialNova-BoldItalic.ttf) italic normal 700 normal>) = 11.335\n",
      "2020-08-07 23:17:24,139 - matplotlib.font_manager - DEBUG - findfont: score(<Font 'Niagara Engraved' (NIAGENG.TTF) normal normal 400 normal>) = 10.05\n",
      "2020-08-07 23:17:24,139 - matplotlib.font_manager - DEBUG - findfont: score(<Font 'High Tower Text' (HTOWERTI.TTF) italic normal 400 normal>) = 11.05\n",
      "2020-08-07 23:17:24,140 - matplotlib.font_manager - DEBUG - findfont: score(<Font 'Wingdings 2' (WINGDNG2.TTF) normal normal 400 normal>) = 10.05\n",
      "2020-08-07 23:17:24,141 - matplotlib.font_manager - DEBUG - findfont: score(<Font 'Centaur' (CENTAUR.TTF) normal normal 400 normal>) = 10.05\n",
      "2020-08-07 23:17:24,142 - matplotlib.font_manager - DEBUG - findfont: score(<Font 'Book Antiqua' (ANTQUAB.TTF) normal normal 700 normal>) = 10.335\n",
      "2020-08-07 23:17:24,142 - matplotlib.font_manager - DEBUG - findfont: score(<Font 'Comic Sans MS' (comicz.ttf) italic normal 700 normal>) = 11.335\n",
      "2020-08-07 23:17:24,143 - matplotlib.font_manager - DEBUG - findfont: score(<Font 'Rockwell Nova' (RockwellNova.ttf) normal normal 400 normal>) = 10.05\n",
      "2020-08-07 23:17:24,144 - matplotlib.font_manager - DEBUG - findfont: score(<Font 'Verdana' (verdanab.ttf) normal normal 700 normal>) = 10.335\n",
      "2020-08-07 23:17:24,145 - matplotlib.font_manager - DEBUG - findfont: score(<Font 'Perpetua Titling MT' (PERTIBD.TTF) normal normal 700 normal>) = 10.335\n",
      "2020-08-07 23:17:24,145 - matplotlib.font_manager - DEBUG - findfont: score(<Font 'Perpetua' (PER_____.TTF) normal normal 400 normal>) = 10.05\n",
      "2020-08-07 23:17:24,146 - matplotlib.font_manager - DEBUG - findfont: score(<Font 'Bahnschrift' (bahnschrift.ttf) normal normal 400 normal>) = 10.05\n",
      "2020-08-07 23:17:24,146 - matplotlib.font_manager - DEBUG - findfont: score(<Font 'Verdana Pro' (VerdanaPro-Light.ttf) normal normal 300 normal>) = 10.145\n",
      "2020-08-07 23:17:24,147 - matplotlib.font_manager - DEBUG - findfont: score(<Font 'Corbel' (corbelb.ttf) normal normal 700 normal>) = 10.335\n",
      "2020-08-07 23:17:24,147 - matplotlib.font_manager - DEBUG - findfont: score(<Font 'Corbel' (corbeli.ttf) italic normal 400 normal>) = 11.05\n",
      "2020-08-07 23:17:24,148 - matplotlib.font_manager - DEBUG - findfont: score(<Font 'Rockwell Condensed' (ROCC____.TTF) normal normal 400 condensed>) = 10.25\n",
      "2020-08-07 23:17:24,148 - matplotlib.font_manager - DEBUG - findfont: score(<Font 'Segoe UI' (segoeuib.ttf) normal normal 700 normal>) = 10.335\n",
      "2020-08-07 23:17:24,149 - matplotlib.font_manager - DEBUG - findfont: score(<Font 'Impact' (impact.ttf) normal normal 400 normal>) = 10.05\n",
      "2020-08-07 23:17:24,149 - matplotlib.font_manager - DEBUG - findfont: score(<Font 'Verdana Pro' (VerdanaPro-SemiBoldItalic.ttf) italic normal 600 normal>) = 11.24\n"
     ]
    },
    {
     "name": "stderr",
     "output_type": "stream",
     "text": [
      "2020-08-07 23:17:24,151 - matplotlib.font_manager - DEBUG - findfont: score(<Font 'Verdana Pro' (VerdanaPro-CondLightItalic.ttf) italic normal 300 condensed>) = 11.344999999999999\n",
      "2020-08-07 23:17:24,151 - matplotlib.font_manager - DEBUG - findfont: score(<Font 'MS Reference Sans Serif' (REFSAN.TTF) normal normal 400 normal>) = 10.05\n",
      "2020-08-07 23:17:24,152 - matplotlib.font_manager - DEBUG - findfont: score(<Font 'Myanmar Text' (mmrtextb.ttf) normal normal 700 normal>) = 10.335\n",
      "2020-08-07 23:17:24,153 - matplotlib.font_manager - DEBUG - findfont: score(<Font 'Arial Nova' (ArialNovaCond-Italic.ttf) italic normal 400 condensed>) = 11.25\n",
      "2020-08-07 23:17:24,153 - matplotlib.font_manager - DEBUG - findfont: score(<Font 'Garamond' (GARAIT.TTF) italic normal 400 normal>) = 11.05\n",
      "2020-08-07 23:17:24,153 - matplotlib.font_manager - DEBUG - findfont: score(<Font 'Dubai' (DUBAI-LIGHT.TTF) normal normal 300 normal>) = 10.145\n",
      "2020-08-07 23:17:24,154 - matplotlib.font_manager - DEBUG - findfont: score(<Font 'Javanese Text' (javatext.ttf) normal normal 400 normal>) = 10.05\n",
      "2020-08-07 23:17:24,154 - matplotlib.font_manager - DEBUG - findfont: score(<Font 'Segoe UI' (seguibli.ttf) italic normal 900 normal>) = 11.525\n",
      "2020-08-07 23:17:24,155 - matplotlib.font_manager - DEBUG - findfont: score(<Font 'Matura MT Script Capitals' (MATURASC.TTF) normal normal 400 normal>) = 10.05\n",
      "2020-08-07 23:17:24,155 - matplotlib.font_manager - DEBUG - findfont: score(<Font 'Gill Sans Nova' (GillSansCondNova.ttf) normal normal 500 condensed>) = 10.344999999999999\n",
      "2020-08-07 23:17:24,156 - matplotlib.font_manager - DEBUG - findfont: score(<Font 'Gill Sans Nova' (GillSansCondExtraItNova.ttf) italic normal 800 condensed>) = 11.629999999999999\n",
      "2020-08-07 23:17:24,156 - matplotlib.font_manager - DEBUG - findfont: score(<Font 'Gill Sans Nova' (GillSansBoNova.ttf) normal normal 700 normal>) = 10.335\n",
      "2020-08-07 23:17:24,157 - matplotlib.font_manager - DEBUG - findfont: score(<Font 'Malgun Gothic' (malgunbd.ttf) normal normal 700 normal>) = 10.335\n",
      "2020-08-07 23:17:24,158 - matplotlib.font_manager - DEBUG - findfont: score(<Font 'Freestyle Script' (FREESCPT.TTF) normal normal 400 normal>) = 10.05\n",
      "2020-08-07 23:17:24,158 - matplotlib.font_manager - DEBUG - findfont: score(<Font 'Neue Haas Grotesk Text Pro' (NHaasGroteskTXPro-55Rg.ttf) normal normal 400 normal>) = 10.05\n",
      "2020-08-07 23:17:24,159 - matplotlib.font_manager - DEBUG - findfont: score(<Font 'Algerian' (ALGER.TTF) normal normal 400 normal>) = 10.05\n",
      "2020-08-07 23:17:24,159 - matplotlib.font_manager - DEBUG - findfont: score(<Font 'Rockwell Nova' (RockwellNovaCond-LightItalic.ttf) italic normal 300 condensed>) = 11.344999999999999\n",
      "2020-08-07 23:17:24,161 - matplotlib.font_manager - DEBUG - findfont: score(<Font 'Monotype Corsiva' (MTCORSVA.TTF) normal normal 400 normal>) = 10.05\n",
      "2020-08-07 23:17:24,162 - matplotlib.font_manager - DEBUG - findfont: score(<Font 'Calibri' (calibrib.ttf) normal normal 700 normal>) = 10.335\n",
      "2020-08-07 23:17:24,163 - matplotlib.font_manager - DEBUG - findfont: score(<Font 'Parchment' (PARCHM.TTF) normal normal 400 normal>) = 10.05\n",
      "2020-08-07 23:17:24,164 - matplotlib.font_manager - DEBUG - findfont: score(<Font 'MS Reference Sans Serif' (REFSAN.TTF) normal normal 400 normal>) = 10.05\n",
      "2020-08-07 23:17:24,164 - matplotlib.font_manager - DEBUG - findfont: score(<Font 'Segoe Script' (segoescb.ttf) normal normal 700 normal>) = 10.335\n",
      "2020-08-07 23:17:24,165 - matplotlib.font_manager - DEBUG - findfont: score(<Font 'Old English Text MT' (OLDENGL.TTF) normal normal 400 normal>) = 10.05\n",
      "2020-08-07 23:17:24,165 - matplotlib.font_manager - DEBUG - findfont: score(<Font 'HP Simplified' (HPSimplified.ttf) normal normal 700 normal>) = 10.335\n",
      "2020-08-07 23:17:24,166 - matplotlib.font_manager - DEBUG - findfont: score(<Font 'Kunstler Script' (KUNSTLER.TTF) normal normal 400 normal>) = 10.05\n",
      "2020-08-07 23:17:24,167 - matplotlib.font_manager - DEBUG - findfont: score(<Font 'Rockwell Nova' (RockwellNovaCond-Italic.ttf) italic normal 400 condensed>) = 11.25\n",
      "2020-08-07 23:17:24,167 - matplotlib.font_manager - DEBUG - findfont: score(<Font 'Georgia Pro' (GeorgiaPro-SemiBoldItalic.ttf) italic normal 600 normal>) = 11.24\n",
      "2020-08-07 23:17:24,168 - matplotlib.font_manager - DEBUG - findfont: score(<Font 'Gill Sans Nova' (GillSansNova.ttf) normal normal 500 normal>) = 10.145\n",
      "2020-08-07 23:17:24,168 - matplotlib.font_manager - DEBUG - findfont: score(<Font 'Bodoni MT' (BOD_PSTC.TTF) normal normal 300 normal>) = 10.145\n",
      "2020-08-07 23:17:24,169 - matplotlib.font_manager - DEBUG - findfont: score(<Font 'Verdana Pro' (VerdanaPro-Regular.ttf) normal normal 400 normal>) = 10.05\n",
      "2020-08-07 23:17:24,169 - matplotlib.font_manager - DEBUG - findfont: score(<Font 'Ravie' (RAVIE.TTF) normal normal 400 normal>) = 10.05\n",
      "2020-08-07 23:17:24,170 - matplotlib.font_manager - DEBUG - findfont: score(<Font 'Dubai' (DUBAI-MEDIUM.TTF) normal normal 500 normal>) = 10.145\n",
      "2020-08-07 23:17:24,170 - matplotlib.font_manager - DEBUG - findfont: score(<Font 'Elephant' (ELEPHNT.TTF) normal normal 400 normal>) = 10.05\n",
      "2020-08-07 23:17:24,171 - matplotlib.font_manager - DEBUG - findfont: score(<Font 'Footlight MT Light' (FTLTLT.TTF) normal normal 300 normal>) = 10.145\n",
      "2020-08-07 23:17:24,171 - matplotlib.font_manager - DEBUG - findfont: score(<Font 'Papyrus' (PAPYRUS.TTF) normal normal 400 normal>) = 10.05\n",
      "2020-08-07 23:17:24,172 - matplotlib.font_manager - DEBUG - findfont: score(<Font 'MS Reference Specialty' (REFSPCL.TTF) normal normal 400 normal>) = 10.05\n",
      "2020-08-07 23:17:24,173 - matplotlib.font_manager - DEBUG - findfont: score(<Font 'Georgia Pro' (GeorgiaPro-CondBlack.ttf) normal normal 900 condensed>) = 10.725\n",
      "2020-08-07 23:17:24,174 - matplotlib.font_manager - DEBUG - findfont: score(<Font 'Constantia' (constani.ttf) italic normal 400 normal>) = 11.05\n",
      "2020-08-07 23:17:24,174 - matplotlib.font_manager - DEBUG - findfont: score(<Font 'Agency FB' (AGENCYB.TTF) normal normal 700 normal>) = 10.335\n",
      "2020-08-07 23:17:24,175 - matplotlib.font_manager - DEBUG - findfont: score(<Font 'Neue Haas Grotesk Text Pro' (NHaasGroteskTXPro-75Bd.ttf) normal normal 700 normal>) = 10.335\n",
      "2020-08-07 23:17:24,175 - matplotlib.font_manager - DEBUG - findfont: score(<Font 'Perpetua Titling MT' (PERTILI.TTF) normal normal 300 normal>) = 10.145\n",
      "2020-08-07 23:17:24,176 - matplotlib.font_manager - DEBUG - findfont: score(<Font 'Yu Gothic' (YuGothM.ttc) normal normal 500 normal>) = 10.145\n",
      "2020-08-07 23:17:24,176 - matplotlib.font_manager - DEBUG - findfont: score(<Font 'Franklin Gothic Heavy' (FRAHVIT.TTF) italic normal 400 normal>) = 11.05\n",
      "2020-08-07 23:17:24,177 - matplotlib.font_manager - DEBUG - findfont: score(<Font 'Calibri' (calibriz.ttf) italic normal 700 normal>) = 11.335\n",
      "2020-08-07 23:17:24,177 - matplotlib.font_manager - DEBUG - findfont: score(<Font 'Wide Latin' (LATINWD.TTF) normal normal 400 expanded>) = 10.25\n",
      "2020-08-07 23:17:24,178 - matplotlib.font_manager - DEBUG - findfont: score(<Font 'Gill Sans Nova' (GillSansCondExtraNova.ttf) normal normal 800 condensed>) = 10.629999999999999\n",
      "2020-08-07 23:17:24,179 - matplotlib.font_manager - DEBUG - findfont: score(<Font 'Consolas' (consolab.ttf) normal normal 700 normal>) = 10.335\n",
      "2020-08-07 23:17:24,180 - matplotlib.font_manager - DEBUG - findfont: score(<Font 'Segoe UI' (segoeui.ttf) normal normal 400 normal>) = 10.05\n",
      "2020-08-07 23:17:24,180 - matplotlib.font_manager - DEBUG - findfont: score(<Font 'Microsoft New Tai Lue' (ntailub.ttf) normal normal 700 normal>) = 10.335\n",
      "2020-08-07 23:17:24,180 - matplotlib.font_manager - DEBUG - findfont: score(<Font 'Georgia Pro' (GeorgiaPro-SemiBold.ttf) normal normal 600 normal>) = 10.24\n",
      "2020-08-07 23:17:24,181 - matplotlib.font_manager - DEBUG - findfont: score(<Font 'Verdana' (verdanaz.ttf) italic normal 700 normal>) = 11.335\n",
      "2020-08-07 23:17:24,181 - matplotlib.font_manager - DEBUG - findfont: score(<Font 'Verdana Pro' (VerdanaPro-Light.ttf) normal normal 300 normal>) = 10.145\n",
      "2020-08-07 23:17:24,182 - matplotlib.font_manager - DEBUG - findfont: score(<Font 'Rockwell Condensed' (ROCCB___.TTF) normal normal 700 condensed>) = 10.535\n",
      "2020-08-07 23:17:24,183 - matplotlib.font_manager - DEBUG - findfont: score(<Font 'Gill Sans Nova' (GillSansCondLightNova.ttf) normal normal 300 condensed>) = 10.344999999999999\n"
     ]
    },
    {
     "name": "stderr",
     "output_type": "stream",
     "text": [
      "2020-08-07 23:17:24,184 - matplotlib.font_manager - DEBUG - findfont: score(<Font 'Tahoma' (tahomabd.ttf) normal normal 700 normal>) = 10.335\n",
      "2020-08-07 23:17:24,184 - matplotlib.font_manager - DEBUG - findfont: score(<Font 'Consolas' (consolaz.ttf) italic normal 700 normal>) = 11.335\n",
      "2020-08-07 23:17:24,185 - matplotlib.font_manager - DEBUG - findfont: score(<Font 'Gill Sans Nova' (GillSansCondItNova.ttf) italic normal 500 condensed>) = 11.344999999999999\n",
      "2020-08-07 23:17:24,186 - matplotlib.font_manager - DEBUG - findfont: score(<Font 'Leelawadee UI' (LeelawUI.ttf) normal normal 400 normal>) = 10.05\n",
      "2020-08-07 23:17:24,186 - matplotlib.font_manager - DEBUG - findfont: score(<Font 'Papyrus' (PAPYRUS.TTF) normal normal 400 normal>) = 10.05\n",
      "2020-08-07 23:17:24,187 - matplotlib.font_manager - DEBUG - findfont: score(<Font 'Gill Sans Nova' (GillSansCondLightItNova.ttf) italic normal 300 condensed>) = 11.344999999999999\n",
      "2020-08-07 23:17:24,187 - matplotlib.font_manager - DEBUG - findfont: score(<Font 'Lucida Fax' (LFAXDI.TTF) italic normal 600 normal>) = 11.24\n",
      "2020-08-07 23:17:24,188 - matplotlib.font_manager - DEBUG - findfont: score(<Font 'Georgia Pro' (GeorgiaPro-CondRegular.ttf) normal normal 400 condensed>) = 10.25\n",
      "2020-08-07 23:17:24,188 - matplotlib.font_manager - DEBUG - findfont: score(<Font 'Gill Sans Nova' (GillSansCondLightItNova.ttf) italic normal 300 condensed>) = 11.344999999999999\n",
      "2020-08-07 23:17:24,190 - matplotlib.font_manager - DEBUG - findfont: score(<Font 'Verdana Pro' (VerdanaPro-CondLight.ttf) normal normal 300 condensed>) = 10.344999999999999\n",
      "2020-08-07 23:17:24,190 - matplotlib.font_manager - DEBUG - findfont: score(<Font 'Tw Cen MT' (TCMI____.TTF) italic normal 400 normal>) = 11.05\n",
      "2020-08-07 23:17:24,191 - matplotlib.font_manager - DEBUG - findfont: score(<Font 'Malgun Gothic' (malgunbd.ttf) normal normal 700 normal>) = 10.335\n",
      "2020-08-07 23:17:24,192 - matplotlib.font_manager - DEBUG - findfont: score(<Font 'Gabriola' (Gabriola.ttf) normal normal 400 normal>) = 10.05\n",
      "2020-08-07 23:17:24,192 - matplotlib.font_manager - DEBUG - findfont: score(<Font 'Rockwell Nova' (RockwellNovaCond-Light.ttf) normal normal 300 condensed>) = 10.344999999999999\n",
      "2020-08-07 23:17:24,193 - matplotlib.font_manager - DEBUG - findfont: score(<Font 'Corbel' (corbelli.ttf) italic normal 300 normal>) = 11.145\n",
      "2020-08-07 23:17:24,194 - matplotlib.font_manager - DEBUG - findfont: score(<Font 'Constantia' (constanz.ttf) italic normal 700 normal>) = 11.335\n",
      "2020-08-07 23:17:24,194 - matplotlib.font_manager - DEBUG - findfont: score(<Font 'Trebuchet MS' (trebuc.ttf) normal normal 400 normal>) = 10.05\n",
      "2020-08-07 23:17:24,195 - matplotlib.font_manager - DEBUG - findfont: score(<Font 'Gill Sans MT' (GILI____.TTF) italic normal 400 normal>) = 11.05\n",
      "2020-08-07 23:17:24,196 - matplotlib.font_manager - DEBUG - findfont: score(<Font 'Tw Cen MT' (TCM_____.TTF) normal normal 400 normal>) = 10.05\n",
      "2020-08-07 23:17:24,196 - matplotlib.font_manager - DEBUG - findfont: score(<Font 'Castellar' (CASTELAR.TTF) normal normal 400 normal>) = 10.05\n",
      "2020-08-07 23:17:24,197 - matplotlib.font_manager - DEBUG - findfont: score(<Font 'Lucida Fax' (LFAXD.TTF) normal normal 600 normal>) = 10.24\n",
      "2020-08-07 23:17:24,198 - matplotlib.font_manager - DEBUG - findfont: score(<Font 'Franklin Gothic Medium' (framdit.ttf) italic normal 400 normal>) = 11.05\n",
      "2020-08-07 23:17:24,198 - matplotlib.font_manager - DEBUG - findfont: score(<Font 'Franklin Gothic Book' (FRABKIT.TTF) italic normal 400 normal>) = 11.05\n",
      "2020-08-07 23:17:24,199 - matplotlib.font_manager - DEBUG - findfont: score(<Font 'Harlow Solid Italic' (HARLOWSI.TTF) italic normal 400 normal>) = 11.05\n",
      "2020-08-07 23:17:24,199 - matplotlib.font_manager - DEBUG - findfont: score(<Font 'Rockwell Nova' (RockwellNova-Bold.ttf) normal normal 700 normal>) = 10.335\n",
      "2020-08-07 23:17:24,200 - matplotlib.font_manager - DEBUG - findfont: score(<Font 'Blackadder ITC' (ITCBLKAD.TTF) normal normal 400 normal>) = 10.05\n",
      "2020-08-07 23:17:24,201 - matplotlib.font_manager - DEBUG - findfont: score(<Font 'Stencil' (STENCIL.TTF) normal normal 400 normal>) = 10.05\n",
      "2020-08-07 23:17:24,201 - matplotlib.font_manager - DEBUG - findfont: score(<Font 'Arial Nova' (ArialNovaCond-Bold.ttf) normal normal 700 condensed>) = 10.535\n",
      "2020-08-07 23:17:24,203 - matplotlib.font_manager - DEBUG - findfont: score(<Font 'Playbill' (PLAYBILL.TTF) normal normal 400 normal>) = 10.05\n",
      "2020-08-07 23:17:24,204 - matplotlib.font_manager - DEBUG - findfont: score(<Font 'Agency FB' (AGENCYR.TTF) normal normal 400 normal>) = 10.05\n",
      "2020-08-07 23:17:24,205 - matplotlib.font_manager - DEBUG - findfont: score(<Font 'Tw Cen MT' (TCB_____.TTF) normal normal 700 normal>) = 10.335\n",
      "2020-08-07 23:17:24,206 - matplotlib.font_manager - DEBUG - findfont: score(<Font 'Cooper Black' (COOPBL.TTF) normal normal 400 normal>) = 10.05\n",
      "2020-08-07 23:17:24,206 - matplotlib.font_manager - DEBUG - findfont: score(<Font 'Consolas' (consolai.ttf) italic normal 400 normal>) = 11.05\n",
      "2020-08-07 23:17:24,208 - matplotlib.font_manager - DEBUG - findfont: score(<Font 'Franklin Gothic Demi Cond' (FRADMCN.TTF) normal normal 400 condensed>) = 10.25\n",
      "2020-08-07 23:17:24,208 - matplotlib.font_manager - DEBUG - findfont: score(<Font 'Bodoni MT' (BOD_CBI.TTF) italic normal 700 condensed>) = 11.535\n",
      "2020-08-07 23:17:24,209 - matplotlib.font_manager - DEBUG - findfont: score(<Font 'Rockwell Nova' (RockwellNova.ttf) normal normal 400 normal>) = 10.05\n",
      "2020-08-07 23:17:24,209 - matplotlib.font_manager - DEBUG - findfont: score(<Font 'Times New Roman' (timesbd.ttf) normal normal 700 normal>) = 10.335\n",
      "2020-08-07 23:17:24,210 - matplotlib.font_manager - DEBUG - findfont: score(<Font 'Candara' (Candaral.ttf) normal normal 400 normal>) = 10.05\n",
      "2020-08-07 23:17:24,211 - matplotlib.font_manager - DEBUG - findfont: score(<Font 'French Script MT' (FRSCRIPT.TTF) normal normal 400 normal>) = 10.05\n",
      "2020-08-07 23:17:24,211 - matplotlib.font_manager - DEBUG - findfont: score(<Font 'Jokerman' (JOKERMAN.TTF) normal normal 400 normal>) = 10.05\n",
      "2020-08-07 23:17:24,212 - matplotlib.font_manager - DEBUG - findfont: score(<Font 'MS Gothic' (msgothic.ttc) normal normal 400 normal>) = 10.05\n",
      "2020-08-07 23:17:24,213 - matplotlib.font_manager - DEBUG - findfont: score(<Font 'Californian FB' (CALIFB.TTF) normal normal 700 normal>) = 10.335\n",
      "2020-08-07 23:17:24,213 - matplotlib.font_manager - DEBUG - findfont: score(<Font 'Franklin Gothic Demi' (FRADMIT.TTF) italic normal 400 normal>) = 11.05\n",
      "2020-08-07 23:17:24,214 - matplotlib.font_manager - DEBUG - findfont: score(<Font 'MT Extra' (MTEXTRA.TTF) normal normal 400 normal>) = 10.05\n",
      "2020-08-07 23:17:24,214 - matplotlib.font_manager - DEBUG - findfont: score(<Font 'Perpetua Titling MT' (PERTILI.TTF) normal normal 300 normal>) = 10.145\n",
      "2020-08-07 23:17:24,215 - matplotlib.font_manager - DEBUG - findfont: score(<Font 'Perpetua' (PERBI___.TTF) italic normal 700 normal>) = 11.335\n",
      "2020-08-07 23:17:24,215 - matplotlib.font_manager - DEBUG - findfont: score(<Font 'Century Gothic' (GOTHIC.TTF) normal normal 400 normal>) = 10.05\n",
      "2020-08-07 23:17:24,216 - matplotlib.font_manager - DEBUG - findfont: score(<Font 'Felix Titling' (FELIXTI.TTF) normal normal 400 normal>) = 10.05\n",
      "2020-08-07 23:17:24,216 - matplotlib.font_manager - DEBUG - findfont: score(<Font 'Harrington' (HARNGTON.TTF) normal normal 400 normal>) = 10.05\n",
      "2020-08-07 23:17:24,217 - matplotlib.font_manager - DEBUG - findfont: score(<Font 'Rockwell Nova' (RockwellNovaCond-Bold.ttf) normal normal 700 condensed>) = 10.535\n",
      "2020-08-07 23:17:24,218 - matplotlib.font_manager - DEBUG - findfont: score(<Font 'Berlin Sans FB' (BRLNSR.TTF) normal normal 400 normal>) = 10.05\n",
      "2020-08-07 23:17:24,218 - matplotlib.font_manager - DEBUG - findfont: score(<Font 'Lucida Sans' (LSANSD.TTF) normal normal 600 normal>) = 10.24\n",
      "2020-08-07 23:17:24,219 - matplotlib.font_manager - DEBUG - findfont: score(<Font 'HP Simplified' (HPSimplified_It.ttf) italic normal 400 normal>) = 11.05\n",
      "2020-08-07 23:17:24,219 - matplotlib.font_manager - DEBUG - findfont: score(<Font 'Georgia' (georgia.ttf) normal normal 400 normal>) = 10.05\n",
      "2020-08-07 23:17:24,220 - matplotlib.font_manager - DEBUG - findfont: score(<Font 'Georgia Pro' (GeorgiaPro-Light.ttf) normal normal 300 normal>) = 10.145\n"
     ]
    },
    {
     "name": "stderr",
     "output_type": "stream",
     "text": [
      "2020-08-07 23:17:24,221 - matplotlib.font_manager - DEBUG - findfont: score(<Font 'Rockwell Extra Bold' (ROCKEB.TTF) normal normal 800 normal>) = 10.43\n",
      "2020-08-07 23:17:24,221 - matplotlib.font_manager - DEBUG - findfont: score(<Font 'Rockwell Nova' (RockwellNova-Italic.ttf) italic normal 400 normal>) = 11.05\n",
      "2020-08-07 23:17:24,222 - matplotlib.font_manager - DEBUG - findfont: score(<Font 'Segoe Print' (segoeprb.ttf) normal normal 700 normal>) = 10.335\n",
      "2020-08-07 23:17:24,223 - matplotlib.font_manager - DEBUG - findfont: score(<Font 'Goudy Old Style' (GOUDOSI.TTF) italic normal 400 normal>) = 11.05\n",
      "2020-08-07 23:17:24,223 - matplotlib.font_manager - DEBUG - findfont: score(<Font 'Broadway' (BROADW.TTF) normal normal 400 normal>) = 10.05\n",
      "2020-08-07 23:17:24,224 - matplotlib.font_manager - DEBUG - findfont: score(<Font 'Courier New' (courbd.ttf) normal normal 700 normal>) = 10.335\n",
      "2020-08-07 23:17:24,224 - matplotlib.font_manager - DEBUG - findfont: score(<Font 'Cambria' (cambriaz.ttf) italic normal 700 normal>) = 11.335\n",
      "2020-08-07 23:17:24,225 - matplotlib.font_manager - DEBUG - findfont: score(<Font 'Rockwell Nova' (RockwellNova-ExtraBoldItalic.ttf) italic normal 800 normal>) = 11.43\n",
      "2020-08-07 23:17:24,225 - matplotlib.font_manager - DEBUG - findfont: score(<Font 'Trebuchet MS' (trebucbd.ttf) normal normal 700 normal>) = 10.335\n",
      "2020-08-07 23:17:24,226 - matplotlib.font_manager - DEBUG - findfont: score(<Font 'Corbel' (corbeli.ttf) italic normal 400 normal>) = 11.05\n",
      "2020-08-07 23:17:24,226 - matplotlib.font_manager - DEBUG - findfont: score(<Font 'Arial' (arialbd.ttf) normal normal 700 normal>) = 10.335\n",
      "2020-08-07 23:17:24,227 - matplotlib.font_manager - DEBUG - findfont: score(<Font 'Bookman Old Style' (BOOKOSB.TTF) normal normal 600 normal>) = 10.24\n",
      "2020-08-07 23:17:24,227 - matplotlib.font_manager - DEBUG - findfont: score(<Font 'Century Schoolbook' (SCHLBKB.TTF) normal normal 700 normal>) = 10.335\n",
      "2020-08-07 23:17:24,228 - matplotlib.font_manager - DEBUG - findfont: score(<Font 'Modern No. 20' (MOD20.TTF) normal normal 400 normal>) = 10.05\n",
      "2020-08-07 23:17:24,229 - matplotlib.font_manager - DEBUG - findfont: score(<Font 'Gill Sans Nova' (GillSansUltraBoNova.ttf) normal normal 900 normal>) = 10.525\n",
      "2020-08-07 23:17:24,229 - matplotlib.font_manager - DEBUG - findfont: score(<Font 'HP Simplified' (HPSimplified_Rg.ttf) normal normal 400 normal>) = 10.05\n",
      "2020-08-07 23:17:24,230 - matplotlib.font_manager - DEBUG - findfont: score(<Font 'Century Schoolbook' (SCHLBKBI.TTF) italic normal 700 normal>) = 11.335\n",
      "2020-08-07 23:17:24,230 - matplotlib.font_manager - DEBUG - findfont: score(<Font 'Arial Rounded MT Bold' (ARLRDBD.TTF) normal normal 400 normal>) = 10.05\n",
      "2020-08-07 23:17:24,231 - matplotlib.font_manager - DEBUG - findfont: score(<Font 'Gadugi' (gadugib.ttf) normal normal 700 normal>) = 10.335\n",
      "2020-08-07 23:17:24,231 - matplotlib.font_manager - DEBUG - findfont: score(<Font 'Colonna MT' (COLONNA.TTF) normal normal 400 normal>) = 10.05\n",
      "2020-08-07 23:17:24,232 - matplotlib.font_manager - DEBUG - findfont: score(<Font 'Leelawadee UI' (LeelUIsl.ttf) normal normal 350 normal>) = 10.0975\n",
      "2020-08-07 23:17:24,232 - matplotlib.font_manager - DEBUG - findfont: score(<Font 'Gill Sans Nova' (GillSansItNova.ttf) italic normal 500 normal>) = 11.145\n",
      "2020-08-07 23:17:24,233 - matplotlib.font_manager - DEBUG - findfont: score(<Font 'Constantia' (constan.ttf) normal normal 400 normal>) = 10.05\n",
      "2020-08-07 23:17:24,234 - matplotlib.font_manager - DEBUG - findfont: score(<Font 'HP Simplified' (HPSimplified_Bd.ttf) normal normal 700 normal>) = 10.335\n",
      "2020-08-07 23:17:24,234 - matplotlib.font_manager - DEBUG - findfont: score(<Font 'Arial' (ariali.ttf) italic normal 400 normal>) = 11.05\n",
      "2020-08-07 23:17:24,235 - matplotlib.font_manager - DEBUG - findfont: score(<Font 'Haettenschweiler' (HATTEN.TTF) normal normal 400 normal>) = 10.05\n",
      "2020-08-07 23:17:24,235 - matplotlib.font_manager - DEBUG - findfont: score(<Font 'Arial Nova' (ArialNovaCond-Bold.ttf) normal normal 700 condensed>) = 10.535\n",
      "2020-08-07 23:17:24,236 - matplotlib.font_manager - DEBUG - findfont: score(<Font 'Gill Sans Nova' (GillSansCondBoItNova.ttf) italic normal 700 condensed>) = 11.535\n",
      "2020-08-07 23:17:24,236 - matplotlib.font_manager - DEBUG - findfont: score(<Font 'Poor Richard' (POORICH.TTF) normal normal 400 normal>) = 10.05\n",
      "2020-08-07 23:17:24,237 - matplotlib.font_manager - DEBUG - findfont: score(<Font 'Tw Cen MT' (TCB_____.TTF) normal normal 700 normal>) = 10.335\n",
      "2020-08-07 23:17:24,237 - matplotlib.font_manager - DEBUG - findfont: score(<Font 'Gill Sans Nova' (GillSansCondBoNova.ttf) normal normal 700 condensed>) = 10.535\n",
      "2020-08-07 23:17:24,238 - matplotlib.font_manager - DEBUG - findfont: score(<Font 'Eras Medium ITC' (ERASMD.TTF) normal normal 400 normal>) = 10.05\n",
      "2020-08-07 23:17:24,239 - matplotlib.font_manager - DEBUG - findfont: score(<Font 'Georgia Pro' (GeorgiaPro-CondBlackItalic.ttf) italic normal 900 condensed>) = 11.725\n",
      "2020-08-07 23:17:24,239 - matplotlib.font_manager - DEBUG - findfont: score(<Font 'Candara' (Candara.ttf) normal normal 400 normal>) = 10.05\n",
      "2020-08-07 23:17:24,240 - matplotlib.font_manager - DEBUG - findfont: score(<Font 'Arial' (arialbi.ttf) italic normal 700 normal>) = 11.335\n",
      "2020-08-07 23:17:24,241 - matplotlib.font_manager - DEBUG - findfont: score(<Font 'Neue Haas Grotesk Text Pro' (NHaasGroteskTXPro-66MdIt.ttf) italic normal 500 normal>) = 11.145\n",
      "2020-08-07 23:17:24,241 - matplotlib.font_manager - DEBUG - findfont: score(<Font 'Gill Sans MT' (GIL_____.TTF) normal normal 400 normal>) = 10.05\n",
      "2020-08-07 23:17:24,242 - matplotlib.font_manager - DEBUG - findfont: score(<Font 'Comic Sans MS' (comic.ttf) normal normal 400 normal>) = 10.05\n",
      "2020-08-07 23:17:24,243 - matplotlib.font_manager - DEBUG - findfont: score(<Font 'Gabriola' (Gabriola.ttf) normal normal 400 normal>) = 10.05\n",
      "2020-08-07 23:17:24,243 - matplotlib.font_manager - DEBUG - findfont: score(<Font 'Constantia' (constan.ttf) normal normal 400 normal>) = 10.05\n",
      "2020-08-07 23:17:24,244 - matplotlib.font_manager - DEBUG - findfont: score(<Font 'Bookman Old Style' (BOOKOS.TTF) normal normal 300 normal>) = 10.145\n",
      "2020-08-07 23:17:24,245 - matplotlib.font_manager - DEBUG - findfont: score(<Font 'Microsoft YaHei' (msyh.ttc) normal normal 400 normal>) = 10.05\n",
      "2020-08-07 23:17:24,245 - matplotlib.font_manager - DEBUG - findfont: score(<Font 'Gill Sans Nova' (GillSansCondExtraNova.ttf) normal normal 800 condensed>) = 10.629999999999999\n",
      "2020-08-07 23:17:24,246 - matplotlib.font_manager - DEBUG - findfont: score(<Font 'Sitka Small' (SitkaZ.ttc) italic normal 700 normal>) = 11.335\n",
      "2020-08-07 23:17:24,246 - matplotlib.font_manager - DEBUG - findfont: score(<Font 'Niagara Solid' (NIAGSOL.TTF) normal normal 400 normal>) = 10.05\n",
      "2020-08-07 23:17:24,247 - matplotlib.font_manager - DEBUG - findfont: score(<Font 'Bookman Old Style' (BOOKOSBI.TTF) italic normal 600 normal>) = 11.24\n",
      "2020-08-07 23:17:24,247 - matplotlib.font_manager - DEBUG - findfont: score(<Font 'Juice ITC' (JUICE___.TTF) normal normal 400 normal>) = 10.05\n",
      "2020-08-07 23:17:24,248 - matplotlib.font_manager - DEBUG - findfont: score(<Font 'Eras Demi ITC' (ERASDEMI.TTF) normal normal 400 normal>) = 10.05\n",
      "2020-08-07 23:17:24,248 - matplotlib.font_manager - DEBUG - findfont: score(<Font 'Leelawadee UI' (LeelaUIb.ttf) normal normal 700 normal>) = 10.335\n",
      "2020-08-07 23:17:24,249 - matplotlib.font_manager - DEBUG - findfont: score(<Font 'Chiller' (CHILLER.TTF) normal normal 400 normal>) = 10.05\n",
      "2020-08-07 23:17:24,249 - matplotlib.font_manager - DEBUG - findfont: score(<Font 'Franklin Gothic Demi' (FRADM.TTF) normal normal 400 normal>) = 10.05\n",
      "2020-08-07 23:17:24,250 - matplotlib.font_manager - DEBUG - findfont: score(<Font 'Microsoft YaHei' (msyhl.ttc) normal normal 290 normal>) = 10.1545\n",
      "2020-08-07 23:17:24,251 - matplotlib.font_manager - DEBUG - findfont: score(<Font 'Maiandra GD' (MAIAN.TTF) normal normal 400 normal>) = 10.05\n",
      "2020-08-07 23:17:24,251 - matplotlib.font_manager - DEBUG - findfont: score(<Font 'OCR A Extended' (OCRAEXT.TTF) normal normal 400 expanded>) = 10.25\n",
      "2020-08-07 23:17:24,252 - matplotlib.font_manager - DEBUG - findfont: score(<Font 'Sitka Small' (SitkaZ.ttc) italic normal 700 normal>) = 11.335\n"
     ]
    },
    {
     "name": "stderr",
     "output_type": "stream",
     "text": [
      "2020-08-07 23:17:24,253 - matplotlib.font_manager - DEBUG - findfont: score(<Font 'Gill Sans MT' (GILB____.TTF) normal normal 700 normal>) = 10.335\n",
      "2020-08-07 23:17:24,253 - matplotlib.font_manager - DEBUG - findfont: score(<Font 'Arial' (ariblk.ttf) normal normal 900 normal>) = 10.525\n",
      "2020-08-07 23:17:24,254 - matplotlib.font_manager - DEBUG - findfont: score(<Font 'Sitka Small' (Sitka.ttc) normal normal 400 normal>) = 10.05\n",
      "2020-08-07 23:17:24,254 - matplotlib.font_manager - DEBUG - findfont: score(<Font 'Georgia Pro' (GeorgiaPro-Regular.ttf) normal normal 400 normal>) = 10.05\n",
      "2020-08-07 23:17:24,255 - matplotlib.font_manager - DEBUG - findfont: score(<Font 'Eras Bold ITC' (ERASBD.TTF) normal normal 400 normal>) = 10.05\n",
      "2020-08-07 23:17:24,255 - matplotlib.font_manager - DEBUG - findfont: score(<Font 'Consolas' (consolab.ttf) normal normal 700 normal>) = 10.335\n",
      "2020-08-07 23:17:24,256 - matplotlib.font_manager - DEBUG - findfont: score(<Font 'Segoe UI Emoji' (seguiemj.ttf) normal normal 400 normal>) = 10.05\n",
      "2020-08-07 23:17:24,256 - matplotlib.font_manager - DEBUG - findfont: score(<Font 'Franklin Gothic Medium Cond' (FRAMDCN.TTF) normal normal 400 condensed>) = 10.25\n",
      "2020-08-07 23:17:24,257 - matplotlib.font_manager - DEBUG - findfont: score(<Font 'Georgia Pro' (GeorgiaPro-CondBlack.ttf) normal normal 900 condensed>) = 10.725\n",
      "2020-08-07 23:17:24,257 - matplotlib.font_manager - DEBUG - findfont: score(<Font 'Rockwell Condensed' (ROCCB___.TTF) normal normal 700 condensed>) = 10.535\n",
      "2020-08-07 23:17:24,258 - matplotlib.font_manager - DEBUG - findfont: score(<Font 'Copperplate Gothic Light' (COPRGTL.TTF) normal normal 400 normal>) = 10.05\n",
      "2020-08-07 23:17:24,258 - matplotlib.font_manager - DEBUG - findfont: score(<Font 'Verdana Pro' (VerdanaPro-CondSemiBoldItalic.ttf) italic normal 600 condensed>) = 11.44\n",
      "2020-08-07 23:17:24,259 - matplotlib.font_manager - DEBUG - findfont: score(<Font 'Sitka Small' (SitkaB.ttc) normal normal 700 normal>) = 10.335\n",
      "2020-08-07 23:17:24,259 - matplotlib.font_manager - DEBUG - findfont: score(<Font 'Cambria' (cambria.ttc) normal normal 400 normal>) = 10.05\n",
      "2020-08-07 23:17:24,260 - matplotlib.font_manager - DEBUG - findfont: score(<Font 'SimSun-ExtB' (simsunb.ttf) normal normal 400 normal>) = 10.05\n",
      "2020-08-07 23:17:24,261 - matplotlib.font_manager - DEBUG - findfont: score(<Font 'Segoe UI' (seguisli.ttf) italic normal 350 normal>) = 11.0975\n",
      "2020-08-07 23:17:24,261 - matplotlib.font_manager - DEBUG - findfont: score(<Font 'Goudy Old Style' (GOUDOS.TTF) normal normal 400 normal>) = 10.05\n",
      "2020-08-07 23:17:24,262 - matplotlib.font_manager - DEBUG - findfont: score(<Font 'Rockwell' (ROCKI.TTF) italic normal 400 normal>) = 11.05\n",
      "2020-08-07 23:17:24,262 - matplotlib.font_manager - DEBUG - findfont: score(<Font 'Bernard MT Condensed' (BERNHC.TTF) normal normal 400 condensed>) = 10.25\n",
      "2020-08-07 23:17:24,263 - matplotlib.font_manager - DEBUG - findfont: score(<Font 'Parchment' (PARCHM.TTF) normal normal 400 normal>) = 10.05\n",
      "2020-08-07 23:17:24,264 - matplotlib.font_manager - DEBUG - findfont: score(<Font 'Century Schoolbook' (CENSCBK.TTF) normal normal 400 normal>) = 10.05\n",
      "2020-08-07 23:17:24,264 - matplotlib.font_manager - DEBUG - findfont: score(<Font 'Segoe MDL2 Assets' (segmdl2.ttf) normal normal 400 normal>) = 10.05\n",
      "2020-08-07 23:17:24,265 - matplotlib.font_manager - DEBUG - findfont: score(<Font 'Gill Sans Nova' (GillSansCondLightNova.ttf) normal normal 300 condensed>) = 10.344999999999999\n",
      "2020-08-07 23:17:24,265 - matplotlib.font_manager - DEBUG - findfont: score(<Font 'Garamond' (GARAIT.TTF) italic normal 400 normal>) = 11.05\n",
      "2020-08-07 23:17:24,266 - matplotlib.font_manager - DEBUG - findfont: score(<Font 'Vivaldi' (VIVALDII.TTF) italic normal 400 normal>) = 11.05\n",
      "2020-08-07 23:17:24,266 - matplotlib.font_manager - DEBUG - findfont: score(<Font 'Verdana Pro' (VerdanaPro-Regular.ttf) normal normal 400 normal>) = 10.05\n",
      "2020-08-07 23:17:24,267 - matplotlib.font_manager - DEBUG - findfont: score(<Font 'Juice ITC' (JUICE___.TTF) normal normal 400 normal>) = 10.05\n",
      "2020-08-07 23:17:24,268 - matplotlib.font_manager - DEBUG - findfont: score(<Font 'Corbel' (corbelz.ttf) italic normal 700 normal>) = 11.335\n",
      "2020-08-07 23:17:24,268 - matplotlib.font_manager - DEBUG - findfont: score(<Font 'Niagara Solid' (NIAGSOL.TTF) normal normal 400 normal>) = 10.05\n",
      "2020-08-07 23:17:24,269 - matplotlib.font_manager - DEBUG - findfont: score(<Font 'HP Simplified' (HPSimplified_Lt.ttf) normal normal 300 normal>) = 10.145\n",
      "2020-08-07 23:17:24,269 - matplotlib.font_manager - DEBUG - findfont: score(<Font 'Neue Haas Grotesk Text Pro' (NHaasGroteskTXPro-65Md.ttf) normal normal 500 normal>) = 10.145\n",
      "2020-08-07 23:17:24,270 - matplotlib.font_manager - DEBUG - findfont: score(<Font 'Bodoni MT' (BOD_PSTC.TTF) normal normal 300 normal>) = 10.145\n",
      "2020-08-07 23:17:24,270 - matplotlib.font_manager - DEBUG - findfont: score(<Font 'Corbel' (corbell.ttf) normal normal 300 normal>) = 10.145\n",
      "2020-08-07 23:17:24,271 - matplotlib.font_manager - DEBUG - findfont: score(<Font 'Britannic Bold' (BRITANIC.TTF) normal normal 400 normal>) = 10.05\n",
      "2020-08-07 23:17:24,271 - matplotlib.font_manager - DEBUG - findfont: score(<Font 'Lucida Sans Typewriter' (LTYPE.TTF) normal normal 400 normal>) = 10.05\n",
      "2020-08-07 23:17:24,272 - matplotlib.font_manager - DEBUG - findfont: score(<Font 'Segoe UI Symbol' (seguisym.ttf) normal normal 400 normal>) = 10.05\n",
      "2020-08-07 23:17:24,272 - matplotlib.font_manager - DEBUG - findfont: score(<Font 'MS Outlook' (OUTLOOK.TTF) normal normal 400 normal>) = 10.05\n",
      "2020-08-07 23:17:24,273 - matplotlib.font_manager - DEBUG - findfont: score(<Font 'Segoe UI' (segoeuiz.ttf) italic normal 700 normal>) = 11.335\n",
      "2020-08-07 23:17:24,273 - matplotlib.font_manager - DEBUG - findfont: score(<Font 'Arial Nova' (ArialNovaCond-Italic.ttf) italic normal 400 condensed>) = 11.25\n",
      "2020-08-07 23:17:24,274 - matplotlib.font_manager - DEBUG - findfont: score(<Font 'Verdana Pro' (VerdanaPro-CondSemiBold.ttf) normal normal 600 condensed>) = 10.44\n",
      "2020-08-07 23:17:24,274 - matplotlib.font_manager - DEBUG - findfont: score(<Font 'Times New Roman' (times.ttf) normal normal 400 normal>) = 10.05\n",
      "2020-08-07 23:17:24,275 - matplotlib.font_manager - DEBUG - findfont: score(<Font 'Segoe UI' (seguibli.ttf) italic normal 900 normal>) = 11.525\n",
      "2020-08-07 23:17:24,275 - matplotlib.font_manager - DEBUG - findfont: score(<Font 'Forte' (FORTE.TTF) normal normal 400 normal>) = 10.05\n",
      "2020-08-07 23:17:24,276 - matplotlib.font_manager - DEBUG - findfont: score(<Font 'Book Antiqua' (ANTQUAI.TTF) italic normal 400 normal>) = 11.05\n",
      "2020-08-07 23:17:24,277 - matplotlib.font_manager - DEBUG - findfont: score(<Font 'Gloucester MT Extra Condensed' (GLECB.TTF) normal normal 400 condensed>) = 10.25\n",
      "2020-08-07 23:17:24,277 - matplotlib.font_manager - DEBUG - findfont: score(<Font 'Lucida Bright' (LBRITEDI.TTF) italic normal 600 normal>) = 11.24\n",
      "2020-08-07 23:17:24,278 - matplotlib.font_manager - DEBUG - findfont: score(<Font 'Gill Sans MT Ext Condensed Bold' (GLSNECB.TTF) normal normal 400 condensed>) = 10.25\n",
      "2020-08-07 23:17:24,279 - matplotlib.font_manager - DEBUG - findfont: score(<Font 'Palatino Linotype' (palabi.ttf) italic normal 700 normal>) = 11.335\n",
      "2020-08-07 23:17:24,279 - matplotlib.font_manager - DEBUG - findfont: score(<Font 'Gigi' (GIGI.TTF) normal normal 400 normal>) = 10.05\n",
      "2020-08-07 23:17:24,280 - matplotlib.font_manager - DEBUG - findfont: score(<Font 'Segoe UI' (segoeuil.ttf) normal normal 300 normal>) = 10.145\n",
      "2020-08-07 23:17:24,280 - matplotlib.font_manager - DEBUG - findfont: score(<Font 'Eras Demi ITC' (ERASDEMI.TTF) normal normal 400 normal>) = 10.05\n",
      "2020-08-07 23:17:24,281 - matplotlib.font_manager - DEBUG - findfont: score(<Font 'Malgun Gothic' (malgun.ttf) normal normal 400 normal>) = 10.05\n",
      "2020-08-07 23:17:24,282 - matplotlib.font_manager - DEBUG - findfont: score(<Font 'Corbel' (corbel.ttf) normal normal 400 normal>) = 10.05\n",
      "2020-08-07 23:17:24,283 - matplotlib.font_manager - DEBUG - findfont: score(<Font 'Verdana Pro' (VerdanaPro-SemiBold.ttf) normal normal 600 normal>) = 10.24\n",
      "2020-08-07 23:17:24,284 - matplotlib.font_manager - DEBUG - findfont: score(<Font 'Segoe UI Emoji' (seguiemj.ttf) normal normal 400 normal>) = 10.05\n"
     ]
    },
    {
     "name": "stderr",
     "output_type": "stream",
     "text": [
      "2020-08-07 23:17:24,285 - matplotlib.font_manager - DEBUG - findfont: score(<Font 'Bodoni MT' (BOD_CI.TTF) italic normal 400 condensed>) = 11.25\n",
      "2020-08-07 23:17:24,285 - matplotlib.font_manager - DEBUG - findfont: score(<Font 'Lucida Bright' (LBRITEI.TTF) italic normal 400 normal>) = 11.05\n",
      "2020-08-07 23:17:24,286 - matplotlib.font_manager - DEBUG - findfont: score(<Font 'Verdana Pro' (VerdanaPro-BlackItalic.ttf) italic normal 900 normal>) = 11.525\n",
      "2020-08-07 23:17:24,288 - matplotlib.font_manager - DEBUG - findfont: score(<Font 'Segoe UI' (segoeui.ttf) normal normal 400 normal>) = 10.05\n",
      "2020-08-07 23:17:24,288 - matplotlib.font_manager - DEBUG - findfont: score(<Font 'Georgia Pro' (GeorgiaPro-BoldItalic.ttf) italic normal 700 normal>) = 11.335\n",
      "2020-08-07 23:17:24,289 - matplotlib.font_manager - DEBUG - findfont: score(<Font 'Arial' (ariali.ttf) italic normal 400 normal>) = 11.05\n",
      "2020-08-07 23:17:24,290 - matplotlib.font_manager - DEBUG - findfont: score(<Font 'Trebuchet MS' (trebucit.ttf) italic normal 400 normal>) = 11.05\n",
      "2020-08-07 23:17:24,290 - matplotlib.font_manager - DEBUG - findfont: score(<Font 'Ink Free' (Inkfree.ttf) normal normal 400 normal>) = 10.05\n",
      "2020-08-07 23:17:24,291 - matplotlib.font_manager - DEBUG - findfont: score(<Font 'Nirmala UI' (NirmalaB.ttf) normal normal 700 normal>) = 10.335\n",
      "2020-08-07 23:17:24,292 - matplotlib.font_manager - DEBUG - findfont: score(<Font 'Bahnschrift' (bahnschrift.ttf) normal normal 400 normal>) = 10.05\n",
      "2020-08-07 23:17:24,292 - matplotlib.font_manager - DEBUG - findfont: score(<Font 'Verdana Pro' (VerdanaPro-BoldItalic.ttf) italic normal 700 normal>) = 11.335\n",
      "2020-08-07 23:17:24,293 - matplotlib.font_manager - DEBUG - findfont: score(<Font 'Lucida Sans' (LSANSI.TTF) italic normal 400 normal>) = 11.05\n",
      "2020-08-07 23:17:24,294 - matplotlib.font_manager - DEBUG - findfont: score(<Font 'Segoe Print' (segoepr.ttf) normal normal 400 normal>) = 10.05\n",
      "2020-08-07 23:17:24,294 - matplotlib.font_manager - DEBUG - findfont: score(<Font 'Lucida Fax' (LFAXDI.TTF) italic normal 600 normal>) = 11.24\n",
      "2020-08-07 23:17:24,295 - matplotlib.font_manager - DEBUG - findfont: score(<Font 'MV Boli' (mvboli.ttf) normal normal 400 normal>) = 10.05\n",
      "2020-08-07 23:17:24,296 - matplotlib.font_manager - DEBUG - findfont: score(<Font 'Berlin Sans FB Demi' (BRLNSDB.TTF) normal normal 700 normal>) = 10.335\n",
      "2020-08-07 23:17:24,296 - matplotlib.font_manager - DEBUG - findfont: score(<Font 'Calisto MT' (CALIST.TTF) normal normal 400 normal>) = 10.05\n",
      "2020-08-07 23:17:24,297 - matplotlib.font_manager - DEBUG - findfont: score(<Font 'Arial Nova' (ArialNova.ttf) normal normal 400 normal>) = 10.05\n",
      "2020-08-07 23:17:24,298 - matplotlib.font_manager - DEBUG - findfont: score(<Font 'Script MT Bold' (SCRIPTBL.TTF) normal normal 700 normal>) = 10.335\n",
      "2020-08-07 23:17:24,298 - matplotlib.font_manager - DEBUG - findfont: score(<Font 'Lucida Handwriting' (LHANDW.TTF) italic normal 400 normal>) = 11.05\n",
      "2020-08-07 23:17:24,299 - matplotlib.font_manager - DEBUG - findfont: score(<Font 'Webdings' (webdings.ttf) normal normal 400 normal>) = 10.05\n",
      "2020-08-07 23:17:24,300 - matplotlib.font_manager - DEBUG - findfont: score(<Font 'Wingdings' (wingding.ttf) normal normal 400 normal>) = 10.05\n",
      "2020-08-07 23:17:24,301 - matplotlib.font_manager - DEBUG - findfont: score(<Font 'Microsoft PhagsPa' (phagspa.ttf) normal normal 400 normal>) = 10.05\n",
      "2020-08-07 23:17:24,301 - matplotlib.font_manager - DEBUG - findfont: score(<Font 'Rockwell Nova' (RockwellNova-LightItalic.ttf) italic normal 300 normal>) = 11.145\n",
      "2020-08-07 23:17:24,302 - matplotlib.font_manager - DEBUG - findfont: score(<Font 'Georgia' (georgiaz.ttf) italic normal 700 normal>) = 11.335\n",
      "2020-08-07 23:17:24,302 - matplotlib.font_manager - DEBUG - findfont: score(<Font 'Georgia Pro' (GeorgiaPro-CondSemiBoldItalic.ttf) italic normal 600 condensed>) = 11.44\n",
      "2020-08-07 23:17:24,303 - matplotlib.font_manager - DEBUG - findfont: score(<Font 'Bodoni MT' (BOD_CBI.TTF) italic normal 700 condensed>) = 11.535\n",
      "2020-08-07 23:17:24,304 - matplotlib.font_manager - DEBUG - findfont: score(<Font 'Leelawadee UI' (LeelawUI.ttf) normal normal 400 normal>) = 10.05\n",
      "2020-08-07 23:17:24,304 - matplotlib.font_manager - DEBUG - findfont: score(<Font 'Verdana Pro' (VerdanaPro-CondBoldItalic.ttf) italic normal 700 condensed>) = 11.535\n",
      "2020-08-07 23:17:24,305 - matplotlib.font_manager - DEBUG - findfont: score(<Font 'Rockwell Nova' (RockwellNova-BoldItalic.ttf) italic normal 700 normal>) = 11.335\n",
      "2020-08-07 23:17:24,305 - matplotlib.font_manager - DEBUG - findfont: score(<Font 'Arial' (ARIALNBI.TTF) italic normal 700 condensed>) = 11.535\n",
      "2020-08-07 23:17:24,306 - matplotlib.font_manager - DEBUG - findfont: score(<Font 'Maiandra GD' (MAIAN.TTF) normal normal 400 normal>) = 10.05\n",
      "2020-08-07 23:17:24,306 - matplotlib.font_manager - DEBUG - findfont: score(<Font 'Vladimir Script' (VLADIMIR.TTF) normal normal 400 normal>) = 10.05\n",
      "2020-08-07 23:17:24,307 - matplotlib.font_manager - DEBUG - findfont: score(<Font 'Franklin Gothic Heavy' (FRAHV.TTF) normal normal 400 normal>) = 10.05\n",
      "2020-08-07 23:17:24,308 - matplotlib.font_manager - DEBUG - findfont: score(<Font 'Britannic Bold' (BRITANIC.TTF) normal normal 400 normal>) = 10.05\n",
      "2020-08-07 23:17:24,308 - matplotlib.font_manager - DEBUG - findfont: score(<Font 'Bodoni MT' (BOD_BLAI.TTF) italic normal 900 normal>) = 11.525\n",
      "2020-08-07 23:17:24,309 - matplotlib.font_manager - DEBUG - findfont: score(<Font 'Calibri' (calibrib.ttf) normal normal 700 normal>) = 10.335\n",
      "2020-08-07 23:17:24,310 - matplotlib.font_manager - DEBUG - findfont: score(<Font 'Pristina' (PRISTINA.TTF) normal normal 400 normal>) = 10.05\n",
      "2020-08-07 23:17:24,310 - matplotlib.font_manager - DEBUG - findfont: score(<Font 'HP Simplified' (HPSimplified_Bd.ttf) normal normal 700 normal>) = 10.335\n",
      "2020-08-07 23:17:24,311 - matplotlib.font_manager - DEBUG - findfont: score(<Font 'Lucida Sans Typewriter' (LTYPEO.TTF) oblique normal 400 normal>) = 11.05\n",
      "2020-08-07 23:17:24,311 - matplotlib.font_manager - DEBUG - findfont: score(<Font 'Palace Script MT' (PALSCRI.TTF) normal normal 400 normal>) = 10.05\n",
      "2020-08-07 23:17:24,312 - matplotlib.font_manager - DEBUG - findfont: score(<Font 'Sitka Small' (SitkaB.ttc) normal normal 700 normal>) = 10.335\n",
      "2020-08-07 23:17:24,312 - matplotlib.font_manager - DEBUG - findfont: score(<Font 'Arial Nova' (ArialNova-Bold.ttf) normal normal 700 normal>) = 10.335\n",
      "2020-08-07 23:17:24,313 - matplotlib.font_manager - DEBUG - findfont: score(<Font 'Curlz MT' (CURLZ___.TTF) normal normal 400 normal>) = 10.05\n",
      "2020-08-07 23:17:24,313 - matplotlib.font_manager - DEBUG - findfont: score(<Font 'Courier New' (cour.ttf) normal normal 400 normal>) = 10.05\n",
      "2020-08-07 23:17:24,314 - matplotlib.font_manager - DEBUG - findfont: score(<Font 'Goudy Old Style' (GOUDOSI.TTF) italic normal 400 normal>) = 11.05\n",
      "2020-08-07 23:17:24,314 - matplotlib.font_manager - DEBUG - findfont: score(<Font 'Candara' (Candaraz.ttf) italic normal 700 normal>) = 11.335\n",
      "2020-08-07 23:17:24,315 - matplotlib.font_manager - DEBUG - findfont: score(<Font 'Lucida Bright' (LBRITED.TTF) normal normal 600 normal>) = 10.24\n",
      "2020-08-07 23:17:24,315 - matplotlib.font_manager - DEBUG - findfont: score(<Font 'Georgia Pro' (GeorgiaPro-CondItalic.ttf) italic normal 400 condensed>) = 11.25\n",
      "2020-08-07 23:17:24,316 - matplotlib.font_manager - DEBUG - findfont: score(<Font 'Arial' (ARIALNBI.TTF) italic normal 700 condensed>) = 11.535\n",
      "2020-08-07 23:17:24,317 - matplotlib.font_manager - DEBUG - findfont: score(<Font 'Arial Nova' (ArialNova.ttf) normal normal 400 normal>) = 10.05\n",
      "2020-08-07 23:17:24,318 - matplotlib.font_manager - DEBUG - findfont: score(<Font 'Verdana' (verdanaz.ttf) italic normal 700 normal>) = 11.335\n",
      "2020-08-07 23:17:24,318 - matplotlib.font_manager - DEBUG - findfont: score(<Font 'Copperplate Gothic Bold' (COPRGTB.TTF) normal normal 400 normal>) = 10.05\n",
      "2020-08-07 23:17:24,319 - matplotlib.font_manager - DEBUG - findfont: score(<Font 'Yu Gothic' (YuGothR.ttc) normal normal 400 normal>) = 10.05\n",
      "2020-08-07 23:17:24,319 - matplotlib.font_manager - DEBUG - findfont: score(<Font 'Microsoft New Tai Lue' (ntailu.ttf) normal normal 400 normal>) = 10.05\n"
     ]
    },
    {
     "name": "stderr",
     "output_type": "stream",
     "text": [
      "2020-08-07 23:17:24,320 - matplotlib.font_manager - DEBUG - findfont: score(<Font 'HoloLens MDL2 Assets' (holomdl2.ttf) normal normal 400 normal>) = 10.05\n",
      "2020-08-07 23:17:24,320 - matplotlib.font_manager - DEBUG - findfont: score(<Font 'Verdana Pro' (VerdanaPro-Bold.ttf) normal normal 700 normal>) = 10.335\n",
      "2020-08-07 23:17:24,321 - matplotlib.font_manager - DEBUG - findfont: score(<Font 'Georgia Pro' (GeorgiaPro-SemiBold.ttf) normal normal 600 normal>) = 10.24\n",
      "2020-08-07 23:17:24,321 - matplotlib.font_manager - DEBUG - findfont: score(<Font 'Palatino Linotype' (pala.ttf) normal normal 400 normal>) = 10.05\n",
      "2020-08-07 23:17:24,322 - matplotlib.font_manager - DEBUG - findfont: score(<Font 'Georgia Pro' (GeorgiaPro-BoldItalic.ttf) italic normal 700 normal>) = 11.335\n",
      "2020-08-07 23:17:24,322 - matplotlib.font_manager - DEBUG - findfont: score(<Font 'Franklin Gothic Book' (FRABKIT.TTF) italic normal 400 normal>) = 11.05\n",
      "2020-08-07 23:17:24,323 - matplotlib.font_manager - DEBUG - findfont: score(<Font 'Bookshelf Symbol 7' (BSSYM7.TTF) normal normal 400 normal>) = 10.05\n",
      "2020-08-07 23:17:24,323 - matplotlib.font_manager - DEBUG - findfont: score(<Font 'Palatino Linotype' (palabi.ttf) italic normal 700 normal>) = 11.335\n",
      "2020-08-07 23:17:24,324 - matplotlib.font_manager - DEBUG - findfont: score(<Font 'Bookman Old Style' (BOOKOSBI.TTF) italic normal 600 normal>) = 11.24\n",
      "2020-08-07 23:17:24,324 - matplotlib.font_manager - DEBUG - findfont: score(<Font 'Gill Sans Nova' (GillSansUltraBoNova.ttf) normal normal 900 normal>) = 10.525\n",
      "2020-08-07 23:17:24,325 - matplotlib.font_manager - DEBUG - findfont: score(<Font 'Gill Sans MT' (GILBI___.TTF) italic normal 700 normal>) = 11.335\n",
      "2020-08-07 23:17:24,325 - matplotlib.font_manager - DEBUG - findfont: score(<Font 'Perpetua' (PERI____.TTF) italic normal 400 normal>) = 11.05\n",
      "2020-08-07 23:17:24,326 - matplotlib.font_manager - DEBUG - findfont: score(<Font 'Chiller' (CHILLER.TTF) normal normal 400 normal>) = 10.05\n",
      "2020-08-07 23:17:24,326 - matplotlib.font_manager - DEBUG - findfont: score(<Font 'Palace Script MT' (PALSCRI.TTF) normal normal 400 normal>) = 10.05\n",
      "2020-08-07 23:17:24,327 - matplotlib.font_manager - DEBUG - findfont: score(<Font 'Leelawadee' (LEELAWDB.TTF) normal normal 700 normal>) = 10.335\n",
      "2020-08-07 23:17:24,328 - matplotlib.font_manager - DEBUG - findfont: score(<Font 'Broadway' (BROADW.TTF) normal normal 400 normal>) = 10.05\n",
      "2020-08-07 23:17:24,329 - matplotlib.font_manager - DEBUG - findfont: score(<Font 'Goudy Old Style' (GOUDOSB.TTF) normal normal 700 normal>) = 10.335\n",
      "2020-08-07 23:17:24,330 - matplotlib.font_manager - DEBUG - findfont: score(<Font 'Ebrima' (ebrimabd.ttf) normal normal 700 normal>) = 10.335\n",
      "2020-08-07 23:17:24,331 - matplotlib.font_manager - DEBUG - findfont: score(<Font 'Segoe Script' (segoescb.ttf) normal normal 700 normal>) = 10.335\n",
      "2020-08-07 23:17:24,332 - matplotlib.font_manager - DEBUG - findfont: score(<Font 'Gill Sans Nova' (GillSansCondExtraItNova.ttf) italic normal 800 condensed>) = 11.629999999999999\n",
      "2020-08-07 23:17:24,332 - matplotlib.font_manager - DEBUG - findfont: score(<Font 'Perpetua' (PERB____.TTF) normal normal 700 normal>) = 10.335\n",
      "2020-08-07 23:17:24,333 - matplotlib.font_manager - DEBUG - findfont: score(<Font 'Microsoft Himalaya' (himalaya.ttf) normal normal 400 normal>) = 10.05\n",
      "2020-08-07 23:17:24,333 - matplotlib.font_manager - DEBUG - findfont: score(<Font 'Lucida Sans' (LSANSD.TTF) normal normal 600 normal>) = 10.24\n",
      "2020-08-07 23:17:24,334 - matplotlib.font_manager - DEBUG - findfont: score(<Font 'Agency FB' (AGENCYR.TTF) normal normal 400 normal>) = 10.05\n",
      "2020-08-07 23:17:24,335 - matplotlib.font_manager - DEBUG - findfont: score(<Font 'Yu Gothic' (YuGothR.ttc) normal normal 400 normal>) = 10.05\n",
      "2020-08-07 23:17:24,335 - matplotlib.font_manager - DEBUG - findfont: score(<Font 'Eras Light ITC' (ERASLGHT.TTF) normal normal 400 normal>) = 10.05\n",
      "2020-08-07 23:17:24,336 - matplotlib.font_manager - DEBUG - findfont: score(<Font 'Candara' (Candarab.ttf) normal normal 700 normal>) = 10.335\n",
      "2020-08-07 23:17:24,336 - matplotlib.font_manager - DEBUG - findfont: score(<Font 'Rockwell' (ROCKB.TTF) normal normal 700 normal>) = 10.335\n",
      "2020-08-07 23:17:24,337 - matplotlib.font_manager - DEBUG - findfont: score(<Font 'Baskerville Old Face' (BASKVILL.TTF) normal normal 400 normal>) = 10.05\n",
      "2020-08-07 23:17:24,337 - matplotlib.font_manager - DEBUG - findfont: score(<Font 'Century Gothic' (GOTHICBI.TTF) italic normal 700 normal>) = 11.335\n",
      "2020-08-07 23:17:24,338 - matplotlib.font_manager - DEBUG - findfont: score(<Font 'Neue Haas Grotesk Text Pro' (NHaasGroteskTXPro-76BdIt.ttf) italic normal 700 normal>) = 11.335\n",
      "2020-08-07 23:17:24,338 - matplotlib.font_manager - DEBUG - findfont: score(<Font 'Lucida Console' (lucon.ttf) normal normal 400 normal>) = 10.05\n",
      "2020-08-07 23:17:24,339 - matplotlib.font_manager - DEBUG - findfont: score(<Font 'Bodoni MT' (BOD_BLAR.TTF) normal normal 900 normal>) = 10.525\n",
      "2020-08-07 23:17:24,340 - matplotlib.font_manager - DEBUG - findfont: score(<Font 'Malgun Gothic' (malgunsl.ttf) normal normal 300 normal>) = 10.145\n",
      "2020-08-07 23:17:24,340 - matplotlib.font_manager - DEBUG - findfont: score(<Font 'Lucida Sans Typewriter' (LTYPEB.TTF) normal normal 600 normal>) = 10.24\n",
      "2020-08-07 23:17:24,341 - matplotlib.font_manager - DEBUG - findfont: score(<Font 'Arial' (arialbd.ttf) normal normal 700 normal>) = 10.335\n",
      "2020-08-07 23:17:24,341 - matplotlib.font_manager - DEBUG - findfont: score(<Font 'Constantia' (constanz.ttf) italic normal 700 normal>) = 11.335\n",
      "2020-08-07 23:17:24,342 - matplotlib.font_manager - DEBUG - findfont: score(<Font 'Tempus Sans ITC' (TEMPSITC.TTF) normal normal 400 normal>) = 10.05\n",
      "2020-08-07 23:17:24,343 - matplotlib.font_manager - DEBUG - findfont: score(<Font 'Marlett' (marlett.ttf) normal normal 500 normal>) = 10.145\n",
      "2020-08-07 23:17:24,344 - matplotlib.font_manager - DEBUG - findfont: score(<Font 'Arial Nova' (ArialNova-Bold.ttf) normal normal 700 normal>) = 10.335\n",
      "2020-08-07 23:17:24,344 - matplotlib.font_manager - DEBUG - findfont: score(<Font 'Bodoni MT' (BOD_CB.TTF) normal normal 700 condensed>) = 10.535\n",
      "2020-08-07 23:17:24,345 - matplotlib.font_manager - DEBUG - findfont: score(<Font 'Gigi' (GIGI.TTF) normal normal 400 normal>) = 10.05\n",
      "2020-08-07 23:17:24,346 - matplotlib.font_manager - DEBUG - findfont: score(<Font 'MS Gothic' (msgothic.ttc) normal normal 400 normal>) = 10.05\n",
      "2020-08-07 23:17:24,346 - matplotlib.font_manager - DEBUG - findfont: score(<Font 'Georgia Pro' (GeorgiaPro-BlackItalic.ttf) italic normal 900 normal>) = 11.525\n",
      "2020-08-07 23:17:24,347 - matplotlib.font_manager - DEBUG - findfont: score(<Font 'Onyx' (ONYX.TTF) normal normal 400 normal>) = 10.05\n",
      "2020-08-07 23:17:24,347 - matplotlib.font_manager - DEBUG - findfont: score(<Font 'Edwardian Script ITC' (ITCEDSCR.TTF) normal normal 400 normal>) = 10.05\n",
      "2020-08-07 23:17:24,348 - matplotlib.font_manager - DEBUG - findfont: score(<Font 'Franklin Gothic Heavy' (FRAHV.TTF) normal normal 400 normal>) = 10.05\n",
      "2020-08-07 23:17:24,348 - matplotlib.font_manager - DEBUG - findfont: score(<Font 'MingLiU-ExtB' (mingliub.ttc) normal normal 400 normal>) = 10.05\n",
      "2020-08-07 23:17:24,348 - matplotlib.font_manager - DEBUG - findfont: score(<Font 'Georgia Pro' (GeorgiaPro-Black.ttf) normal normal 900 normal>) = 10.525\n",
      "2020-08-07 23:17:24,349 - matplotlib.font_manager - DEBUG - findfont: score(<Font 'Cambria' (cambriaz.ttf) italic normal 700 normal>) = 11.335\n",
      "2020-08-07 23:17:24,350 - matplotlib.font_manager - DEBUG - findfont: score(<Font 'Yu Gothic' (YuGothB.ttc) normal normal 700 normal>) = 10.335\n",
      "2020-08-07 23:17:24,350 - matplotlib.font_manager - DEBUG - findfont: score(<Font 'Myanmar Text' (mmrtext.ttf) normal normal 400 normal>) = 10.05\n",
      "2020-08-07 23:17:24,351 - matplotlib.font_manager - DEBUG - findfont: score(<Font 'Verdana Pro' (VerdanaPro-CondRegular.ttf) normal normal 400 condensed>) = 10.25\n",
      "2020-08-07 23:17:24,351 - matplotlib.font_manager - DEBUG - findfont: score(<Font 'Edwardian Script ITC' (ITCEDSCR.TTF) normal normal 400 normal>) = 10.05\n",
      "2020-08-07 23:17:24,352 - matplotlib.font_manager - DEBUG - findfont: score(<Font 'Gill Sans Nova' (GillSansLightItNova.ttf) italic normal 300 normal>) = 11.145\n"
     ]
    },
    {
     "name": "stderr",
     "output_type": "stream",
     "text": [
      "2020-08-07 23:17:24,352 - matplotlib.font_manager - DEBUG - findfont: score(<Font 'Berlin Sans FB' (BRLNSB.TTF) normal normal 700 normal>) = 10.335\n",
      "2020-08-07 23:17:24,353 - matplotlib.font_manager - DEBUG - findfont: score(<Font 'Segoe Script' (segoesc.ttf) normal normal 400 normal>) = 10.05\n",
      "2020-08-07 23:17:24,353 - matplotlib.font_manager - DEBUG - findfont: score(<Font 'Freestyle Script' (FREESCPT.TTF) normal normal 400 normal>) = 10.05\n",
      "2020-08-07 23:17:24,354 - matplotlib.font_manager - DEBUG - findfont: score(<Font 'Tahoma' (tahoma.ttf) normal normal 400 normal>) = 10.05\n",
      "2020-08-07 23:17:24,354 - matplotlib.font_manager - DEBUG - findfont: score(<Font 'Candara' (Candara.ttf) normal normal 400 normal>) = 10.05\n",
      "2020-08-07 23:17:24,355 - matplotlib.font_manager - DEBUG - findfont: score(<Font 'Century Schoolbook' (SCHLBKI.TTF) italic normal 400 normal>) = 11.05\n",
      "2020-08-07 23:17:24,355 - matplotlib.font_manager - DEBUG - findfont: score(<Font 'Symbol' (symbol.ttf) normal normal 400 normal>) = 10.05\n",
      "2020-08-07 23:17:24,356 - matplotlib.font_manager - DEBUG - findfont: score(<Font 'Pristina' (PRISTINA.TTF) normal normal 400 normal>) = 10.05\n",
      "2020-08-07 23:17:24,356 - matplotlib.font_manager - DEBUG - findfont: score(<Font 'Impact' (impact.ttf) normal normal 400 normal>) = 10.05\n",
      "2020-08-07 23:17:24,357 - matplotlib.font_manager - DEBUG - findfont: score(<Font 'Georgia' (georgia.ttf) normal normal 400 normal>) = 10.05\n",
      "2020-08-07 23:17:24,357 - matplotlib.font_manager - DEBUG - findfont: score(<Font 'Rockwell Nova' (RockwellNova-LightItalic.ttf) italic normal 300 normal>) = 11.145\n",
      "2020-08-07 23:17:24,358 - matplotlib.font_manager - DEBUG - findfont: score(<Font 'Comic Sans MS' (comicz.ttf) italic normal 700 normal>) = 11.335\n",
      "2020-08-07 23:17:24,358 - matplotlib.font_manager - DEBUG - findfont: score(<Font 'Magneto' (MAGNETOB.TTF) normal normal 700 normal>) = 10.335\n",
      "2020-08-07 23:17:24,359 - matplotlib.font_manager - DEBUG - findfont: score(<Font 'Segoe Print' (segoeprb.ttf) normal normal 700 normal>) = 10.335\n",
      "2020-08-07 23:17:24,359 - matplotlib.font_manager - DEBUG - findfont: score(<Font 'Georgia Pro' (GeorgiaPro-Regular.ttf) normal normal 400 normal>) = 10.05\n",
      "2020-08-07 23:17:24,360 - matplotlib.font_manager - DEBUG - findfont: score(<Font 'Bell MT' (BELLI.TTF) italic normal 400 normal>) = 11.05\n",
      "2020-08-07 23:17:24,361 - matplotlib.font_manager - DEBUG - findfont: score(<Font 'Gill Sans Ultra Bold Condensed' (GILLUBCD.TTF) normal normal 400 condensed>) = 10.25\n",
      "2020-08-07 23:17:24,361 - matplotlib.font_manager - DEBUG - findfont: score(<Font 'Comic Sans MS' (comicbd.ttf) normal normal 700 normal>) = 10.335\n",
      "2020-08-07 23:17:24,363 - matplotlib.font_manager - DEBUG - findfont: score(<Font 'Neue Haas Grotesk Text Pro' (NHaasGroteskTXPro-56It.ttf) italic normal 400 normal>) = 11.05\n",
      "2020-08-07 23:17:24,363 - matplotlib.font_manager - DEBUG - findfont: score(<Font 'Symbol' (symbol.ttf) normal normal 400 normal>) = 10.05\n",
      "2020-08-07 23:17:24,364 - matplotlib.font_manager - DEBUG - findfont: score(<Font 'Century Gothic' (GOTHICI.TTF) italic normal 400 normal>) = 11.05\n",
      "2020-08-07 23:17:24,364 - matplotlib.font_manager - DEBUG - findfont: score(<Font 'Verdana Pro' (VerdanaPro-CondBlack.ttf) normal normal 900 condensed>) = 10.725\n",
      "2020-08-07 23:17:24,365 - matplotlib.font_manager - DEBUG - findfont: score(<Font 'Lucida Calligraphy' (LCALLIG.TTF) italic normal 400 normal>) = 11.05\n",
      "2020-08-07 23:17:24,365 - matplotlib.font_manager - DEBUG - findfont: score(<Font 'Monotype Corsiva' (MTCORSVA.TTF) normal normal 400 normal>) = 10.05\n",
      "2020-08-07 23:17:24,366 - matplotlib.font_manager - DEBUG - findfont: score(<Font 'Verdana Pro' (VerdanaPro-CondBold.ttf) normal normal 700 condensed>) = 10.535\n",
      "2020-08-07 23:17:24,366 - matplotlib.font_manager - DEBUG - findfont: score(<Font 'Forte' (FORTE.TTF) normal normal 400 normal>) = 10.05\n",
      "2020-08-07 23:17:24,367 - matplotlib.font_manager - DEBUG - findfont: score(<Font 'Rockwell' (ROCK.TTF) normal normal 400 normal>) = 10.05\n",
      "2020-08-07 23:17:24,368 - matplotlib.font_manager - DEBUG - findfont: score(<Font 'Microsoft YaHei' (msyh.ttc) normal normal 400 normal>) = 10.05\n",
      "2020-08-07 23:17:24,368 - matplotlib.font_manager - DEBUG - findfont: score(<Font 'Palatino Linotype' (pala.ttf) normal normal 400 normal>) = 10.05\n",
      "2020-08-07 23:17:24,369 - matplotlib.font_manager - DEBUG - findfont: score(<Font 'Gadugi' (gadugi.ttf) normal normal 400 normal>) = 10.05\n",
      "2020-08-07 23:17:24,369 - matplotlib.font_manager - DEBUG - findfont: score(<Font 'Microsoft New Tai Lue' (ntailu.ttf) normal normal 400 normal>) = 10.05\n",
      "2020-08-07 23:17:24,370 - matplotlib.font_manager - DEBUG - findfont: score(<Font 'Book Antiqua' (ANTQUAB.TTF) normal normal 700 normal>) = 10.335\n",
      "2020-08-07 23:17:24,371 - matplotlib.font_manager - DEBUG - findfont: score(<Font 'Gill Sans Nova' (GillSansItNova.ttf) italic normal 500 normal>) = 11.145\n",
      "2020-08-07 23:17:24,371 - matplotlib.font_manager - DEBUG - findfont: score(<Font 'Lucida Console' (lucon.ttf) normal normal 400 normal>) = 10.05\n",
      "2020-08-07 23:17:24,372 - matplotlib.font_manager - DEBUG - findfont: score(<Font 'Courier New' (cour.ttf) normal normal 400 normal>) = 10.05\n",
      "2020-08-07 23:17:24,372 - matplotlib.font_manager - DEBUG - findfont: score(<Font 'Comic Sans MS' (comicbd.ttf) normal normal 700 normal>) = 10.335\n",
      "2020-08-07 23:17:24,373 - matplotlib.font_manager - DEBUG - findfont: score(<Font 'Constantia' (constanb.ttf) normal normal 700 normal>) = 10.335\n",
      "2020-08-07 23:17:24,373 - matplotlib.font_manager - DEBUG - findfont: score(<Font 'Bookshelf Symbol 7' (BSSYM7.TTF) normal normal 400 normal>) = 10.05\n",
      "2020-08-07 23:17:24,374 - matplotlib.font_manager - DEBUG - findfont: score(<Font 'Felix Titling' (FELIXTI.TTF) normal normal 400 normal>) = 10.05\n",
      "2020-08-07 23:17:24,374 - matplotlib.font_manager - DEBUG - findfont: score(<Font 'Franklin Gothic Book' (FRABK.TTF) normal normal 400 normal>) = 10.05\n",
      "2020-08-07 23:17:24,375 - matplotlib.font_manager - DEBUG - findfont: score(<Font 'Bookman Old Style' (BOOKOSI.TTF) italic normal 300 normal>) = 11.145\n",
      "2020-08-07 23:17:24,375 - matplotlib.font_manager - DEBUG - findfont: score(<Font 'Arial Nova' (ArialNova-Italic.ttf) italic normal 400 normal>) = 11.05\n",
      "2020-08-07 23:17:24,375 - matplotlib.font_manager - DEBUG - findfont: score(<Font 'Eras Light ITC' (ERASLGHT.TTF) normal normal 400 normal>) = 10.05\n",
      "2020-08-07 23:17:24,376 - matplotlib.font_manager - DEBUG - findfont: score(<Font 'Segoe UI' (seguisb.ttf) normal normal 600 normal>) = 10.24\n",
      "2020-08-07 23:17:24,377 - matplotlib.font_manager - DEBUG - findfont: score(<Font 'Curlz MT' (CURLZ___.TTF) normal normal 400 normal>) = 10.05\n",
      "2020-08-07 23:17:24,377 - matplotlib.font_manager - DEBUG - findfont: score(<Font 'Calisto MT' (CALISTBI.TTF) italic normal 700 normal>) = 11.335\n",
      "2020-08-07 23:17:24,378 - matplotlib.font_manager - DEBUG - findfont: score(<Font 'Franklin Gothic Demi' (FRADM.TTF) normal normal 400 normal>) = 10.05\n",
      "2020-08-07 23:17:24,378 - matplotlib.font_manager - DEBUG - findfont: score(<Font 'Berlin Sans FB' (BRLNSB.TTF) normal normal 700 normal>) = 10.335\n",
      "2020-08-07 23:17:24,379 - matplotlib.font_manager - DEBUG - findfont: score(<Font 'Verdana Pro' (VerdanaPro-CondSemiBold.ttf) normal normal 600 condensed>) = 10.44\n",
      "2020-08-07 23:17:24,379 - matplotlib.font_manager - DEBUG - findfont: score(<Font 'Microsoft YaHei' (msyhbd.ttc) normal normal 700 normal>) = 10.335\n",
      "2020-08-07 23:17:24,380 - matplotlib.font_manager - DEBUG - findfont: score(<Font 'Segoe UI Symbol' (seguisym.ttf) normal normal 400 normal>) = 10.05\n",
      "2020-08-07 23:17:24,380 - matplotlib.font_manager - DEBUG - findfont: score(<Font 'Leelawadee UI' (LeelUIsl.ttf) normal normal 350 normal>) = 10.0975\n",
      "2020-08-07 23:17:24,381 - matplotlib.font_manager - DEBUG - findfont: score(<Font 'Calibri' (calibrii.ttf) italic normal 400 normal>) = 11.05\n",
      "2020-08-07 23:17:24,381 - matplotlib.font_manager - DEBUG - findfont: score(<Font 'Georgia Pro' (GeorgiaPro-CondRegular.ttf) normal normal 400 condensed>) = 10.25\n",
      "2020-08-07 23:17:24,382 - matplotlib.font_manager - DEBUG - findfont: score(<Font 'Gill Sans Nova' (GillSansCondBoItNova.ttf) italic normal 700 condensed>) = 11.535\n"
     ]
    },
    {
     "name": "stderr",
     "output_type": "stream",
     "text": [
      "2020-08-07 23:17:24,383 - matplotlib.font_manager - DEBUG - findfont: score(<Font 'Century Schoolbook' (CENSCBK.TTF) normal normal 400 normal>) = 10.05\n",
      "2020-08-07 23:17:24,383 - matplotlib.font_manager - DEBUG - findfont: score(<Font 'Microsoft JhengHei' (msjhl.ttc) normal normal 290 normal>) = 10.1545\n",
      "2020-08-07 23:17:24,384 - matplotlib.font_manager - DEBUG - findfont: score(<Font 'Verdana Pro' (VerdanaPro-CondItalic.ttf) italic normal 400 condensed>) = 11.25\n",
      "2020-08-07 23:17:24,384 - matplotlib.font_manager - DEBUG - findfont: score(<Font 'Cambria' (cambriai.ttf) italic normal 400 normal>) = 11.05\n",
      "2020-08-07 23:17:24,385 - matplotlib.font_manager - DEBUG - findfont: score(<Font 'Verdana Pro' (VerdanaPro-LightItalic.ttf) italic normal 300 normal>) = 11.145\n",
      "2020-08-07 23:17:24,386 - matplotlib.font_manager - DEBUG - findfont: score(<Font 'Georgia Pro' (GeorgiaPro-Light.ttf) normal normal 300 normal>) = 10.145\n",
      "2020-08-07 23:17:24,386 - matplotlib.font_manager - DEBUG - findfont: Matching DejaVu Sans:style=normal:variant=normal:weight=normal:stretch=normal:size=10.0 to DejaVu Sans ('C:\\\\Projects\\\\.virtualenvs\\\\desdeo_emo\\\\lib\\\\site-packages\\\\matplotlib\\\\mpl-data\\\\fonts\\\\ttf\\\\DejaVuSans.ttf') with score of 0.050000.\n",
      "2020-08-07 23:17:24,445 - matplotlib.backends.backend_pdf - DEBUG - Assigning font /b'F1' = 'C:\\\\Projects\\\\.virtualenvs\\\\desdeo_emo\\\\lib\\\\site-packages\\\\matplotlib\\\\mpl-data\\\\fonts\\\\ttf\\\\DejaVuSans.ttf'\n",
      "2020-08-07 23:17:24,515 - matplotlib.backends.backend_pdf - DEBUG - Embedding font C:\\Projects\\.virtualenvs\\desdeo_emo\\lib\\site-packages\\matplotlib\\mpl-data\\fonts\\ttf\\DejaVuSans.ttf.\n",
      "2020-08-07 23:17:24,516 - matplotlib.backends.backend_pdf - DEBUG - Writing TrueType font.\n"
     ]
    }
   ],
   "source": [
    "scaled_data = np.asarray([scalar(evolver.population.fitness, response) for scalar in evolver.scalarization_methods]).T\n",
    "non_dom_ids = nds(scaled_data)[0][0]\n",
    "\n",
    "font_size=12\n",
    "\n",
    "plt.rc('font', family='serif', serif='Times')\n",
    "plt.rc('text', usetex=False)\n",
    "plt.rc('xtick', labelsize=font_size)\n",
    "plt.rc('ytick', labelsize=font_size)\n",
    "plt.rc('axes', labelsize=font_size)\n",
    "\n",
    "width = 2.4 *2\n",
    "height = width / 2\n",
    "\n",
    "width = 4.8\n",
    "height = 4.6\n",
    "\n",
    "fig, ax = plt.subplots()\n",
    "fig.subplots_adjust(left=.15, bottom=.16, right=.99, top=.97)\n",
    "\n",
    "\n",
    "ax.scatter(x=response[:,0], y=response[:,1], c='r', label='Reference Point')\n",
    "ax.scatter(\n",
    "    x=evolver.population.objectives[non_dom_ids, 0],\n",
    "    y=evolver.population.objectives[non_dom_ids, 1],\n",
    "    label='IOPIS/RVEA'\n",
    ")\n",
    "\n",
    "pareto = ax.plot(zdt1_pareto[:,0], zdt1_pareto[:,1],'-.', label=\"True front\")\n",
    "ax.plot(\n",
    "    [response[:,0],response[:,0]*10, -response[0,0]*10],\n",
    "    [response[:,1],response[:,1]*10, -response[0,1]*10],\n",
    "    color='g',\n",
    "    label='STOM')\n",
    "ax.plot(\n",
    "    [response[:,0],1, response[0,0] - 1*(1-response[0,0])],\n",
    "    [response[:,1],1, response[0,1] - 1*(1-response[0,1])],\n",
    "    color='r',\n",
    "    label='AUG')\n",
    "\n",
    "plt.xlim([0,1])\n",
    "plt.ylim([0,1])\n",
    "plt.xlabel(\"y1\")\n",
    "plt.ylabel(\"y2\")\n",
    "#plt.title(\"ZDT1 problem with NIMBUS inspired EA\")\n",
    "ax.legend()\n",
    "\n",
    "fig.set_size_inches(width, height)\n",
    "\n",
    "plt.tight_layout()\n",
    "\n",
    "fig.savefig('2D_1.pdf')"
   ]
  },
  {
   "cell_type": "code",
   "execution_count": 30,
   "metadata": {},
   "outputs": [
    {
     "data": {
      "text/plain": [
       "[array([0.9]), array([9.]), array([0.1]), array([1.])]"
      ]
     },
     "execution_count": 30,
     "metadata": {},
     "output_type": "execute_result"
    }
   ],
   "source": [
    "[response[:,0],response[:,0]*10, response[:,1],response[:,1]*10]"
   ]
  },
  {
   "cell_type": "code",
   "execution_count": 73,
   "metadata": {},
   "outputs": [],
   "source": [
    "scaled_data = np.asarray([scalar(evolver.population.fitness, pref.response.values) for scalar in evolver.scalarization_methods]).T"
   ]
  },
  {
   "cell_type": "code",
   "execution_count": 11,
   "metadata": {},
   "outputs": [],
   "source": [
    "zdt1_pareto = np.asarray([[0.0000000333,0.9998173820],\n",
    "[0.0036524605,0.9395644103],\n",
    "[0.0109353082,0.8954279758],\n",
    "[0.0201661797,0.8579923253],\n",
    "[0.0307984775,0.8245050499],\n",
    "[0.0425521730,0.7937182195],\n",
    "[0.0552536936,0.7649389578],\n",
    "[0.0687834600,0.7377339899],\n",
    "[0.0830533346,0.7118102455],\n",
    "[0.0979952414,0.6869580836],\n",
    "[0.1135547782,0.6630211013],\n",
    "[0.1296872770,0.6398788023],\n",
    "[0.1463553419,0.6174358329],\n",
    "[0.1635270897,0.5956151713],\n",
    "[0.1811749649,0.5743534743],\n",
    "[0.1992748910,0.5535978371],\n",
    "[0.2178056136,0.5333035102],\n",
    "[0.2367481746,0.5134322508],\n",
    "[0.2560856025,0.4939509881],\n",
    "[0.2758025276,0.4748309533],\n",
    "[0.2958850236,0.4560468554],\n",
    "[0.3163203619,0.4375763502],\n",
    "[0.3370968359,0.4193995902],\n",
    "[0.3582036897,0.4014987972],\n",
    "[0.3796309819,0.3838579856],\n",
    "[0.4013694644,0.3664627364],\n",
    "[0.4234104957,0.3492999957],\n",
    "[0.4457460837,0.3323578176],\n",
    "[0.4683687091,0.3156253153],\n",
    "[0.4912712857,0.2990925270],\n",
    "[0.5144471844,0.2827502636],\n",
    "[0.5378901526,0.2665900514],\n",
    "[0.5615942516,0.2506040755],\n",
    "[0.5855539020,0.2347850615],\n",
    "[0.6097637681,0.2191262791],\n",
    "[0.6342188315,0.2036214270],\n",
    "[0.6589142602,0.1882646612],\n",
    "[0.6838455122,0.1730504779],\n",
    "[0.7090082355,0.1579737323],\n",
    "[0.7343982546,0.1430296070],\n",
    "[0.7600116005,0.1282135580],\n",
    "[0.7858444564,0.1135213164],\n",
    "[0.8118931476,0.0989488651],\n",
    "[0.8381541846,0.0844923897],\n",
    "[0.8646242088,0.0701482867],\n",
    "[0.8912999852,0.0559131474],\n",
    "[0.9181784008,0.0417837401],\n",
    "[0.9452564510,0.0277570000],\n",
    "[0.9725312450,0.0138300121],\n",
    "[1.0000000000,0.0000000000],])"
   ]
  },
  {
   "cell_type": "code",
   "execution_count": 13,
   "metadata": {},
   "outputs": [],
   "source": [
    "# 3 Objectives"
   ]
  },
  {
   "cell_type": "code",
   "execution_count": 15,
   "metadata": {},
   "outputs": [],
   "source": [
    "import plotly.graph_objects as go"
   ]
  },
  {
   "cell_type": "code",
   "execution_count": 16,
   "metadata": {},
   "outputs": [],
   "source": [
    "problem = test_problem_builder(name=\"DTLZ1\", n_of_objectives=3, n_of_variables=5)"
   ]
  },
  {
   "cell_type": "code",
   "execution_count": 17,
   "metadata": {},
   "outputs": [],
   "source": [
    "problem.ideal = np.asarray([0, 0, 0])\n",
    "problem.nadir = np.asarray([0.5, 0.5, 0.5])"
   ]
  },
  {
   "cell_type": "code",
   "execution_count": 18,
   "metadata": {},
   "outputs": [],
   "source": [
    "evolver = NIMBUS_NSGAIII(problem, n_gen_per_iter=200)"
   ]
  },
  {
   "cell_type": "code",
   "execution_count": 19,
   "metadata": {},
   "outputs": [],
   "source": [
    "plot, pref = evolver.requests()"
   ]
  },
  {
   "cell_type": "code",
   "execution_count": 20,
   "metadata": {},
   "outputs": [
    {
     "data": {
      "text/plain": [
       "{'dimensions_data':            f1   f2   f3\n",
       " minimize    1    1    1\n",
       " ideal       0    0    0\n",
       " nadir     0.5  0.5  0.5,\n",
       " 'message': 'Provide a reference point worse than to the ideal point and better than the nadir point.\\nIdeal point: \\nf1    0\\nf2    0\\nf3    0\\nName: ideal, dtype: object\\nNadir point: \\nf1    0.5\\nf2    0.5\\nf3    0.5\\nName: nadir, dtype: object\\nThe reference point will be used to create scalarization functions in the preferred region.\\n',\n",
       " 'validator': <function desdeo_tools.interaction.validators.validate_ref_point_with_ideal_and_nadir(dimensions_data: pandas.core.frame.DataFrame, reference_point: pandas.core.frame.DataFrame)>}"
      ]
     },
     "execution_count": 20,
     "metadata": {},
     "output_type": "execute_result"
    }
   ],
   "source": [
    "pref.content"
   ]
  },
  {
   "cell_type": "code",
   "execution_count": 105,
   "metadata": {},
   "outputs": [],
   "source": [
    "response = np.asarray([[0.4,0.2, 0.4]])\n",
    "pref.response = pd.DataFrame(response, columns=pref.content['dimensions_data'].columns)"
   ]
  },
  {
   "cell_type": "code",
   "execution_count": 106,
   "metadata": {},
   "outputs": [],
   "source": [
    "plot, pref = evolver.iterate(pref)"
   ]
  },
  {
   "cell_type": "code",
   "execution_count": 107,
   "metadata": {},
   "outputs": [
    {
     "data": {
      "application/vnd.plotly.v1+json": {
       "config": {
        "plotlyServerURL": "https://plot.ly"
       },
       "data": [
        {
         "marker": {
          "opacity": 0.8,
          "size": 4
         },
         "mode": "markers",
         "name": "NIMBUS-RVEA",
         "type": "scatter3d",
         "x": [
          0.2461794508654893,
          0.24232515522638928,
          0.21213213988320706,
          0.20165698665213946,
          0.23216729613191556,
          0.21372310222067237,
          0.22700875804828238,
          0.24526596189925667,
          0.2405550194750273,
          0.2500097829863311,
          0.22316153468697797,
          0.2180539009381154,
          0.21325233859327677,
          0.20885251922523984,
          0.22736838650162453,
          0.23471866786176393,
          0.24222880923208842,
          0.21561072006788115,
          0.2076461745673772,
          0.24169585585718614,
          0.20786600146430015,
          0.20471698896217724,
          0.23854709456107975,
          0.2495548986337156,
          0.21781696571158435,
          0.24906299395004888,
          0.2221979141557956,
          0.20751751051069542,
          0.2139299594664552,
          0.24965609119250082,
          0.24625048051902204,
          0.21555062327316504,
          0.23261891758885078,
          0.2428938793848863,
          0.20188484705631232,
          0.2320388875653251,
          0.24172896517683018,
          0.23216939163249745,
          0.24958299186317728,
          0.24685221331653007,
          0.23414022499684356,
          0.20147766041118437,
          0.21212358127015338,
          0.22308356072657418,
          0.20327288229647578,
          0.20781636424281008,
          0.21789724428938564,
          0.23092428980063462,
          0.2421641787461102,
          0.22776985890764107,
          0.2224032122744052,
          0.23176826083007435,
          0.21316385108615762,
          0.22779153399132682,
          0.2231839837916943,
          0.23573435300140663,
          0.2279290780521115,
          0.21262289726931824,
          0.21620129764161017,
          0.24865767427861737,
          0.22197111087857527,
          0.2053058130826327,
          0.21953291271267344,
          0.21233309029622582,
          0.20731055567904397,
          0.20794944582717204,
          0.2457388331367869,
          0.24141623155583466,
          0.21370720720362338,
          0.2018103851735645,
          0.21361306199104596,
          0.21964235531288157,
          0.2192920285915461,
          0.2059173405271755,
          0.2032134439016271,
          0.23477118658626248,
          0.20496895349181463,
          0.21611362147639648,
          0.21726816414210712,
          0.23777947785327977,
          0.20155654133232795,
          0.23155575651253274,
          0.25179410204193975,
          0.23877579284888698,
          0.23974519690926727,
          0.22822215786295352,
          0.23270499473709721,
          0.238213769803065,
          0.21216993512868873,
          0.2345437038463455,
          0.20808300125864643,
          0.23231715382677945,
          0.23124579801646739,
          0.21308216603387303,
          0.2491558633007381,
          0.2277788924010932,
          0.22189009053443037,
          0.2122003434872423,
          0.21517492756828888,
          0.20577269396746167,
          0.21292431224293157,
          0.20090446737531728,
          0.20466470294473943,
          0.20259906102707312,
          0.20809060327603487
         ],
         "y": [
          0.007638968978949867,
          0.01556580755099884,
          0.0757438608817266,
          0.09723206466418506,
          0.03574193640079154,
          0.07306092274534166,
          0.04595292427834752,
          0.009495349946979755,
          0.020039270527405836,
          0,
          0.05350353452957305,
          0.06098282923448704,
          0.07356506313913201,
          0.08241040737298075,
          0.04470161563524928,
          0.031229540313726097,
          0.015572279991348165,
          0.06866743818657807,
          0.08457597025940589,
          0.016726124442622302,
          0.08436641215468578,
          0.09067399121669427,
          0.023234370384918296,
          0.00045924262633187477,
          0.0644479579748765,
          0.0014437025158793694,
          0.05548869175115226,
          0.08507875753581128,
          0.07216038569469757,
          0.0009913468745124524,
          0.007559482157383185,
          0.06866467633600787,
          0.03341425269809146,
          0.014025628329767456,
          0.09585005310887174,
          0.03585918717623994,
          0.01664178248022655,
          0,
          0.001001361029081597,
          0.007012044370485104,
          0.03168662329774132,
          0.09627790313635733,
          0.07590009073146511,
          0.053627342184605305,
          0.09364341375684974,
          0.08440443434036488,
          0.06430152347438343,
          0.03818149775498473,
          0.015788576869592594,
          0.04409914943662847,
          0.05449183881133816,
          0.03613313697555138,
          0.0735340020596308,
          0.04521659483053799,
          0.054240967771211145,
          0.03001832119864796,
          0.04507373721964484,
          0.07512413839154536,
          0.067301118355494,
          0.005371443025624581,
          0.055747451580835064,
          0.08982533901145404,
          0.06126024832672534,
          0.07547760211054542,
          0.08535102068272275,
          0.0842967702787612,
          0.008229112873972986,
          0.01947939380990634,
          0.07256439683258974,
          0.09593376034103998,
          0.0731387467978431,
          0.0611830239570667,
          0.06146729121275227,
          0.08683074527210101,
          0.09377292110646113,
          0.031126761598466036,
          0.0904298557040624,
          0.06832946973493352,
          0.067297630474527,
          0.027027563877091647,
          0.09823497589961463,
          0.0355052511589503,
          0,
          0.02245594595984629,
          0.020917529634407416,
          0.04377939798223038,
          0.03350416474351994,
          0.023583567362835116,
          0.07559827123641778,
          0.0314423095648728,
          0.08414404293967026,
          0.03573519265660841,
          0.03548306591093283,
          0.0737857426400607,
          0.005241661964255091,
          0.04420226584547519,
          0.05586888242515828,
          0.07572276896976213,
          0.06939042942173018,
          0.08954210505330129,
          0.07470273340258801,
          0.0988312226233094,
          0.09063041127926479,
          0.0951704159532923,
          0.08413421239338452
         ],
         "z": [
          0.24619635046531388,
          0.2421257587677826,
          0.21212630907658442,
          0.20111328901316125,
          0.23209317247024527,
          0.21321837803438465,
          0.22705265379130732,
          0.24524109511772504,
          0.23942131259975488,
          0.24999199855638227,
          0.2233377739629852,
          0.220965790824009,
          0.21318500675109273,
          0.20873948647167886,
          0.22794605158705417,
          0.2340650339708672,
          0.24220185664349161,
          0.2157367470542614,
          0.2077930022685061,
          0.24158098337907163,
          0.2077831999631746,
          0.20462381435139604,
          0.2382352518183747,
          0.25000173253285485,
          0.2177375350354319,
          0.24949503274373608,
          0.22232854384739206,
          0.2074058442788302,
          0.21392558851917792,
          0.2493546630397864,
          0.24620474219882335,
          0.21579984911110528,
          0.23396821187024647,
          0.2430829563680397,
          0.2022807802140332,
          0.23210466129898466,
          0.24163221417692135,
          0.26783122107547586,
          0.24943101349097366,
          0.24613862584426527,
          0.23417583727646954,
          0.2022467273959599,
          0.21197815996640323,
          0.22329196525716782,
          0.20309899552210262,
          0.20779352331584733,
          0.21781632321216646,
          0.23090939454893197,
          0.24206145663922568,
          0.22814705548481962,
          0.22310722960371615,
          0.23210155565938018,
          0.21331799803482412,
          0.22699422749554307,
          0.22259021185896824,
          0.23424782339058078,
          0.2269989364797431,
          0.2122554280308315,
          0.21649896517407327,
          0.2459861198723674,
          0.22229658312404374,
          0.2048713010350131,
          0.21920938575502102,
          0.21219160688158845,
          0.20734054631258067,
          0.20775632406356376,
          0.24603434784723255,
          0.23912007349591408,
          0.21373016159511693,
          0.20227157255308736,
          0.21325076500790885,
          0.21917699676324415,
          0.21924313615558155,
          0.20725412317454955,
          0.20302892787629284,
          0.23410460673721217,
          0.20461585013371764,
          0.21555991614547804,
          0.21544944661264454,
          0.23520569581082815,
          0.20021096777741126,
          0.23294173089802145,
          0.24820766089416846,
          0.23877134122438418,
          0.23935329159105506,
          0.22801408185772645,
          0.23379210844587997,
          0.23821717927295086,
          0.212234125142103,
          0.23402718485099813,
          0.207788021132444,
          0.2319493796030859,
          0.23328718185339273,
          0.21313427738100335,
          0.24561807312660738,
          0.22803529369679482,
          0.22225620235512733,
          0.21207920020345875,
          0.21544963559257857,
          0.2046876591704432,
          0.2123752486347795,
          0.20026676887727624,
          0.2047196349826962,
          0.20224624659025786,
          0.20779058121545882
         ]
        },
        {
         "marker": {
          "opacity": 0.8,
          "size": 2
         },
         "name": "True Front",
         "type": "scatter3d",
         "x": [
          0.5,
          0,
          0,
          0.5
         ],
         "y": [
          0,
          0.5,
          0,
          0
         ],
         "z": [
          0,
          0,
          0.5,
          0
         ]
        },
        {
         "marker": {
          "opacity": 0.8,
          "size": 4
         },
         "name": "Nadir Point",
         "type": "scatter3d",
         "x": [
          0.5
         ],
         "y": [
          0.5
         ],
         "z": [
          0.5
         ]
        },
        {
         "marker": {
          "opacity": 0.8,
          "size": 4
         },
         "name": "Reference Point",
         "type": "scatter3d",
         "x": [
          0.4
         ],
         "y": [
          0.2
         ],
         "z": [
          0.4
         ]
        },
        {
         "line": {
          "width": 10
         },
         "marker": {
          "opacity": 0.8,
          "size": 2
         },
         "name": "STOM",
         "type": "scatter3d",
         "x": [
          0,
          0.4,
          40
         ],
         "y": [
          0,
          0.2,
          20
         ],
         "z": [
          0,
          0.4,
          40
         ]
        },
        {
         "line": {
          "width": 10
         },
         "marker": {
          "opacity": 0.8,
          "size": 2
         },
         "name": "ASF",
         "type": "scatter3d",
         "x": [
          -0.6,
          1.4
         ],
         "y": [
          -0.8,
          1.2
         ],
         "z": [
          -0.6,
          1.4
         ]
        },
        {
         "line": {
          "width": 10
         },
         "marker": {
          "opacity": 0.8,
          "size": 2
         },
         "name": "AUG",
         "type": "scatter3d",
         "x": [
          -0.5,
          0.4,
          0.5
         ],
         "y": [
          -2.5,
          0.2,
          0.5
         ],
         "z": [
          -0.5,
          0.4,
          0.5
         ]
        },
        {
         "marker": {
          "opacity": 0.8,
          "size": 4
         },
         "name": "Ideal Point",
         "type": "scatter3d",
         "x": [
          0
         ],
         "y": [
          0
         ],
         "z": [
          0
         ]
        }
       ],
       "layout": {
        "margin": {
         "b": 0,
         "l": 0,
         "r": 0,
         "t": 0
        },
        "scene": {
         "aspectratio": {
          "x": 1,
          "y": 1,
          "z": 1
         },
         "xaxis": {
          "range": [
           0,
           0.6
          ]
         },
         "yaxis": {
          "range": [
           0,
           0.6
          ]
         },
         "zaxis": {
          "range": [
           0,
           0.6
          ]
         }
        },
        "template": {
         "data": {
          "bar": [
           {
            "error_x": {
             "color": "#2a3f5f"
            },
            "error_y": {
             "color": "#2a3f5f"
            },
            "marker": {
             "line": {
              "color": "#E5ECF6",
              "width": 0.5
             }
            },
            "type": "bar"
           }
          ],
          "barpolar": [
           {
            "marker": {
             "line": {
              "color": "#E5ECF6",
              "width": 0.5
             }
            },
            "type": "barpolar"
           }
          ],
          "carpet": [
           {
            "aaxis": {
             "endlinecolor": "#2a3f5f",
             "gridcolor": "white",
             "linecolor": "white",
             "minorgridcolor": "white",
             "startlinecolor": "#2a3f5f"
            },
            "baxis": {
             "endlinecolor": "#2a3f5f",
             "gridcolor": "white",
             "linecolor": "white",
             "minorgridcolor": "white",
             "startlinecolor": "#2a3f5f"
            },
            "type": "carpet"
           }
          ],
          "choropleth": [
           {
            "colorbar": {
             "outlinewidth": 0,
             "ticks": ""
            },
            "type": "choropleth"
           }
          ],
          "contour": [
           {
            "colorbar": {
             "outlinewidth": 0,
             "ticks": ""
            },
            "colorscale": [
             [
              0,
              "#0d0887"
             ],
             [
              0.1111111111111111,
              "#46039f"
             ],
             [
              0.2222222222222222,
              "#7201a8"
             ],
             [
              0.3333333333333333,
              "#9c179e"
             ],
             [
              0.4444444444444444,
              "#bd3786"
             ],
             [
              0.5555555555555556,
              "#d8576b"
             ],
             [
              0.6666666666666666,
              "#ed7953"
             ],
             [
              0.7777777777777778,
              "#fb9f3a"
             ],
             [
              0.8888888888888888,
              "#fdca26"
             ],
             [
              1,
              "#f0f921"
             ]
            ],
            "type": "contour"
           }
          ],
          "contourcarpet": [
           {
            "colorbar": {
             "outlinewidth": 0,
             "ticks": ""
            },
            "type": "contourcarpet"
           }
          ],
          "heatmap": [
           {
            "colorbar": {
             "outlinewidth": 0,
             "ticks": ""
            },
            "colorscale": [
             [
              0,
              "#0d0887"
             ],
             [
              0.1111111111111111,
              "#46039f"
             ],
             [
              0.2222222222222222,
              "#7201a8"
             ],
             [
              0.3333333333333333,
              "#9c179e"
             ],
             [
              0.4444444444444444,
              "#bd3786"
             ],
             [
              0.5555555555555556,
              "#d8576b"
             ],
             [
              0.6666666666666666,
              "#ed7953"
             ],
             [
              0.7777777777777778,
              "#fb9f3a"
             ],
             [
              0.8888888888888888,
              "#fdca26"
             ],
             [
              1,
              "#f0f921"
             ]
            ],
            "type": "heatmap"
           }
          ],
          "heatmapgl": [
           {
            "colorbar": {
             "outlinewidth": 0,
             "ticks": ""
            },
            "colorscale": [
             [
              0,
              "#0d0887"
             ],
             [
              0.1111111111111111,
              "#46039f"
             ],
             [
              0.2222222222222222,
              "#7201a8"
             ],
             [
              0.3333333333333333,
              "#9c179e"
             ],
             [
              0.4444444444444444,
              "#bd3786"
             ],
             [
              0.5555555555555556,
              "#d8576b"
             ],
             [
              0.6666666666666666,
              "#ed7953"
             ],
             [
              0.7777777777777778,
              "#fb9f3a"
             ],
             [
              0.8888888888888888,
              "#fdca26"
             ],
             [
              1,
              "#f0f921"
             ]
            ],
            "type": "heatmapgl"
           }
          ],
          "histogram": [
           {
            "marker": {
             "colorbar": {
              "outlinewidth": 0,
              "ticks": ""
             }
            },
            "type": "histogram"
           }
          ],
          "histogram2d": [
           {
            "colorbar": {
             "outlinewidth": 0,
             "ticks": ""
            },
            "colorscale": [
             [
              0,
              "#0d0887"
             ],
             [
              0.1111111111111111,
              "#46039f"
             ],
             [
              0.2222222222222222,
              "#7201a8"
             ],
             [
              0.3333333333333333,
              "#9c179e"
             ],
             [
              0.4444444444444444,
              "#bd3786"
             ],
             [
              0.5555555555555556,
              "#d8576b"
             ],
             [
              0.6666666666666666,
              "#ed7953"
             ],
             [
              0.7777777777777778,
              "#fb9f3a"
             ],
             [
              0.8888888888888888,
              "#fdca26"
             ],
             [
              1,
              "#f0f921"
             ]
            ],
            "type": "histogram2d"
           }
          ],
          "histogram2dcontour": [
           {
            "colorbar": {
             "outlinewidth": 0,
             "ticks": ""
            },
            "colorscale": [
             [
              0,
              "#0d0887"
             ],
             [
              0.1111111111111111,
              "#46039f"
             ],
             [
              0.2222222222222222,
              "#7201a8"
             ],
             [
              0.3333333333333333,
              "#9c179e"
             ],
             [
              0.4444444444444444,
              "#bd3786"
             ],
             [
              0.5555555555555556,
              "#d8576b"
             ],
             [
              0.6666666666666666,
              "#ed7953"
             ],
             [
              0.7777777777777778,
              "#fb9f3a"
             ],
             [
              0.8888888888888888,
              "#fdca26"
             ],
             [
              1,
              "#f0f921"
             ]
            ],
            "type": "histogram2dcontour"
           }
          ],
          "mesh3d": [
           {
            "colorbar": {
             "outlinewidth": 0,
             "ticks": ""
            },
            "type": "mesh3d"
           }
          ],
          "parcoords": [
           {
            "line": {
             "colorbar": {
              "outlinewidth": 0,
              "ticks": ""
             }
            },
            "type": "parcoords"
           }
          ],
          "pie": [
           {
            "automargin": true,
            "type": "pie"
           }
          ],
          "scatter": [
           {
            "marker": {
             "colorbar": {
              "outlinewidth": 0,
              "ticks": ""
             }
            },
            "type": "scatter"
           }
          ],
          "scatter3d": [
           {
            "line": {
             "colorbar": {
              "outlinewidth": 0,
              "ticks": ""
             }
            },
            "marker": {
             "colorbar": {
              "outlinewidth": 0,
              "ticks": ""
             }
            },
            "type": "scatter3d"
           }
          ],
          "scattercarpet": [
           {
            "marker": {
             "colorbar": {
              "outlinewidth": 0,
              "ticks": ""
             }
            },
            "type": "scattercarpet"
           }
          ],
          "scattergeo": [
           {
            "marker": {
             "colorbar": {
              "outlinewidth": 0,
              "ticks": ""
             }
            },
            "type": "scattergeo"
           }
          ],
          "scattergl": [
           {
            "marker": {
             "colorbar": {
              "outlinewidth": 0,
              "ticks": ""
             }
            },
            "type": "scattergl"
           }
          ],
          "scattermapbox": [
           {
            "marker": {
             "colorbar": {
              "outlinewidth": 0,
              "ticks": ""
             }
            },
            "type": "scattermapbox"
           }
          ],
          "scatterpolar": [
           {
            "marker": {
             "colorbar": {
              "outlinewidth": 0,
              "ticks": ""
             }
            },
            "type": "scatterpolar"
           }
          ],
          "scatterpolargl": [
           {
            "marker": {
             "colorbar": {
              "outlinewidth": 0,
              "ticks": ""
             }
            },
            "type": "scatterpolargl"
           }
          ],
          "scatterternary": [
           {
            "marker": {
             "colorbar": {
              "outlinewidth": 0,
              "ticks": ""
             }
            },
            "type": "scatterternary"
           }
          ],
          "surface": [
           {
            "colorbar": {
             "outlinewidth": 0,
             "ticks": ""
            },
            "colorscale": [
             [
              0,
              "#0d0887"
             ],
             [
              0.1111111111111111,
              "#46039f"
             ],
             [
              0.2222222222222222,
              "#7201a8"
             ],
             [
              0.3333333333333333,
              "#9c179e"
             ],
             [
              0.4444444444444444,
              "#bd3786"
             ],
             [
              0.5555555555555556,
              "#d8576b"
             ],
             [
              0.6666666666666666,
              "#ed7953"
             ],
             [
              0.7777777777777778,
              "#fb9f3a"
             ],
             [
              0.8888888888888888,
              "#fdca26"
             ],
             [
              1,
              "#f0f921"
             ]
            ],
            "type": "surface"
           }
          ],
          "table": [
           {
            "cells": {
             "fill": {
              "color": "#EBF0F8"
             },
             "line": {
              "color": "white"
             }
            },
            "header": {
             "fill": {
              "color": "#C8D4E3"
             },
             "line": {
              "color": "white"
             }
            },
            "type": "table"
           }
          ]
         },
         "layout": {
          "annotationdefaults": {
           "arrowcolor": "#2a3f5f",
           "arrowhead": 0,
           "arrowwidth": 1
          },
          "coloraxis": {
           "colorbar": {
            "outlinewidth": 0,
            "ticks": ""
           }
          },
          "colorscale": {
           "diverging": [
            [
             0,
             "#8e0152"
            ],
            [
             0.1,
             "#c51b7d"
            ],
            [
             0.2,
             "#de77ae"
            ],
            [
             0.3,
             "#f1b6da"
            ],
            [
             0.4,
             "#fde0ef"
            ],
            [
             0.5,
             "#f7f7f7"
            ],
            [
             0.6,
             "#e6f5d0"
            ],
            [
             0.7,
             "#b8e186"
            ],
            [
             0.8,
             "#7fbc41"
            ],
            [
             0.9,
             "#4d9221"
            ],
            [
             1,
             "#276419"
            ]
           ],
           "sequential": [
            [
             0,
             "#0d0887"
            ],
            [
             0.1111111111111111,
             "#46039f"
            ],
            [
             0.2222222222222222,
             "#7201a8"
            ],
            [
             0.3333333333333333,
             "#9c179e"
            ],
            [
             0.4444444444444444,
             "#bd3786"
            ],
            [
             0.5555555555555556,
             "#d8576b"
            ],
            [
             0.6666666666666666,
             "#ed7953"
            ],
            [
             0.7777777777777778,
             "#fb9f3a"
            ],
            [
             0.8888888888888888,
             "#fdca26"
            ],
            [
             1,
             "#f0f921"
            ]
           ],
           "sequentialminus": [
            [
             0,
             "#0d0887"
            ],
            [
             0.1111111111111111,
             "#46039f"
            ],
            [
             0.2222222222222222,
             "#7201a8"
            ],
            [
             0.3333333333333333,
             "#9c179e"
            ],
            [
             0.4444444444444444,
             "#bd3786"
            ],
            [
             0.5555555555555556,
             "#d8576b"
            ],
            [
             0.6666666666666666,
             "#ed7953"
            ],
            [
             0.7777777777777778,
             "#fb9f3a"
            ],
            [
             0.8888888888888888,
             "#fdca26"
            ],
            [
             1,
             "#f0f921"
            ]
           ]
          },
          "colorway": [
           "#636efa",
           "#EF553B",
           "#00cc96",
           "#ab63fa",
           "#FFA15A",
           "#19d3f3",
           "#FF6692",
           "#B6E880",
           "#FF97FF",
           "#FECB52"
          ],
          "font": {
           "color": "#2a3f5f"
          },
          "geo": {
           "bgcolor": "white",
           "lakecolor": "white",
           "landcolor": "#E5ECF6",
           "showlakes": true,
           "showland": true,
           "subunitcolor": "white"
          },
          "hoverlabel": {
           "align": "left"
          },
          "hovermode": "closest",
          "mapbox": {
           "style": "light"
          },
          "paper_bgcolor": "white",
          "plot_bgcolor": "#E5ECF6",
          "polar": {
           "angularaxis": {
            "gridcolor": "white",
            "linecolor": "white",
            "ticks": ""
           },
           "bgcolor": "#E5ECF6",
           "radialaxis": {
            "gridcolor": "white",
            "linecolor": "white",
            "ticks": ""
           }
          },
          "scene": {
           "xaxis": {
            "backgroundcolor": "#E5ECF6",
            "gridcolor": "white",
            "gridwidth": 2,
            "linecolor": "white",
            "showbackground": true,
            "ticks": "",
            "zerolinecolor": "white"
           },
           "yaxis": {
            "backgroundcolor": "#E5ECF6",
            "gridcolor": "white",
            "gridwidth": 2,
            "linecolor": "white",
            "showbackground": true,
            "ticks": "",
            "zerolinecolor": "white"
           },
           "zaxis": {
            "backgroundcolor": "#E5ECF6",
            "gridcolor": "white",
            "gridwidth": 2,
            "linecolor": "white",
            "showbackground": true,
            "ticks": "",
            "zerolinecolor": "white"
           }
          },
          "shapedefaults": {
           "line": {
            "color": "#2a3f5f"
           }
          },
          "ternary": {
           "aaxis": {
            "gridcolor": "white",
            "linecolor": "white",
            "ticks": ""
           },
           "baxis": {
            "gridcolor": "white",
            "linecolor": "white",
            "ticks": ""
           },
           "bgcolor": "#E5ECF6",
           "caxis": {
            "gridcolor": "white",
            "linecolor": "white",
            "ticks": ""
           }
          },
          "title": {
           "x": 0.05
          },
          "xaxis": {
           "automargin": true,
           "gridcolor": "white",
           "linecolor": "white",
           "ticks": "",
           "title": {
            "standoff": 15
           },
           "zerolinecolor": "white",
           "zerolinewidth": 2
          },
          "yaxis": {
           "automargin": true,
           "gridcolor": "white",
           "linecolor": "white",
           "ticks": "",
           "title": {
            "standoff": 15
           },
           "zerolinecolor": "white",
           "zerolinewidth": 2
          }
         }
        }
       }
      },
      "text/html": [
       "<div>\n",
       "        \n",
       "        \n",
       "            <div id=\"90441877-6266-435e-84fa-26451dce69ae\" class=\"plotly-graph-div\" style=\"height:525px; width:100%;\"></div>\n",
       "            <script type=\"text/javascript\">\n",
       "                require([\"plotly\"], function(Plotly) {\n",
       "                    window.PLOTLYENV=window.PLOTLYENV || {};\n",
       "                    \n",
       "                if (document.getElementById(\"90441877-6266-435e-84fa-26451dce69ae\")) {\n",
       "                    Plotly.newPlot(\n",
       "                        '90441877-6266-435e-84fa-26451dce69ae',\n",
       "                        [{\"marker\": {\"opacity\": 0.8, \"size\": 4}, \"mode\": \"markers\", \"name\": \"NIMBUS-RVEA\", \"type\": \"scatter3d\", \"x\": [0.2461794508654893, 0.24232515522638928, 0.21213213988320706, 0.20165698665213946, 0.23216729613191556, 0.21372310222067237, 0.22700875804828238, 0.24526596189925667, 0.2405550194750273, 0.2500097829863311, 0.22316153468697797, 0.2180539009381154, 0.21325233859327677, 0.20885251922523984, 0.22736838650162453, 0.23471866786176393, 0.24222880923208842, 0.21561072006788115, 0.2076461745673772, 0.24169585585718614, 0.20786600146430015, 0.20471698896217724, 0.23854709456107975, 0.2495548986337156, 0.21781696571158435, 0.24906299395004888, 0.2221979141557956, 0.20751751051069542, 0.2139299594664552, 0.24965609119250082, 0.24625048051902204, 0.21555062327316504, 0.23261891758885078, 0.2428938793848863, 0.20188484705631232, 0.2320388875653251, 0.24172896517683018, 0.23216939163249745, 0.24958299186317728, 0.24685221331653007, 0.23414022499684356, 0.20147766041118437, 0.21212358127015338, 0.22308356072657418, 0.20327288229647578, 0.20781636424281008, 0.21789724428938564, 0.23092428980063462, 0.2421641787461102, 0.22776985890764107, 0.2224032122744052, 0.23176826083007435, 0.21316385108615762, 0.22779153399132682, 0.2231839837916943, 0.23573435300140663, 0.2279290780521115, 0.21262289726931824, 0.21620129764161017, 0.24865767427861737, 0.22197111087857527, 0.2053058130826327, 0.21953291271267344, 0.21233309029622582, 0.20731055567904397, 0.20794944582717204, 0.2457388331367869, 0.24141623155583466, 0.21370720720362338, 0.2018103851735645, 0.21361306199104596, 0.21964235531288157, 0.2192920285915461, 0.2059173405271755, 0.2032134439016271, 0.23477118658626248, 0.20496895349181463, 0.21611362147639648, 0.21726816414210712, 0.23777947785327977, 0.20155654133232795, 0.23155575651253274, 0.25179410204193975, 0.23877579284888698, 0.23974519690926727, 0.22822215786295352, 0.23270499473709721, 0.238213769803065, 0.21216993512868873, 0.2345437038463455, 0.20808300125864643, 0.23231715382677945, 0.23124579801646739, 0.21308216603387303, 0.2491558633007381, 0.2277788924010932, 0.22189009053443037, 0.2122003434872423, 0.21517492756828888, 0.20577269396746167, 0.21292431224293157, 0.20090446737531728, 0.20466470294473943, 0.20259906102707312, 0.20809060327603487], \"y\": [0.007638968978949867, 0.01556580755099884, 0.0757438608817266, 0.09723206466418506, 0.03574193640079154, 0.07306092274534166, 0.04595292427834752, 0.009495349946979755, 0.020039270527405836, 0.0, 0.05350353452957305, 0.06098282923448704, 0.07356506313913201, 0.08241040737298075, 0.04470161563524928, 0.031229540313726097, 0.015572279991348165, 0.06866743818657807, 0.08457597025940589, 0.016726124442622302, 0.08436641215468578, 0.09067399121669427, 0.023234370384918296, 0.00045924262633187477, 0.0644479579748765, 0.0014437025158793694, 0.05548869175115226, 0.08507875753581128, 0.07216038569469757, 0.0009913468745124524, 0.007559482157383185, 0.06866467633600787, 0.03341425269809146, 0.014025628329767456, 0.09585005310887174, 0.03585918717623994, 0.01664178248022655, 0.0, 0.001001361029081597, 0.007012044370485104, 0.03168662329774132, 0.09627790313635733, 0.07590009073146511, 0.053627342184605305, 0.09364341375684974, 0.08440443434036488, 0.06430152347438343, 0.03818149775498473, 0.015788576869592594, 0.04409914943662847, 0.05449183881133816, 0.03613313697555138, 0.0735340020596308, 0.04521659483053799, 0.054240967771211145, 0.03001832119864796, 0.04507373721964484, 0.07512413839154536, 0.067301118355494, 0.005371443025624581, 0.055747451580835064, 0.08982533901145404, 0.06126024832672534, 0.07547760211054542, 0.08535102068272275, 0.0842967702787612, 0.008229112873972986, 0.01947939380990634, 0.07256439683258974, 0.09593376034103998, 0.0731387467978431, 0.0611830239570667, 0.06146729121275227, 0.08683074527210101, 0.09377292110646113, 0.031126761598466036, 0.0904298557040624, 0.06832946973493352, 0.067297630474527, 0.027027563877091647, 0.09823497589961463, 0.0355052511589503, 0.0, 0.02245594595984629, 0.020917529634407416, 0.04377939798223038, 0.03350416474351994, 0.023583567362835116, 0.07559827123641778, 0.0314423095648728, 0.08414404293967026, 0.03573519265660841, 0.03548306591093283, 0.0737857426400607, 0.005241661964255091, 0.04420226584547519, 0.05586888242515828, 0.07572276896976213, 0.06939042942173018, 0.08954210505330129, 0.07470273340258801, 0.0988312226233094, 0.09063041127926479, 0.0951704159532923, 0.08413421239338452], \"z\": [0.24619635046531388, 0.2421257587677826, 0.21212630907658442, 0.20111328901316125, 0.23209317247024527, 0.21321837803438465, 0.22705265379130732, 0.24524109511772504, 0.23942131259975488, 0.24999199855638227, 0.2233377739629852, 0.220965790824009, 0.21318500675109273, 0.20873948647167886, 0.22794605158705417, 0.2340650339708672, 0.24220185664349161, 0.2157367470542614, 0.2077930022685061, 0.24158098337907163, 0.2077831999631746, 0.20462381435139604, 0.2382352518183747, 0.25000173253285485, 0.2177375350354319, 0.24949503274373608, 0.22232854384739206, 0.2074058442788302, 0.21392558851917792, 0.2493546630397864, 0.24620474219882335, 0.21579984911110528, 0.23396821187024647, 0.2430829563680397, 0.2022807802140332, 0.23210466129898466, 0.24163221417692135, 0.26783122107547586, 0.24943101349097366, 0.24613862584426527, 0.23417583727646954, 0.2022467273959599, 0.21197815996640323, 0.22329196525716782, 0.20309899552210262, 0.20779352331584733, 0.21781632321216646, 0.23090939454893197, 0.24206145663922568, 0.22814705548481962, 0.22310722960371615, 0.23210155565938018, 0.21331799803482412, 0.22699422749554307, 0.22259021185896824, 0.23424782339058078, 0.2269989364797431, 0.2122554280308315, 0.21649896517407327, 0.2459861198723674, 0.22229658312404374, 0.2048713010350131, 0.21920938575502102, 0.21219160688158845, 0.20734054631258067, 0.20775632406356376, 0.24603434784723255, 0.23912007349591408, 0.21373016159511693, 0.20227157255308736, 0.21325076500790885, 0.21917699676324415, 0.21924313615558155, 0.20725412317454955, 0.20302892787629284, 0.23410460673721217, 0.20461585013371764, 0.21555991614547804, 0.21544944661264454, 0.23520569581082815, 0.20021096777741126, 0.23294173089802145, 0.24820766089416846, 0.23877134122438418, 0.23935329159105506, 0.22801408185772645, 0.23379210844587997, 0.23821717927295086, 0.212234125142103, 0.23402718485099813, 0.207788021132444, 0.2319493796030859, 0.23328718185339273, 0.21313427738100335, 0.24561807312660738, 0.22803529369679482, 0.22225620235512733, 0.21207920020345875, 0.21544963559257857, 0.2046876591704432, 0.2123752486347795, 0.20026676887727624, 0.2047196349826962, 0.20224624659025786, 0.20779058121545882]}, {\"marker\": {\"opacity\": 0.8, \"size\": 2}, \"name\": \"True Front\", \"type\": \"scatter3d\", \"x\": [0.5, 0, 0, 0.5], \"y\": [0, 0.5, 0, 0], \"z\": [0, 0, 0.5, 0]}, {\"marker\": {\"opacity\": 0.8, \"size\": 4}, \"name\": \"Nadir Point\", \"type\": \"scatter3d\", \"x\": [0.5], \"y\": [0.5], \"z\": [0.5]}, {\"marker\": {\"opacity\": 0.8, \"size\": 4}, \"name\": \"Reference Point\", \"type\": \"scatter3d\", \"x\": [0.4], \"y\": [0.2], \"z\": [0.4]}, {\"line\": {\"width\": 10}, \"marker\": {\"opacity\": 0.8, \"size\": 2}, \"name\": \"STOM\", \"type\": \"scatter3d\", \"x\": [0, 0.4, 40.0], \"y\": [0, 0.2, 20.0], \"z\": [0, 0.4, 40.0]}, {\"line\": {\"width\": 10}, \"marker\": {\"opacity\": 0.8, \"size\": 2}, \"name\": \"ASF\", \"type\": \"scatter3d\", \"x\": [-0.6, 1.4], \"y\": [-0.8, 1.2], \"z\": [-0.6, 1.4]}, {\"line\": {\"width\": 10}, \"marker\": {\"opacity\": 0.8, \"size\": 2}, \"name\": \"AUG\", \"type\": \"scatter3d\", \"x\": [-0.5, 0.4, 0.5], \"y\": [-2.5, 0.2, 0.5], \"z\": [-0.5, 0.4, 0.5]}, {\"marker\": {\"opacity\": 0.8, \"size\": 4}, \"name\": \"Ideal Point\", \"type\": \"scatter3d\", \"x\": [0], \"y\": [0], \"z\": [0]}],\n",
       "                        {\"margin\": {\"b\": 0, \"l\": 0, \"r\": 0, \"t\": 0}, \"scene\": {\"aspectratio\": {\"x\": 1, \"y\": 1, \"z\": 1}, \"xaxis\": {\"range\": [0, 0.6]}, \"yaxis\": {\"range\": [0, 0.6]}, \"zaxis\": {\"range\": [0, 0.6]}}, \"template\": {\"data\": {\"bar\": [{\"error_x\": {\"color\": \"#2a3f5f\"}, \"error_y\": {\"color\": \"#2a3f5f\"}, \"marker\": {\"line\": {\"color\": \"#E5ECF6\", \"width\": 0.5}}, \"type\": \"bar\"}], \"barpolar\": [{\"marker\": {\"line\": {\"color\": \"#E5ECF6\", \"width\": 0.5}}, \"type\": \"barpolar\"}], \"carpet\": [{\"aaxis\": {\"endlinecolor\": \"#2a3f5f\", \"gridcolor\": \"white\", \"linecolor\": \"white\", \"minorgridcolor\": \"white\", \"startlinecolor\": \"#2a3f5f\"}, \"baxis\": {\"endlinecolor\": \"#2a3f5f\", \"gridcolor\": \"white\", \"linecolor\": \"white\", \"minorgridcolor\": \"white\", \"startlinecolor\": \"#2a3f5f\"}, \"type\": \"carpet\"}], \"choropleth\": [{\"colorbar\": {\"outlinewidth\": 0, \"ticks\": \"\"}, \"type\": \"choropleth\"}], \"contour\": [{\"colorbar\": {\"outlinewidth\": 0, \"ticks\": \"\"}, \"colorscale\": [[0.0, \"#0d0887\"], [0.1111111111111111, \"#46039f\"], [0.2222222222222222, \"#7201a8\"], [0.3333333333333333, \"#9c179e\"], [0.4444444444444444, \"#bd3786\"], [0.5555555555555556, \"#d8576b\"], [0.6666666666666666, \"#ed7953\"], [0.7777777777777778, \"#fb9f3a\"], [0.8888888888888888, \"#fdca26\"], [1.0, \"#f0f921\"]], \"type\": \"contour\"}], \"contourcarpet\": [{\"colorbar\": {\"outlinewidth\": 0, \"ticks\": \"\"}, \"type\": \"contourcarpet\"}], \"heatmap\": [{\"colorbar\": {\"outlinewidth\": 0, \"ticks\": \"\"}, \"colorscale\": [[0.0, \"#0d0887\"], [0.1111111111111111, \"#46039f\"], [0.2222222222222222, \"#7201a8\"], [0.3333333333333333, \"#9c179e\"], [0.4444444444444444, \"#bd3786\"], [0.5555555555555556, \"#d8576b\"], [0.6666666666666666, \"#ed7953\"], [0.7777777777777778, \"#fb9f3a\"], [0.8888888888888888, \"#fdca26\"], [1.0, \"#f0f921\"]], \"type\": \"heatmap\"}], \"heatmapgl\": [{\"colorbar\": {\"outlinewidth\": 0, \"ticks\": \"\"}, \"colorscale\": [[0.0, \"#0d0887\"], [0.1111111111111111, \"#46039f\"], [0.2222222222222222, \"#7201a8\"], [0.3333333333333333, \"#9c179e\"], [0.4444444444444444, \"#bd3786\"], [0.5555555555555556, \"#d8576b\"], [0.6666666666666666, \"#ed7953\"], [0.7777777777777778, \"#fb9f3a\"], [0.8888888888888888, \"#fdca26\"], [1.0, \"#f0f921\"]], \"type\": \"heatmapgl\"}], \"histogram\": [{\"marker\": {\"colorbar\": {\"outlinewidth\": 0, \"ticks\": \"\"}}, \"type\": \"histogram\"}], \"histogram2d\": [{\"colorbar\": {\"outlinewidth\": 0, \"ticks\": \"\"}, \"colorscale\": [[0.0, \"#0d0887\"], [0.1111111111111111, \"#46039f\"], [0.2222222222222222, \"#7201a8\"], [0.3333333333333333, \"#9c179e\"], [0.4444444444444444, \"#bd3786\"], [0.5555555555555556, \"#d8576b\"], [0.6666666666666666, \"#ed7953\"], [0.7777777777777778, \"#fb9f3a\"], [0.8888888888888888, \"#fdca26\"], [1.0, \"#f0f921\"]], \"type\": \"histogram2d\"}], \"histogram2dcontour\": [{\"colorbar\": {\"outlinewidth\": 0, \"ticks\": \"\"}, \"colorscale\": [[0.0, \"#0d0887\"], [0.1111111111111111, \"#46039f\"], [0.2222222222222222, \"#7201a8\"], [0.3333333333333333, \"#9c179e\"], [0.4444444444444444, \"#bd3786\"], [0.5555555555555556, \"#d8576b\"], [0.6666666666666666, \"#ed7953\"], [0.7777777777777778, \"#fb9f3a\"], [0.8888888888888888, \"#fdca26\"], [1.0, \"#f0f921\"]], \"type\": \"histogram2dcontour\"}], \"mesh3d\": [{\"colorbar\": {\"outlinewidth\": 0, \"ticks\": \"\"}, \"type\": \"mesh3d\"}], \"parcoords\": [{\"line\": {\"colorbar\": {\"outlinewidth\": 0, \"ticks\": \"\"}}, \"type\": \"parcoords\"}], \"pie\": [{\"automargin\": true, \"type\": \"pie\"}], \"scatter\": [{\"marker\": {\"colorbar\": {\"outlinewidth\": 0, \"ticks\": \"\"}}, \"type\": \"scatter\"}], \"scatter3d\": [{\"line\": {\"colorbar\": {\"outlinewidth\": 0, \"ticks\": \"\"}}, \"marker\": {\"colorbar\": {\"outlinewidth\": 0, \"ticks\": \"\"}}, \"type\": \"scatter3d\"}], \"scattercarpet\": [{\"marker\": {\"colorbar\": {\"outlinewidth\": 0, \"ticks\": \"\"}}, \"type\": \"scattercarpet\"}], \"scattergeo\": [{\"marker\": {\"colorbar\": {\"outlinewidth\": 0, \"ticks\": \"\"}}, \"type\": \"scattergeo\"}], \"scattergl\": [{\"marker\": {\"colorbar\": {\"outlinewidth\": 0, \"ticks\": \"\"}}, \"type\": \"scattergl\"}], \"scattermapbox\": [{\"marker\": {\"colorbar\": {\"outlinewidth\": 0, \"ticks\": \"\"}}, \"type\": \"scattermapbox\"}], \"scatterpolar\": [{\"marker\": {\"colorbar\": {\"outlinewidth\": 0, \"ticks\": \"\"}}, \"type\": \"scatterpolar\"}], \"scatterpolargl\": [{\"marker\": {\"colorbar\": {\"outlinewidth\": 0, \"ticks\": \"\"}}, \"type\": \"scatterpolargl\"}], \"scatterternary\": [{\"marker\": {\"colorbar\": {\"outlinewidth\": 0, \"ticks\": \"\"}}, \"type\": \"scatterternary\"}], \"surface\": [{\"colorbar\": {\"outlinewidth\": 0, \"ticks\": \"\"}, \"colorscale\": [[0.0, \"#0d0887\"], [0.1111111111111111, \"#46039f\"], [0.2222222222222222, \"#7201a8\"], [0.3333333333333333, \"#9c179e\"], [0.4444444444444444, \"#bd3786\"], [0.5555555555555556, \"#d8576b\"], [0.6666666666666666, \"#ed7953\"], [0.7777777777777778, \"#fb9f3a\"], [0.8888888888888888, \"#fdca26\"], [1.0, \"#f0f921\"]], \"type\": \"surface\"}], \"table\": [{\"cells\": {\"fill\": {\"color\": \"#EBF0F8\"}, \"line\": {\"color\": \"white\"}}, \"header\": {\"fill\": {\"color\": \"#C8D4E3\"}, \"line\": {\"color\": \"white\"}}, \"type\": \"table\"}]}, \"layout\": {\"annotationdefaults\": {\"arrowcolor\": \"#2a3f5f\", \"arrowhead\": 0, \"arrowwidth\": 1}, \"coloraxis\": {\"colorbar\": {\"outlinewidth\": 0, \"ticks\": \"\"}}, \"colorscale\": {\"diverging\": [[0, \"#8e0152\"], [0.1, \"#c51b7d\"], [0.2, \"#de77ae\"], [0.3, \"#f1b6da\"], [0.4, \"#fde0ef\"], [0.5, \"#f7f7f7\"], [0.6, \"#e6f5d0\"], [0.7, \"#b8e186\"], [0.8, \"#7fbc41\"], [0.9, \"#4d9221\"], [1, \"#276419\"]], \"sequential\": [[0.0, \"#0d0887\"], [0.1111111111111111, \"#46039f\"], [0.2222222222222222, \"#7201a8\"], [0.3333333333333333, \"#9c179e\"], [0.4444444444444444, \"#bd3786\"], [0.5555555555555556, \"#d8576b\"], [0.6666666666666666, \"#ed7953\"], [0.7777777777777778, \"#fb9f3a\"], [0.8888888888888888, \"#fdca26\"], [1.0, \"#f0f921\"]], \"sequentialminus\": [[0.0, \"#0d0887\"], [0.1111111111111111, \"#46039f\"], [0.2222222222222222, \"#7201a8\"], [0.3333333333333333, \"#9c179e\"], [0.4444444444444444, \"#bd3786\"], [0.5555555555555556, \"#d8576b\"], [0.6666666666666666, \"#ed7953\"], [0.7777777777777778, \"#fb9f3a\"], [0.8888888888888888, \"#fdca26\"], [1.0, \"#f0f921\"]]}, \"colorway\": [\"#636efa\", \"#EF553B\", \"#00cc96\", \"#ab63fa\", \"#FFA15A\", \"#19d3f3\", \"#FF6692\", \"#B6E880\", \"#FF97FF\", \"#FECB52\"], \"font\": {\"color\": \"#2a3f5f\"}, \"geo\": {\"bgcolor\": \"white\", \"lakecolor\": \"white\", \"landcolor\": \"#E5ECF6\", \"showlakes\": true, \"showland\": true, \"subunitcolor\": \"white\"}, \"hoverlabel\": {\"align\": \"left\"}, \"hovermode\": \"closest\", \"mapbox\": {\"style\": \"light\"}, \"paper_bgcolor\": \"white\", \"plot_bgcolor\": \"#E5ECF6\", \"polar\": {\"angularaxis\": {\"gridcolor\": \"white\", \"linecolor\": \"white\", \"ticks\": \"\"}, \"bgcolor\": \"#E5ECF6\", \"radialaxis\": {\"gridcolor\": \"white\", \"linecolor\": \"white\", \"ticks\": \"\"}}, \"scene\": {\"xaxis\": {\"backgroundcolor\": \"#E5ECF6\", \"gridcolor\": \"white\", \"gridwidth\": 2, \"linecolor\": \"white\", \"showbackground\": true, \"ticks\": \"\", \"zerolinecolor\": \"white\"}, \"yaxis\": {\"backgroundcolor\": \"#E5ECF6\", \"gridcolor\": \"white\", \"gridwidth\": 2, \"linecolor\": \"white\", \"showbackground\": true, \"ticks\": \"\", \"zerolinecolor\": \"white\"}, \"zaxis\": {\"backgroundcolor\": \"#E5ECF6\", \"gridcolor\": \"white\", \"gridwidth\": 2, \"linecolor\": \"white\", \"showbackground\": true, \"ticks\": \"\", \"zerolinecolor\": \"white\"}}, \"shapedefaults\": {\"line\": {\"color\": \"#2a3f5f\"}}, \"ternary\": {\"aaxis\": {\"gridcolor\": \"white\", \"linecolor\": \"white\", \"ticks\": \"\"}, \"baxis\": {\"gridcolor\": \"white\", \"linecolor\": \"white\", \"ticks\": \"\"}, \"bgcolor\": \"#E5ECF6\", \"caxis\": {\"gridcolor\": \"white\", \"linecolor\": \"white\", \"ticks\": \"\"}}, \"title\": {\"x\": 0.05}, \"xaxis\": {\"automargin\": true, \"gridcolor\": \"white\", \"linecolor\": \"white\", \"ticks\": \"\", \"title\": {\"standoff\": 15}, \"zerolinecolor\": \"white\", \"zerolinewidth\": 2}, \"yaxis\": {\"automargin\": true, \"gridcolor\": \"white\", \"linecolor\": \"white\", \"ticks\": \"\", \"title\": {\"standoff\": 15}, \"zerolinecolor\": \"white\", \"zerolinewidth\": 2}}}},\n",
       "                        {\"responsive\": true}\n",
       "                    ).then(function(){\n",
       "                            \n",
       "var gd = document.getElementById('90441877-6266-435e-84fa-26451dce69ae');\n",
       "var x = new MutationObserver(function (mutations, observer) {{\n",
       "        var display = window.getComputedStyle(gd).display;\n",
       "        if (!display || display === 'none') {{\n",
       "            console.log([gd, 'removed!']);\n",
       "            Plotly.purge(gd);\n",
       "            observer.disconnect();\n",
       "        }}\n",
       "}});\n",
       "\n",
       "// Listen for the removal of the full notebook cells\n",
       "var notebookContainer = gd.closest('#notebook-container');\n",
       "if (notebookContainer) {{\n",
       "    x.observe(notebookContainer, {childList: true});\n",
       "}}\n",
       "\n",
       "// Listen for the clearing of the current output cell\n",
       "var outputEl = gd.closest('.output');\n",
       "if (outputEl) {{\n",
       "    x.observe(outputEl, {childList: true});\n",
       "}}\n",
       "\n",
       "                        })\n",
       "                };\n",
       "                });\n",
       "            </script>\n",
       "        </div>"
      ]
     },
     "metadata": {},
     "output_type": "display_data"
    }
   ],
   "source": [
    "fig = plot3d(plot, response)\n",
    "fig"
   ]
  },
  {
   "cell_type": "code",
   "execution_count": 61,
   "metadata": {},
   "outputs": [],
   "source": [
    "def plot3d(plot, response):\n",
    "    # NIMBUSEA\n",
    "    obj = plot.content['data'].values\n",
    "    non_dom_id = nds(obj)[0][0]\n",
    "    fig = go.Figure(\n",
    "        go.Scatter3d(\n",
    "            x=obj[non_dom_id, 0],\n",
    "            y=obj[non_dom_id, 1],\n",
    "            z=obj[non_dom_id, 2],\n",
    "            name=\"NIMBUS-RVEA\",\n",
    "            mode='markers',\n",
    "            marker=dict(\n",
    "            size=4,\n",
    "            opacity=0.8\n",
    "        )\n",
    "        )\n",
    "    )\n",
    "\n",
    "    #True Front\n",
    "    fig.add_trace(\n",
    "        go.Scatter3d(\n",
    "            x=[0.5, 0, 0, 0.5],\n",
    "            y=[0, 0.5, 0, 0],\n",
    "            z=[0, 0, 0.5, 0],\n",
    "            name=\"True Front\",\n",
    "            marker=dict(\n",
    "            size=2,\n",
    "            opacity=0.8\n",
    "        )\n",
    "        )\n",
    "    )\n",
    "\n",
    "    #Nadir Point\n",
    "    fig.add_trace(\n",
    "        go.Scatter3d(\n",
    "            x=[0.5],\n",
    "            y=[0.5],\n",
    "            z=[0.5],\n",
    "            name=\"Nadir Point\",\n",
    "            marker=dict(\n",
    "            size=4,\n",
    "            opacity=0.8\n",
    "        )\n",
    "        )\n",
    "    )\n",
    "\n",
    "\n",
    "\n",
    "    # Reference Point\n",
    "\n",
    "    fig.add_trace(\n",
    "        go.Scatter3d(\n",
    "            x=[response[0,0]],\n",
    "            y=[response[0,1]],\n",
    "            z=[response[0,2]],\n",
    "            name=\"Reference Point\",\n",
    "            marker=dict(\n",
    "            size=4,\n",
    "            opacity=0.8\n",
    "        )\n",
    "        )\n",
    "    )\n",
    "\n",
    "    # STOM\n",
    "\n",
    "    fig.add_trace(\n",
    "        go.Scatter3d(\n",
    "            x=[0, response[0,0],100*response[0,0]],\n",
    "            y=[0, response[0,1],100*response[0,1]],\n",
    "            z=[0, response[0,2],100*response[0,2]],\n",
    "            name=\"STOM\",\n",
    "            marker=dict(\n",
    "            size=2,\n",
    "            opacity=0.8\n",
    "        ),\n",
    "            line=dict(width=10)\n",
    "        )\n",
    "    )\n",
    "\n",
    "    #ASF\n",
    "\n",
    "    fig.add_trace(\n",
    "        go.Scatter3d(\n",
    "            x=[response[0,0]-1, response[0,0]+1],\n",
    "            y=[response[0,1]-1, response[0,1]+1],\n",
    "            z=[response[0,2]-1, response[0,2]+1],\n",
    "            name=\"ASF\",\n",
    "            marker=dict(\n",
    "            size=2,\n",
    "            opacity=0.8\n",
    "        ),\n",
    "            line=dict(width=10)\n",
    "        )\n",
    "    )\n",
    "    #AUG\n",
    "\n",
    "    fig.add_trace(\n",
    "        go.Scatter3d(\n",
    "            x=[10*response[0,0] - 9*0.5,response[0,0], 0.5],\n",
    "            y=[10*response[0,1] - 9*0.5,response[0,1], 0.5],\n",
    "            z=[10*response[0,2] - 9*0.5,response[0,2], 0.5],\n",
    "            name=\"AUG\",\n",
    "            marker=dict(\n",
    "            size=2,\n",
    "            opacity=0.8\n",
    "        ),\n",
    "            line=dict(width=10)\n",
    "        )\n",
    "    )\n",
    "\n",
    "    # Ideal Point\n",
    "    fig.add_trace(\n",
    "        go.Scatter3d(\n",
    "            x=[0],\n",
    "            y=[0],\n",
    "            z=[0],\n",
    "            name=\"Ideal Point\",\n",
    "            marker=dict(\n",
    "            size=4,\n",
    "            opacity=0.8\n",
    "        )\n",
    "        )\n",
    "    )\n",
    "\n",
    "    fig.update_layout(\n",
    "        scene = dict(\n",
    "            xaxis = dict(range=[0,0.6],),\n",
    "            yaxis = dict(range=[0,0.6],),\n",
    "            zaxis = dict(range=[0,0.6],),\n",
    "            aspectratio=dict(x=1,y=1,z=1))\n",
    "                     )\n",
    "    fig.update_layout(margin=dict(l=0, r=0, b=0, t=0))\n",
    "    return fig\n",
    "    "
   ]
  },
  {
   "cell_type": "code",
   "execution_count": 5,
   "metadata": {},
   "outputs": [],
   "source": [
    "prob_dtlz2 = test_problem_builder(name=\"DTLZ2\", n_of_objectives=3, n_of_variables=5)\n",
    "prob_dtlz2.ideal = np.asarray([0, 0, 0])\n",
    "prob_dtlz2.nadir = np.asarray([1, 1, 1])"
   ]
  },
  {
   "cell_type": "code",
   "execution_count": 6,
   "metadata": {},
   "outputs": [],
   "source": [
    "evolver = NIMBUS_NSGAIII(prob_dtlz2, n_gen_per_iter=200)"
   ]
  },
  {
   "cell_type": "code",
   "execution_count": 7,
   "metadata": {},
   "outputs": [
    {
     "data": {
      "text/plain": [
       "{'dimensions_data':          f1 f2 f3\n",
       " minimize  1  1  1\n",
       " ideal     0  0  0\n",
       " nadir     1  1  1,\n",
       " 'message': 'Provide a reference point worse than to the ideal point and better than the nadir point.\\nIdeal point: \\nf1    0\\nf2    0\\nf3    0\\nName: ideal, dtype: object\\nNadir point: \\nf1    1\\nf2    1\\nf3    1\\nName: nadir, dtype: object\\nThe reference point will be used to create scalarization functions in the preferred region.\\n',\n",
       " 'validator': <function desdeo_tools.interaction.validators.validate_ref_point_with_ideal_and_nadir(dimensions_data: pandas.core.frame.DataFrame, reference_point: pandas.core.frame.DataFrame)>}"
      ]
     },
     "execution_count": 7,
     "metadata": {},
     "output_type": "execute_result"
    }
   ],
   "source": [
    "plot, pref = evolver.requests()\n",
    "pref.content"
   ]
  },
  {
   "cell_type": "code",
   "execution_count": 23,
   "metadata": {},
   "outputs": [],
   "source": [
    "response = np.asarray([[0.8,0.9, 0.4]])\n",
    "pref.response = pd.DataFrame(response, columns=pref.content['dimensions_data'].columns)"
   ]
  },
  {
   "cell_type": "code",
   "execution_count": 24,
   "metadata": {},
   "outputs": [],
   "source": [
    "plot, pref = evolver.iterate(pref)"
   ]
  },
  {
   "cell_type": "code",
   "execution_count": 25,
   "metadata": {},
   "outputs": [
    {
     "data": {
      "application/vnd.plotly.v1+json": {
       "config": {
        "plotlyServerURL": "https://plot.ly"
       },
       "data": [
        {
         "marker": {
          "opacity": 0.8,
          "size": 4
         },
         "mode": "markers",
         "name": "NIMBUS-EA",
         "type": "scatter3d",
         "x": [
          0.6507638754445666,
          0.6515563356133452,
          0.6549016655517085,
          0.6502183006139564,
          0.6589264394139889,
          0.6323044477154749,
          0.6598809094312916,
          0.6308249783482955,
          0.6441980786866779,
          0.6540799146809534,
          0.6362446004855524,
          0.6605557018542252,
          0.6620481069005012,
          0.6397271907122352,
          0.6343156338219846,
          0.6508979923353244,
          0.6633326485038685,
          0.6524216650589473,
          0.6373690595466263,
          0.6552708192141161,
          0.6344039342916977,
          0.6358215579441115,
          0.6600517933454872,
          0.6641763055502762,
          0.6637227716842096,
          0.659811646786557,
          0.634762496133069,
          0.6601344493936192,
          0.6633606772467603,
          0.6598351954457949,
          0.6470162668601398,
          0.6356843684580098,
          0.6524844684584742,
          0.6540157894442882,
          0.6458963950506685,
          0.6536878060441375,
          0.6522254650470388,
          0.6378643370181056,
          0.66345082687631,
          0.6521051410432295,
          0.6628513329912838,
          0.6515709640308389,
          0.6482090312395721,
          0.6590528153979189,
          0.6548989854680612,
          0.6628333256759569,
          0.6361276546338837,
          0.6447474321737822,
          0.6609405905889932,
          0.6389056173996867,
          0.6614716609226796,
          0.6517664501289747,
          0.6365869102422725,
          0.6636951651679325,
          0.6448012522260054,
          0.6580688215276941,
          0.6563759850708925,
          0.631312772554376,
          0.6352880927867536,
          0.6312355303936587,
          0.6596182651203171,
          0.660023997182449,
          0.6562892141303741,
          0.6630051612379997,
          0.6558563744934082,
          0.6592258570344538,
          0.6637860363864013,
          0.6423830961363914,
          0.6515405667632305,
          0.6588068751435315,
          0.658212892318742,
          0.6572017476367269,
          0.6571468022228494,
          0.6610798378144189,
          0.6639304144772799,
          0.6476887505755087,
          0.6434678407999127,
          0.6331312682301847,
          0.6603394100531808,
          0.6451481476505181,
          0.6516355076529595,
          0.6597150075039148,
          0.6601822332729057,
          0.6625995726632062,
          0.6367125180881514,
          0.6518770905780513,
          0.6500687050530375,
          0.6649246961807418,
          0.6340774595072436,
          0.660562341945327,
          0.6604738275287227,
          0.6323847030963592,
          0.652032872719727,
          0.6529602711270389,
          0.6317776663675699,
          0.6445893111211128,
          0.6635881683413009,
          0.6380871380081333,
          0.6457794207164451,
          0.6574272764841841,
          0.6559144265502832,
          0.660051357670487,
          0.6599464662373397,
          0.6340693146493658,
          0.6569524795681048
         ],
         "y": [
          0.7497693627521556,
          0.7493205722860966,
          0.7479993521917532,
          0.7482449497367926,
          0.741541530122904,
          0.711515947851875,
          0.7431287719029359,
          0.7097894048605521,
          0.7245825858634583,
          0.753658317113972,
          0.7160013798274223,
          0.7432085639391175,
          0.7448348005774243,
          0.7199329374043315,
          0.7137817826724115,
          0.7328932576571303,
          0.7460840980250328,
          0.7485748056106207,
          0.7169920301543413,
          0.7554281519800798,
          0.7375751149374004,
          0.7155714488792081,
          0.7497186781493009,
          0.7476786795537215,
          0.7474203241105971,
          0.7430497163887008,
          0.7145588024081801,
          0.7488131509669698,
          0.7462973695508258,
          0.7492792909162957,
          0.7343774262631679,
          0.7155605337549357,
          0.734126412501444,
          0.7536596246450806,
          0.7270147295717646,
          0.7355271797551014,
          0.7502289707138076,
          0.718304993010764,
          0.747076064779059,
          0.7342414533767317,
          0.7465487688771028,
          0.7392260254033154,
          0.7466858538812184,
          0.7418081184209026,
          0.7479900805237153,
          0.7459527912469149,
          0.7156047031362054,
          0.7255257313098037,
          0.7502626233961811,
          0.719495438161106,
          0.7435557235788632,
          0.7502551546423178,
          0.7168412723284414,
          0.746600626462953,
          0.7260868448043455,
          0.7481364732914191,
          0.7392679783378563,
          0.7100892545819741,
          0.7147732352865869,
          0.7102457083853296,
          0.7438307537335334,
          0.7429120170023645,
          0.7451526528888485,
          0.7463493227064649,
          0.7538149948759155,
          0.742506736395249,
          0.7472384175698533,
          0.7286489883199027,
          0.7513258355474127,
          0.7504778073820216,
          0.7406930695827605,
          0.7461337619567759,
          0.7461517399452527,
          0.7435555347759661,
          0.7476087393307017,
          0.7289666749010668,
          0.7237571500115348,
          0.7131259090336072,
          0.7492555838989257,
          0.7259821237090349,
          0.7482253876767765,
          0.7437982306401527,
          0.7489079284106084,
          0.7457080187721481,
          0.7165565819305915,
          0.750531329107626,
          0.7483913179149121,
          0.7473996169294452,
          0.7133706080299036,
          0.7431983888808953,
          0.7434151636021088,
          0.7114886697426652,
          0.7584460076211113,
          0.7476591256540431,
          0.7106129930512342,
          0.7259901091452483,
          0.7466173650525152,
          0.7180829481854135,
          0.74302689889074,
          0.7397381195995292,
          0.7554960660285561,
          0.7497200651681754,
          0.7486605581926021,
          0.7135922366213552,
          0.7392541054764834
         ],
         "z": [
          0.12004378720348981,
          0.1184090036921122,
          0.11223727171327988,
          0.13393341012935653,
          0.12649964566878225,
          0.30662267621909167,
          0.11190509602028356,
          0.31355677945922605,
          0.24607169546504642,
          0.06644948256763732,
          0.287502249500952,
          0.10657506503569317,
          0.08455466678122926,
          0.26954627213103494,
          0.2970019066499148,
          0.1993467047878063,
          0.06104348769216334,
          0.1186069610040237,
          0.2826603913233027,
          0.012014143536963092,
          0.23247295100081314,
          0.2895627114177626,
          0.04759288972784459,
          0.012807740419233476,
          0.03453661869987472,
          0.11196364183232244,
          0.29510704959070533,
          0.061081826724996395,
          0.05775028780874432,
          0.0633433307170783,
          0.20683906612728473,
          0.2897297327048197,
          0.1905823640896662,
          0.06691242516242363,
          0.23555746018523965,
          0.17807550495774477,
          0.10848635441682009,
          0.27784771388734797,
          0.04221500949644594,
          0.19057916429471342,
          0.06005189817541297,
          0.17078298158281013,
          0.15006946214356395,
          0.12413597330796966,
          0.11224276926084836,
          0.06643687651905662,
          0.28860620950869037,
          0.24083158248659056,
          0.022711025029661817,
          0.272303682706729,
          0.1028497962972239,
          0.11348118562233304,
          0.2845065421314791,
          0.04649074721619829,
          0.24005576317359748,
          0.09700973288983501,
          0.15067052679836795,
          0.3118827318740589,
          0.29274348256380744,
          0.31170161875872643,
          0.10854717969135559,
          0.11179451265403284,
          0.11861909822020658,
          0.05886902813185924,
          0.04126227124433299,
          0.11966110678622331,
          0.03406014889254937,
          0.23969984168537445,
          0.1073715175859886,
          0.05789038287588334,
          0.1353418033133433,
          0.10672789144203454,
          0.10687180408050485,
          0.10291999871661352,
          0.033075482395350395,
          0.2237910420205311,
          0.25037382258862784,
          0.3057783682138434,
          0.05534533932892022,
          0.23936822326311386,
          0.12995272925405654,
          0.10814572558116405,
          0.05905845009247099,
          0.07095835406676444,
          0.28522749975048434,
          0.1093840275002338,
          0.1338746150321542,
          0.010890970728129588,
          0.2984977962037932,
          0.10658064388622462,
          0.10569537461677482,
          0.30687433171834255,
          0,
          0.12189518948886664,
          0.30974383566626673,
          0.24094407226202366,
          0.04720165846209577,
          0.2782380004990941,
          0.17796944525932554,
          0.14781860297488447,
          0.009523281919255897,
          0.04760943620947259,
          0.06328157923410149,
          0.2979818899331036,
          0.14873756355368362
         ]
        },
        {
         "colorscale": [
          [
           0,
           "red"
          ],
          [
           1,
           "red"
          ]
         ],
         "opacity": 0.5,
         "type": "surface",
         "x": [
          [
           0,
           0.17364817766693033,
           0.3420201433256687,
           0.49999999999999994,
           0.6427876096865393,
           0.766044443118978,
           0.8660254037844386,
           0.9396926207859083,
           0.984807753012208,
           1
          ],
          [
           0,
           0.17101007166283433,
           0.33682408883346515,
           0.49240387650610395,
           0.633022221559489,
           0.7544065067354889,
           0.8528685319524432,
           0.9254165783983233,
           0.9698463103929541,
           0.984807753012208
          ],
          [
           0,
           0.16317591116653482,
           0.3213938048432697,
           0.46984631039295416,
           0.6040227735550536,
           0.7198463103929542,
           0.8137976813493737,
           0.883022221559489,
           0.9254165783983234,
           0.9396926207859084
          ],
          [
           0,
           0.1503837331804353,
           0.29619813272602386,
           0.4330127018922193,
           0.5566703992264194,
           0.6634139481689384,
           0.75,
           0.8137976813493737,
           0.8528685319524433,
           0.8660254037844387
          ],
          [
           0,
           0.133022221559489,
           0.2620026302293849,
           0.38302222155948895,
           0.49240387650610395,
           0.5868240888334652,
           0.6634139481689384,
           0.7198463103929541,
           0.7544065067354889,
           0.766044443118978
          ],
          [
           0,
           0.11161889704894966,
           0.2198463103929542,
           0.3213938048432696,
           0.4131759111665348,
           0.49240387650610407,
           0.5566703992264194,
           0.6040227735550536,
           0.6330222215594891,
           0.6427876096865394
          ],
          [
           0,
           0.08682408883346518,
           0.17101007166283438,
           0.25,
           0.3213938048432697,
           0.3830222215594891,
           0.4330127018922194,
           0.46984631039295427,
           0.4924038765061041,
           0.5000000000000001
          ],
          [
           0,
           0.05939117461388472,
           0.11697777844051101,
           0.17101007166283438,
           0.21984631039295421,
           0.262002630229385,
           0.2961981327260239,
           0.32139380484326974,
           0.33682408883346526,
           0.3420201433256688
          ],
          [
           0,
           0.030153689607045817,
           0.059391174613884726,
           0.0868240888334652,
           0.11161889704894969,
           0.13302222155948906,
           0.15038373318043535,
           0.16317591116653488,
           0.1710100716628344,
           0.17364817766693041
          ],
          [
           0,
           1.0632884247878856e-17,
           2.094269368838496e-17,
           3.0616169978683824e-17,
           3.9359389436709925e-17,
           4.6906693763513654e-17,
           5.302876193624534e-17,
           5.753957801139251e-17,
           6.030208312509488e-17,
           6.123233995736766e-17
          ]
         ],
         "y": [
          [
           0,
           0,
           0,
           0,
           0,
           0,
           0,
           0,
           0,
           0
          ],
          [
           0,
           0.030153689607045803,
           0.0593911746138847,
           0.08682408883346515,
           0.11161889704894963,
           0.133022221559489,
           0.15038373318043527,
           0.1631759111665348,
           0.17101007166283433,
           0.17364817766693033
          ],
          [
           0,
           0.0593911746138847,
           0.11697777844051097,
           0.17101007166283433,
           0.21984631039295416,
           0.2620026302293849,
           0.2961981327260238,
           0.3213938048432696,
           0.33682408883346515,
           0.3420201433256687
          ],
          [
           0,
           0.08682408883346515,
           0.17101007166283433,
           0.24999999999999994,
           0.32139380484326957,
           0.38302222155948895,
           0.43301270189221924,
           0.4698463103929541,
           0.49240387650610395,
           0.49999999999999994
          ],
          [
           0,
           0.11161889704894963,
           0.21984631039295416,
           0.32139380484326957,
           0.41317591116653474,
           0.49240387650610395,
           0.5566703992264193,
           0.6040227735550536,
           0.633022221559489,
           0.6427876096865393
          ],
          [
           0,
           0.133022221559489,
           0.2620026302293849,
           0.38302222155948895,
           0.49240387650610395,
           0.5868240888334652,
           0.6634139481689384,
           0.7198463103929541,
           0.7544065067354889,
           0.766044443118978
          ],
          [
           0,
           0.15038373318043527,
           0.2961981327260238,
           0.43301270189221924,
           0.5566703992264193,
           0.6634139481689384,
           0.7499999999999999,
           0.8137976813493736,
           0.8528685319524432,
           0.8660254037844386
          ],
          [
           0,
           0.1631759111665348,
           0.3213938048432696,
           0.4698463103929541,
           0.6040227735550536,
           0.7198463103929541,
           0.8137976813493736,
           0.8830222215594888,
           0.9254165783983233,
           0.9396926207859083
          ],
          [
           0,
           0.17101007166283433,
           0.33682408883346515,
           0.49240387650610395,
           0.633022221559489,
           0.7544065067354889,
           0.8528685319524432,
           0.9254165783983233,
           0.9698463103929541,
           0.984807753012208
          ],
          [
           0,
           0.17364817766693033,
           0.3420201433256687,
           0.49999999999999994,
           0.6427876096865393,
           0.766044443118978,
           0.8660254037844386,
           0.9396926207859083,
           0.984807753012208,
           1
          ]
         ],
         "z": [
          [
           1,
           0.984807753012208,
           0.9396926207859084,
           0.8660254037844387,
           0.766044443118978,
           0.6427876096865394,
           0.5000000000000001,
           0.3420201433256688,
           0.17364817766693041,
           6.123233995736766e-17
          ],
          [
           1,
           0.984807753012208,
           0.9396926207859084,
           0.8660254037844387,
           0.766044443118978,
           0.6427876096865394,
           0.5000000000000001,
           0.3420201433256688,
           0.17364817766693041,
           6.123233995736766e-17
          ],
          [
           1,
           0.984807753012208,
           0.9396926207859084,
           0.8660254037844387,
           0.766044443118978,
           0.6427876096865394,
           0.5000000000000001,
           0.3420201433256688,
           0.17364817766693041,
           6.123233995736766e-17
          ],
          [
           1,
           0.984807753012208,
           0.9396926207859084,
           0.8660254037844387,
           0.766044443118978,
           0.6427876096865394,
           0.5000000000000001,
           0.3420201433256688,
           0.17364817766693041,
           6.123233995736766e-17
          ],
          [
           1,
           0.984807753012208,
           0.9396926207859084,
           0.8660254037844387,
           0.766044443118978,
           0.6427876096865394,
           0.5000000000000001,
           0.3420201433256688,
           0.17364817766693041,
           6.123233995736766e-17
          ],
          [
           1,
           0.984807753012208,
           0.9396926207859084,
           0.8660254037844387,
           0.766044443118978,
           0.6427876096865394,
           0.5000000000000001,
           0.3420201433256688,
           0.17364817766693041,
           6.123233995736766e-17
          ],
          [
           1,
           0.984807753012208,
           0.9396926207859084,
           0.8660254037844387,
           0.766044443118978,
           0.6427876096865394,
           0.5000000000000001,
           0.3420201433256688,
           0.17364817766693041,
           6.123233995736766e-17
          ],
          [
           1,
           0.984807753012208,
           0.9396926207859084,
           0.8660254037844387,
           0.766044443118978,
           0.6427876096865394,
           0.5000000000000001,
           0.3420201433256688,
           0.17364817766693041,
           6.123233995736766e-17
          ],
          [
           1,
           0.984807753012208,
           0.9396926207859084,
           0.8660254037844387,
           0.766044443118978,
           0.6427876096865394,
           0.5000000000000001,
           0.3420201433256688,
           0.17364817766693041,
           6.123233995736766e-17
          ],
          [
           1,
           0.984807753012208,
           0.9396926207859084,
           0.8660254037844387,
           0.766044443118978,
           0.6427876096865394,
           0.5000000000000001,
           0.3420201433256688,
           0.17364817766693041,
           6.123233995736766e-17
          ]
         ]
        },
        {
         "marker": {
          "opacity": 0.8,
          "size": 4
         },
         "name": "Nadir Point",
         "type": "scatter3d",
         "x": [
          1
         ],
         "y": [
          1
         ],
         "z": [
          1
         ]
        },
        {
         "marker": {
          "opacity": 0.8,
          "size": 4
         },
         "name": "Reference Point",
         "type": "scatter3d",
         "x": [
          0.8
         ],
         "y": [
          0.9
         ],
         "z": [
          0.4
         ]
        },
        {
         "line": {
          "width": 10
         },
         "marker": {
          "opacity": 0.8,
          "size": 2
         },
         "name": "STOM",
         "type": "scatter3d",
         "x": [
          0,
          0.8,
          80
         ],
         "y": [
          0,
          0.9,
          90
         ],
         "z": [
          0,
          0.4,
          40
         ]
        },
        {
         "line": {
          "width": 10
         },
         "marker": {
          "opacity": 0.8,
          "size": 2
         },
         "name": "ASF",
         "type": "scatter3d",
         "x": [
          -0.19999999999999996,
          1.8
         ],
         "y": [
          -0.09999999999999998,
          1.9
         ],
         "z": [
          -0.6,
          1.4
         ]
        },
        {
         "line": {
          "width": 10
         },
         "marker": {
          "opacity": 0.8,
          "size": 2
         },
         "name": "AUG",
         "type": "scatter3d",
         "x": [
          -1,
          0.8,
          1
         ],
         "y": [
          0,
          0.9,
          1
         ],
         "z": [
          -5,
          0.4,
          1
         ]
        },
        {
         "marker": {
          "opacity": 0.8,
          "size": 4
         },
         "name": "Ideal Point",
         "type": "scatter3d",
         "x": [
          0
         ],
         "y": [
          0
         ],
         "z": [
          0
         ]
        }
       ],
       "layout": {
        "margin": {
         "b": 0,
         "l": 0,
         "r": 0,
         "t": 0
        },
        "scene": {
         "aspectratio": {
          "x": 1,
          "y": 1,
          "z": 1
         },
         "xaxis": {
          "range": [
           0,
           1.1
          ]
         },
         "yaxis": {
          "range": [
           0,
           1.1
          ]
         },
         "zaxis": {
          "range": [
           0,
           1.1
          ]
         }
        },
        "template": {
         "data": {
          "bar": [
           {
            "error_x": {
             "color": "#2a3f5f"
            },
            "error_y": {
             "color": "#2a3f5f"
            },
            "marker": {
             "line": {
              "color": "#E5ECF6",
              "width": 0.5
             }
            },
            "type": "bar"
           }
          ],
          "barpolar": [
           {
            "marker": {
             "line": {
              "color": "#E5ECF6",
              "width": 0.5
             }
            },
            "type": "barpolar"
           }
          ],
          "carpet": [
           {
            "aaxis": {
             "endlinecolor": "#2a3f5f",
             "gridcolor": "white",
             "linecolor": "white",
             "minorgridcolor": "white",
             "startlinecolor": "#2a3f5f"
            },
            "baxis": {
             "endlinecolor": "#2a3f5f",
             "gridcolor": "white",
             "linecolor": "white",
             "minorgridcolor": "white",
             "startlinecolor": "#2a3f5f"
            },
            "type": "carpet"
           }
          ],
          "choropleth": [
           {
            "colorbar": {
             "outlinewidth": 0,
             "ticks": ""
            },
            "type": "choropleth"
           }
          ],
          "contour": [
           {
            "colorbar": {
             "outlinewidth": 0,
             "ticks": ""
            },
            "colorscale": [
             [
              0,
              "#0d0887"
             ],
             [
              0.1111111111111111,
              "#46039f"
             ],
             [
              0.2222222222222222,
              "#7201a8"
             ],
             [
              0.3333333333333333,
              "#9c179e"
             ],
             [
              0.4444444444444444,
              "#bd3786"
             ],
             [
              0.5555555555555556,
              "#d8576b"
             ],
             [
              0.6666666666666666,
              "#ed7953"
             ],
             [
              0.7777777777777778,
              "#fb9f3a"
             ],
             [
              0.8888888888888888,
              "#fdca26"
             ],
             [
              1,
              "#f0f921"
             ]
            ],
            "type": "contour"
           }
          ],
          "contourcarpet": [
           {
            "colorbar": {
             "outlinewidth": 0,
             "ticks": ""
            },
            "type": "contourcarpet"
           }
          ],
          "heatmap": [
           {
            "colorbar": {
             "outlinewidth": 0,
             "ticks": ""
            },
            "colorscale": [
             [
              0,
              "#0d0887"
             ],
             [
              0.1111111111111111,
              "#46039f"
             ],
             [
              0.2222222222222222,
              "#7201a8"
             ],
             [
              0.3333333333333333,
              "#9c179e"
             ],
             [
              0.4444444444444444,
              "#bd3786"
             ],
             [
              0.5555555555555556,
              "#d8576b"
             ],
             [
              0.6666666666666666,
              "#ed7953"
             ],
             [
              0.7777777777777778,
              "#fb9f3a"
             ],
             [
              0.8888888888888888,
              "#fdca26"
             ],
             [
              1,
              "#f0f921"
             ]
            ],
            "type": "heatmap"
           }
          ],
          "heatmapgl": [
           {
            "colorbar": {
             "outlinewidth": 0,
             "ticks": ""
            },
            "colorscale": [
             [
              0,
              "#0d0887"
             ],
             [
              0.1111111111111111,
              "#46039f"
             ],
             [
              0.2222222222222222,
              "#7201a8"
             ],
             [
              0.3333333333333333,
              "#9c179e"
             ],
             [
              0.4444444444444444,
              "#bd3786"
             ],
             [
              0.5555555555555556,
              "#d8576b"
             ],
             [
              0.6666666666666666,
              "#ed7953"
             ],
             [
              0.7777777777777778,
              "#fb9f3a"
             ],
             [
              0.8888888888888888,
              "#fdca26"
             ],
             [
              1,
              "#f0f921"
             ]
            ],
            "type": "heatmapgl"
           }
          ],
          "histogram": [
           {
            "marker": {
             "colorbar": {
              "outlinewidth": 0,
              "ticks": ""
             }
            },
            "type": "histogram"
           }
          ],
          "histogram2d": [
           {
            "colorbar": {
             "outlinewidth": 0,
             "ticks": ""
            },
            "colorscale": [
             [
              0,
              "#0d0887"
             ],
             [
              0.1111111111111111,
              "#46039f"
             ],
             [
              0.2222222222222222,
              "#7201a8"
             ],
             [
              0.3333333333333333,
              "#9c179e"
             ],
             [
              0.4444444444444444,
              "#bd3786"
             ],
             [
              0.5555555555555556,
              "#d8576b"
             ],
             [
              0.6666666666666666,
              "#ed7953"
             ],
             [
              0.7777777777777778,
              "#fb9f3a"
             ],
             [
              0.8888888888888888,
              "#fdca26"
             ],
             [
              1,
              "#f0f921"
             ]
            ],
            "type": "histogram2d"
           }
          ],
          "histogram2dcontour": [
           {
            "colorbar": {
             "outlinewidth": 0,
             "ticks": ""
            },
            "colorscale": [
             [
              0,
              "#0d0887"
             ],
             [
              0.1111111111111111,
              "#46039f"
             ],
             [
              0.2222222222222222,
              "#7201a8"
             ],
             [
              0.3333333333333333,
              "#9c179e"
             ],
             [
              0.4444444444444444,
              "#bd3786"
             ],
             [
              0.5555555555555556,
              "#d8576b"
             ],
             [
              0.6666666666666666,
              "#ed7953"
             ],
             [
              0.7777777777777778,
              "#fb9f3a"
             ],
             [
              0.8888888888888888,
              "#fdca26"
             ],
             [
              1,
              "#f0f921"
             ]
            ],
            "type": "histogram2dcontour"
           }
          ],
          "mesh3d": [
           {
            "colorbar": {
             "outlinewidth": 0,
             "ticks": ""
            },
            "type": "mesh3d"
           }
          ],
          "parcoords": [
           {
            "line": {
             "colorbar": {
              "outlinewidth": 0,
              "ticks": ""
             }
            },
            "type": "parcoords"
           }
          ],
          "pie": [
           {
            "automargin": true,
            "type": "pie"
           }
          ],
          "scatter": [
           {
            "marker": {
             "colorbar": {
              "outlinewidth": 0,
              "ticks": ""
             }
            },
            "type": "scatter"
           }
          ],
          "scatter3d": [
           {
            "line": {
             "colorbar": {
              "outlinewidth": 0,
              "ticks": ""
             }
            },
            "marker": {
             "colorbar": {
              "outlinewidth": 0,
              "ticks": ""
             }
            },
            "type": "scatter3d"
           }
          ],
          "scattercarpet": [
           {
            "marker": {
             "colorbar": {
              "outlinewidth": 0,
              "ticks": ""
             }
            },
            "type": "scattercarpet"
           }
          ],
          "scattergeo": [
           {
            "marker": {
             "colorbar": {
              "outlinewidth": 0,
              "ticks": ""
             }
            },
            "type": "scattergeo"
           }
          ],
          "scattergl": [
           {
            "marker": {
             "colorbar": {
              "outlinewidth": 0,
              "ticks": ""
             }
            },
            "type": "scattergl"
           }
          ],
          "scattermapbox": [
           {
            "marker": {
             "colorbar": {
              "outlinewidth": 0,
              "ticks": ""
             }
            },
            "type": "scattermapbox"
           }
          ],
          "scatterpolar": [
           {
            "marker": {
             "colorbar": {
              "outlinewidth": 0,
              "ticks": ""
             }
            },
            "type": "scatterpolar"
           }
          ],
          "scatterpolargl": [
           {
            "marker": {
             "colorbar": {
              "outlinewidth": 0,
              "ticks": ""
             }
            },
            "type": "scatterpolargl"
           }
          ],
          "scatterternary": [
           {
            "marker": {
             "colorbar": {
              "outlinewidth": 0,
              "ticks": ""
             }
            },
            "type": "scatterternary"
           }
          ],
          "surface": [
           {
            "colorbar": {
             "outlinewidth": 0,
             "ticks": ""
            },
            "colorscale": [
             [
              0,
              "#0d0887"
             ],
             [
              0.1111111111111111,
              "#46039f"
             ],
             [
              0.2222222222222222,
              "#7201a8"
             ],
             [
              0.3333333333333333,
              "#9c179e"
             ],
             [
              0.4444444444444444,
              "#bd3786"
             ],
             [
              0.5555555555555556,
              "#d8576b"
             ],
             [
              0.6666666666666666,
              "#ed7953"
             ],
             [
              0.7777777777777778,
              "#fb9f3a"
             ],
             [
              0.8888888888888888,
              "#fdca26"
             ],
             [
              1,
              "#f0f921"
             ]
            ],
            "type": "surface"
           }
          ],
          "table": [
           {
            "cells": {
             "fill": {
              "color": "#EBF0F8"
             },
             "line": {
              "color": "white"
             }
            },
            "header": {
             "fill": {
              "color": "#C8D4E3"
             },
             "line": {
              "color": "white"
             }
            },
            "type": "table"
           }
          ]
         },
         "layout": {
          "annotationdefaults": {
           "arrowcolor": "#2a3f5f",
           "arrowhead": 0,
           "arrowwidth": 1
          },
          "coloraxis": {
           "colorbar": {
            "outlinewidth": 0,
            "ticks": ""
           }
          },
          "colorscale": {
           "diverging": [
            [
             0,
             "#8e0152"
            ],
            [
             0.1,
             "#c51b7d"
            ],
            [
             0.2,
             "#de77ae"
            ],
            [
             0.3,
             "#f1b6da"
            ],
            [
             0.4,
             "#fde0ef"
            ],
            [
             0.5,
             "#f7f7f7"
            ],
            [
             0.6,
             "#e6f5d0"
            ],
            [
             0.7,
             "#b8e186"
            ],
            [
             0.8,
             "#7fbc41"
            ],
            [
             0.9,
             "#4d9221"
            ],
            [
             1,
             "#276419"
            ]
           ],
           "sequential": [
            [
             0,
             "#0d0887"
            ],
            [
             0.1111111111111111,
             "#46039f"
            ],
            [
             0.2222222222222222,
             "#7201a8"
            ],
            [
             0.3333333333333333,
             "#9c179e"
            ],
            [
             0.4444444444444444,
             "#bd3786"
            ],
            [
             0.5555555555555556,
             "#d8576b"
            ],
            [
             0.6666666666666666,
             "#ed7953"
            ],
            [
             0.7777777777777778,
             "#fb9f3a"
            ],
            [
             0.8888888888888888,
             "#fdca26"
            ],
            [
             1,
             "#f0f921"
            ]
           ],
           "sequentialminus": [
            [
             0,
             "#0d0887"
            ],
            [
             0.1111111111111111,
             "#46039f"
            ],
            [
             0.2222222222222222,
             "#7201a8"
            ],
            [
             0.3333333333333333,
             "#9c179e"
            ],
            [
             0.4444444444444444,
             "#bd3786"
            ],
            [
             0.5555555555555556,
             "#d8576b"
            ],
            [
             0.6666666666666666,
             "#ed7953"
            ],
            [
             0.7777777777777778,
             "#fb9f3a"
            ],
            [
             0.8888888888888888,
             "#fdca26"
            ],
            [
             1,
             "#f0f921"
            ]
           ]
          },
          "colorway": [
           "#636efa",
           "#EF553B",
           "#00cc96",
           "#ab63fa",
           "#FFA15A",
           "#19d3f3",
           "#FF6692",
           "#B6E880",
           "#FF97FF",
           "#FECB52"
          ],
          "font": {
           "color": "#2a3f5f"
          },
          "geo": {
           "bgcolor": "white",
           "lakecolor": "white",
           "landcolor": "#E5ECF6",
           "showlakes": true,
           "showland": true,
           "subunitcolor": "white"
          },
          "hoverlabel": {
           "align": "left"
          },
          "hovermode": "closest",
          "mapbox": {
           "style": "light"
          },
          "paper_bgcolor": "white",
          "plot_bgcolor": "#E5ECF6",
          "polar": {
           "angularaxis": {
            "gridcolor": "white",
            "linecolor": "white",
            "ticks": ""
           },
           "bgcolor": "#E5ECF6",
           "radialaxis": {
            "gridcolor": "white",
            "linecolor": "white",
            "ticks": ""
           }
          },
          "scene": {
           "xaxis": {
            "backgroundcolor": "#E5ECF6",
            "gridcolor": "white",
            "gridwidth": 2,
            "linecolor": "white",
            "showbackground": true,
            "ticks": "",
            "zerolinecolor": "white"
           },
           "yaxis": {
            "backgroundcolor": "#E5ECF6",
            "gridcolor": "white",
            "gridwidth": 2,
            "linecolor": "white",
            "showbackground": true,
            "ticks": "",
            "zerolinecolor": "white"
           },
           "zaxis": {
            "backgroundcolor": "#E5ECF6",
            "gridcolor": "white",
            "gridwidth": 2,
            "linecolor": "white",
            "showbackground": true,
            "ticks": "",
            "zerolinecolor": "white"
           }
          },
          "shapedefaults": {
           "line": {
            "color": "#2a3f5f"
           }
          },
          "ternary": {
           "aaxis": {
            "gridcolor": "white",
            "linecolor": "white",
            "ticks": ""
           },
           "baxis": {
            "gridcolor": "white",
            "linecolor": "white",
            "ticks": ""
           },
           "bgcolor": "#E5ECF6",
           "caxis": {
            "gridcolor": "white",
            "linecolor": "white",
            "ticks": ""
           }
          },
          "title": {
           "x": 0.05
          },
          "xaxis": {
           "automargin": true,
           "gridcolor": "white",
           "linecolor": "white",
           "ticks": "",
           "title": {
            "standoff": 15
           },
           "zerolinecolor": "white",
           "zerolinewidth": 2
          },
          "yaxis": {
           "automargin": true,
           "gridcolor": "white",
           "linecolor": "white",
           "ticks": "",
           "title": {
            "standoff": 15
           },
           "zerolinecolor": "white",
           "zerolinewidth": 2
          }
         }
        }
       }
      },
      "text/html": [
       "<div>\n",
       "        \n",
       "        \n",
       "            <div id=\"f130c96a-2de6-4613-b1a5-72d7e80d3d26\" class=\"plotly-graph-div\" style=\"height:525px; width:100%;\"></div>\n",
       "            <script type=\"text/javascript\">\n",
       "                require([\"plotly\"], function(Plotly) {\n",
       "                    window.PLOTLYENV=window.PLOTLYENV || {};\n",
       "                    \n",
       "                if (document.getElementById(\"f130c96a-2de6-4613-b1a5-72d7e80d3d26\")) {\n",
       "                    Plotly.newPlot(\n",
       "                        'f130c96a-2de6-4613-b1a5-72d7e80d3d26',\n",
       "                        [{\"marker\": {\"opacity\": 0.8, \"size\": 4}, \"mode\": \"markers\", \"name\": \"NIMBUS-EA\", \"type\": \"scatter3d\", \"x\": [0.6507638754445666, 0.6515563356133452, 0.6549016655517085, 0.6502183006139564, 0.6589264394139889, 0.6323044477154749, 0.6598809094312916, 0.6308249783482955, 0.6441980786866779, 0.6540799146809534, 0.6362446004855524, 0.6605557018542252, 0.6620481069005012, 0.6397271907122352, 0.6343156338219846, 0.6508979923353244, 0.6633326485038685, 0.6524216650589473, 0.6373690595466263, 0.6552708192141161, 0.6344039342916977, 0.6358215579441115, 0.6600517933454872, 0.6641763055502762, 0.6637227716842096, 0.659811646786557, 0.634762496133069, 0.6601344493936192, 0.6633606772467603, 0.6598351954457949, 0.6470162668601398, 0.6356843684580098, 0.6524844684584742, 0.6540157894442882, 0.6458963950506685, 0.6536878060441375, 0.6522254650470388, 0.6378643370181056, 0.66345082687631, 0.6521051410432295, 0.6628513329912838, 0.6515709640308389, 0.6482090312395721, 0.6590528153979189, 0.6548989854680612, 0.6628333256759569, 0.6361276546338837, 0.6447474321737822, 0.6609405905889932, 0.6389056173996867, 0.6614716609226796, 0.6517664501289747, 0.6365869102422725, 0.6636951651679325, 0.6448012522260054, 0.6580688215276941, 0.6563759850708925, 0.631312772554376, 0.6352880927867536, 0.6312355303936587, 0.6596182651203171, 0.660023997182449, 0.6562892141303741, 0.6630051612379997, 0.6558563744934082, 0.6592258570344538, 0.6637860363864013, 0.6423830961363914, 0.6515405667632305, 0.6588068751435315, 0.658212892318742, 0.6572017476367269, 0.6571468022228494, 0.6610798378144189, 0.6639304144772799, 0.6476887505755087, 0.6434678407999127, 0.6331312682301847, 0.6603394100531808, 0.6451481476505181, 0.6516355076529595, 0.6597150075039148, 0.6601822332729057, 0.6625995726632062, 0.6367125180881514, 0.6518770905780513, 0.6500687050530375, 0.6649246961807418, 0.6340774595072436, 0.660562341945327, 0.6604738275287227, 0.6323847030963592, 0.652032872719727, 0.6529602711270389, 0.6317776663675699, 0.6445893111211128, 0.6635881683413009, 0.6380871380081333, 0.6457794207164451, 0.6574272764841841, 0.6559144265502832, 0.660051357670487, 0.6599464662373397, 0.6340693146493658, 0.6569524795681048], \"y\": [0.7497693627521556, 0.7493205722860966, 0.7479993521917532, 0.7482449497367926, 0.741541530122904, 0.711515947851875, 0.7431287719029359, 0.7097894048605521, 0.7245825858634583, 0.753658317113972, 0.7160013798274223, 0.7432085639391175, 0.7448348005774243, 0.7199329374043315, 0.7137817826724115, 0.7328932576571303, 0.7460840980250328, 0.7485748056106207, 0.7169920301543413, 0.7554281519800798, 0.7375751149374004, 0.7155714488792081, 0.7497186781493009, 0.7476786795537215, 0.7474203241105971, 0.7430497163887008, 0.7145588024081801, 0.7488131509669698, 0.7462973695508258, 0.7492792909162957, 0.7343774262631679, 0.7155605337549357, 0.734126412501444, 0.7536596246450806, 0.7270147295717646, 0.7355271797551014, 0.7502289707138076, 0.718304993010764, 0.747076064779059, 0.7342414533767317, 0.7465487688771028, 0.7392260254033154, 0.7466858538812184, 0.7418081184209026, 0.7479900805237153, 0.7459527912469149, 0.7156047031362054, 0.7255257313098037, 0.7502626233961811, 0.719495438161106, 0.7435557235788632, 0.7502551546423178, 0.7168412723284414, 0.746600626462953, 0.7260868448043455, 0.7481364732914191, 0.7392679783378563, 0.7100892545819741, 0.7147732352865869, 0.7102457083853296, 0.7438307537335334, 0.7429120170023645, 0.7451526528888485, 0.7463493227064649, 0.7538149948759155, 0.742506736395249, 0.7472384175698533, 0.7286489883199027, 0.7513258355474127, 0.7504778073820216, 0.7406930695827605, 0.7461337619567759, 0.7461517399452527, 0.7435555347759661, 0.7476087393307017, 0.7289666749010668, 0.7237571500115348, 0.7131259090336072, 0.7492555838989257, 0.7259821237090349, 0.7482253876767765, 0.7437982306401527, 0.7489079284106084, 0.7457080187721481, 0.7165565819305915, 0.750531329107626, 0.7483913179149121, 0.7473996169294452, 0.7133706080299036, 0.7431983888808953, 0.7434151636021088, 0.7114886697426652, 0.7584460076211113, 0.7476591256540431, 0.7106129930512342, 0.7259901091452483, 0.7466173650525152, 0.7180829481854135, 0.74302689889074, 0.7397381195995292, 0.7554960660285561, 0.7497200651681754, 0.7486605581926021, 0.7135922366213552, 0.7392541054764834], \"z\": [0.12004378720348981, 0.1184090036921122, 0.11223727171327988, 0.13393341012935653, 0.12649964566878225, 0.30662267621909167, 0.11190509602028356, 0.31355677945922605, 0.24607169546504642, 0.06644948256763732, 0.287502249500952, 0.10657506503569317, 0.08455466678122926, 0.26954627213103494, 0.2970019066499148, 0.1993467047878063, 0.06104348769216334, 0.1186069610040237, 0.2826603913233027, 0.012014143536963092, 0.23247295100081314, 0.2895627114177626, 0.04759288972784459, 0.012807740419233476, 0.03453661869987472, 0.11196364183232244, 0.29510704959070533, 0.061081826724996395, 0.05775028780874432, 0.0633433307170783, 0.20683906612728473, 0.2897297327048197, 0.1905823640896662, 0.06691242516242363, 0.23555746018523965, 0.17807550495774477, 0.10848635441682009, 0.27784771388734797, 0.04221500949644594, 0.19057916429471342, 0.06005189817541297, 0.17078298158281013, 0.15006946214356395, 0.12413597330796966, 0.11224276926084836, 0.06643687651905662, 0.28860620950869037, 0.24083158248659056, 0.022711025029661817, 0.272303682706729, 0.1028497962972239, 0.11348118562233304, 0.2845065421314791, 0.04649074721619829, 0.24005576317359748, 0.09700973288983501, 0.15067052679836795, 0.3118827318740589, 0.29274348256380744, 0.31170161875872643, 0.10854717969135559, 0.11179451265403284, 0.11861909822020658, 0.05886902813185924, 0.04126227124433299, 0.11966110678622331, 0.03406014889254937, 0.23969984168537445, 0.1073715175859886, 0.05789038287588334, 0.1353418033133433, 0.10672789144203454, 0.10687180408050485, 0.10291999871661352, 0.033075482395350395, 0.2237910420205311, 0.25037382258862784, 0.3057783682138434, 0.05534533932892022, 0.23936822326311386, 0.12995272925405654, 0.10814572558116405, 0.05905845009247099, 0.07095835406676444, 0.28522749975048434, 0.1093840275002338, 0.1338746150321542, 0.010890970728129588, 0.2984977962037932, 0.10658064388622462, 0.10569537461677482, 0.30687433171834255, 0.0, 0.12189518948886664, 0.30974383566626673, 0.24094407226202366, 0.04720165846209577, 0.2782380004990941, 0.17796944525932554, 0.14781860297488447, 0.009523281919255897, 0.04760943620947259, 0.06328157923410149, 0.2979818899331036, 0.14873756355368362]}, {\"colorscale\": [[0.0, \"red\"], [1.0, \"red\"]], \"opacity\": 0.5, \"type\": \"surface\", \"x\": [[0.0, 0.17364817766693033, 0.3420201433256687, 0.49999999999999994, 0.6427876096865393, 0.766044443118978, 0.8660254037844386, 0.9396926207859083, 0.984807753012208, 1.0], [0.0, 0.17101007166283433, 0.33682408883346515, 0.49240387650610395, 0.633022221559489, 0.7544065067354889, 0.8528685319524432, 0.9254165783983233, 0.9698463103929541, 0.984807753012208], [0.0, 0.16317591116653482, 0.3213938048432697, 0.46984631039295416, 0.6040227735550536, 0.7198463103929542, 0.8137976813493737, 0.883022221559489, 0.9254165783983234, 0.9396926207859084], [0.0, 0.1503837331804353, 0.29619813272602386, 0.4330127018922193, 0.5566703992264194, 0.6634139481689384, 0.75, 0.8137976813493737, 0.8528685319524433, 0.8660254037844387], [0.0, 0.133022221559489, 0.2620026302293849, 0.38302222155948895, 0.49240387650610395, 0.5868240888334652, 0.6634139481689384, 0.7198463103929541, 0.7544065067354889, 0.766044443118978], [0.0, 0.11161889704894966, 0.2198463103929542, 0.3213938048432696, 0.4131759111665348, 0.49240387650610407, 0.5566703992264194, 0.6040227735550536, 0.6330222215594891, 0.6427876096865394], [0.0, 0.08682408883346518, 0.17101007166283438, 0.25, 0.3213938048432697, 0.3830222215594891, 0.4330127018922194, 0.46984631039295427, 0.4924038765061041, 0.5000000000000001], [0.0, 0.05939117461388472, 0.11697777844051101, 0.17101007166283438, 0.21984631039295421, 0.262002630229385, 0.2961981327260239, 0.32139380484326974, 0.33682408883346526, 0.3420201433256688], [0.0, 0.030153689607045817, 0.059391174613884726, 0.0868240888334652, 0.11161889704894969, 0.13302222155948906, 0.15038373318043535, 0.16317591116653488, 0.1710100716628344, 0.17364817766693041], [0.0, 1.0632884247878856e-17, 2.094269368838496e-17, 3.0616169978683824e-17, 3.9359389436709925e-17, 4.6906693763513654e-17, 5.302876193624534e-17, 5.753957801139251e-17, 6.030208312509488e-17, 6.123233995736766e-17]], \"y\": [[0.0, 0.0, 0.0, 0.0, 0.0, 0.0, 0.0, 0.0, 0.0, 0.0], [0.0, 0.030153689607045803, 0.0593911746138847, 0.08682408883346515, 0.11161889704894963, 0.133022221559489, 0.15038373318043527, 0.1631759111665348, 0.17101007166283433, 0.17364817766693033], [0.0, 0.0593911746138847, 0.11697777844051097, 0.17101007166283433, 0.21984631039295416, 0.2620026302293849, 0.2961981327260238, 0.3213938048432696, 0.33682408883346515, 0.3420201433256687], [0.0, 0.08682408883346515, 0.17101007166283433, 0.24999999999999994, 0.32139380484326957, 0.38302222155948895, 0.43301270189221924, 0.4698463103929541, 0.49240387650610395, 0.49999999999999994], [0.0, 0.11161889704894963, 0.21984631039295416, 0.32139380484326957, 0.41317591116653474, 0.49240387650610395, 0.5566703992264193, 0.6040227735550536, 0.633022221559489, 0.6427876096865393], [0.0, 0.133022221559489, 0.2620026302293849, 0.38302222155948895, 0.49240387650610395, 0.5868240888334652, 0.6634139481689384, 0.7198463103929541, 0.7544065067354889, 0.766044443118978], [0.0, 0.15038373318043527, 0.2961981327260238, 0.43301270189221924, 0.5566703992264193, 0.6634139481689384, 0.7499999999999999, 0.8137976813493736, 0.8528685319524432, 0.8660254037844386], [0.0, 0.1631759111665348, 0.3213938048432696, 0.4698463103929541, 0.6040227735550536, 0.7198463103929541, 0.8137976813493736, 0.8830222215594888, 0.9254165783983233, 0.9396926207859083], [0.0, 0.17101007166283433, 0.33682408883346515, 0.49240387650610395, 0.633022221559489, 0.7544065067354889, 0.8528685319524432, 0.9254165783983233, 0.9698463103929541, 0.984807753012208], [0.0, 0.17364817766693033, 0.3420201433256687, 0.49999999999999994, 0.6427876096865393, 0.766044443118978, 0.8660254037844386, 0.9396926207859083, 0.984807753012208, 1.0]], \"z\": [[1.0, 0.984807753012208, 0.9396926207859084, 0.8660254037844387, 0.766044443118978, 0.6427876096865394, 0.5000000000000001, 0.3420201433256688, 0.17364817766693041, 6.123233995736766e-17], [1.0, 0.984807753012208, 0.9396926207859084, 0.8660254037844387, 0.766044443118978, 0.6427876096865394, 0.5000000000000001, 0.3420201433256688, 0.17364817766693041, 6.123233995736766e-17], [1.0, 0.984807753012208, 0.9396926207859084, 0.8660254037844387, 0.766044443118978, 0.6427876096865394, 0.5000000000000001, 0.3420201433256688, 0.17364817766693041, 6.123233995736766e-17], [1.0, 0.984807753012208, 0.9396926207859084, 0.8660254037844387, 0.766044443118978, 0.6427876096865394, 0.5000000000000001, 0.3420201433256688, 0.17364817766693041, 6.123233995736766e-17], [1.0, 0.984807753012208, 0.9396926207859084, 0.8660254037844387, 0.766044443118978, 0.6427876096865394, 0.5000000000000001, 0.3420201433256688, 0.17364817766693041, 6.123233995736766e-17], [1.0, 0.984807753012208, 0.9396926207859084, 0.8660254037844387, 0.766044443118978, 0.6427876096865394, 0.5000000000000001, 0.3420201433256688, 0.17364817766693041, 6.123233995736766e-17], [1.0, 0.984807753012208, 0.9396926207859084, 0.8660254037844387, 0.766044443118978, 0.6427876096865394, 0.5000000000000001, 0.3420201433256688, 0.17364817766693041, 6.123233995736766e-17], [1.0, 0.984807753012208, 0.9396926207859084, 0.8660254037844387, 0.766044443118978, 0.6427876096865394, 0.5000000000000001, 0.3420201433256688, 0.17364817766693041, 6.123233995736766e-17], [1.0, 0.984807753012208, 0.9396926207859084, 0.8660254037844387, 0.766044443118978, 0.6427876096865394, 0.5000000000000001, 0.3420201433256688, 0.17364817766693041, 6.123233995736766e-17], [1.0, 0.984807753012208, 0.9396926207859084, 0.8660254037844387, 0.766044443118978, 0.6427876096865394, 0.5000000000000001, 0.3420201433256688, 0.17364817766693041, 6.123233995736766e-17]]}, {\"marker\": {\"opacity\": 0.8, \"size\": 4}, \"name\": \"Nadir Point\", \"type\": \"scatter3d\", \"x\": [1], \"y\": [1], \"z\": [1]}, {\"marker\": {\"opacity\": 0.8, \"size\": 4}, \"name\": \"Reference Point\", \"type\": \"scatter3d\", \"x\": [0.8], \"y\": [0.9], \"z\": [0.4]}, {\"line\": {\"width\": 10}, \"marker\": {\"opacity\": 0.8, \"size\": 2}, \"name\": \"STOM\", \"type\": \"scatter3d\", \"x\": [0, 0.8, 80.0], \"y\": [0, 0.9, 90.0], \"z\": [0, 0.4, 40.0]}, {\"line\": {\"width\": 10}, \"marker\": {\"opacity\": 0.8, \"size\": 2}, \"name\": \"ASF\", \"type\": \"scatter3d\", \"x\": [-0.19999999999999996, 1.8], \"y\": [-0.09999999999999998, 1.9], \"z\": [-0.6, 1.4]}, {\"line\": {\"width\": 10}, \"marker\": {\"opacity\": 0.8, \"size\": 2}, \"name\": \"AUG\", \"type\": \"scatter3d\", \"x\": [-1.0, 0.8, 1], \"y\": [0.0, 0.9, 1], \"z\": [-5.0, 0.4, 1]}, {\"marker\": {\"opacity\": 0.8, \"size\": 4}, \"name\": \"Ideal Point\", \"type\": \"scatter3d\", \"x\": [0], \"y\": [0], \"z\": [0]}],\n",
       "                        {\"margin\": {\"b\": 0, \"l\": 0, \"r\": 0, \"t\": 0}, \"scene\": {\"aspectratio\": {\"x\": 1, \"y\": 1, \"z\": 1}, \"xaxis\": {\"range\": [0, 1.1]}, \"yaxis\": {\"range\": [0, 1.1]}, \"zaxis\": {\"range\": [0, 1.1]}}, \"template\": {\"data\": {\"bar\": [{\"error_x\": {\"color\": \"#2a3f5f\"}, \"error_y\": {\"color\": \"#2a3f5f\"}, \"marker\": {\"line\": {\"color\": \"#E5ECF6\", \"width\": 0.5}}, \"type\": \"bar\"}], \"barpolar\": [{\"marker\": {\"line\": {\"color\": \"#E5ECF6\", \"width\": 0.5}}, \"type\": \"barpolar\"}], \"carpet\": [{\"aaxis\": {\"endlinecolor\": \"#2a3f5f\", \"gridcolor\": \"white\", \"linecolor\": \"white\", \"minorgridcolor\": \"white\", \"startlinecolor\": \"#2a3f5f\"}, \"baxis\": {\"endlinecolor\": \"#2a3f5f\", \"gridcolor\": \"white\", \"linecolor\": \"white\", \"minorgridcolor\": \"white\", \"startlinecolor\": \"#2a3f5f\"}, \"type\": \"carpet\"}], \"choropleth\": [{\"colorbar\": {\"outlinewidth\": 0, \"ticks\": \"\"}, \"type\": \"choropleth\"}], \"contour\": [{\"colorbar\": {\"outlinewidth\": 0, \"ticks\": \"\"}, \"colorscale\": [[0.0, \"#0d0887\"], [0.1111111111111111, \"#46039f\"], [0.2222222222222222, \"#7201a8\"], [0.3333333333333333, \"#9c179e\"], [0.4444444444444444, \"#bd3786\"], [0.5555555555555556, \"#d8576b\"], [0.6666666666666666, \"#ed7953\"], [0.7777777777777778, \"#fb9f3a\"], [0.8888888888888888, \"#fdca26\"], [1.0, \"#f0f921\"]], \"type\": \"contour\"}], \"contourcarpet\": [{\"colorbar\": {\"outlinewidth\": 0, \"ticks\": \"\"}, \"type\": \"contourcarpet\"}], \"heatmap\": [{\"colorbar\": {\"outlinewidth\": 0, \"ticks\": \"\"}, \"colorscale\": [[0.0, \"#0d0887\"], [0.1111111111111111, \"#46039f\"], [0.2222222222222222, \"#7201a8\"], [0.3333333333333333, \"#9c179e\"], [0.4444444444444444, \"#bd3786\"], [0.5555555555555556, \"#d8576b\"], [0.6666666666666666, \"#ed7953\"], [0.7777777777777778, \"#fb9f3a\"], [0.8888888888888888, \"#fdca26\"], [1.0, \"#f0f921\"]], \"type\": \"heatmap\"}], \"heatmapgl\": [{\"colorbar\": {\"outlinewidth\": 0, \"ticks\": \"\"}, \"colorscale\": [[0.0, \"#0d0887\"], [0.1111111111111111, \"#46039f\"], [0.2222222222222222, \"#7201a8\"], [0.3333333333333333, \"#9c179e\"], [0.4444444444444444, \"#bd3786\"], [0.5555555555555556, \"#d8576b\"], [0.6666666666666666, \"#ed7953\"], [0.7777777777777778, \"#fb9f3a\"], [0.8888888888888888, \"#fdca26\"], [1.0, \"#f0f921\"]], \"type\": \"heatmapgl\"}], \"histogram\": [{\"marker\": {\"colorbar\": {\"outlinewidth\": 0, \"ticks\": \"\"}}, \"type\": \"histogram\"}], \"histogram2d\": [{\"colorbar\": {\"outlinewidth\": 0, \"ticks\": \"\"}, \"colorscale\": [[0.0, \"#0d0887\"], [0.1111111111111111, \"#46039f\"], [0.2222222222222222, \"#7201a8\"], [0.3333333333333333, \"#9c179e\"], [0.4444444444444444, \"#bd3786\"], [0.5555555555555556, \"#d8576b\"], [0.6666666666666666, \"#ed7953\"], [0.7777777777777778, \"#fb9f3a\"], [0.8888888888888888, \"#fdca26\"], [1.0, \"#f0f921\"]], \"type\": \"histogram2d\"}], \"histogram2dcontour\": [{\"colorbar\": {\"outlinewidth\": 0, \"ticks\": \"\"}, \"colorscale\": [[0.0, \"#0d0887\"], [0.1111111111111111, \"#46039f\"], [0.2222222222222222, \"#7201a8\"], [0.3333333333333333, \"#9c179e\"], [0.4444444444444444, \"#bd3786\"], [0.5555555555555556, \"#d8576b\"], [0.6666666666666666, \"#ed7953\"], [0.7777777777777778, \"#fb9f3a\"], [0.8888888888888888, \"#fdca26\"], [1.0, \"#f0f921\"]], \"type\": \"histogram2dcontour\"}], \"mesh3d\": [{\"colorbar\": {\"outlinewidth\": 0, \"ticks\": \"\"}, \"type\": \"mesh3d\"}], \"parcoords\": [{\"line\": {\"colorbar\": {\"outlinewidth\": 0, \"ticks\": \"\"}}, \"type\": \"parcoords\"}], \"pie\": [{\"automargin\": true, \"type\": \"pie\"}], \"scatter\": [{\"marker\": {\"colorbar\": {\"outlinewidth\": 0, \"ticks\": \"\"}}, \"type\": \"scatter\"}], \"scatter3d\": [{\"line\": {\"colorbar\": {\"outlinewidth\": 0, \"ticks\": \"\"}}, \"marker\": {\"colorbar\": {\"outlinewidth\": 0, \"ticks\": \"\"}}, \"type\": \"scatter3d\"}], \"scattercarpet\": [{\"marker\": {\"colorbar\": {\"outlinewidth\": 0, \"ticks\": \"\"}}, \"type\": \"scattercarpet\"}], \"scattergeo\": [{\"marker\": {\"colorbar\": {\"outlinewidth\": 0, \"ticks\": \"\"}}, \"type\": \"scattergeo\"}], \"scattergl\": [{\"marker\": {\"colorbar\": {\"outlinewidth\": 0, \"ticks\": \"\"}}, \"type\": \"scattergl\"}], \"scattermapbox\": [{\"marker\": {\"colorbar\": {\"outlinewidth\": 0, \"ticks\": \"\"}}, \"type\": \"scattermapbox\"}], \"scatterpolar\": [{\"marker\": {\"colorbar\": {\"outlinewidth\": 0, \"ticks\": \"\"}}, \"type\": \"scatterpolar\"}], \"scatterpolargl\": [{\"marker\": {\"colorbar\": {\"outlinewidth\": 0, \"ticks\": \"\"}}, \"type\": \"scatterpolargl\"}], \"scatterternary\": [{\"marker\": {\"colorbar\": {\"outlinewidth\": 0, \"ticks\": \"\"}}, \"type\": \"scatterternary\"}], \"surface\": [{\"colorbar\": {\"outlinewidth\": 0, \"ticks\": \"\"}, \"colorscale\": [[0.0, \"#0d0887\"], [0.1111111111111111, \"#46039f\"], [0.2222222222222222, \"#7201a8\"], [0.3333333333333333, \"#9c179e\"], [0.4444444444444444, \"#bd3786\"], [0.5555555555555556, \"#d8576b\"], [0.6666666666666666, \"#ed7953\"], [0.7777777777777778, \"#fb9f3a\"], [0.8888888888888888, \"#fdca26\"], [1.0, \"#f0f921\"]], \"type\": \"surface\"}], \"table\": [{\"cells\": {\"fill\": {\"color\": \"#EBF0F8\"}, \"line\": {\"color\": \"white\"}}, \"header\": {\"fill\": {\"color\": \"#C8D4E3\"}, \"line\": {\"color\": \"white\"}}, \"type\": \"table\"}]}, \"layout\": {\"annotationdefaults\": {\"arrowcolor\": \"#2a3f5f\", \"arrowhead\": 0, \"arrowwidth\": 1}, \"coloraxis\": {\"colorbar\": {\"outlinewidth\": 0, \"ticks\": \"\"}}, \"colorscale\": {\"diverging\": [[0, \"#8e0152\"], [0.1, \"#c51b7d\"], [0.2, \"#de77ae\"], [0.3, \"#f1b6da\"], [0.4, \"#fde0ef\"], [0.5, \"#f7f7f7\"], [0.6, \"#e6f5d0\"], [0.7, \"#b8e186\"], [0.8, \"#7fbc41\"], [0.9, \"#4d9221\"], [1, \"#276419\"]], \"sequential\": [[0.0, \"#0d0887\"], [0.1111111111111111, \"#46039f\"], [0.2222222222222222, \"#7201a8\"], [0.3333333333333333, \"#9c179e\"], [0.4444444444444444, \"#bd3786\"], [0.5555555555555556, \"#d8576b\"], [0.6666666666666666, \"#ed7953\"], [0.7777777777777778, \"#fb9f3a\"], [0.8888888888888888, \"#fdca26\"], [1.0, \"#f0f921\"]], \"sequentialminus\": [[0.0, \"#0d0887\"], [0.1111111111111111, \"#46039f\"], [0.2222222222222222, \"#7201a8\"], [0.3333333333333333, \"#9c179e\"], [0.4444444444444444, \"#bd3786\"], [0.5555555555555556, \"#d8576b\"], [0.6666666666666666, \"#ed7953\"], [0.7777777777777778, \"#fb9f3a\"], [0.8888888888888888, \"#fdca26\"], [1.0, \"#f0f921\"]]}, \"colorway\": [\"#636efa\", \"#EF553B\", \"#00cc96\", \"#ab63fa\", \"#FFA15A\", \"#19d3f3\", \"#FF6692\", \"#B6E880\", \"#FF97FF\", \"#FECB52\"], \"font\": {\"color\": \"#2a3f5f\"}, \"geo\": {\"bgcolor\": \"white\", \"lakecolor\": \"white\", \"landcolor\": \"#E5ECF6\", \"showlakes\": true, \"showland\": true, \"subunitcolor\": \"white\"}, \"hoverlabel\": {\"align\": \"left\"}, \"hovermode\": \"closest\", \"mapbox\": {\"style\": \"light\"}, \"paper_bgcolor\": \"white\", \"plot_bgcolor\": \"#E5ECF6\", \"polar\": {\"angularaxis\": {\"gridcolor\": \"white\", \"linecolor\": \"white\", \"ticks\": \"\"}, \"bgcolor\": \"#E5ECF6\", \"radialaxis\": {\"gridcolor\": \"white\", \"linecolor\": \"white\", \"ticks\": \"\"}}, \"scene\": {\"xaxis\": {\"backgroundcolor\": \"#E5ECF6\", \"gridcolor\": \"white\", \"gridwidth\": 2, \"linecolor\": \"white\", \"showbackground\": true, \"ticks\": \"\", \"zerolinecolor\": \"white\"}, \"yaxis\": {\"backgroundcolor\": \"#E5ECF6\", \"gridcolor\": \"white\", \"gridwidth\": 2, \"linecolor\": \"white\", \"showbackground\": true, \"ticks\": \"\", \"zerolinecolor\": \"white\"}, \"zaxis\": {\"backgroundcolor\": \"#E5ECF6\", \"gridcolor\": \"white\", \"gridwidth\": 2, \"linecolor\": \"white\", \"showbackground\": true, \"ticks\": \"\", \"zerolinecolor\": \"white\"}}, \"shapedefaults\": {\"line\": {\"color\": \"#2a3f5f\"}}, \"ternary\": {\"aaxis\": {\"gridcolor\": \"white\", \"linecolor\": \"white\", \"ticks\": \"\"}, \"baxis\": {\"gridcolor\": \"white\", \"linecolor\": \"white\", \"ticks\": \"\"}, \"bgcolor\": \"#E5ECF6\", \"caxis\": {\"gridcolor\": \"white\", \"linecolor\": \"white\", \"ticks\": \"\"}}, \"title\": {\"x\": 0.05}, \"xaxis\": {\"automargin\": true, \"gridcolor\": \"white\", \"linecolor\": \"white\", \"ticks\": \"\", \"title\": {\"standoff\": 15}, \"zerolinecolor\": \"white\", \"zerolinewidth\": 2}, \"yaxis\": {\"automargin\": true, \"gridcolor\": \"white\", \"linecolor\": \"white\", \"ticks\": \"\", \"title\": {\"standoff\": 15}, \"zerolinecolor\": \"white\", \"zerolinewidth\": 2}}}},\n",
       "                        {\"responsive\": true}\n",
       "                    ).then(function(){\n",
       "                            \n",
       "var gd = document.getElementById('f130c96a-2de6-4613-b1a5-72d7e80d3d26');\n",
       "var x = new MutationObserver(function (mutations, observer) {{\n",
       "        var display = window.getComputedStyle(gd).display;\n",
       "        if (!display || display === 'none') {{\n",
       "            console.log([gd, 'removed!']);\n",
       "            Plotly.purge(gd);\n",
       "            observer.disconnect();\n",
       "        }}\n",
       "}});\n",
       "\n",
       "// Listen for the removal of the full notebook cells\n",
       "var notebookContainer = gd.closest('#notebook-container');\n",
       "if (notebookContainer) {{\n",
       "    x.observe(notebookContainer, {childList: true});\n",
       "}}\n",
       "\n",
       "// Listen for the clearing of the current output cell\n",
       "var outputEl = gd.closest('.output');\n",
       "if (outputEl) {{\n",
       "    x.observe(outputEl, {childList: true});\n",
       "}}\n",
       "\n",
       "                        })\n",
       "                };\n",
       "                });\n",
       "            </script>\n",
       "        </div>"
      ]
     },
     "metadata": {},
     "output_type": "display_data"
    }
   ],
   "source": [
    "fig = plot_dtlz2(plot, response)\n",
    "fig"
   ]
  },
  {
   "cell_type": "code",
   "execution_count": 12,
   "metadata": {},
   "outputs": [],
   "source": [
    "def plot_dtlz2(plot, response):\n",
    "    # NIMBUSEA\n",
    "    obj = plot.content['data'].values\n",
    "    non_dom_id = nds(obj)[0][0]\n",
    "    fig = go.Figure(\n",
    "        go.Scatter3d(\n",
    "            x=obj[non_dom_id, 0],\n",
    "            y=obj[non_dom_id, 1],\n",
    "            z=obj[non_dom_id, 2],\n",
    "            name=\"NIMBUS-EA\",\n",
    "            mode='markers',\n",
    "            marker=dict(\n",
    "            size=4,\n",
    "            opacity=0.8\n",
    "        )\n",
    "        )\n",
    "    )\n",
    "\n",
    "    #True Front\n",
    "    phi = np.linspace(0, np.pi/2, 10)\n",
    "    theta = np.linspace(0, np.pi/2, 10)\n",
    "    phi, theta = np.meshgrid(phi, theta)\n",
    "    x = np.cos(theta)*np.sin(phi)\n",
    "    y = np.sin(theta)*np.sin(phi)\n",
    "    z = np.cos(phi)\n",
    "    fig = fig.add_trace(go.Surface(x=x, y=y, z=z, colorscale=[\"red\", \"red\"], opacity=0.5))\n",
    "\n",
    "    #Nadir Point\n",
    "    fig.add_trace(\n",
    "        go.Scatter3d(\n",
    "            x=[1],\n",
    "            y=[1],\n",
    "            z=[1],\n",
    "            name=\"Nadir Point\",\n",
    "            marker=dict(\n",
    "            size=4,\n",
    "            opacity=0.8\n",
    "        )\n",
    "        )\n",
    "    )\n",
    "\n",
    "\n",
    "\n",
    "    # Reference Point\n",
    "\n",
    "    fig.add_trace(\n",
    "        go.Scatter3d(\n",
    "            x=[response[0,0]],\n",
    "            y=[response[0,1]],\n",
    "            z=[response[0,2]],\n",
    "            name=\"Reference Point\",\n",
    "            marker=dict(\n",
    "            size=4,\n",
    "            opacity=0.8\n",
    "        )\n",
    "        )\n",
    "    )\n",
    "\n",
    "    # STOM\n",
    "\n",
    "    fig.add_trace(\n",
    "        go.Scatter3d(\n",
    "            x=[0, response[0,0],100*response[0,0]],\n",
    "            y=[0, response[0,1],100*response[0,1]],\n",
    "            z=[0, response[0,2],100*response[0,2]],\n",
    "            name=\"STOM\",\n",
    "            marker=dict(\n",
    "            size=2,\n",
    "            opacity=0.8\n",
    "        ),\n",
    "            line=dict(width=10)\n",
    "        )\n",
    "    )\n",
    "\n",
    "    #ASF\n",
    "\n",
    "    fig.add_trace(\n",
    "        go.Scatter3d(\n",
    "            x=[response[0,0]-1, response[0,0]+1],\n",
    "            y=[response[0,1]-1, response[0,1]+1],\n",
    "            z=[response[0,2]-1, response[0,2]+1],\n",
    "            name=\"ASF\",\n",
    "            marker=dict(\n",
    "            size=2,\n",
    "            opacity=0.8\n",
    "        ),\n",
    "            line=dict(width=10)\n",
    "        )\n",
    "    )\n",
    "    #AUG\n",
    "\n",
    "    fig.add_trace(\n",
    "        go.Scatter3d(\n",
    "            x=[10*response[0,0] - 9*1,response[0,0], 1],\n",
    "            y=[10*response[0,1] - 9*1,response[0,1], 1],\n",
    "            z=[10*response[0,2] - 9*1,response[0,2], 1],\n",
    "            name=\"AUG\",\n",
    "            marker=dict(\n",
    "            size=2,\n",
    "            opacity=0.8\n",
    "        ),\n",
    "            line=dict(width=10)\n",
    "        )\n",
    "    )\n",
    "\n",
    "    # Ideal Point\n",
    "    fig.add_trace(\n",
    "        go.Scatter3d(\n",
    "            x=[0],\n",
    "            y=[0],\n",
    "            z=[0],\n",
    "            name=\"Ideal Point\",\n",
    "            marker=dict(\n",
    "            size=4,\n",
    "            opacity=0.8\n",
    "        )\n",
    "        )\n",
    "    )\n",
    "\n",
    "    fig.update_layout(\n",
    "        scene = dict(\n",
    "            xaxis = dict(range=[0,1.1],),\n",
    "            yaxis = dict(range=[0,1.1],),\n",
    "            zaxis = dict(range=[0,1.1],),\n",
    "            aspectratio=dict(x=1,y=1,z=1))\n",
    "                     )\n",
    "    fig.update_layout(margin=dict(l=0, r=0, b=0, t=0))\n",
    "    return fig"
   ]
  },
  {
   "cell_type": "code",
   "execution_count": 209,
   "metadata": {},
   "outputs": [
    {
     "data": {
      "text/plain": [
       "'temp-plot.html'"
      ]
     },
     "execution_count": 209,
     "metadata": {},
     "output_type": "execute_result"
    }
   ],
   "source": [
    "plot(fig, \"DTLZ.html\")"
   ]
  },
  {
   "cell_type": "code",
   "execution_count": 207,
   "metadata": {},
   "outputs": [
    {
     "ename": "ModuleNotFoundError",
     "evalue": "No module named 'plotly.offline.plot'",
     "output_type": "error",
     "traceback": [
      "\u001b[0;31m---------------------------------------------------------------------------\u001b[0m",
      "\u001b[0;31mModuleNotFoundError\u001b[0m                       Traceback (most recent call last)",
      "\u001b[0;32m<ipython-input-207-09283a1c4c51>\u001b[0m in \u001b[0;36m<module>\u001b[0;34m\u001b[0m\n\u001b[0;32m----> 1\u001b[0;31m \u001b[0;32mimport\u001b[0m \u001b[0mplotly\u001b[0m\u001b[0;34m.\u001b[0m\u001b[0moffline\u001b[0m\u001b[0;34m.\u001b[0m\u001b[0mplot\u001b[0m \u001b[0;32mas\u001b[0m \u001b[0msavefig\u001b[0m\u001b[0;34m\u001b[0m\u001b[0;34m\u001b[0m\u001b[0m\n\u001b[0m",
      "\u001b[0;31mModuleNotFoundError\u001b[0m: No module named 'plotly.offline.plot'"
     ]
    }
   ],
   "source": [
    "import plotly.offline.plot as savefig"
   ]
  },
  {
   "cell_type": "code",
   "execution_count": 208,
   "metadata": {},
   "outputs": [],
   "source": [
    "from plotly.offline import plot"
   ]
  },
  {
   "cell_type": "code",
   "execution_count": null,
   "metadata": {},
   "outputs": [],
   "source": []
  }
 ],
 "metadata": {
  "kernelspec": {
   "display_name": "desdeo_emo",
   "language": "python",
   "name": "desdeo_emo"
  },
  "language_info": {
   "codemirror_mode": {
    "name": "ipython",
    "version": 3
   },
   "file_extension": ".py",
   "mimetype": "text/x-python",
   "name": "python",
   "nbconvert_exporter": "python",
   "pygments_lexer": "ipython3",
   "version": "3.7.7"
  }
 },
 "nbformat": 4,
 "nbformat_minor": 2
}
